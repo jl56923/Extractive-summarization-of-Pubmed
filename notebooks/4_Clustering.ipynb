{
 "cells": [
  {
   "cell_type": "code",
   "execution_count": 59,
   "metadata": {},
   "outputs": [],
   "source": [
    "import pandas as pd\n",
    "import numpy as np\n",
    "import pickle\n",
    "import matplotlib.pyplot as plt\n",
    "\n",
    "from sklearn.manifold import TSNE\n",
    "\n",
    "from sklearn.cluster import KMeans, DBSCAN, AgglomerativeClustering\n",
    "from yellowbrick.cluster import SilhouetteVisualizer\n",
    "\n",
    "from sklearn.metrics import accuracy_score"
   ]
  },
  {
   "cell_type": "code",
   "execution_count": 289,
   "metadata": {},
   "outputs": [],
   "source": [
    "pd.options.display.max_colwidth = 80"
   ]
  },
  {
   "cell_type": "code",
   "execution_count": 173,
   "metadata": {},
   "outputs": [],
   "source": [
    "with open(\"documents/af_lbd_vectors_df_total_88.pkl\", \"rb\") as picklefile:\n",
    "    af_lbd_vectors_df = pickle.load(picklefile)"
   ]
  },
  {
   "cell_type": "code",
   "execution_count": 174,
   "metadata": {},
   "outputs": [
    {
     "data": {
      "text/html": [
       "<div>\n",
       "<style scoped>\n",
       "    .dataframe tbody tr th:only-of-type {\n",
       "        vertical-align: middle;\n",
       "    }\n",
       "\n",
       "    .dataframe tbody tr th {\n",
       "        vertical-align: top;\n",
       "    }\n",
       "\n",
       "    .dataframe thead th {\n",
       "        text-align: right;\n",
       "    }\n",
       "</style>\n",
       "<table border=\"1\" class=\"dataframe\">\n",
       "  <thead>\n",
       "    <tr style=\"text-align: right;\">\n",
       "      <th></th>\n",
       "      <th>0</th>\n",
       "      <th>1</th>\n",
       "      <th>2</th>\n",
       "      <th>3</th>\n",
       "      <th>4</th>\n",
       "      <th>5</th>\n",
       "      <th>6</th>\n",
       "      <th>7</th>\n",
       "      <th>8</th>\n",
       "      <th>9</th>\n",
       "      <th>...</th>\n",
       "      <th>191</th>\n",
       "      <th>192</th>\n",
       "      <th>193</th>\n",
       "      <th>194</th>\n",
       "      <th>195</th>\n",
       "      <th>196</th>\n",
       "      <th>197</th>\n",
       "      <th>198</th>\n",
       "      <th>199</th>\n",
       "      <th>disease</th>\n",
       "    </tr>\n",
       "  </thead>\n",
       "  <tbody>\n",
       "    <tr>\n",
       "      <th>PMC6088773</th>\n",
       "      <td>-0.020944</td>\n",
       "      <td>-0.006814</td>\n",
       "      <td>0.059834</td>\n",
       "      <td>0.002858</td>\n",
       "      <td>0.026976</td>\n",
       "      <td>-0.011505</td>\n",
       "      <td>-0.013803</td>\n",
       "      <td>-0.009671</td>\n",
       "      <td>-0.016656</td>\n",
       "      <td>-0.011772</td>\n",
       "      <td>...</td>\n",
       "      <td>-0.024884</td>\n",
       "      <td>-0.031693</td>\n",
       "      <td>0.064884</td>\n",
       "      <td>-0.006438</td>\n",
       "      <td>-0.081982</td>\n",
       "      <td>-0.005331</td>\n",
       "      <td>0.043295</td>\n",
       "      <td>-0.002021</td>\n",
       "      <td>-0.052072</td>\n",
       "      <td>lbd</td>\n",
       "    </tr>\n",
       "    <tr>\n",
       "      <th>PMC4892610</th>\n",
       "      <td>-0.020944</td>\n",
       "      <td>-0.006814</td>\n",
       "      <td>0.059834</td>\n",
       "      <td>0.002858</td>\n",
       "      <td>0.026976</td>\n",
       "      <td>-0.011505</td>\n",
       "      <td>-0.013803</td>\n",
       "      <td>-0.009671</td>\n",
       "      <td>-0.016656</td>\n",
       "      <td>-0.011772</td>\n",
       "      <td>...</td>\n",
       "      <td>-0.024884</td>\n",
       "      <td>-0.031693</td>\n",
       "      <td>0.064884</td>\n",
       "      <td>-0.006438</td>\n",
       "      <td>-0.081982</td>\n",
       "      <td>-0.005331</td>\n",
       "      <td>0.043295</td>\n",
       "      <td>-0.002021</td>\n",
       "      <td>-0.052072</td>\n",
       "      <td>lbd</td>\n",
       "    </tr>\n",
       "    <tr>\n",
       "      <th>PMC5840831</th>\n",
       "      <td>-0.020944</td>\n",
       "      <td>-0.006814</td>\n",
       "      <td>0.059834</td>\n",
       "      <td>0.002858</td>\n",
       "      <td>0.026976</td>\n",
       "      <td>-0.011505</td>\n",
       "      <td>-0.013803</td>\n",
       "      <td>-0.009671</td>\n",
       "      <td>-0.016656</td>\n",
       "      <td>-0.011772</td>\n",
       "      <td>...</td>\n",
       "      <td>-0.024884</td>\n",
       "      <td>-0.031693</td>\n",
       "      <td>0.064884</td>\n",
       "      <td>-0.006438</td>\n",
       "      <td>-0.081982</td>\n",
       "      <td>-0.005331</td>\n",
       "      <td>0.043295</td>\n",
       "      <td>-0.002021</td>\n",
       "      <td>-0.052072</td>\n",
       "      <td>lbd</td>\n",
       "    </tr>\n",
       "    <tr>\n",
       "      <th>PMC4275567</th>\n",
       "      <td>-0.020944</td>\n",
       "      <td>-0.006814</td>\n",
       "      <td>0.059834</td>\n",
       "      <td>0.002858</td>\n",
       "      <td>0.026976</td>\n",
       "      <td>-0.011505</td>\n",
       "      <td>-0.013803</td>\n",
       "      <td>-0.009671</td>\n",
       "      <td>-0.016656</td>\n",
       "      <td>-0.011772</td>\n",
       "      <td>...</td>\n",
       "      <td>-0.024884</td>\n",
       "      <td>-0.031693</td>\n",
       "      <td>0.064884</td>\n",
       "      <td>-0.006438</td>\n",
       "      <td>-0.081982</td>\n",
       "      <td>-0.005331</td>\n",
       "      <td>0.043295</td>\n",
       "      <td>-0.002021</td>\n",
       "      <td>-0.052072</td>\n",
       "      <td>lbd</td>\n",
       "    </tr>\n",
       "    <tr>\n",
       "      <th>PMC5724510</th>\n",
       "      <td>-0.020944</td>\n",
       "      <td>-0.006814</td>\n",
       "      <td>0.059834</td>\n",
       "      <td>0.002858</td>\n",
       "      <td>0.026976</td>\n",
       "      <td>-0.011505</td>\n",
       "      <td>-0.013803</td>\n",
       "      <td>-0.009671</td>\n",
       "      <td>-0.016656</td>\n",
       "      <td>-0.011772</td>\n",
       "      <td>...</td>\n",
       "      <td>-0.024884</td>\n",
       "      <td>-0.031693</td>\n",
       "      <td>0.064884</td>\n",
       "      <td>-0.006438</td>\n",
       "      <td>-0.081982</td>\n",
       "      <td>-0.005331</td>\n",
       "      <td>0.043295</td>\n",
       "      <td>-0.002021</td>\n",
       "      <td>-0.052072</td>\n",
       "      <td>lbd</td>\n",
       "    </tr>\n",
       "  </tbody>\n",
       "</table>\n",
       "<p>5 rows × 201 columns</p>\n",
       "</div>"
      ],
      "text/plain": [
       "                   0         1         2         3         4         5  \\\n",
       "PMC6088773 -0.020944 -0.006814  0.059834  0.002858  0.026976 -0.011505   \n",
       "PMC4892610 -0.020944 -0.006814  0.059834  0.002858  0.026976 -0.011505   \n",
       "PMC5840831 -0.020944 -0.006814  0.059834  0.002858  0.026976 -0.011505   \n",
       "PMC4275567 -0.020944 -0.006814  0.059834  0.002858  0.026976 -0.011505   \n",
       "PMC5724510 -0.020944 -0.006814  0.059834  0.002858  0.026976 -0.011505   \n",
       "\n",
       "                   6         7         8         9   ...          191  \\\n",
       "PMC6088773 -0.013803 -0.009671 -0.016656 -0.011772   ...    -0.024884   \n",
       "PMC4892610 -0.013803 -0.009671 -0.016656 -0.011772   ...    -0.024884   \n",
       "PMC5840831 -0.013803 -0.009671 -0.016656 -0.011772   ...    -0.024884   \n",
       "PMC4275567 -0.013803 -0.009671 -0.016656 -0.011772   ...    -0.024884   \n",
       "PMC5724510 -0.013803 -0.009671 -0.016656 -0.011772   ...    -0.024884   \n",
       "\n",
       "                 192       193       194       195       196       197  \\\n",
       "PMC6088773 -0.031693  0.064884 -0.006438 -0.081982 -0.005331  0.043295   \n",
       "PMC4892610 -0.031693  0.064884 -0.006438 -0.081982 -0.005331  0.043295   \n",
       "PMC5840831 -0.031693  0.064884 -0.006438 -0.081982 -0.005331  0.043295   \n",
       "PMC4275567 -0.031693  0.064884 -0.006438 -0.081982 -0.005331  0.043295   \n",
       "PMC5724510 -0.031693  0.064884 -0.006438 -0.081982 -0.005331  0.043295   \n",
       "\n",
       "                 198       199  disease  \n",
       "PMC6088773 -0.002021 -0.052072      lbd  \n",
       "PMC4892610 -0.002021 -0.052072      lbd  \n",
       "PMC5840831 -0.002021 -0.052072      lbd  \n",
       "PMC4275567 -0.002021 -0.052072      lbd  \n",
       "PMC5724510 -0.002021 -0.052072      lbd  \n",
       "\n",
       "[5 rows x 201 columns]"
      ]
     },
     "execution_count": 174,
     "metadata": {},
     "output_type": "execute_result"
    }
   ],
   "source": [
    "af_lbd_vectors_df[af_lbd_vectors_df.disease == 'lbd'].head()"
   ]
  },
  {
   "cell_type": "markdown",
   "metadata": {},
   "source": [
    "We'll try several types of clustering on these vectors.\n",
    "\n",
    "* KMeans\n",
    "* DBScan\n",
    "* Ward hierchical clustering"
   ]
  },
  {
   "cell_type": "code",
   "execution_count": 175,
   "metadata": {},
   "outputs": [],
   "source": [
    "# First, we'll drop the disease column from the dataframe so that we can run clustering on just the word2vec vectors.\n",
    "disease_labels = af_lbd_vectors_df['disease']\n",
    "af_lbd_vectors_df.drop(columns=['disease'], inplace=True)"
   ]
  },
  {
   "cell_type": "code",
   "execution_count": 176,
   "metadata": {},
   "outputs": [
    {
     "data": {
      "text/plain": [
       "lbd    52\n",
       "af     36\n",
       "Name: disease, dtype: int64"
      ]
     },
     "execution_count": 176,
     "metadata": {},
     "output_type": "execute_result"
    }
   ],
   "source": [
    "disease_labels.value_counts()"
   ]
  },
  {
   "cell_type": "code",
   "execution_count": 177,
   "metadata": {},
   "outputs": [
    {
     "data": {
      "text/plain": [
       "KMeans(algorithm='auto', copy_x=True, init='k-means++', max_iter=300,\n",
       "    n_clusters=2, n_init=10, n_jobs=1, precompute_distances='auto',\n",
       "    random_state=None, tol=0.0001, verbose=0)"
      ]
     },
     "execution_count": 177,
     "metadata": {},
     "output_type": "execute_result"
    }
   ],
   "source": [
    "kmeans = KMeans(n_clusters=2)\n",
    "kmeans.fit(af_lbd_vectors_df)"
   ]
  },
  {
   "cell_type": "code",
   "execution_count": 178,
   "metadata": {},
   "outputs": [
    {
     "data": {
      "text/plain": [
       "array([1, 0, 0, 1, 0, 0, 1, 0, 0, 0, 1, 0, 0, 0, 0, 0, 0, 1, 0, 0, 0, 0,\n",
       "       0, 0, 0, 0, 0, 0, 0, 0, 0, 0, 0, 0, 0, 0, 0, 0, 0, 0, 0, 0, 0, 0,\n",
       "       0, 0, 0, 0, 0, 0, 0, 0, 0, 0, 0, 0, 0, 0, 0, 0, 0, 0, 0, 0, 0, 0,\n",
       "       0, 0, 0, 0, 0, 0, 0, 0, 0, 0, 0, 0, 0, 0, 0, 0, 0, 0, 0, 0, 0, 0],\n",
       "      dtype=int32)"
      ]
     },
     "execution_count": 178,
     "metadata": {},
     "output_type": "execute_result"
    }
   ],
   "source": [
    "kmeans.labels_"
   ]
  },
  {
   "cell_type": "code",
   "execution_count": 179,
   "metadata": {},
   "outputs": [
    {
     "data": {
      "image/png": "[encoded data removed]",
      "text/plain": [
       "<Figure size 432x288 with 1 Axes>"
      ]
     },
     "metadata": {},
     "output_type": "display_data"
    }
   ],
   "source": [
    "# Instantiate the clustering model and visualizer\n",
    "visualizer = SilhouetteVisualizer(KMeans(n_clusters=2))\n",
    "visualizer.fit(af_lbd_vectors_df)\n",
    "visualizer.poof('figures/silhouette_plot_k_means.png')"
   ]
  },
  {
   "cell_type": "markdown",
   "metadata": {},
   "source": [
    "We know that in reality, there are 52 papers about Lewy body disease and 36 papers on atrial fibrillation. K means does a pretty poor job, since it clusters 5 papers together and clusters the other 83 into another cluster.\n",
    "\n",
    "Let's try DBSCAN next."
   ]
  },
  {
   "cell_type": "code",
   "execution_count": 181,
   "metadata": {},
   "outputs": [
    {
     "data": {
      "text/plain": [
       "DBSCAN(algorithm='auto', eps=0.3, leaf_size=30, metric='euclidean',\n",
       "    metric_params=None, min_samples=10, n_jobs=1, p=None)"
      ]
     },
     "execution_count": 181,
     "metadata": {},
     "output_type": "execute_result"
    }
   ],
   "source": [
    "db = DBSCAN(eps=0.3, min_samples=10)\n",
    "db.fit(af_lbd_vectors_df)"
   ]
  },
  {
   "cell_type": "code",
   "execution_count": 182,
   "metadata": {},
   "outputs": [
    {
     "data": {
      "text/plain": [
       "array([-1,  0,  0, -1,  0,  0, -1, -1,  0,  0, -1,  0,  0,  0,  0,  0, -1,\n",
       "       -1,  0,  0,  0, -1,  0,  0,  0,  0,  0,  0,  0,  0,  0,  0,  0, -1,\n",
       "        0,  0,  0,  0,  0,  0,  0,  0,  0,  0,  0,  0,  0,  0,  0,  0,  0,\n",
       "        0,  0,  0,  0,  0,  0,  0,  0,  0,  0,  0,  0,  0,  0,  0,  0,  0,\n",
       "        0,  0,  0,  0,  0,  0,  0,  0,  0,  0,  0,  0,  0,  0,  0,  0,  0,\n",
       "        0,  0,  0])"
      ]
     },
     "execution_count": 182,
     "metadata": {},
     "output_type": "execute_result"
    }
   ],
   "source": [
    "db.labels_"
   ]
  },
  {
   "cell_type": "code",
   "execution_count": 183,
   "metadata": {},
   "outputs": [
    {
     "data": {
      "text/plain": [
       "DBSCAN(algorithm='auto', eps=0.3, leaf_size=30, metric='euclidean',\n",
       "    metric_params=None, min_samples=20, n_jobs=1, p=None)"
      ]
     },
     "execution_count": 183,
     "metadata": {},
     "output_type": "execute_result"
    }
   ],
   "source": [
    "db = DBSCAN(eps=0.3, min_samples=20)\n",
    "db.fit(af_lbd_vectors_df)"
   ]
  },
  {
   "cell_type": "code",
   "execution_count": 184,
   "metadata": {},
   "outputs": [
    {
     "data": {
      "text/plain": [
       "array([-1,  0,  0, -1,  0,  0, -1, -1,  0,  0, -1,  0,  0,  0,  0,  0, -1,\n",
       "       -1,  0,  0,  0, -1,  0,  0,  0,  0,  0,  0,  0,  0,  0,  0,  0, -1,\n",
       "        0,  0,  0,  0,  0,  0,  0,  0,  0,  0,  0,  0,  0,  0,  0,  0,  0,\n",
       "        0,  0,  0,  0,  0,  0,  0,  0,  0,  0,  0,  0,  0,  0,  0,  0,  0,\n",
       "        0,  0,  0,  0,  0,  0,  0,  0,  0,  0,  0,  0,  0,  0,  0,  0,  0,\n",
       "        0,  0,  0])"
      ]
     },
     "execution_count": 184,
     "metadata": {},
     "output_type": "execute_result"
    }
   ],
   "source": [
    "db.labels_"
   ]
  },
  {
   "cell_type": "markdown",
   "metadata": {},
   "source": [
    "DBSCAN also doesn't do very well on clustering papers. We'll try agglomerative clustering next."
   ]
  },
  {
   "cell_type": "code",
   "execution_count": 185,
   "metadata": {},
   "outputs": [
    {
     "data": {
      "text/plain": [
       "array([0, 0, 1, 0, 0, 1, 0, 0, 1, 0, 0, 0, 1, 1, 1, 0, 0, 0, 0, 1, 1, 0,\n",
       "       1, 1, 1, 1, 0, 1, 1, 0, 1, 1, 1, 0, 1, 1, 1, 1, 1, 1, 1, 1, 1, 1,\n",
       "       1, 1, 1, 1, 1, 1, 1, 1, 1, 1, 1, 1, 1, 1, 1, 1, 1, 1, 1, 1, 1, 1,\n",
       "       1, 1, 1, 1, 1, 1, 1, 1, 1, 1, 1, 1, 1, 1, 1, 1, 1, 1, 1, 1, 1, 1])"
      ]
     },
     "execution_count": 185,
     "metadata": {},
     "output_type": "execute_result"
    }
   ],
   "source": [
    "ag_cluster = AgglomerativeClustering(linkage='average', affinity='cosine', n_clusters=2)\n",
    "ag_cluster.fit(af_lbd_vectors_df)\n",
    "ag_cluster.labels_"
   ]
  },
  {
   "cell_type": "code",
   "execution_count": 186,
   "metadata": {
    "scrolled": true
   },
   "outputs": [
    {
     "data": {
      "text/plain": [
       "array([1, 0, 0, 1, 0, 0, 1, 0, 0, 0, 1, 0, 0, 0, 0, 0, 0, 1, 0, 0, 0, 0,\n",
       "       0, 0, 0, 0, 0, 0, 0, 0, 0, 0, 0, 0, 0, 0, 0, 0, 0, 0, 0, 0, 0, 0,\n",
       "       0, 0, 0, 0, 0, 0, 0, 0, 0, 0, 0, 0, 0, 0, 0, 0, 0, 0, 0, 0, 0, 0,\n",
       "       0, 0, 0, 0, 0, 0, 0, 0, 0, 0, 0, 0, 0, 0, 0, 0, 0, 0, 0, 0, 0, 0])"
      ]
     },
     "execution_count": 186,
     "metadata": {},
     "output_type": "execute_result"
    }
   ],
   "source": [
    "ag_cluster = AgglomerativeClustering(linkage='ward', affinity='euclidean', n_clusters=2)\n",
    "ag_cluster.fit(af_lbd_vectors_df)\n",
    "ag_cluster.labels_"
   ]
  },
  {
   "cell_type": "markdown",
   "metadata": {},
   "source": [
    "## Clustering after performing tSNE\n",
    "\n",
    "Interestingly, looking at the tSNE projects of the af and lbd papers, it looks like there are clear clusters when the vectors are squashed to 2D vector space. So let's try clustering on the tSNE transformed vectors."
   ]
  },
  {
   "cell_type": "code",
   "execution_count": 187,
   "metadata": {},
   "outputs": [
    {
     "name": "stdout",
     "output_type": "stream",
     "text": [
      "[t-SNE] Computing 87 nearest neighbors...\n",
      "[t-SNE] Indexed 88 samples in 0.000s...\n",
      "[t-SNE] Computed neighbors for 88 samples in 0.005s...\n",
      "[t-SNE] Computed conditional probabilities for sample 88 / 88\n",
      "[t-SNE] Mean sigma: 0.000000\n",
      "[t-SNE] KL divergence after 250 iterations with early exaggeration: 46.940628\n",
      "[t-SNE] Error after 1000 iterations: 0.069403\n"
     ]
    }
   ],
   "source": [
    "tsne = TSNE(n_components=2, verbose=1, perplexity=50, n_iter=1000)\n",
    "\n",
    "af_lbd_tsne = tsne.fit_transform(af_lbd_vectors_df)"
   ]
  },
  {
   "cell_type": "markdown",
   "metadata": {},
   "source": [
    "## Plotting clustering labels on tSNE plot"
   ]
  },
  {
   "cell_type": "code",
   "execution_count": 195,
   "metadata": {},
   "outputs": [],
   "source": [
    "af_lbd_tsne_clustering_labels = pd.DataFrame(af_lbd_tsne, index=disease_labels.index)"
   ]
  },
  {
   "cell_type": "code",
   "execution_count": 198,
   "metadata": {},
   "outputs": [],
   "source": [
    "af_lbd_tsne_clustering_labels = pd.concat((af_lbd_tsne_clustering_labels, disease_labels), axis=1, join='inner')"
   ]
  },
  {
   "cell_type": "code",
   "execution_count": 199,
   "metadata": {},
   "outputs": [],
   "source": [
    "af_lbd_tsne_clustering_labels['kmeans_labels'] = kmeans.labels_\n",
    "af_lbd_tsne_clustering_labels['dbscan_labels'] = db.labels_\n",
    "af_lbd_tsne_clustering_labels['ag_labels'] = ag_cluster.labels_"
   ]
  },
  {
   "cell_type": "markdown",
   "metadata": {},
   "source": [
    "Let's plot the labels that each of these clustering algorithms assigns to the papers."
   ]
  },
  {
   "cell_type": "code",
   "execution_count": 204,
   "metadata": {},
   "outputs": [
    {
     "data": {
      "text/html": [
       "<div>\n",
       "<style scoped>\n",
       "    .dataframe tbody tr th:only-of-type {\n",
       "        vertical-align: middle;\n",
       "    }\n",
       "\n",
       "    .dataframe tbody tr th {\n",
       "        vertical-align: top;\n",
       "    }\n",
       "\n",
       "    .dataframe thead th {\n",
       "        text-align: right;\n",
       "    }\n",
       "</style>\n",
       "<table border=\"1\" class=\"dataframe\">\n",
       "  <thead>\n",
       "    <tr style=\"text-align: right;\">\n",
       "      <th></th>\n",
       "      <th>x</th>\n",
       "      <th>y</th>\n",
       "      <th>disease</th>\n",
       "      <th>kmeans_labels</th>\n",
       "      <th>dbscan_labels</th>\n",
       "      <th>ag_labels</th>\n",
       "    </tr>\n",
       "  </thead>\n",
       "  <tbody>\n",
       "    <tr>\n",
       "      <th>PMC4952027</th>\n",
       "      <td>8.010901</td>\n",
       "      <td>9.763558</td>\n",
       "      <td>af</td>\n",
       "      <td>1</td>\n",
       "      <td>-1</td>\n",
       "      <td>1</td>\n",
       "    </tr>\n",
       "    <tr>\n",
       "      <th>PMC5598874</th>\n",
       "      <td>7.329449</td>\n",
       "      <td>10.527578</td>\n",
       "      <td>af</td>\n",
       "      <td>0</td>\n",
       "      <td>0</td>\n",
       "      <td>0</td>\n",
       "    </tr>\n",
       "    <tr>\n",
       "      <th>PMC4766963</th>\n",
       "      <td>8.252251</td>\n",
       "      <td>13.492894</td>\n",
       "      <td>af</td>\n",
       "      <td>0</td>\n",
       "      <td>0</td>\n",
       "      <td>0</td>\n",
       "    </tr>\n",
       "    <tr>\n",
       "      <th>PMC5658096</th>\n",
       "      <td>8.002549</td>\n",
       "      <td>9.760319</td>\n",
       "      <td>af</td>\n",
       "      <td>1</td>\n",
       "      <td>-1</td>\n",
       "      <td>1</td>\n",
       "    </tr>\n",
       "    <tr>\n",
       "      <th>PMC5560908</th>\n",
       "      <td>6.863257</td>\n",
       "      <td>11.829141</td>\n",
       "      <td>af</td>\n",
       "      <td>0</td>\n",
       "      <td>0</td>\n",
       "      <td>0</td>\n",
       "    </tr>\n",
       "  </tbody>\n",
       "</table>\n",
       "</div>"
      ],
      "text/plain": [
       "                   x          y disease  kmeans_labels  dbscan_labels  \\\n",
       "PMC4952027  8.010901   9.763558      af              1             -1   \n",
       "PMC5598874  7.329449  10.527578      af              0              0   \n",
       "PMC4766963  8.252251  13.492894      af              0              0   \n",
       "PMC5658096  8.002549   9.760319      af              1             -1   \n",
       "PMC5560908  6.863257  11.829141      af              0              0   \n",
       "\n",
       "            ag_labels  \n",
       "PMC4952027          1  \n",
       "PMC5598874          0  \n",
       "PMC4766963          0  \n",
       "PMC5658096          1  \n",
       "PMC5560908          0  "
      ]
     },
     "execution_count": 204,
     "metadata": {},
     "output_type": "execute_result"
    }
   ],
   "source": [
    "af_lbd_tsne_clustering_labels = af_lbd_tsne_clustering_labels.rename(columns={0:'x', 1:'y'})\n",
    "\n",
    "af_lbd_tsne_clustering_labels.head()"
   ]
  },
  {
   "cell_type": "code",
   "execution_count": 214,
   "metadata": {},
   "outputs": [],
   "source": [
    "plt.rcParams['figure.figsize'] = [10.0, 8.0]\n",
    "plt.rcParams['font.size'] = 12\n",
    "plt.rcParams['legend.fontsize'] = 'large'\n",
    "plt.rcParams['axes.titlesize'] = 18\n",
    "plt.rcParams['figure.titlesize'] = 'medium'\n",
    "plt.rcParams['savefig.dpi'] = 100"
   ]
  },
  {
   "cell_type": "code",
   "execution_count": 235,
   "metadata": {},
   "outputs": [],
   "source": [
    "groups = af_lbd_tsne_clustering_labels.groupby('disease')"
   ]
  },
  {
   "cell_type": "code",
   "execution_count": 242,
   "metadata": {},
   "outputs": [
    {
     "name": "stdout",
     "output_type": "stream",
     "text": [
      "af\n",
      "lbd\n"
     ]
    },
    {
     "data": {
      "image/png": "[encoded data removed]",
      "text/plain": [
       "<Figure size 720x576 with 1 Axes>"
      ]
     },
     "metadata": {},
     "output_type": "display_data"
    }
   ],
   "source": [
    "# Plot\n",
    "fig, ax = plt.subplots()\n",
    "ax.margins(0.05) # Optional, just adds 5% padding to the autoscaling\n",
    "\n",
    "disease_dict = {'af':'atrial fibrillation', 'lbd':'lewy body dementia'}\n",
    "legend_dict = {0: 'atrial fibrillation', 1: 'lewy body dementia'}\n",
    "\n",
    "for name, group in groups:\n",
    "    print(name)\n",
    "    ax.plot(group.y, group.x, marker='o', linestyle='', ms=12, label=disease_dict[name])\n",
    "ax.legend()\n",
    "plt.title(\"tSNE plot of mean word2vec vectors \\nfor atrial fibrillation and LBD review papers (ground truth)\", )\n",
    "\n",
    "fig = plt.gcf()\n",
    "fig.savefig('figures/af_lbd_true_clusters.png')\n",
    "\n",
    "plt.show()"
   ]
  },
  {
   "cell_type": "code",
   "execution_count": 31,
   "metadata": {},
   "outputs": [
    {
     "data": {
      "text/plain": [
       "KMeans(algorithm='auto', copy_x=True, init='k-means++', max_iter=300,\n",
       "    n_clusters=2, n_init=10, n_jobs=1, precompute_distances='auto',\n",
       "    random_state=None, tol=0.0001, verbose=0)"
      ]
     },
     "execution_count": 31,
     "metadata": {},
     "output_type": "execute_result"
    }
   ],
   "source": [
    "kmeans.fit(af_lbd_tsne)"
   ]
  },
  {
   "cell_type": "code",
   "execution_count": 32,
   "metadata": {},
   "outputs": [
    {
     "data": {
      "text/plain": [
       "array([0, 0, 1, 0, 0, 0, 0, 0, 0, 0, 0, 0, 0, 0, 0, 0, 0, 0, 0, 0, 1, 0,\n",
       "       1, 0, 0, 0, 0, 0, 0, 0, 0, 0, 0, 0, 1, 1, 1, 1, 1, 1, 1, 1, 1, 1,\n",
       "       1, 1, 1, 1, 1, 1, 1, 1, 1, 1, 1, 1, 1, 1, 1, 1, 1, 1, 1, 1, 1, 1,\n",
       "       1, 1, 1, 1, 1, 1, 1, 1, 1, 1, 1, 1, 1, 1, 1, 1, 1, 1, 1, 1, 1, 1],\n",
       "      dtype=int32)"
      ]
     },
     "execution_count": 32,
     "metadata": {},
     "output_type": "execute_result"
    }
   ],
   "source": [
    "kmeans.labels_"
   ]
  },
  {
   "cell_type": "code",
   "execution_count": 55,
   "metadata": {},
   "outputs": [
    {
     "data": {
      "image/png": "[encoded data removed]",
      "text/plain": [
       "<Figure size 432x288 with 1 Axes>"
      ]
     },
     "metadata": {},
     "output_type": "display_data"
    }
   ],
   "source": [
    "visualizer = SilhouetteVisualizer(KMeans(n_clusters=2))\n",
    "visualizer.fit(af_lbd_tsne)\n",
    "visualizer.poof(outpath='figures/silhouette_plot_tsne_k_means.png')"
   ]
  },
  {
   "cell_type": "code",
   "execution_count": 50,
   "metadata": {},
   "outputs": [],
   "source": [
    "label_comparison = pd.DataFrame({'disease': disease_labels, 'kmeans_predictions_on_tSNE': kmeans.labels_})"
   ]
  },
  {
   "cell_type": "code",
   "execution_count": 57,
   "metadata": {},
   "outputs": [],
   "source": [
    "comp = label_comparison.replace({0: 'af', 1: 'lbd'})"
   ]
  },
  {
   "cell_type": "code",
   "execution_count": 60,
   "metadata": {},
   "outputs": [
    {
     "data": {
      "text/plain": [
       "0.9431818181818182"
      ]
     },
     "execution_count": 60,
     "metadata": {},
     "output_type": "execute_result"
    }
   ],
   "source": [
    "accuracy_score(comp.disease, comp.kmeans_predictions_on_tSNE)"
   ]
  },
  {
   "cell_type": "markdown",
   "metadata": {},
   "source": [
    "What if we used tSNE to transform it to 3 dimensions?"
   ]
  },
  {
   "cell_type": "code",
   "execution_count": 63,
   "metadata": {},
   "outputs": [
    {
     "name": "stdout",
     "output_type": "stream",
     "text": [
      "[t-SNE] Computing 87 nearest neighbors...\n",
      "[t-SNE] Indexed 88 samples in 0.000s...\n",
      "[t-SNE] Computed neighbors for 88 samples in 0.003s...\n",
      "[t-SNE] Computed conditional probabilities for sample 88 / 88\n",
      "[t-SNE] Mean sigma: 0.000000\n",
      "[t-SNE] KL divergence after 250 iterations with early exaggeration: 93.487480\n",
      "[t-SNE] Error after 1000 iterations: 0.946411\n"
     ]
    },
    {
     "data": {
      "image/png": "[encoded data removed]",
      "text/plain": [
       "<Figure size 432x288 with 1 Axes>"
      ]
     },
     "metadata": {},
     "output_type": "display_data"
    }
   ],
   "source": [
    "tsne = TSNE(n_components=3, verbose=1, perplexity=50, n_iter=1000)\n",
    "\n",
    "af_lbd_tsne = tsne.fit_transform(af_lbd_vectors_df)\n",
    "\n",
    "kmeans.fit(af_lbd_tsne)\n",
    "\n",
    "kmeans.labels_\n",
    "\n",
    "visualizer = SilhouetteVisualizer(KMeans(n_clusters=2))\n",
    "visualizer.fit(af_lbd_tsne)\n",
    "visualizer.poof()\n",
    "\n",
    "label_comparison = pd.DataFrame({'disease': disease_labels, 'kmeans_predictions_on_tSNE': kmeans.labels_})"
   ]
  },
  {
   "cell_type": "code",
   "execution_count": 65,
   "metadata": {},
   "outputs": [
    {
     "data": {
      "text/plain": [
       "0.625"
      ]
     },
     "execution_count": 65,
     "metadata": {},
     "output_type": "execute_result"
    }
   ],
   "source": [
    "comp = label_comparison.replace({0: 'af', 1: 'lbd'})\n",
    "\n",
    "accuracy_score(comp.disease, comp.kmeans_predictions_on_tSNE)"
   ]
  },
  {
   "cell_type": "code",
   "execution_count": 73,
   "metadata": {},
   "outputs": [
    {
     "data": {
      "text/html": [
       "<div>\n",
       "<style scoped>\n",
       "    .dataframe tbody tr th:only-of-type {\n",
       "        vertical-align: middle;\n",
       "    }\n",
       "\n",
       "    .dataframe tbody tr th {\n",
       "        vertical-align: top;\n",
       "    }\n",
       "\n",
       "    .dataframe thead th {\n",
       "        text-align: right;\n",
       "    }\n",
       "</style>\n",
       "<table border=\"1\" class=\"dataframe\">\n",
       "  <thead>\n",
       "    <tr style=\"text-align: right;\">\n",
       "      <th></th>\n",
       "      <th>disease</th>\n",
       "      <th>kmeans_predictions_on_tSNE</th>\n",
       "    </tr>\n",
       "  </thead>\n",
       "  <tbody>\n",
       "    <tr>\n",
       "      <th>PMC4952027</th>\n",
       "      <td>af</td>\n",
       "      <td>lbd</td>\n",
       "    </tr>\n",
       "    <tr>\n",
       "      <th>PMC5598874</th>\n",
       "      <td>af</td>\n",
       "      <td>lbd</td>\n",
       "    </tr>\n",
       "    <tr>\n",
       "      <th>PMC4766963</th>\n",
       "      <td>af</td>\n",
       "      <td>af</td>\n",
       "    </tr>\n",
       "    <tr>\n",
       "      <th>PMC5658096</th>\n",
       "      <td>af</td>\n",
       "      <td>af</td>\n",
       "    </tr>\n",
       "    <tr>\n",
       "      <th>PMC5560908</th>\n",
       "      <td>af</td>\n",
       "      <td>af</td>\n",
       "    </tr>\n",
       "  </tbody>\n",
       "</table>\n",
       "</div>"
      ],
      "text/plain": [
       "           disease kmeans_predictions_on_tSNE\n",
       "PMC4952027      af                        lbd\n",
       "PMC5598874      af                        lbd\n",
       "PMC4766963      af                         af\n",
       "PMC5658096      af                         af\n",
       "PMC5560908      af                         af"
      ]
     },
     "execution_count": 73,
     "metadata": {},
     "output_type": "execute_result"
    }
   ],
   "source": [
    "comp.head()"
   ]
  },
  {
   "cell_type": "markdown",
   "metadata": {},
   "source": [
    "There's actually worse accuracy when we use tSNE to reduce to 3 dimensions, it drops to an accuracy of 62.5%."
   ]
  },
  {
   "cell_type": "markdown",
   "metadata": {},
   "source": [
    "## Clustering within medical topics\n",
    "\n",
    "Let's see whether or not any of these clustering methods are actually able to distinguish the sub-groups for the review papers within each topic, e.g. the sub-topics for the review papers for atrial fibrillation, and the subtopics for the review papers for LBD.\n",
    "\n",
    "I will look at the titles and abstracts for each topic, and label each of these papers by sub-topic."
   ]
  },
  {
   "cell_type": "code",
   "execution_count": 263,
   "metadata": {},
   "outputs": [
    {
     "name": "stdout",
     "output_type": "stream",
     "text": [
      "ClinicalSenseInventoryII_RefinedMasterFile.txt\n",
      "ClinicalSenseInventoryI_MasterFile.txt\n",
      "af_lbd_vectors_df_total_88.pkl\n",
      "af_tsne_88.pkl\n",
      "atrial_fibrillation_review_paper_dictionary_list.pkl\n",
      "dict_structure.txt\n",
      "lewy_body_dementia_review_paper_dictionary_list.pkl\n",
      "word_to_w2v_chunk_dict.pkl\n"
     ]
    }
   ],
   "source": [
    "%%bash\n",
    "ls documents/"
   ]
  },
  {
   "cell_type": "code",
   "execution_count": 264,
   "metadata": {},
   "outputs": [],
   "source": [
    "with open(\"documents/atrial_fibrillation_review_paper_dictionary_list.pkl\", \"rb\") as picklefile:\n",
    "    af_list_of_paper_dictionaries = pickle.load(picklefile)"
   ]
  },
  {
   "cell_type": "code",
   "execution_count": 265,
   "metadata": {},
   "outputs": [],
   "source": [
    "with open(\"documents/lewy_body_dementia_review_paper_dictionary_list.pkl\", \"rb\") as picklefile:\n",
    "    lbd_list_of_paper_dictionaries = pickle.load(picklefile)"
   ]
  },
  {
   "cell_type": "code",
   "execution_count": 266,
   "metadata": {},
   "outputs": [
    {
     "data": {
      "text/plain": [
       "dict_keys(['pmcid', 'title', 'keywords', 'abstract_text', 'article_text', 'citation_tuples'])"
      ]
     },
     "execution_count": 266,
     "metadata": {},
     "output_type": "execute_result"
    }
   ],
   "source": [
    "af_list_of_paper_dictionaries[0].keys()"
   ]
  },
  {
   "cell_type": "code",
   "execution_count": 267,
   "metadata": {},
   "outputs": [],
   "source": [
    "my_labels = {'PMC4952027': 'detecting_afib',\n",
    "'PMC5598874': 'cardiac_comorbidities',\n",
    "'PMC4766963': 'stroke_prevention',\n",
    "'PMC5658096': 'rate_control',\n",
    "'PMC5560908': 'hyperthyroidism',\n",
    "'PMC5089715': 'quality_of_life',\n",
    "'PMC5079045': 'BMI',\n",
    "'PMC5543536': 'quality_of_life',\n",
    "'PMC5340010': 'rate_control',\n",
    "'PMC5442605': 'cardiac_comorbidities',\n",
    "'PMC5380695': 'BMI',\n",
    "'PMC5286679': 'vitamin_C',\n",
    "'PMC5321114': 'post_stroke',\n",
    "'PMC5382469': 'digoxin',\n",
    "'PMC5465041': 'heat_shock_proteins',\n",
    "'PMC4599513': 'contact_force',\n",
    "'PMC4937957': 'RAAS_blockers_clinical_outcomes',\n",
    "'PMC5752005': 'hybrid_ablation',\n",
    "'PMC5586302': 'anticoagulation',\n",
    "'PMC5331111': 'anticoagulation',\n",
    "'PMC4819630': 'prior_research',\n",
    "'PMC5704695': 'anticoagulation',\n",
    "'PMC5622555': 'inflammation',\n",
    "'PMC5345987': 'atrial_appendage_occlusion',\n",
    "'PMC5656712': 'pharm_non_pharm_tx',\n",
    "'PMC4742513': 'anticoagulation',\n",
    "'PMC5482349': 'cardiac_comorbidities',\n",
    "'PMC4630199': 'elderly',\n",
    "'PMC5588987': 'rate_control',\n",
    "'PMC4642960': 'anticoagulation',\n",
    "'PMC4788372': 'post_stroke',\n",
    "'PMC5457732': 'case_report_air_embolus',\n",
    "'PMC5487882': 'anticoagulation',\n",
    "'PMC5382449': 'thiazolidenedione_dm',\n",
    "'PMC4957677': 'biomarkers_prediction',\n",
    "'PMC5234257': 'anticoagulation'}"
   ]
  },
  {
   "cell_type": "code",
   "execution_count": 268,
   "metadata": {},
   "outputs": [],
   "source": [
    "my_labels_series = pd.Series(my_labels, name='my_labels')"
   ]
  },
  {
   "cell_type": "markdown",
   "metadata": {},
   "source": [
    "There are roughly six different groups here; the two groups with the most papers and that are the clearest are 1) anticoagulation for stroke prevention in afib (by far the largest group of papers), and 2) cardiac comorbidities of afib."
   ]
  },
  {
   "cell_type": "code",
   "execution_count": 269,
   "metadata": {},
   "outputs": [],
   "source": [
    "af_titles_series = pd.Series(dict([(paper_dict['pmcid'], paper_dict['title']) for paper_dict in af_list_of_paper_dictionaries]), name='title')"
   ]
  },
  {
   "cell_type": "markdown",
   "metadata": {},
   "source": [
    "We'll take just the afib papers out of the dataframe, and append the titles as another column. That way, after we cluster the af vectors to get subgroups, we can inspect the groups' titles and see whether or not the clustering worked to find coherent subgroups."
   ]
  },
  {
   "cell_type": "code",
   "execution_count": 270,
   "metadata": {},
   "outputs": [],
   "source": [
    "af_lbd_master_df = af_lbd_vectors_df.copy()\n",
    "af_lbd_master_df['disease'] = disease_labels\n",
    "\n",
    "af_only_df = af_lbd_master_df[af_lbd_master_df['disease'] == 'af']"
   ]
  },
  {
   "cell_type": "code",
   "execution_count": 271,
   "metadata": {},
   "outputs": [
    {
     "data": {
      "text/html": [
       "<div>\n",
       "<style scoped>\n",
       "    .dataframe tbody tr th:only-of-type {\n",
       "        vertical-align: middle;\n",
       "    }\n",
       "\n",
       "    .dataframe tbody tr th {\n",
       "        vertical-align: top;\n",
       "    }\n",
       "\n",
       "    .dataframe thead th {\n",
       "        text-align: right;\n",
       "    }\n",
       "</style>\n",
       "<table border=\"1\" class=\"dataframe\">\n",
       "  <thead>\n",
       "    <tr style=\"text-align: right;\">\n",
       "      <th></th>\n",
       "      <th>0</th>\n",
       "      <th>1</th>\n",
       "      <th>2</th>\n",
       "      <th>3</th>\n",
       "      <th>4</th>\n",
       "      <th>5</th>\n",
       "      <th>6</th>\n",
       "      <th>7</th>\n",
       "      <th>8</th>\n",
       "      <th>9</th>\n",
       "      <th>...</th>\n",
       "      <th>191</th>\n",
       "      <th>192</th>\n",
       "      <th>193</th>\n",
       "      <th>194</th>\n",
       "      <th>195</th>\n",
       "      <th>196</th>\n",
       "      <th>197</th>\n",
       "      <th>198</th>\n",
       "      <th>199</th>\n",
       "      <th>disease</th>\n",
       "    </tr>\n",
       "  </thead>\n",
       "  <tbody>\n",
       "    <tr>\n",
       "      <th>PMC4952027</th>\n",
       "      <td>0.108578</td>\n",
       "      <td>0.014236</td>\n",
       "      <td>0.126349</td>\n",
       "      <td>-0.018508</td>\n",
       "      <td>-0.003937</td>\n",
       "      <td>-0.054088</td>\n",
       "      <td>-0.015865</td>\n",
       "      <td>0.049515</td>\n",
       "      <td>0.029591</td>\n",
       "      <td>0.041948</td>\n",
       "      <td>...</td>\n",
       "      <td>-0.039361</td>\n",
       "      <td>-0.044799</td>\n",
       "      <td>0.180942</td>\n",
       "      <td>-0.080833</td>\n",
       "      <td>-0.070030</td>\n",
       "      <td>-0.036287</td>\n",
       "      <td>0.058504</td>\n",
       "      <td>-0.119676</td>\n",
       "      <td>-0.042465</td>\n",
       "      <td>af</td>\n",
       "    </tr>\n",
       "    <tr>\n",
       "      <th>PMC5598874</th>\n",
       "      <td>0.035391</td>\n",
       "      <td>-0.009505</td>\n",
       "      <td>0.077115</td>\n",
       "      <td>0.001718</td>\n",
       "      <td>0.009646</td>\n",
       "      <td>-0.029854</td>\n",
       "      <td>-0.036542</td>\n",
       "      <td>0.011701</td>\n",
       "      <td>0.022566</td>\n",
       "      <td>0.008012</td>\n",
       "      <td>...</td>\n",
       "      <td>-0.027311</td>\n",
       "      <td>0.009091</td>\n",
       "      <td>0.116452</td>\n",
       "      <td>-0.021094</td>\n",
       "      <td>-0.055232</td>\n",
       "      <td>-0.030666</td>\n",
       "      <td>0.038592</td>\n",
       "      <td>-0.030184</td>\n",
       "      <td>-0.022142</td>\n",
       "      <td>af</td>\n",
       "    </tr>\n",
       "    <tr>\n",
       "      <th>PMC4766963</th>\n",
       "      <td>-0.020013</td>\n",
       "      <td>0.000664</td>\n",
       "      <td>0.057269</td>\n",
       "      <td>0.000132</td>\n",
       "      <td>0.035205</td>\n",
       "      <td>-0.010239</td>\n",
       "      <td>0.005150</td>\n",
       "      <td>-0.023424</td>\n",
       "      <td>-0.006362</td>\n",
       "      <td>0.007802</td>\n",
       "      <td>...</td>\n",
       "      <td>-0.034125</td>\n",
       "      <td>-0.016188</td>\n",
       "      <td>0.060983</td>\n",
       "      <td>-0.010923</td>\n",
       "      <td>-0.074063</td>\n",
       "      <td>0.003198</td>\n",
       "      <td>0.054743</td>\n",
       "      <td>0.000657</td>\n",
       "      <td>-0.055037</td>\n",
       "      <td>af</td>\n",
       "    </tr>\n",
       "    <tr>\n",
       "      <th>PMC5658096</th>\n",
       "      <td>0.092107</td>\n",
       "      <td>0.007223</td>\n",
       "      <td>0.095593</td>\n",
       "      <td>-0.012471</td>\n",
       "      <td>0.000387</td>\n",
       "      <td>-0.015313</td>\n",
       "      <td>-0.002209</td>\n",
       "      <td>0.033225</td>\n",
       "      <td>0.058173</td>\n",
       "      <td>0.081660</td>\n",
       "      <td>...</td>\n",
       "      <td>-0.013515</td>\n",
       "      <td>-0.046041</td>\n",
       "      <td>0.169994</td>\n",
       "      <td>-0.064452</td>\n",
       "      <td>-0.059798</td>\n",
       "      <td>-0.012026</td>\n",
       "      <td>0.061603</td>\n",
       "      <td>-0.154184</td>\n",
       "      <td>-0.017592</td>\n",
       "      <td>af</td>\n",
       "    </tr>\n",
       "    <tr>\n",
       "      <th>PMC5560908</th>\n",
       "      <td>0.013374</td>\n",
       "      <td>-0.004830</td>\n",
       "      <td>0.034372</td>\n",
       "      <td>-0.015625</td>\n",
       "      <td>0.031402</td>\n",
       "      <td>-0.006404</td>\n",
       "      <td>-0.014717</td>\n",
       "      <td>-0.007613</td>\n",
       "      <td>0.007448</td>\n",
       "      <td>0.020051</td>\n",
       "      <td>...</td>\n",
       "      <td>-0.000990</td>\n",
       "      <td>0.014396</td>\n",
       "      <td>0.084523</td>\n",
       "      <td>-0.017900</td>\n",
       "      <td>-0.041998</td>\n",
       "      <td>0.001138</td>\n",
       "      <td>0.037859</td>\n",
       "      <td>-0.058165</td>\n",
       "      <td>-0.022769</td>\n",
       "      <td>af</td>\n",
       "    </tr>\n",
       "  </tbody>\n",
       "</table>\n",
       "<p>5 rows × 201 columns</p>\n",
       "</div>"
      ],
      "text/plain": [
       "                   0         1         2         3         4         5  \\\n",
       "PMC4952027  0.108578  0.014236  0.126349 -0.018508 -0.003937 -0.054088   \n",
       "PMC5598874  0.035391 -0.009505  0.077115  0.001718  0.009646 -0.029854   \n",
       "PMC4766963 -0.020013  0.000664  0.057269  0.000132  0.035205 -0.010239   \n",
       "PMC5658096  0.092107  0.007223  0.095593 -0.012471  0.000387 -0.015313   \n",
       "PMC5560908  0.013374 -0.004830  0.034372 -0.015625  0.031402 -0.006404   \n",
       "\n",
       "                   6         7         8         9   ...          191  \\\n",
       "PMC4952027 -0.015865  0.049515  0.029591  0.041948   ...    -0.039361   \n",
       "PMC5598874 -0.036542  0.011701  0.022566  0.008012   ...    -0.027311   \n",
       "PMC4766963  0.005150 -0.023424 -0.006362  0.007802   ...    -0.034125   \n",
       "PMC5658096 -0.002209  0.033225  0.058173  0.081660   ...    -0.013515   \n",
       "PMC5560908 -0.014717 -0.007613  0.007448  0.020051   ...    -0.000990   \n",
       "\n",
       "                 192       193       194       195       196       197  \\\n",
       "PMC4952027 -0.044799  0.180942 -0.080833 -0.070030 -0.036287  0.058504   \n",
       "PMC5598874  0.009091  0.116452 -0.021094 -0.055232 -0.030666  0.038592   \n",
       "PMC4766963 -0.016188  0.060983 -0.010923 -0.074063  0.003198  0.054743   \n",
       "PMC5658096 -0.046041  0.169994 -0.064452 -0.059798 -0.012026  0.061603   \n",
       "PMC5560908  0.014396  0.084523 -0.017900 -0.041998  0.001138  0.037859   \n",
       "\n",
       "                 198       199  disease  \n",
       "PMC4952027 -0.119676 -0.042465       af  \n",
       "PMC5598874 -0.030184 -0.022142       af  \n",
       "PMC4766963  0.000657 -0.055037       af  \n",
       "PMC5658096 -0.154184 -0.017592       af  \n",
       "PMC5560908 -0.058165 -0.022769       af  \n",
       "\n",
       "[5 rows x 201 columns]"
      ]
     },
     "execution_count": 271,
     "metadata": {},
     "output_type": "execute_result"
    }
   ],
   "source": [
    "af_only_df.head()"
   ]
  },
  {
   "cell_type": "code",
   "execution_count": 272,
   "metadata": {},
   "outputs": [],
   "source": [
    "af_only_df = pd.concat((af_only_df, af_titles_series), axis=1, join='inner')\n",
    "\n",
    "af_only_df = pd.concat((af_only_df, my_labels_series), axis=1, join='inner')"
   ]
  },
  {
   "cell_type": "code",
   "execution_count": 273,
   "metadata": {},
   "outputs": [
    {
     "data": {
      "text/plain": [
       "anticoagulation                    7\n",
       "rate_control                       3\n",
       "cardiac_comorbidities              3\n",
       "BMI                                2\n",
       "post_stroke                        2\n",
       "quality_of_life                    2\n",
       "biomarkers_prediction              1\n",
       "hyperthyroidism                    1\n",
       "RAAS_blockers_clinical_outcomes    1\n",
       "digoxin                            1\n",
       "atrial_appendage_occlusion         1\n",
       "heat_shock_proteins                1\n",
       "elderly                            1\n",
       "prior_research                     1\n",
       "hybrid_ablation                    1\n",
       "vitamin_C                          1\n",
       "case_report_air_embolus            1\n",
       "contact_force                      1\n",
       "pharm_non_pharm_tx                 1\n",
       "thiazolidenedione_dm               1\n",
       "stroke_prevention                  1\n",
       "detecting_afib                     1\n",
       "inflammation                       1\n",
       "Name: my_labels, dtype: int64"
      ]
     },
     "execution_count": 273,
     "metadata": {},
     "output_type": "execute_result"
    }
   ],
   "source": [
    "# I labeled 23 different groups.\n",
    "af_only_df.my_labels.value_counts()"
   ]
  },
  {
   "cell_type": "markdown",
   "metadata": {},
   "source": [
    "## Cluster on AF only papers\n",
    "\n",
    "Let's try k-means clustering of the AF papers."
   ]
  },
  {
   "cell_type": "code",
   "execution_count": 291,
   "metadata": {},
   "outputs": [
    {
     "data": {
      "text/plain": [
       "DBSCAN(algorithm='auto', eps=0.3, leaf_size=30, metric='euclidean',\n",
       "    metric_params=None, min_samples=3, n_jobs=1, p=None)"
      ]
     },
     "execution_count": 291,
     "metadata": {},
     "output_type": "execute_result"
    }
   ],
   "source": [
    "db = DBSCAN(eps=0.3, min_samples=3)\n",
    "db.fit(af_only_df.drop(columns=['disease', 'title', 'my_labels']))"
   ]
  },
  {
   "cell_type": "code",
   "execution_count": 292,
   "metadata": {},
   "outputs": [
    {
     "data": {
      "text/plain": [
       "array([-1,  0,  1, -1,  1,  1, -1, -1,  1,  0, -1,  0,  1,  1,  1,  0,  2,\n",
       "       -1,  0,  1,  1,  2,  1,  1,  1,  1,  0,  1,  1,  0,  1,  1,  1,  2,\n",
       "        1,  1])"
      ]
     },
     "execution_count": 292,
     "metadata": {},
     "output_type": "execute_result"
    }
   ],
   "source": [
    "db.labels_"
   ]
  },
  {
   "cell_type": "code",
   "execution_count": 293,
   "metadata": {},
   "outputs": [],
   "source": [
    "af_only_df['dbscan_label'] = db.labels_"
   ]
  },
  {
   "cell_type": "code",
   "execution_count": 281,
   "metadata": {},
   "outputs": [
    {
     "data": {
      "text/plain": [
       "KMeans(algorithm='auto', copy_x=True, init='k-means++', max_iter=300,\n",
       "    n_clusters=8, n_init=10, n_jobs=1, precompute_distances='auto',\n",
       "    random_state=None, tol=0.0001, verbose=0)"
      ]
     },
     "execution_count": 281,
     "metadata": {},
     "output_type": "execute_result"
    }
   ],
   "source": [
    "kmeans = KMeans(n_clusters=8)\n",
    "kmeans.fit(af_only_df.drop(columns=['disease', 'title', 'my_labels']))"
   ]
  },
  {
   "cell_type": "code",
   "execution_count": 282,
   "metadata": {},
   "outputs": [
    {
     "data": {
      "text/plain": [
       "array([5, 0, 2, 5, 2, 2, 4, 7, 2, 0, 1, 0, 2, 2, 2, 0, 3, 6, 0, 2, 2, 3,\n",
       "       2, 2, 2, 2, 0, 2, 2, 0, 2, 2, 2, 3, 2, 2], dtype=int32)"
      ]
     },
     "execution_count": 282,
     "metadata": {},
     "output_type": "execute_result"
    }
   ],
   "source": [
    "kmeans.labels_"
   ]
  },
  {
   "cell_type": "code",
   "execution_count": 283,
   "metadata": {},
   "outputs": [],
   "source": [
    "af_only_df['kmeans_labels'] = kmeans.labels_"
   ]
  },
  {
   "cell_type": "code",
   "execution_count": 284,
   "metadata": {},
   "outputs": [],
   "source": [
    "pd.options.display.max_colwidth = 150"
   ]
  },
  {
   "cell_type": "code",
   "execution_count": 285,
   "metadata": {},
   "outputs": [
    {
     "data": {
      "text/html": [
       "<div>\n",
       "<style scoped>\n",
       "    .dataframe tbody tr th:only-of-type {\n",
       "        vertical-align: middle;\n",
       "    }\n",
       "\n",
       "    .dataframe tbody tr th {\n",
       "        vertical-align: top;\n",
       "    }\n",
       "\n",
       "    .dataframe thead th {\n",
       "        text-align: right;\n",
       "    }\n",
       "</style>\n",
       "<table border=\"1\" class=\"dataframe\">\n",
       "  <thead>\n",
       "    <tr style=\"text-align: right;\">\n",
       "      <th></th>\n",
       "      <th>title</th>\n",
       "      <th>kmeans_labels</th>\n",
       "      <th>my_labels</th>\n",
       "    </tr>\n",
       "  </thead>\n",
       "  <tbody>\n",
       "    <tr>\n",
       "      <th>PMC4952027</th>\n",
       "      <td>Accuracy of methods for detecting an irregular pulse and suspected atrial fibrillation: A systematic review and meta-analysis</td>\n",
       "      <td>5</td>\n",
       "      <td>detecting_afib</td>\n",
       "    </tr>\n",
       "    <tr>\n",
       "      <th>PMC5598874</th>\n",
       "      <td>Atrial fibrillation and the risk for myocardial infarction, all-cause mortality and heart failure: A systematic review and meta-analysis</td>\n",
       "      <td>0</td>\n",
       "      <td>cardiac_comorbidities</td>\n",
       "    </tr>\n",
       "    <tr>\n",
       "      <th>PMC4766963</th>\n",
       "      <td>European Primary Care Cardiovascular Society (EPCCS) consensus guidance on stroke prevention in atrial fibrillation (SPAF) in primary care</td>\n",
       "      <td>2</td>\n",
       "      <td>stroke_prevention</td>\n",
       "    </tr>\n",
       "    <tr>\n",
       "      <th>PMC5658096</th>\n",
       "      <td>The effects of rhythm control strategies versus rate control strategies for atrial fibrillation and atrial flutter: A systematic review with meta-...</td>\n",
       "      <td>5</td>\n",
       "      <td>rate_control</td>\n",
       "    </tr>\n",
       "    <tr>\n",
       "      <th>PMC5560908</th>\n",
       "      <td>Atrial fibrillation and hyperthyroidism: A literature review</td>\n",
       "      <td>2</td>\n",
       "      <td>hyperthyroidism</td>\n",
       "    </tr>\n",
       "    <tr>\n",
       "      <th>PMC5089715</th>\n",
       "      <td>Patient-Reported Outcomes for Quality of Life Assessment in Atrial Fibrillation: A Systematic Review of Measurement Properties</td>\n",
       "      <td>2</td>\n",
       "      <td>quality_of_life</td>\n",
       "    </tr>\n",
       "    <tr>\n",
       "      <th>PMC5079045</th>\n",
       "      <td>Relation of Body Mass Index With Adverse Outcomes Among Patients With Atrial Fibrillation: A Meta‐Analysis and Systematic Review</td>\n",
       "      <td>4</td>\n",
       "      <td>BMI</td>\n",
       "    </tr>\n",
       "    <tr>\n",
       "      <th>PMC5543536</th>\n",
       "      <td>Measuring the effect of nurse practitioner (NP)-led care on health-related quality of life in adult patients with atrial fibrillation: study proto...</td>\n",
       "      <td>7</td>\n",
       "      <td>quality_of_life</td>\n",
       "    </tr>\n",
       "    <tr>\n",
       "      <th>PMC5340010</th>\n",
       "      <td>The effects of rhythm control strategies versus rate control strategies for atrial fibrillation and atrial flutter: a protocol for a systematic re...</td>\n",
       "      <td>2</td>\n",
       "      <td>rate_control</td>\n",
       "    </tr>\n",
       "    <tr>\n",
       "      <th>PMC5442605</th>\n",
       "      <td>Are Cardiovascular Risk Factors also Associated with the Incidence of Atrial Fibrillation?</td>\n",
       "      <td>0</td>\n",
       "      <td>cardiac_comorbidities</td>\n",
       "    </tr>\n",
       "    <tr>\n",
       "      <th>PMC5380695</th>\n",
       "      <td>Body mass index, abdominal fatness, fat mass and the risk of atrial fibrillation: a systematic review and dose–response meta-analysis of prospecti...</td>\n",
       "      <td>1</td>\n",
       "      <td>BMI</td>\n",
       "    </tr>\n",
       "    <tr>\n",
       "      <th>PMC5286679</th>\n",
       "      <td>Vitamin C for preventing atrial fibrillation in high risk patients: a systematic review and meta-analysis</td>\n",
       "      <td>0</td>\n",
       "      <td>vitamin_C</td>\n",
       "    </tr>\n",
       "    <tr>\n",
       "      <th>PMC5321114</th>\n",
       "      <td>The complexity of atrial fibrillation newly diagnosed after ischemic stroke and transient ischemic attack: advances and uncertainties</td>\n",
       "      <td>2</td>\n",
       "      <td>post_stroke</td>\n",
       "    </tr>\n",
       "    <tr>\n",
       "      <th>PMC5382469</th>\n",
       "      <td>Digoxin versus placebo, no intervention, or other medical interventions for atrial fibrillation and atrial flutter: a protocol for a systematic re...</td>\n",
       "      <td>2</td>\n",
       "      <td>digoxin</td>\n",
       "    </tr>\n",
       "    <tr>\n",
       "      <th>PMC5465041</th>\n",
       "      <td>The protective role of small heat shock proteins in cardiac diseases: key role in atrial fibrillation</td>\n",
       "      <td>2</td>\n",
       "      <td>heat_shock_proteins</td>\n",
       "    </tr>\n",
       "    <tr>\n",
       "      <th>PMC4599513</th>\n",
       "      <td>Impact of Contact Force Technology on Atrial Fibrillation Ablation: A Meta-Analysis</td>\n",
       "      <td>0</td>\n",
       "      <td>contact_force</td>\n",
       "    </tr>\n",
       "    <tr>\n",
       "      <th>PMC4937957</th>\n",
       "      <td>Effect of RAAS blockers on adverse clinical outcomes in high CVD risk subjects with atrial fibrillation</td>\n",
       "      <td>3</td>\n",
       "      <td>RAAS_blockers_clinical_outcomes</td>\n",
       "    </tr>\n",
       "    <tr>\n",
       "      <th>PMC5752005</th>\n",
       "      <td>The safety and efficacy of hybrid ablation for the treatment of atrial fibrillation: A meta-analysis</td>\n",
       "      <td>6</td>\n",
       "      <td>hybrid_ablation</td>\n",
       "    </tr>\n",
       "    <tr>\n",
       "      <th>PMC5586302</th>\n",
       "      <td>Effects of Non–Vitamin K Antagonist Oral Anticoagulants Versus Warfarin in Patients With Atrial Fibrillation and Valvular Heart Disease: A Systema...</td>\n",
       "      <td>0</td>\n",
       "      <td>anticoagulation</td>\n",
       "    </tr>\n",
       "    <tr>\n",
       "      <th>PMC5331111</th>\n",
       "      <td>Decision-Making in Clinical Practice: Oral Anticoagulant Therapy in Patients with Non-valvular Atrial Fibrillation and a Single Additional Stroke ...</td>\n",
       "      <td>2</td>\n",
       "      <td>anticoagulation</td>\n",
       "    </tr>\n",
       "    <tr>\n",
       "      <th>PMC4819630</th>\n",
       "      <td>Almanac 2015: atrial fibrillation research in Heart</td>\n",
       "      <td>2</td>\n",
       "      <td>prior_research</td>\n",
       "    </tr>\n",
       "    <tr>\n",
       "      <th>PMC5704695</th>\n",
       "      <td>Oral anticoagulants for prevention of stroke in atrial fibrillation: systematic review, network meta-analysis, and cost effectiveness analysis</td>\n",
       "      <td>3</td>\n",
       "      <td>anticoagulation</td>\n",
       "    </tr>\n",
       "    <tr>\n",
       "      <th>PMC5622555</th>\n",
       "      <td>Oxidative stress and inflammation as central mediators of atrial fibrillation in obesity and diabetes</td>\n",
       "      <td>2</td>\n",
       "      <td>inflammation</td>\n",
       "    </tr>\n",
       "    <tr>\n",
       "      <th>PMC5345987</th>\n",
       "      <td>Novel stroke risk reduction in atrial fibrillation: left atrial appendage occlusion with a focus on the Watchman closure device</td>\n",
       "      <td>2</td>\n",
       "      <td>atrial_appendage_occlusion</td>\n",
       "    </tr>\n",
       "    <tr>\n",
       "      <th>PMC5656712</th>\n",
       "      <td>Pharmacological and Non-pharmacological Treatments for Stroke Prevention in Patients with Atrial Fibrillation</td>\n",
       "      <td>2</td>\n",
       "      <td>pharm_non_pharm_tx</td>\n",
       "    </tr>\n",
       "    <tr>\n",
       "      <th>PMC4742513</th>\n",
       "      <td>How to choose appropriate direct oral anticoagulant for patient with nonvalvular atrial fibrillation</td>\n",
       "      <td>2</td>\n",
       "      <td>anticoagulation</td>\n",
       "    </tr>\n",
       "    <tr>\n",
       "      <th>PMC5482349</th>\n",
       "      <td>Atrial fibrillation as risk factor for cardiovascular disease and death in women compared with men: systematic review and meta-analysis of cohort ...</td>\n",
       "      <td>0</td>\n",
       "      <td>cardiac_comorbidities</td>\n",
       "    </tr>\n",
       "    <tr>\n",
       "      <th>PMC4630199</th>\n",
       "      <td>Managing atrial fibrillation in the very elderly patient: challenges and solutions</td>\n",
       "      <td>2</td>\n",
       "      <td>elderly</td>\n",
       "    </tr>\n",
       "    <tr>\n",
       "      <th>PMC5588987</th>\n",
       "      <td>A review of rate control in atrial fibrillation, and the rationale and protocol for the RATE-AF trial</td>\n",
       "      <td>2</td>\n",
       "      <td>rate_control</td>\n",
       "    </tr>\n",
       "    <tr>\n",
       "      <th>PMC4642960</th>\n",
       "      <td>Aspirin Compared to Low Intensity Anticoagulation in Patients with Non-Valvular Atrial Fibrillation. A Systematic Review and Meta-Analysis</td>\n",
       "      <td>0</td>\n",
       "      <td>anticoagulation</td>\n",
       "    </tr>\n",
       "    <tr>\n",
       "      <th>PMC4788372</th>\n",
       "      <td>Atrial fibrillation and silent stroke: links, risks, and challenges</td>\n",
       "      <td>2</td>\n",
       "      <td>post_stroke</td>\n",
       "    </tr>\n",
       "    <tr>\n",
       "      <th>PMC5457732</th>\n",
       "      <td>Aeroembolism in left atrium during catheter ablation of atrial fibrillation in a patient with dextrocardia: a case report and review of the litera...</td>\n",
       "      <td>2</td>\n",
       "      <td>case_report_air_embolus</td>\n",
       "    </tr>\n",
       "    <tr>\n",
       "      <th>PMC5487882</th>\n",
       "      <td>Non-Vitamin K Oral Anticoagulants for Stroke Prevention in Special Populations with Atrial Fibrillation</td>\n",
       "      <td>2</td>\n",
       "      <td>anticoagulation</td>\n",
       "    </tr>\n",
       "    <tr>\n",
       "      <th>PMC5382449</th>\n",
       "      <td>Thiazolidinedione use and atrial fibrillation in diabetic patients: a meta-analysis</td>\n",
       "      <td>3</td>\n",
       "      <td>thiazolidenedione_dm</td>\n",
       "    </tr>\n",
       "    <tr>\n",
       "      <th>PMC4957677</th>\n",
       "      <td>Biomarkers and the prediction of atrial fibrillation: state of the art</td>\n",
       "      <td>2</td>\n",
       "      <td>biomarkers_prediction</td>\n",
       "    </tr>\n",
       "    <tr>\n",
       "      <th>PMC5234257</th>\n",
       "      <td>Patients’ and physicians’ perceptions and attitudes about oral anticoagulation and atrial fibrillation: a qualitative systematic review</td>\n",
       "      <td>2</td>\n",
       "      <td>anticoagulation</td>\n",
       "    </tr>\n",
       "  </tbody>\n",
       "</table>\n",
       "</div>"
      ],
      "text/plain": [
       "                                                                                                                                                            title  \\\n",
       "PMC4952027                          Accuracy of methods for detecting an irregular pulse and suspected atrial fibrillation: A systematic review and meta-analysis   \n",
       "PMC5598874               Atrial fibrillation and the risk for myocardial infarction, all-cause mortality and heart failure: A systematic review and meta-analysis   \n",
       "PMC4766963             European Primary Care Cardiovascular Society (EPCCS) consensus guidance on stroke prevention in atrial fibrillation (SPAF) in primary care   \n",
       "PMC5658096  The effects of rhythm control strategies versus rate control strategies for atrial fibrillation and atrial flutter: A systematic review with meta-...   \n",
       "PMC5560908                                                                                           Atrial fibrillation and hyperthyroidism: A literature review   \n",
       "PMC5089715                         Patient-Reported Outcomes for Quality of Life Assessment in Atrial Fibrillation: A Systematic Review of Measurement Properties   \n",
       "PMC5079045                       Relation of Body Mass Index With Adverse Outcomes Among Patients With Atrial Fibrillation: A Meta‐Analysis and Systematic Review   \n",
       "PMC5543536  Measuring the effect of nurse practitioner (NP)-led care on health-related quality of life in adult patients with atrial fibrillation: study proto...   \n",
       "PMC5340010  The effects of rhythm control strategies versus rate control strategies for atrial fibrillation and atrial flutter: a protocol for a systematic re...   \n",
       "PMC5442605                                                             Are Cardiovascular Risk Factors also Associated with the Incidence of Atrial Fibrillation?   \n",
       "PMC5380695  Body mass index, abdominal fatness, fat mass and the risk of atrial fibrillation: a systematic review and dose–response meta-analysis of prospecti...   \n",
       "PMC5286679                                              Vitamin C for preventing atrial fibrillation in high risk patients: a systematic review and meta-analysis   \n",
       "PMC5321114                  The complexity of atrial fibrillation newly diagnosed after ischemic stroke and transient ischemic attack: advances and uncertainties   \n",
       "PMC5382469  Digoxin versus placebo, no intervention, or other medical interventions for atrial fibrillation and atrial flutter: a protocol for a systematic re...   \n",
       "PMC5465041                                                  The protective role of small heat shock proteins in cardiac diseases: key role in atrial fibrillation   \n",
       "PMC4599513                                                                    Impact of Contact Force Technology on Atrial Fibrillation Ablation: A Meta-Analysis   \n",
       "PMC4937957                                                Effect of RAAS blockers on adverse clinical outcomes in high CVD risk subjects with atrial fibrillation   \n",
       "PMC5752005                                                   The safety and efficacy of hybrid ablation for the treatment of atrial fibrillation: A meta-analysis   \n",
       "PMC5586302  Effects of Non–Vitamin K Antagonist Oral Anticoagulants Versus Warfarin in Patients With Atrial Fibrillation and Valvular Heart Disease: A Systema...   \n",
       "PMC5331111  Decision-Making in Clinical Practice: Oral Anticoagulant Therapy in Patients with Non-valvular Atrial Fibrillation and a Single Additional Stroke ...   \n",
       "PMC4819630                                                                                                    Almanac 2015: atrial fibrillation research in Heart   \n",
       "PMC5704695         Oral anticoagulants for prevention of stroke in atrial fibrillation: systematic review, network meta-analysis, and cost effectiveness analysis   \n",
       "PMC5622555                                                  Oxidative stress and inflammation as central mediators of atrial fibrillation in obesity and diabetes   \n",
       "PMC5345987                        Novel stroke risk reduction in atrial fibrillation: left atrial appendage occlusion with a focus on the Watchman closure device   \n",
       "PMC5656712                                          Pharmacological and Non-pharmacological Treatments for Stroke Prevention in Patients with Atrial Fibrillation   \n",
       "PMC4742513                                                   How to choose appropriate direct oral anticoagulant for patient with nonvalvular atrial fibrillation   \n",
       "PMC5482349  Atrial fibrillation as risk factor for cardiovascular disease and death in women compared with men: systematic review and meta-analysis of cohort ...   \n",
       "PMC4630199                                                                     Managing atrial fibrillation in the very elderly patient: challenges and solutions   \n",
       "PMC5588987                                                  A review of rate control in atrial fibrillation, and the rationale and protocol for the RATE-AF trial   \n",
       "PMC4642960             Aspirin Compared to Low Intensity Anticoagulation in Patients with Non-Valvular Atrial Fibrillation. A Systematic Review and Meta-Analysis   \n",
       "PMC4788372                                                                                    Atrial fibrillation and silent stroke: links, risks, and challenges   \n",
       "PMC5457732  Aeroembolism in left atrium during catheter ablation of atrial fibrillation in a patient with dextrocardia: a case report and review of the litera...   \n",
       "PMC5487882                                                Non-Vitamin K Oral Anticoagulants for Stroke Prevention in Special Populations with Atrial Fibrillation   \n",
       "PMC5382449                                                                    Thiazolidinedione use and atrial fibrillation in diabetic patients: a meta-analysis   \n",
       "PMC4957677                                                                                 Biomarkers and the prediction of atrial fibrillation: state of the art   \n",
       "PMC5234257                Patients’ and physicians’ perceptions and attitudes about oral anticoagulation and atrial fibrillation: a qualitative systematic review   \n",
       "\n",
       "            kmeans_labels                        my_labels  \n",
       "PMC4952027              5                   detecting_afib  \n",
       "PMC5598874              0            cardiac_comorbidities  \n",
       "PMC4766963              2                stroke_prevention  \n",
       "PMC5658096              5                     rate_control  \n",
       "PMC5560908              2                  hyperthyroidism  \n",
       "PMC5089715              2                  quality_of_life  \n",
       "PMC5079045              4                              BMI  \n",
       "PMC5543536              7                  quality_of_life  \n",
       "PMC5340010              2                     rate_control  \n",
       "PMC5442605              0            cardiac_comorbidities  \n",
       "PMC5380695              1                              BMI  \n",
       "PMC5286679              0                        vitamin_C  \n",
       "PMC5321114              2                      post_stroke  \n",
       "PMC5382469              2                          digoxin  \n",
       "PMC5465041              2              heat_shock_proteins  \n",
       "PMC4599513              0                    contact_force  \n",
       "PMC4937957              3  RAAS_blockers_clinical_outcomes  \n",
       "PMC5752005              6                  hybrid_ablation  \n",
       "PMC5586302              0                  anticoagulation  \n",
       "PMC5331111              2                  anticoagulation  \n",
       "PMC4819630              2                   prior_research  \n",
       "PMC5704695              3                  anticoagulation  \n",
       "PMC5622555              2                     inflammation  \n",
       "PMC5345987              2       atrial_appendage_occlusion  \n",
       "PMC5656712              2               pharm_non_pharm_tx  \n",
       "PMC4742513              2                  anticoagulation  \n",
       "PMC5482349              0            cardiac_comorbidities  \n",
       "PMC4630199              2                          elderly  \n",
       "PMC5588987              2                     rate_control  \n",
       "PMC4642960              0                  anticoagulation  \n",
       "PMC4788372              2                      post_stroke  \n",
       "PMC5457732              2          case_report_air_embolus  \n",
       "PMC5487882              2                  anticoagulation  \n",
       "PMC5382449              3             thiazolidenedione_dm  \n",
       "PMC4957677              2            biomarkers_prediction  \n",
       "PMC5234257              2                  anticoagulation  "
      ]
     },
     "execution_count": 285,
     "metadata": {},
     "output_type": "execute_result"
    }
   ],
   "source": [
    "af_only_df[['title', 'kmeans_labels', 'my_labels']]"
   ]
  },
  {
   "cell_type": "code",
   "execution_count": 286,
   "metadata": {},
   "outputs": [
    {
     "data": {
      "text/html": [
       "<div>\n",
       "<style scoped>\n",
       "    .dataframe tbody tr th:only-of-type {\n",
       "        vertical-align: middle;\n",
       "    }\n",
       "\n",
       "    .dataframe tbody tr th {\n",
       "        vertical-align: top;\n",
       "    }\n",
       "\n",
       "    .dataframe thead th {\n",
       "        text-align: right;\n",
       "    }\n",
       "</style>\n",
       "<table border=\"1\" class=\"dataframe\">\n",
       "  <thead>\n",
       "    <tr style=\"text-align: right;\">\n",
       "      <th></th>\n",
       "      <th>title</th>\n",
       "      <th>kmeans_labels</th>\n",
       "      <th>my_labels</th>\n",
       "    </tr>\n",
       "  </thead>\n",
       "  <tbody>\n",
       "    <tr>\n",
       "      <th>PMC5598874</th>\n",
       "      <td>Atrial fibrillation and the risk for myocardial infarction, all-cause mortality and heart failure: A systematic review and meta-analysis</td>\n",
       "      <td>0</td>\n",
       "      <td>cardiac_comorbidities</td>\n",
       "    </tr>\n",
       "    <tr>\n",
       "      <th>PMC5442605</th>\n",
       "      <td>Are Cardiovascular Risk Factors also Associated with the Incidence of Atrial Fibrillation?</td>\n",
       "      <td>0</td>\n",
       "      <td>cardiac_comorbidities</td>\n",
       "    </tr>\n",
       "    <tr>\n",
       "      <th>PMC5482349</th>\n",
       "      <td>Atrial fibrillation as risk factor for cardiovascular disease and death in women compared with men: systematic review and meta-analysis of cohort ...</td>\n",
       "      <td>0</td>\n",
       "      <td>cardiac_comorbidities</td>\n",
       "    </tr>\n",
       "  </tbody>\n",
       "</table>\n",
       "</div>"
      ],
      "text/plain": [
       "                                                                                                                                                            title  \\\n",
       "PMC5598874               Atrial fibrillation and the risk for myocardial infarction, all-cause mortality and heart failure: A systematic review and meta-analysis   \n",
       "PMC5442605                                                             Are Cardiovascular Risk Factors also Associated with the Incidence of Atrial Fibrillation?   \n",
       "PMC5482349  Atrial fibrillation as risk factor for cardiovascular disease and death in women compared with men: systematic review and meta-analysis of cohort ...   \n",
       "\n",
       "            kmeans_labels              my_labels  \n",
       "PMC5598874              0  cardiac_comorbidities  \n",
       "PMC5442605              0  cardiac_comorbidities  \n",
       "PMC5482349              0  cardiac_comorbidities  "
      ]
     },
     "execution_count": 286,
     "metadata": {},
     "output_type": "execute_result"
    }
   ],
   "source": [
    "af_only_df[af_only_df.my_labels == 'cardiac_comorbidities'][['title', 'kmeans_labels', 'my_labels']]"
   ]
  },
  {
   "cell_type": "code",
   "execution_count": 290,
   "metadata": {},
   "outputs": [
    {
     "data": {
      "text/html": [
       "<div>\n",
       "<style scoped>\n",
       "    .dataframe tbody tr th:only-of-type {\n",
       "        vertical-align: middle;\n",
       "    }\n",
       "\n",
       "    .dataframe tbody tr th {\n",
       "        vertical-align: top;\n",
       "    }\n",
       "\n",
       "    .dataframe thead th {\n",
       "        text-align: right;\n",
       "    }\n",
       "</style>\n",
       "<table border=\"1\" class=\"dataframe\">\n",
       "  <thead>\n",
       "    <tr style=\"text-align: right;\">\n",
       "      <th></th>\n",
       "      <th>title</th>\n",
       "      <th>kmeans_labels</th>\n",
       "      <th>my_labels</th>\n",
       "    </tr>\n",
       "  </thead>\n",
       "  <tbody>\n",
       "    <tr>\n",
       "      <th>PMC5586302</th>\n",
       "      <td>Effects of Non–Vitamin K Antagonist Oral Anticoagulants Versus Warfarin in P...</td>\n",
       "      <td>0</td>\n",
       "      <td>anticoagulation</td>\n",
       "    </tr>\n",
       "    <tr>\n",
       "      <th>PMC5331111</th>\n",
       "      <td>Decision-Making in Clinical Practice: Oral Anticoagulant Therapy in Patients...</td>\n",
       "      <td>2</td>\n",
       "      <td>anticoagulation</td>\n",
       "    </tr>\n",
       "    <tr>\n",
       "      <th>PMC5704695</th>\n",
       "      <td>Oral anticoagulants for prevention of stroke in atrial fibrillation: systema...</td>\n",
       "      <td>3</td>\n",
       "      <td>anticoagulation</td>\n",
       "    </tr>\n",
       "    <tr>\n",
       "      <th>PMC4742513</th>\n",
       "      <td>How to choose appropriate direct oral anticoagulant for patient with nonvalv...</td>\n",
       "      <td>2</td>\n",
       "      <td>anticoagulation</td>\n",
       "    </tr>\n",
       "    <tr>\n",
       "      <th>PMC4642960</th>\n",
       "      <td>Aspirin Compared to Low Intensity Anticoagulation in Patients with Non-Valvu...</td>\n",
       "      <td>0</td>\n",
       "      <td>anticoagulation</td>\n",
       "    </tr>\n",
       "    <tr>\n",
       "      <th>PMC5487882</th>\n",
       "      <td>Non-Vitamin K Oral Anticoagulants for Stroke Prevention in Special Populatio...</td>\n",
       "      <td>2</td>\n",
       "      <td>anticoagulation</td>\n",
       "    </tr>\n",
       "    <tr>\n",
       "      <th>PMC5234257</th>\n",
       "      <td>Patients’ and physicians’ perceptions and attitudes about oral anticoagulati...</td>\n",
       "      <td>2</td>\n",
       "      <td>anticoagulation</td>\n",
       "    </tr>\n",
       "  </tbody>\n",
       "</table>\n",
       "</div>"
      ],
      "text/plain": [
       "                                                                                      title  \\\n",
       "PMC5586302  Effects of Non–Vitamin K Antagonist Oral Anticoagulants Versus Warfarin in P...   \n",
       "PMC5331111  Decision-Making in Clinical Practice: Oral Anticoagulant Therapy in Patients...   \n",
       "PMC5704695  Oral anticoagulants for prevention of stroke in atrial fibrillation: systema...   \n",
       "PMC4742513  How to choose appropriate direct oral anticoagulant for patient with nonvalv...   \n",
       "PMC4642960  Aspirin Compared to Low Intensity Anticoagulation in Patients with Non-Valvu...   \n",
       "PMC5487882  Non-Vitamin K Oral Anticoagulants for Stroke Prevention in Special Populatio...   \n",
       "PMC5234257  Patients’ and physicians’ perceptions and attitudes about oral anticoagulati...   \n",
       "\n",
       "            kmeans_labels        my_labels  \n",
       "PMC5586302              0  anticoagulation  \n",
       "PMC5331111              2  anticoagulation  \n",
       "PMC5704695              3  anticoagulation  \n",
       "PMC4742513              2  anticoagulation  \n",
       "PMC4642960              0  anticoagulation  \n",
       "PMC5487882              2  anticoagulation  \n",
       "PMC5234257              2  anticoagulation  "
      ]
     },
     "execution_count": 290,
     "metadata": {},
     "output_type": "execute_result"
    }
   ],
   "source": [
    "af_only_df[af_only_df.my_labels == 'anticoagulation'][['title', 'kmeans_labels', 'my_labels']]"
   ]
  },
  {
   "cell_type": "code",
   "execution_count": 288,
   "metadata": {},
   "outputs": [
    {
     "data": {
      "text/html": [
       "<div>\n",
       "<style scoped>\n",
       "    .dataframe tbody tr th:only-of-type {\n",
       "        vertical-align: middle;\n",
       "    }\n",
       "\n",
       "    .dataframe tbody tr th {\n",
       "        vertical-align: top;\n",
       "    }\n",
       "\n",
       "    .dataframe thead th {\n",
       "        text-align: right;\n",
       "    }\n",
       "</style>\n",
       "<table border=\"1\" class=\"dataframe\">\n",
       "  <thead>\n",
       "    <tr style=\"text-align: right;\">\n",
       "      <th></th>\n",
       "      <th>title</th>\n",
       "      <th>kmeans_labels</th>\n",
       "      <th>my_labels</th>\n",
       "    </tr>\n",
       "  </thead>\n",
       "  <tbody>\n",
       "    <tr>\n",
       "      <th>PMC5658096</th>\n",
       "      <td>The effects of rhythm control strategies versus rate control strategies for atrial fibrillation and atrial flutter: A systematic review with meta-...</td>\n",
       "      <td>5</td>\n",
       "      <td>rate_control</td>\n",
       "    </tr>\n",
       "    <tr>\n",
       "      <th>PMC5340010</th>\n",
       "      <td>The effects of rhythm control strategies versus rate control strategies for atrial fibrillation and atrial flutter: a protocol for a systematic re...</td>\n",
       "      <td>2</td>\n",
       "      <td>rate_control</td>\n",
       "    </tr>\n",
       "    <tr>\n",
       "      <th>PMC5588987</th>\n",
       "      <td>A review of rate control in atrial fibrillation, and the rationale and protocol for the RATE-AF trial</td>\n",
       "      <td>2</td>\n",
       "      <td>rate_control</td>\n",
       "    </tr>\n",
       "  </tbody>\n",
       "</table>\n",
       "</div>"
      ],
      "text/plain": [
       "                                                                                                                                                            title  \\\n",
       "PMC5658096  The effects of rhythm control strategies versus rate control strategies for atrial fibrillation and atrial flutter: A systematic review with meta-...   \n",
       "PMC5340010  The effects of rhythm control strategies versus rate control strategies for atrial fibrillation and atrial flutter: a protocol for a systematic re...   \n",
       "PMC5588987                                                  A review of rate control in atrial fibrillation, and the rationale and protocol for the RATE-AF trial   \n",
       "\n",
       "            kmeans_labels     my_labels  \n",
       "PMC5658096              5  rate_control  \n",
       "PMC5340010              2  rate_control  \n",
       "PMC5588987              2  rate_control  "
      ]
     },
     "execution_count": 288,
     "metadata": {},
     "output_type": "execute_result"
    }
   ],
   "source": [
    "af_only_df[af_only_df.my_labels == 'rate_control'][['title', 'kmeans_labels', 'my_labels']]"
   ]
  },
  {
   "cell_type": "code",
   "execution_count": null,
   "metadata": {},
   "outputs": [],
   "source": [
    "af_only_df[af_only_df.my_labels == 'rate_control'][['title', 'kmeans_labels', 'my_labels']]"
   ]
  }
 ],
 "metadata": {
  "kernelspec": {
   "display_name": "Python 3",
   "language": "python",
   "name": "python3"
  },
  "language_info": {
   "codemirror_mode": {
    "name": "ipython",
    "version": 3
   },
   "file_extension": ".py",
   "mimetype": "text/x-python",
   "name": "python",
   "nbconvert_exporter": "python",
   "pygments_lexer": "ipython3",
   "version": "3.6.5"
  }
 },
 "nbformat": 4,
 "nbformat_minor": 2
}
