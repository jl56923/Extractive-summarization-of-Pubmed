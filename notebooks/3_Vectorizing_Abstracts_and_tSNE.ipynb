{
 "cells": [
  {
   "cell_type": "markdown",
   "metadata": {},
   "source": [
    "## Clustering\n",
    "\n",
    "The idea behind clustering is that once we've fetched N review papers from pubmed, now what we want to do is to check to see which papers are similar to each other, and should be fed to the summarizer as a single document. We can do this by comparing the abstracts for each paper. We'll do this by taking an average of the abstract's word2vec word vectors."
   ]
  },
  {
   "cell_type": "code",
   "execution_count": 148,
   "metadata": {},
   "outputs": [],
   "source": [
    "import pandas as pd\n",
    "import numpy as np\n",
    "import pickle\n",
    "import string\n",
    "import nltk\n",
    "from nltk.tokenize import word_tokenize\n",
    "from nltk.corpus import stopwords\n",
    "\n",
    "import gensim\n",
    "import os\n",
    "import collections\n",
    "from collections import Counter\n",
    "\n",
    "import smart_open\n",
    "import random\n",
    "\n",
    "import matplotlib.pyplot as plt\n",
    "\n",
    "from sklearn.manifold import TSNE\n",
    "\n",
    "%matplotlib inline"
   ]
  },
  {
   "cell_type": "markdown",
   "metadata": {},
   "source": [
    "## Step 1\n",
    "\n",
    "Let's manually inspect the 5 abstracts for the papers on atrial fibrillation that you kept.\n",
    "\n",
    "After reading through all 5 abstracts, I would say that all of these papers are about distinctly different aspects of atrial fibrillation, and that they should not be clustered together and should instead by summarized each on their own."
   ]
  },
  {
   "cell_type": "code",
   "execution_count": 149,
   "metadata": {},
   "outputs": [
    {
     "name": "stdout",
     "output_type": "stream",
     "text": [
      "ClinicalSenseInventoryII_RefinedMasterFile.txt\n",
      "ClinicalSenseInventoryI_MasterFile.txt\n",
      "atrial_fibrillation_review_paper_dictionary_list.pkl\n",
      "dict_structure.txt\n",
      "lewy_body_dementia_review_paper_dictionary_list.pkl\n",
      "word_to_w2v_chunk_dict.pkl\n"
     ]
    }
   ],
   "source": [
    "%%bash\n",
    "ls documents/"
   ]
  },
  {
   "cell_type": "code",
   "execution_count": 150,
   "metadata": {},
   "outputs": [],
   "source": [
    "# Load the list of dictionaries from the pickled files.\n",
    "\n",
    "with open(\"documents/atrial_fibrillation_review_paper_dictionary_list.pkl\", \"rb\") as picklefile:\n",
    "    af_list_of_dictionaries = pickle.load(picklefile)"
   ]
  },
  {
   "cell_type": "code",
   "execution_count": 151,
   "metadata": {},
   "outputs": [],
   "source": [
    "with open(\"documents/lewy_body_dementia_review_paper_dictionary_list.pkl\", \"rb\") as picklefile:\n",
    "    lbd_list_of_dictionaries = pickle.load(picklefile)"
   ]
  },
  {
   "cell_type": "code",
   "execution_count": 152,
   "metadata": {},
   "outputs": [
    {
     "data": {
      "text/plain": [
       "36"
      ]
     },
     "execution_count": 152,
     "metadata": {},
     "output_type": "execute_result"
    }
   ],
   "source": [
    "len(af_list_of_dictionaries)"
   ]
  },
  {
   "cell_type": "code",
   "execution_count": 153,
   "metadata": {},
   "outputs": [
    {
     "data": {
      "text/plain": [
       "52"
      ]
     },
     "execution_count": 153,
     "metadata": {},
     "output_type": "execute_result"
    }
   ],
   "source": [
    "len(lbd_list_of_dictionaries)"
   ]
  },
  {
   "cell_type": "code",
   "execution_count": 154,
   "metadata": {
    "scrolled": false
   },
   "outputs": [
    {
     "name": "stdout",
     "output_type": "stream",
     "text": [
      "Accuracy of methods for detecting an irregular pulse and suspected atrial fibrillation: A systematic review and meta-analysis\n",
      "PMC4952027\n",
      "['atrial fibrillation', 'screening', 'diagnostic accuracy', 'irregular pulse']\n",
      "__________________\n",
      "\n",
      "Atrial fibrillation and the risk for myocardial infarction, all-cause mortality and heart failure: A systematic review and meta-analysis\n",
      "PMC5598874\n",
      "['atrial fibrillation', 'myocardial infarction', 'mortality', 'heart failure']\n",
      "__________________\n",
      "\n",
      "European Primary Care Cardiovascular Society (EPCCS) consensus guidance on stroke prevention in atrial fibrillation (SPAF) in primary care\n",
      "PMC4766963\n",
      "['atrial fibrillation', 'stroke prevention', 'stroke risk', 'bleeding risk', 'anticoagulation']\n",
      "__________________\n",
      "\n",
      "The effects of rhythm control strategies versus rate control strategies for atrial fibrillation and atrial flutter: A systematic review with meta-analysis and Trial Sequential Analysis\n",
      "PMC5658096\n",
      "[]\n",
      "__________________\n",
      "\n",
      "Atrial fibrillation and hyperthyroidism: A literature review\n",
      "PMC5560908\n",
      "['atrial fibrillation', 'hyperthyroidism', 'pathogenesis']\n",
      "__________________\n",
      "\n",
      "Patient-Reported Outcomes for Quality of Life Assessment in Atrial Fibrillation: A Systematic Review of Measurement Properties\n",
      "PMC5089715\n",
      "[]\n",
      "__________________\n",
      "\n",
      "Relation of Body Mass Index With Adverse Outcomes Among Patients With Atrial Fibrillation: A Meta‐Analysis and Systematic Review\n",
      "PMC5079045\n",
      "['atrial fibrillation', 'body mass index', 'death', 'prognosis', 'stroke', 'systemic embolism', 'arrhythmias', 'atrial fibrillation', 'obesity', 'risk factors']\n",
      "__________________\n",
      "\n",
      "Measuring the effect of nurse practitioner (NP)-led care on health-related quality of life in adult patients with atrial fibrillation: study protocol for a randomized controlled trial\n",
      "PMC5543536\n",
      "['atrial fibrillation', 'health-related quality of life', 'nurse practitioner', 'sustainable models of healthcare', 'patient satisfaction']\n",
      "__________________\n",
      "\n",
      "The effects of rhythm control strategies versus rate control strategies for atrial fibrillation and atrial flutter: a protocol for a systematic review with meta-analysis and Trial Sequential Analysis\n",
      "PMC5340010\n",
      "['atrial fibrillation', 'atrial flutter', 'rhythm control', 'rate control', 'systematic review', 'meta-analysis', 'trial sequential analysis']\n",
      "__________________\n",
      "\n",
      "Are Cardiovascular Risk Factors also Associated with the Incidence of Atrial Fibrillation?\n",
      "PMC5442605\n",
      "['atrial fibrillation', 'risk factors', 'primary prevention', 'clinical guidelines', 'cardiovascular disease']\n",
      "__________________\n",
      "\n",
      "Body mass index, abdominal fatness, fat mass and the risk of atrial fibrillation: a systematic review and dose–response meta-analysis of prospective studies\n",
      "PMC5380695\n",
      "['obesity', 'bmi', 'waist circumference', 'hip circumference', 'waist-to-hip ratio', 'fat mass', 'fat percentage', 'atrial fibrillation', 'meta-analysis']\n",
      "__________________\n",
      "\n",
      "Vitamin C for preventing atrial fibrillation in high risk patients: a systematic review and meta-analysis\n",
      "PMC5286679\n",
      "['ascorbic acid', 'arrhythmia', 'antioxidant', 'atrial fibrillation', 'cardiac surgery', 'cardioversion', 'intensive care']\n",
      "__________________\n",
      "\n",
      "The complexity of atrial fibrillation newly diagnosed after ischemic stroke and transient ischemic attack: advances and uncertainties\n",
      "PMC5321114\n",
      "['atrial fibrillation', 'diagnosis', 'ischemic stroke', 'prevention', 'transient ischemic attack']\n",
      "__________________\n",
      "\n",
      "Digoxin versus placebo, no intervention, or other medical interventions for atrial fibrillation and atrial flutter: a protocol for a systematic review with meta-analysis and Trial Sequential Analysis\n",
      "PMC5382469\n",
      "['atrial fibrillation', 'atrial flutter', 'digoxin', 'medical therapy', 'systematic review', 'meta-analysis', 'trial sequential analysis']\n",
      "__________________\n",
      "\n",
      "The protective role of small heat shock proteins in cardiac diseases: key role in atrial fibrillation\n",
      "PMC5465041\n",
      "['heat shock protein', 'atrial fibrillation', 'small hsp (hspb)', 'proteostasis']\n",
      "__________________\n",
      "\n",
      "Impact of Contact Force Technology on Atrial Fibrillation Ablation: A Meta-Analysis\n",
      "PMC4599513\n",
      "['ablation', 'atrial fibrillation', 'contact force', 'meta-analysis']\n",
      "__________________\n",
      "\n",
      "Effect of RAAS blockers on adverse clinical outcomes in high CVD risk subjects with atrial fibrillation\n",
      "PMC4937957\n",
      "['ace i', 'arb', 'atrial fibrillation', 'cvd risk', 'hypertension', 'raas blockers']\n",
      "__________________\n",
      "\n",
      "The safety and efficacy of hybrid ablation for the treatment of atrial fibrillation: A meta-analysis\n",
      "PMC5752005\n",
      "[]\n",
      "__________________\n",
      "\n",
      "Effects of Non–Vitamin K Antagonist Oral Anticoagulants Versus Warfarin in Patients With Atrial Fibrillation and Valvular Heart Disease: A Systematic Review and Meta‐Analysis\n",
      "PMC5586302\n",
      "['anticoagulant', 'atrial fibrillation', 'bleeding', 'stroke', 'valve', 'arrhythmias', 'cerebrovascular disease/stroke', 'anticoagulants', 'valvular heart disease', 'meta analysis']\n",
      "__________________\n",
      "\n",
      "Decision-Making in Clinical Practice: Oral Anticoagulant Therapy in Patients with Non-valvular Atrial Fibrillation and a Single Additional Stroke Risk Factor\n",
      "PMC5331111\n",
      "['atrial fibrillation', 'non-valvular atrial fibrillation', 'non-vitamin k antagonist', 'oral anticoagulants', 'stroke prevention', 'stroke risk assessment', 'stroke risk factor', 'stroke risk scores', 'vitamin k antagonist']\n",
      "__________________\n",
      "\n",
      "Almanac 2015: atrial fibrillation research in Heart\n",
      "PMC4819630\n",
      "[]\n",
      "__________________\n",
      "\n",
      "Oral anticoagulants for prevention of stroke in atrial fibrillation: systematic review, network meta-analysis, and cost effectiveness analysis\n",
      "PMC5704695\n",
      "[]\n",
      "__________________\n",
      "\n",
      "Oxidative stress and inflammation as central mediators of atrial fibrillation in obesity and diabetes\n",
      "PMC5622555\n",
      "['atrial fibrillation', 'diabetes', 'oxidative stress', 'electrical remodeling', 'fibrosis']\n",
      "__________________\n",
      "\n",
      "Novel stroke risk reduction in atrial fibrillation: left atrial appendage occlusion with a focus on the Watchman closure device\n",
      "PMC5345987\n",
      "['left atrial appendage', 'atrial fibrillation', 'ischemic stroke']\n",
      "__________________\n",
      "\n",
      "Pharmacological and Non-pharmacological Treatments for Stroke Prevention in Patients with Atrial Fibrillation\n",
      "PMC5656712\n",
      "['atrial fibrillation', 'left atrial appendage ligation and closure', 'oral anticoagulation', 'percutaneous left atrial appendage occlusion', 'stroke, thromboembolic events', 'vitamin k antagonists', 'non-vitamin k antagonist']\n",
      "__________________\n",
      "\n",
      "How to choose appropriate direct oral anticoagulant for patient with nonvalvular atrial fibrillation\n",
      "PMC4742513\n",
      "['direct thrombin inhibitors', 'factor xa inhibitors', 'rivaroxaban', 'dabigatran', 'apixaban', 'warfarin', 'nonvalvular atrial fibrillation']\n",
      "__________________\n",
      "\n",
      "Atrial fibrillation as risk factor for cardiovascular disease and death in women compared with men: systematic review and meta-analysis of cohort studies\n",
      "PMC5482349\n",
      "[]\n",
      "__________________\n",
      "\n",
      "Managing atrial fibrillation in the very elderly patient: challenges and solutions\n",
      "PMC4630199\n",
      "['elderly', 'atrial fibrillation', 'anticoagulation', 'drugs', 'catheter ablation']\n",
      "__________________\n",
      "\n",
      "A review of rate control in atrial fibrillation, and the rationale and protocol for the RATE-AF trial\n",
      "PMC5588987\n",
      "['atrial fibrillation', 'heart rate', 'quality of life', 'echocardiography', 'protocols & guidelines', 'rate-af']\n",
      "__________________\n",
      "\n",
      "Aspirin Compared to Low Intensity Anticoagulation in Patients with Non-Valvular Atrial Fibrillation. A Systematic Review and Meta-Analysis\n",
      "PMC4642960\n",
      "[]\n",
      "__________________\n",
      "\n",
      "Atrial fibrillation and silent stroke: links, risks, and challenges\n",
      "PMC4788372\n",
      "['atrial fibrillation', 'silent strokes', 'cardiac embolic events', 'stroke risk']\n",
      "__________________\n",
      "\n",
      "Aeroembolism in left atrium during catheter ablation of atrial fibrillation in a patient with dextrocardia: a case report and review of the literature\n",
      "PMC5457732\n",
      "['aeroembolism', 'atrial fibrillation', 'catheter ablation', 'dextrocardia', 'case report']\n",
      "__________________\n",
      "\n",
      "Non-Vitamin K Oral Anticoagulants for Stroke Prevention in Special Populations with Atrial Fibrillation\n",
      "PMC5487882\n",
      "['apixaban', 'atrial fibrillation', 'dabigatran', 'oral anticoagulants', 'rivaroxaban']\n",
      "__________________\n",
      "\n",
      "Thiazolidinedione use and atrial fibrillation in diabetic patients: a meta-analysis\n",
      "PMC5382449\n",
      "['atrial fibrillation', 'diabetes mellitus', 'thiazolidinediones', 'pioglitazone', 'rosiglitazone', 'meta-analysis']\n",
      "__________________\n",
      "\n",
      "Biomarkers and the prediction of atrial fibrillation: state of the art\n",
      "PMC4957677\n",
      "['biological markers', 'prediction', 'atrial fibrillation']\n",
      "__________________\n",
      "\n",
      "Patients’ and physicians’ perceptions and attitudes about oral anticoagulation and atrial fibrillation: a qualitative systematic review\n",
      "PMC5234257\n",
      "['atrial fibrillation', 'oral-anticoagulation therapy', 'perceptions', 'attitudes', 'patients', 'physicians', 'systematic review', 'qualitative research']\n",
      "__________________\n",
      "\n"
     ]
    }
   ],
   "source": [
    "for af_dictionary in af_list_of_dictionaries:\n",
    "    print(af_dictionary['title'])\n",
    "    print(af_dictionary['pmcid'])\n",
    "    print(str(af_dictionary['keywords']) + \"\\n__________________\\n\")"
   ]
  },
  {
   "cell_type": "code",
   "execution_count": 155,
   "metadata": {
    "scrolled": false
   },
   "outputs": [
    {
     "name": "stdout",
     "output_type": "stream",
     "text": [
      "Non-pharmacological interventions for Lewy body dementia: a systematic review\n",
      "PMC6088773\n",
      "['caregiver support', 'dementia with lewy bodies', 'lewy body dementia', 'neuropsychiatric symptoms', 'non-pharmacological', \"parkinson's disease dementia\"]\n",
      "__________________\n",
      "\n",
      "Exercise for Individuals with Lewy Body Dementia: A Systematic Review\n",
      "PMC4892610\n",
      "[]\n",
      "__________________\n",
      "\n",
      "Are dementia with Lewy bodies and Parkinson’s disease dementia the same disease?\n",
      "PMC5840831\n",
      "['dementia with lewy bodies', 'parkinson’s disease dementia', 'clinical features', 'diagnostic criteria', 'neuropathology', 'diagnostic tests', 'management', 'synucleinopathies']\n",
      "__________________\n",
      "\n",
      "Lewy body disease and dementia with Lewy bodies\n",
      "PMC4275567\n",
      "['lewy body disease (lbd)', 'diffuse lewy body disease (dlbd)', 'dementia with lewy bodies (dlb)', 'parkinson’s disease (pd)', 'parkinson’s disease with dementia (pdd)']\n",
      "__________________\n",
      "\n",
      "Development of assessment toolkits for improving the diagnosis of the Lewy body dementias: feasibility study within the DIAMOND Lewy study\n",
      "PMC5724510\n",
      "['dementia with lewy bodies', \"parkinson's disease dementia\", 'toolkits', 'assessment']\n",
      "__________________\n",
      "\n",
      "Structural and Functional Neuroimaging of Visual Hallucinations in Lewy Body Disease: A Systematic Literature Review\n",
      "PMC5532597\n",
      "['visual hallucinations', 'lewy body', 'parkinson’s disease', 'parkinson’s disease dementia', 'dementia with lewy bodies', 'mri', 'fmri', 'dti', 'pet', 'spect']\n",
      "__________________\n",
      "\n",
      "Cholinesterase Inhibitors for Lewy Body Disorders: A Meta-Analysis\n",
      "PMC4772820\n",
      "['cholinesterase inhibitors', 'lewy body disorders', 'parkinson’s disease', 'dementia with lewy bodies', 'meta-analysis']\n",
      "__________________\n",
      "\n",
      "Neurophysiological biomarkers for Lewy body dementias\n",
      "PMC4727506\n",
      "['biomarkers', 'dementia with lewy bodies', 'parkinson’s disease with dementia', 'cognitive fluctuations', 'neurophysiology']\n",
      "__________________\n",
      "\n",
      "Diagnosis and management of dementia with Lewy bodies\n",
      "PMC5496518\n",
      "[]\n",
      "__________________\n",
      "\n",
      "Visuo-cognitive skill deficits in Alzheimer's disease and Lewy body disease: A comparative analysis\n",
      "PMC3992750\n",
      "[\"alzheimer's disease\", 'lewy body disease', 'visuo-cognitive skills']\n",
      "__________________\n",
      "\n",
      "Lewy body dementia: the impact on patients and caregivers\n",
      "PMC4054937\n",
      "[]\n",
      "__________________\n",
      "\n",
      "The clinical characteristics of dementia with Lewy bodies and a consideration of prodromal diagnosis\n",
      "PMC4255387\n",
      "[]\n",
      "__________________\n",
      "\n",
      "None\n",
      "PMC4460541\n",
      "['lewy body-related disorders', 'parkinsonism', 'dementia']\n",
      "__________________\n",
      "\n",
      "Current concepts and controversies in the pathogenesis of Parkinson’s disease dementia and Dementia with Lewy Bodies\n",
      "PMC5580419\n",
      "[\"parkinson's disease dimentia\", 'pdd', 'dmentia with lewy bodies', 'dlb', 'neurodegeneration']\n",
      "__________________\n",
      "\n",
      "Magnetic Resonance Spectroscopy in the Diagnosis of Dementia with Lewy Bodies\n",
      "PMC4109391\n",
      "[]\n",
      "__________________\n",
      "\n",
      "Alpha-synuclein biology in Lewy body diseases\n",
      "PMC4288216\n",
      "[]\n",
      "__________________\n",
      "\n",
      "Disease-modifying therapeutic directions for Lewy-Body dementias\n",
      "PMC4542461\n",
      "['dementia with lewy bodies', \"parkinson's disease\", \"alzheimer's disease\", 'deep brain stimulation', 'disease-modifying therapy']\n",
      "__________________\n",
      "\n",
      "Impact of the biological definition of Alzheimer’s disease using amyloid, tau and neurodegeneration (ATN): what about the role of vascular changes, inflammation, Lewy body pathology?\n",
      "PMC5977549\n",
      "['alzheimer’s disease', 'diagnosis', 'treatment', 'biomarkers', 'precision medicine', 'translational research', 'brain imaging', 'database analysis', 'human volunteer cohorts']\n",
      "__________________\n",
      "\n",
      "Neuroimaging, Biomarkers, and Management of Dementia with Lewy Bodies\n",
      "PMC3791548\n",
      "['lewy body disease', 'dementia', 'lewy bodies', 'magnetic resonance imaging', 'biomarkers']\n",
      "__________________\n",
      "\n",
      "Mini Review: Anticholinergic Activity as a Behavioral Pathology of Lewy Body Disease and Proposal of the Concept of “Anticholinergic Spectrum Disorders”\n",
      "PMC5055966\n",
      "[]\n",
      "__________________\n",
      "\n",
      "The Synucleinopathies: Twenty Years On\n",
      "PMC5345650\n",
      "['alpha-synuclein', 'parkinson’s disease', 'dementia with lewy bodies', 'multiple system atrophy', 'protein aggregation', 'aggregate propagation', 'neurodegeneration']\n",
      "__________________\n",
      "\n",
      "None\n",
      "PMC5040763\n",
      "['lewy body disease', 'parkinson disease', 'dementia', 'nuclear medicine', 'quantitation']\n",
      "__________________\n",
      "\n",
      "Potential Modes of Intercellular α-Synuclein Transmission\n",
      "PMC5344001\n",
      "['α-synuclein', 'parkinson’s disease', 'multiple system atrophy', 'dementia with lewy bodies', 'exosome', 'tunneling nanotube', 'gliosis', 'glymphatic']\n",
      "__________________\n",
      "\n",
      "Propagation of alpha-synuclein pathology: hypotheses, discoveries, and yet unresolved questions from experimental and human brain studies\n",
      "PMC4698305\n",
      "['focal lewy body disease', 'hyperbranching axons', 'molecular template', 'structural template', 'gradient', 'alpha-synuclein']\n",
      "__________________\n",
      "\n",
      "Everyday conversation in dementia: a review of the literature to inform research and practice\n",
      "PMC5467725\n",
      "['conversation', 'dementia', 'narrative', 'review']\n",
      "__________________\n",
      "\n",
      "Arguing against the proposed definition changes of PD\n",
      "PMC5168716\n",
      "['dementia with lewy bodies', 'dementia', \"parkinson's disease\", 'parkinsonism']\n",
      "__________________\n",
      "\n",
      "Hearing and dementia\n",
      "PMC5065893\n",
      "['hearing', 'auditory', 'dementia', 'alzheimer’s disease', 'frontotemporal dementia', 'progressive aphasia', 'lewy body disease']\n",
      "__________________\n",
      "\n",
      "The Role of the Carboxyl-Terminal Sequence of Tau and MAP2 in the Pathogenesis of Dementia\n",
      "PMC5186789\n",
      "['tau', 'tauopathy', 'microtubule-associated protein 2', 'map2', 'inclusion', 'alzheimer’s disease']\n",
      "__________________\n",
      "\n",
      "Non-Alzheimer's disease—related memory impairment and dementia\n",
      "PMC3898684\n",
      "['\\n          ', '\\n          ', '\\n          ', '\\n          ', '\\n          ', '\\n          ']\n",
      "__________________\n",
      "\n",
      "Alpha-Synuclein Oligomers—Neurotoxic Molecules in Parkinson's Disease and Other Lewy Body Disorders\n",
      "PMC5011129\n",
      "['alpha-synuclein oligomers', 'lewy body disease', 'toxicity', 'biomarker', 'propagation', 'therapeutics']\n",
      "__________________\n",
      "\n",
      "Multiple comorbid neuropathologies in the setting of Alzheimer's disease neuropathology and implications for drug development\n",
      "PMC5651346\n",
      "[\"alzheimer's disease (ad)\", 'cerebrovascular disease', 'lewy body disease', 'frontotemporal degeneration', 'β-amyloid', 'tau', 'α-synuclein', 'tdp-43']\n",
      "__________________\n",
      "\n",
      "Advocacy, education, and the role of not-for-profit organizations in Lewy body\n",
      "dementias\n",
      "PMC4468791\n",
      "[]\n",
      "__________________\n",
      "\n",
      "Loss of Neuroprotective Factors in Neurodegenerative Dementias: The End or the Starting Point?\n",
      "PMC5717017\n",
      "['bdnf', 'progranulin', 'cystatin c', 'biomarkers', 'frontotemporal dementia', \"alzheimer's disease\", 'lewy body dementia']\n",
      "__________________\n",
      "\n",
      "Dementia Caregiver Burden: a Research Update and Critical Analysis\n",
      "PMC5550537\n",
      "['dementia caregiving', 'burden', 'depression', 'neuropsychiatric symptoms', 'behavioral and psychological symptoms of dementia', 'functional impairments']\n",
      "__________________\n",
      "\n",
      "Advancing Stem Cell Models of Alpha-Synuclein Gene Regulation in Neurodegenerative Disease\n",
      "PMC5900030\n",
      "['alpha-synuclein', '\\n          ', 'transcriptional regulation', 'induced pluripotent stem cells', \"parkinson's disease\", 'dementia with lewy bodies']\n",
      "__________________\n",
      "\n",
      "Genetics Underlying Atypical Parkinsonism and Related Neurodegenerative Disorders\n",
      "PMC4632769\n",
      "['atypical parkinsonism', 'multiple system atrophy', 'dementia with lewy bodies', 'progressive supranuclear palsy', 'corticobasal degeneration']\n",
      "__________________\n",
      "\n",
      "Nucleus basalis of Meynert revisited: anatomy, history and differential involvement in Alzheimer’s and Parkinson’s disease\n",
      "PMC4366544\n",
      "['nucleus basalis of meynert', 'topography', 'parkinson’s disease', 'alzheimer’s disease', 'neuropathology']\n",
      "__________________\n",
      "\n",
      "Genome-Wide Association Meta-analysis of Neuropathologic Features of Alzheimer's Disease and Related Dementias\n",
      "PMC4154667\n",
      "[]\n",
      "__________________\n",
      "\n",
      "On visual hallucinations and cortical networks: a trans-diagnostic review\n",
      "PMC4503861\n",
      "['parkinson’s disease', 'alzheimer’s disease', 'dementia with lewy bodies', 'schizophrenia', 'mri', 'structural imaging', 'grey matter']\n",
      "__________________\n",
      "\n",
      "Epidemiology of neurodegenerative diseases in sub-Saharan Africa: a systematic review\n",
      "PMC4094534\n",
      "['neurodegenerative diseases', 'parkinsonism', 'dementia', 'hiv-related cognitive impairment', 'sub-saharan africa']\n",
      "__________________\n",
      "\n",
      "Interactions of pathological proteins in neurodegenerative diseases\n",
      "PMC5508034\n",
      "['alzheimer’s disease', 'amyotrophic lateral sclerosis', 'frontotemporal lobar degeneration', 'lewy body', 'amyloid beta', 'tau', 'synuclein', 'tdp-43']\n",
      "__________________\n",
      "\n",
      "Excitatory Dendritic Mitochondrial Calcium Toxicity: Implications for Parkinson’s and Other Neurodegenerative Diseases\n",
      "PMC6083050\n",
      "['mitochondrial calcium uniporter', 'pink1', 'lrrk2', 'calcium overload', 'parkinson disease/lewy body dementia', 'alzheimer disease', 'ftd-als', 'dendrite degeneration']\n",
      "__________________\n",
      "\n",
      "Genetic Markers in Biological Fluids for Aging-Related Major Neurocognitive Disorder\n",
      "PMC4443795\n",
      "['alzheimer´s disease', 'cognitive impairment', 'dementia', 'frontotemporal lobar degeneration', 'genetic markers', 'lewy body disease', 'neurocognitive disorder', 'parkinson´s disease', 'vascular disease']\n",
      "__________________\n",
      "\n",
      "Mild cognitive impairment in Parkinson’s disease: a distinct clinical entity?\n",
      "PMC5596909\n",
      "['mild cognitive impairment', 'parkinson’s disease', 'alzheimer disease', 'lewy body', 'neuropsychiatric comorbidities', 'cognitive reserve']\n",
      "__________________\n",
      "\n",
      "The widening spectrum of \n",
      "PMC3925297\n",
      "['amyotrophic lateral sclerosis', 'frontotemporal lobar dementia', 'c9orf72', 'g', 'phenotypic variation', 'genetic modifiers']\n",
      "__________________\n",
      "\n",
      "Serum Anticholinergic Activity: A Possible Peripheral Marker of the Anticholinergic Burden in the Central Nervous System in Alzheimer's Disease\n",
      "PMC3934106\n",
      "[]\n",
      "__________________\n",
      "\n",
      "Neuropathological Staging of Brain Pathology in Sporadic Parkinson’s disease: Separating the Wheat from the Chaff\n",
      "PMC5345633\n",
      "['α-synuclein', 'autonomic nervous system', 'cell-to-cell transfer', 'central nervous system', 'dorsal motor nucleus of the vagal nerve', 'enteric nervous system', 'lewy body disease', 'locus coeruleus', 'parkinson’s disease', 'olfactory bulb', 'peripheral nervous system', 'prion-like', 'protein aggregation', 'protein misfolding', 'spinal cord', 'substantia nigra']\n",
      "__________________\n",
      "\n",
      "Implication of Alpha-Synuclein Phosphorylation at S129 in Synucleinopathies: What Have We Learned in the Last Decade?\n",
      "PMC4927808\n",
      "['phosphorylation', 'kinases', 'membrane binding', 'degradation', 'subcellular localization', 'biomarker', 'toxicity', 'animal models', 'cell-based assays']\n",
      "__________________\n",
      "\n",
      "The Neuroprotective Role of Protein Quality Control in Halting the Development of Alpha-Synuclein Pathology\n",
      "PMC5623686\n",
      "['α-synuclein', 'protein quality control', 'lewy body', 'parkinson’s disease', 'chaperone', 'autophagy', 'lysosome']\n",
      "__________________\n",
      "\n",
      "The Role of Microglia in Retinal Neurodegeneration: Alzheimer's Disease, Parkinson, and Glaucoma\n",
      "PMC5498525\n",
      "['microglia', 'neuroinflammation', \"alzheimer's disease\", 'parkinson', 'glaucoma', 'retina', 'beta-amyloid', 'synuclein']\n",
      "__________________\n",
      "\n",
      "Consensus classification of posterior cortical atrophy\n",
      "PMC5788455\n",
      "['posterior cortical atrophy', 'alzheimer’s disease', 'clinico-radiological syndrome', 'pathophysiology', 'biomarker']\n",
      "__________________\n",
      "\n",
      "Polyallelic structural variants can provide accurate, highly informative genetic markers focused on diagnosis and therapeutic targets: Accuracy vs. Precision\n",
      "PMC4737274\n",
      "[]\n",
      "__________________\n",
      "\n"
     ]
    }
   ],
   "source": [
    "for lbd_dictionary in lbd_list_of_dictionaries:\n",
    "    print(lbd_dictionary['title'])\n",
    "    print(lbd_dictionary['pmcid'])\n",
    "    print(str(lbd_dictionary['keywords']) + \"\\n__________________\\n\")"
   ]
  },
  {
   "cell_type": "markdown",
   "metadata": {},
   "source": [
    "## Step 2\n",
    "\n",
    "Let's go ahead and try averaging the word2vec vectors for each of the abstracts. The other thing to look at would be whether or not taking out the stopwords for each of the abstracts would actually help.\n",
    "\n",
    "The first step is to go ahead and tokenize the abstract. We'll use the abstract from the first LBD paper."
   ]
  },
  {
   "cell_type": "code",
   "execution_count": 156,
   "metadata": {},
   "outputs": [],
   "source": [
    "def vectorize_abstract(abstract):\n",
    "    abstract_words = word_tokenize(abstract)\n",
    "    return abstract_words"
   ]
  },
  {
   "cell_type": "markdown",
   "metadata": {},
   "source": [
    "Let's import the pubmed word2vec vectors. Due to the size of the vectors, we're going to just use chunks of the original file. We're also going to make a dictionary of all the words contained in each chunk file, so that we can can get the words that are contained in that file."
   ]
  },
  {
   "cell_type": "code",
   "execution_count": 157,
   "metadata": {},
   "outputs": [],
   "source": [
    "# med_w2v_chunks_path = \"../../../resources/med_w2v_chunks/\""
   ]
  },
  {
   "cell_type": "code",
   "execution_count": 158,
   "metadata": {},
   "outputs": [],
   "source": [
    "# with open(med_w2v_chunks_path + \"directory_of_chunk_names.txt\", \"r\") as f:\n",
    "#     chunk_names = f.read().split(\"\\n\")"
   ]
  },
  {
   "cell_type": "code",
   "execution_count": 159,
   "metadata": {},
   "outputs": [],
   "source": [
    "# word_to_w2v_chunk_dict = {}"
   ]
  },
  {
   "cell_type": "code",
   "execution_count": 160,
   "metadata": {},
   "outputs": [],
   "source": [
    "# There are 410 w2v_chunk files. We will only use the words from the first 100 chunk files, although if it seems\n",
    "# that we are missing a lot of words then I can go back and create a dictionary from all 410 files.\n",
    "\n",
    "# for i in range(100):\n",
    "#     with open(med_w2v_chunks_path + chunk_names[i], \"r\") as f:\n",
    "#         vector_chunk = f.readlines()\n",
    "#     words = [(vector.split(\" \")[0], chunk_names[i]) for vector in vector_chunk]\n",
    "#     word_to_w2v_chunk_dict.update(dict(words))"
   ]
  },
  {
   "cell_type": "code",
   "execution_count": 161,
   "metadata": {},
   "outputs": [],
   "source": [
    "# We'll go ahead and pickle this dictionary.\n",
    "\n",
    "# with open(\"documents/word_to_w2v_chunk_dict.pkl\", \"wb\") as picklefile:\n",
    "#     pickle.dump(word_to_w2v_chunk_dict, picklefile)"
   ]
  },
  {
   "cell_type": "markdown",
   "metadata": {},
   "source": [
    "Now, we'll go ahead and get the word vectors for each abstract, and just look to see whether or not we can cluster different papers."
   ]
  },
  {
   "cell_type": "code",
   "execution_count": 162,
   "metadata": {},
   "outputs": [],
   "source": [
    "with open(\"documents/word_to_w2v_chunk_dict.pkl\", \"rb\") as picklefile:\n",
    "    word_to_w2v_chunk_dict = pickle.load(picklefile)"
   ]
  },
  {
   "cell_type": "code",
   "execution_count": 163,
   "metadata": {},
   "outputs": [],
   "source": [
    "def get_abstract_word_vectors(abstract, word_to_w2v_chunk_dict):\n",
    "    abstract_word_vectors = {}\n",
    "    word_to_chunkfile_dict = {}\n",
    "    \n",
    "    word2vec_dict = {}\n",
    "    \n",
    "    abstract_words = word_tokenize(abstract)\n",
    "    \n",
    "    for word in abstract_words:\n",
    "        if word not in word_to_chunkfile_dict:\n",
    "            if word in word_to_w2v_chunk_dict:\n",
    "                word_to_chunkfile_dict[word] = word_to_w2v_chunk_dict[word]\n",
    "    \n",
    "    word_to_chunkfile_series = pd.Series(word_to_chunkfile_dict)\n",
    "    \n",
    "    words_to_check_for_each_chunkfile = {}\n",
    "    \n",
    "    for chunk_file in set(word_to_chunkfile_dict.values()):\n",
    "        words_to_check_for_each_chunkfile[chunk_file] = \\\n",
    "        list(word_to_chunkfile_series[word_to_chunkfile_series == chunk_file].index)\n",
    "    \n",
    "    for chunk_file, word_list in words_to_check_for_each_chunkfile.items():\n",
    "        with open(med_w2v_chunks_path + chunk_file, \"r\") as f:\n",
    "            word2vec_file = f.readlines()\n",
    "        \n",
    "        word2vec_dict = {}\n",
    "        for word2vec_line in word2vec_file:\n",
    "            split_word2vec_line = word2vec_line.split(\" \")\n",
    "            word2vec_dict[split_word2vec_line[0]] = list(map(float, split_word2vec_line[1:-1]))\n",
    "            \n",
    "        for word in word_list:\n",
    "            abstract_word_vectors[word] = word2vec_dict[word]\n",
    "    \n",
    "    return abstract_word_vectors"
   ]
  },
  {
   "cell_type": "code",
   "execution_count": 164,
   "metadata": {},
   "outputs": [],
   "source": [
    "def strip_stop_words(abstract):\n",
    "    abstract_words = abstract.split(\" \")\n",
    "    word_list = [word for word in abstract_words if word.lower() not in stopwords.words(\"English\")]\n",
    "    return \" \".join(word_list)"
   ]
  },
  {
   "cell_type": "code",
   "execution_count": 165,
   "metadata": {},
   "outputs": [],
   "source": [
    "def abstract_to_mean_vector_pipeline(abstract, word_to_w2v_chunk_dict):\n",
    "    \n",
    "    clean_abstract = strip_stop_words(abstract)\n",
    "    \n",
    "    abstract_word_vectors = get_abstract_word_vectors(clean_abstract, word_to_w2v_chunk_dict)\n",
    "    \n",
    "    # We could also choose to weight the word vectors by the number of times that they occur. E.g., if the\n",
    "    # word 'heart' occurs twice, then we multiply that vector by 2; essentially we take a weighted average\n",
    "    # of the words that occur in the abstract. We would do this by running a counter on the clean_abstract,\n",
    "    # and multiplying the abstract_word_vector for that word by the number of times it occurred.\n",
    "    \n",
    "    for word, word_count in Counter(clean_abstract).items():\n",
    "        # There may be some words in the clean abstract that were not returned in the abstract_word_vectors dictionary.\n",
    "        if word in abstract_word_vectors:\n",
    "            abstract_word_vectors[word] = [word_count * value for value in abstract_word_vectors[word]]\n",
    "    \n",
    "    abstract_mean_vector = np.mean(list(abstract_word_vectors.values()), axis=0)\n",
    "    \n",
    "    return abstract_mean_vector"
   ]
  },
  {
   "cell_type": "code",
   "execution_count": 166,
   "metadata": {},
   "outputs": [
    {
     "data": {
      "application/vnd.jupyter.widget-view+json": {
       "model_id": "c25c61d5ccd241858b24461c1ad49024",
       "version_major": 2,
       "version_minor": 0
      },
      "text/plain": [
       "VBox(children=(HTML(value=''), IntProgress(value=0, max=36)))"
      ]
     },
     "metadata": {},
     "output_type": "display_data"
    },
    {
     "name": "stdout",
     "output_type": "stream",
     "text": [
      "CPU times: user 3min 14s, sys: 12.9 s, total: 3min 27s\n",
      "Wall time: 3min 34s\n"
     ]
    }
   ],
   "source": [
    "%%time\n",
    "af_abstract_mean_vectors = {}\n",
    "\n",
    "for af_dict in log_progress(af_list_of_dictionaries, every=1):\n",
    "#    af_abstract_mean_vectors.append(abstract_to_mean_vector_pipeline(af_dict['abstract_text'], word_to_w2v_chunk_dict))\n",
    "    af_abstract_mean_vectors[af_dict['pmcid']] = abstract_to_mean_vector_pipeline(af_dict['abstract_text'], word_to_w2v_chunk_dict)"
   ]
  },
  {
   "cell_type": "code",
   "execution_count": 167,
   "metadata": {
    "scrolled": true
   },
   "outputs": [
    {
     "data": {
      "application/vnd.jupyter.widget-view+json": {
       "model_id": "f581dd8e0d3e490db4809587f41fb98c",
       "version_major": 2,
       "version_minor": 0
      },
      "text/plain": [
       "VBox(children=(HTML(value=''), IntProgress(value=0, max=52)))"
      ]
     },
     "metadata": {},
     "output_type": "display_data"
    },
    {
     "name": "stdout",
     "output_type": "stream",
     "text": [
      "CPU times: user 4min 57s, sys: 17.3 s, total: 5min 14s\n",
      "Wall time: 5min 29s\n"
     ]
    }
   ],
   "source": [
    "%%time\n",
    "lbd_abstract_mean_vectors = {}\n",
    "\n",
    "for lbd_dict in log_progress(lbd_list_of_dictionaries, every=1):\n",
    "    lbd_abstract_mean_vectors[lbd_dict['pmcid']] = abstract_to_mean_vector_pipeline(af_dict['abstract_text'], word_to_w2v_chunk_dict)"
   ]
  },
  {
   "cell_type": "code",
   "execution_count": 168,
   "metadata": {},
   "outputs": [],
   "source": [
    "af_lbd_vectors_df = pd.concat([pd.DataFrame.from_dict(af_abstract_mean_vectors, orient='index'), pd.DataFrame.from_dict(lbd_abstract_mean_vectors, orient='index')])"
   ]
  },
  {
   "cell_type": "code",
   "execution_count": 171,
   "metadata": {},
   "outputs": [],
   "source": [
    "disease = ['af']*len(af_abstract_mean_vectors) + ['lbd']*len(lbd_abstract_mean_vectors)\n",
    "af_lbd_vectors_df['disease'] = disease"
   ]
  },
  {
   "cell_type": "code",
   "execution_count": 169,
   "metadata": {},
   "outputs": [],
   "source": [
    "total_num_papers = len(af_abstract_mean_vectors) + len(lbd_abstract_mean_vectors)"
   ]
  },
  {
   "cell_type": "code",
   "execution_count": 170,
   "metadata": {},
   "outputs": [
    {
     "data": {
      "text/plain": [
       "88"
      ]
     },
     "execution_count": 170,
     "metadata": {},
     "output_type": "execute_result"
    }
   ],
   "source": [
    "total_num_papers"
   ]
  },
  {
   "cell_type": "code",
   "execution_count": 172,
   "metadata": {},
   "outputs": [
    {
     "data": {
      "text/html": [
       "<div>\n",
       "<style scoped>\n",
       "    .dataframe tbody tr th:only-of-type {\n",
       "        vertical-align: middle;\n",
       "    }\n",
       "\n",
       "    .dataframe tbody tr th {\n",
       "        vertical-align: top;\n",
       "    }\n",
       "\n",
       "    .dataframe thead th {\n",
       "        text-align: right;\n",
       "    }\n",
       "</style>\n",
       "<table border=\"1\" class=\"dataframe\">\n",
       "  <thead>\n",
       "    <tr style=\"text-align: right;\">\n",
       "      <th></th>\n",
       "      <th>0</th>\n",
       "      <th>1</th>\n",
       "      <th>2</th>\n",
       "      <th>3</th>\n",
       "      <th>4</th>\n",
       "      <th>5</th>\n",
       "      <th>6</th>\n",
       "      <th>7</th>\n",
       "      <th>8</th>\n",
       "      <th>9</th>\n",
       "      <th>...</th>\n",
       "      <th>191</th>\n",
       "      <th>192</th>\n",
       "      <th>193</th>\n",
       "      <th>194</th>\n",
       "      <th>195</th>\n",
       "      <th>196</th>\n",
       "      <th>197</th>\n",
       "      <th>198</th>\n",
       "      <th>199</th>\n",
       "      <th>disease</th>\n",
       "    </tr>\n",
       "  </thead>\n",
       "  <tbody>\n",
       "    <tr>\n",
       "      <th>PMC4952027</th>\n",
       "      <td>0.108578</td>\n",
       "      <td>0.014236</td>\n",
       "      <td>0.126349</td>\n",
       "      <td>-0.018508</td>\n",
       "      <td>-0.003937</td>\n",
       "      <td>-0.054088</td>\n",
       "      <td>-0.015865</td>\n",
       "      <td>0.049515</td>\n",
       "      <td>0.029591</td>\n",
       "      <td>0.041948</td>\n",
       "      <td>...</td>\n",
       "      <td>-0.039361</td>\n",
       "      <td>-0.044799</td>\n",
       "      <td>0.180942</td>\n",
       "      <td>-0.080833</td>\n",
       "      <td>-0.070030</td>\n",
       "      <td>-0.036287</td>\n",
       "      <td>0.058504</td>\n",
       "      <td>-0.119676</td>\n",
       "      <td>-0.042465</td>\n",
       "      <td>af</td>\n",
       "    </tr>\n",
       "    <tr>\n",
       "      <th>PMC5598874</th>\n",
       "      <td>0.035391</td>\n",
       "      <td>-0.009505</td>\n",
       "      <td>0.077115</td>\n",
       "      <td>0.001718</td>\n",
       "      <td>0.009646</td>\n",
       "      <td>-0.029854</td>\n",
       "      <td>-0.036542</td>\n",
       "      <td>0.011701</td>\n",
       "      <td>0.022566</td>\n",
       "      <td>0.008012</td>\n",
       "      <td>...</td>\n",
       "      <td>-0.027311</td>\n",
       "      <td>0.009091</td>\n",
       "      <td>0.116452</td>\n",
       "      <td>-0.021094</td>\n",
       "      <td>-0.055232</td>\n",
       "      <td>-0.030666</td>\n",
       "      <td>0.038592</td>\n",
       "      <td>-0.030184</td>\n",
       "      <td>-0.022142</td>\n",
       "      <td>af</td>\n",
       "    </tr>\n",
       "    <tr>\n",
       "      <th>PMC4766963</th>\n",
       "      <td>-0.020013</td>\n",
       "      <td>0.000664</td>\n",
       "      <td>0.057269</td>\n",
       "      <td>0.000132</td>\n",
       "      <td>0.035205</td>\n",
       "      <td>-0.010239</td>\n",
       "      <td>0.005150</td>\n",
       "      <td>-0.023424</td>\n",
       "      <td>-0.006362</td>\n",
       "      <td>0.007802</td>\n",
       "      <td>...</td>\n",
       "      <td>-0.034125</td>\n",
       "      <td>-0.016188</td>\n",
       "      <td>0.060983</td>\n",
       "      <td>-0.010923</td>\n",
       "      <td>-0.074063</td>\n",
       "      <td>0.003198</td>\n",
       "      <td>0.054743</td>\n",
       "      <td>0.000657</td>\n",
       "      <td>-0.055037</td>\n",
       "      <td>af</td>\n",
       "    </tr>\n",
       "    <tr>\n",
       "      <th>PMC5658096</th>\n",
       "      <td>0.092107</td>\n",
       "      <td>0.007223</td>\n",
       "      <td>0.095593</td>\n",
       "      <td>-0.012471</td>\n",
       "      <td>0.000387</td>\n",
       "      <td>-0.015313</td>\n",
       "      <td>-0.002209</td>\n",
       "      <td>0.033225</td>\n",
       "      <td>0.058173</td>\n",
       "      <td>0.081660</td>\n",
       "      <td>...</td>\n",
       "      <td>-0.013515</td>\n",
       "      <td>-0.046041</td>\n",
       "      <td>0.169994</td>\n",
       "      <td>-0.064452</td>\n",
       "      <td>-0.059798</td>\n",
       "      <td>-0.012026</td>\n",
       "      <td>0.061603</td>\n",
       "      <td>-0.154184</td>\n",
       "      <td>-0.017592</td>\n",
       "      <td>af</td>\n",
       "    </tr>\n",
       "    <tr>\n",
       "      <th>PMC5560908</th>\n",
       "      <td>0.013374</td>\n",
       "      <td>-0.004830</td>\n",
       "      <td>0.034372</td>\n",
       "      <td>-0.015625</td>\n",
       "      <td>0.031402</td>\n",
       "      <td>-0.006404</td>\n",
       "      <td>-0.014717</td>\n",
       "      <td>-0.007613</td>\n",
       "      <td>0.007448</td>\n",
       "      <td>0.020051</td>\n",
       "      <td>...</td>\n",
       "      <td>-0.000990</td>\n",
       "      <td>0.014396</td>\n",
       "      <td>0.084523</td>\n",
       "      <td>-0.017900</td>\n",
       "      <td>-0.041998</td>\n",
       "      <td>0.001138</td>\n",
       "      <td>0.037859</td>\n",
       "      <td>-0.058165</td>\n",
       "      <td>-0.022769</td>\n",
       "      <td>af</td>\n",
       "    </tr>\n",
       "  </tbody>\n",
       "</table>\n",
       "<p>5 rows × 201 columns</p>\n",
       "</div>"
      ],
      "text/plain": [
       "                   0         1         2         3         4         5  \\\n",
       "PMC4952027  0.108578  0.014236  0.126349 -0.018508 -0.003937 -0.054088   \n",
       "PMC5598874  0.035391 -0.009505  0.077115  0.001718  0.009646 -0.029854   \n",
       "PMC4766963 -0.020013  0.000664  0.057269  0.000132  0.035205 -0.010239   \n",
       "PMC5658096  0.092107  0.007223  0.095593 -0.012471  0.000387 -0.015313   \n",
       "PMC5560908  0.013374 -0.004830  0.034372 -0.015625  0.031402 -0.006404   \n",
       "\n",
       "                   6         7         8         9   ...          191  \\\n",
       "PMC4952027 -0.015865  0.049515  0.029591  0.041948   ...    -0.039361   \n",
       "PMC5598874 -0.036542  0.011701  0.022566  0.008012   ...    -0.027311   \n",
       "PMC4766963  0.005150 -0.023424 -0.006362  0.007802   ...    -0.034125   \n",
       "PMC5658096 -0.002209  0.033225  0.058173  0.081660   ...    -0.013515   \n",
       "PMC5560908 -0.014717 -0.007613  0.007448  0.020051   ...    -0.000990   \n",
       "\n",
       "                 192       193       194       195       196       197  \\\n",
       "PMC4952027 -0.044799  0.180942 -0.080833 -0.070030 -0.036287  0.058504   \n",
       "PMC5598874  0.009091  0.116452 -0.021094 -0.055232 -0.030666  0.038592   \n",
       "PMC4766963 -0.016188  0.060983 -0.010923 -0.074063  0.003198  0.054743   \n",
       "PMC5658096 -0.046041  0.169994 -0.064452 -0.059798 -0.012026  0.061603   \n",
       "PMC5560908  0.014396  0.084523 -0.017900 -0.041998  0.001138  0.037859   \n",
       "\n",
       "                 198       199  disease  \n",
       "PMC4952027 -0.119676 -0.042465       af  \n",
       "PMC5598874 -0.030184 -0.022142       af  \n",
       "PMC4766963  0.000657 -0.055037       af  \n",
       "PMC5658096 -0.154184 -0.017592       af  \n",
       "PMC5560908 -0.058165 -0.022769       af  \n",
       "\n",
       "[5 rows x 201 columns]"
      ]
     },
     "execution_count": 172,
     "metadata": {},
     "output_type": "execute_result"
    }
   ],
   "source": [
    "af_lbd_vectors_df.head()"
   ]
  },
  {
   "cell_type": "code",
   "execution_count": 173,
   "metadata": {},
   "outputs": [],
   "source": [
    "with open(f\"documents/af_lbd_vectors_df_total_{total_num_papers}.pkl\", \"wb\") as picklefile:\n",
    "    pickle.dump(af_lbd_vectors_df, picklefile)"
   ]
  },
  {
   "cell_type": "code",
   "execution_count": 174,
   "metadata": {},
   "outputs": [],
   "source": [
    "tsne = TSNE(n_components=2, verbose=1, perplexity=50, n_iter=1000)"
   ]
  },
  {
   "cell_type": "code",
   "execution_count": 176,
   "metadata": {},
   "outputs": [
    {
     "name": "stdout",
     "output_type": "stream",
     "text": [
      "[t-SNE] Computing 87 nearest neighbors...\n",
      "[t-SNE] Indexed 88 samples in 0.001s...\n",
      "[t-SNE] Computed neighbors for 88 samples in 0.039s...\n",
      "[t-SNE] Computed conditional probabilities for sample 88 / 88\n",
      "[t-SNE] Mean sigma: 0.000000\n",
      "[t-SNE] KL divergence after 250 iterations with early exaggeration: 47.045677\n",
      "[t-SNE] Error after 1000 iterations: 0.068911\n"
     ]
    }
   ],
   "source": [
    "af_lbd_tsne = tsne.fit_transform(af_lbd_vectors_df.drop(columns=['disease']))"
   ]
  },
  {
   "cell_type": "code",
   "execution_count": 177,
   "metadata": {},
   "outputs": [],
   "source": [
    "af_lbd_tsne_df = pd.DataFrame(af_lbd_tsne)"
   ]
  },
  {
   "cell_type": "code",
   "execution_count": 178,
   "metadata": {},
   "outputs": [],
   "source": [
    "af_lbd_tsne_df['disease'] = disease"
   ]
  },
  {
   "cell_type": "code",
   "execution_count": 179,
   "metadata": {},
   "outputs": [],
   "source": [
    "af_lbd_tsne_df = af_lbd_tsne_df.rename(columns={0:'x', 1:'y'})"
   ]
  },
  {
   "cell_type": "code",
   "execution_count": 180,
   "metadata": {},
   "outputs": [],
   "source": [
    "with open(f\"documents/af_tsne_{total_num_papers}.pkl\", \"wb\") as picklefile:\n",
    "    pickle.dump(af_lbd_tsne_df, picklefile)"
   ]
  },
  {
   "cell_type": "code",
   "execution_count": 181,
   "metadata": {},
   "outputs": [],
   "source": [
    "groups = af_lbd_tsne_df.groupby('disease')"
   ]
  },
  {
   "cell_type": "code",
   "execution_count": 182,
   "metadata": {},
   "outputs": [],
   "source": [
    "plt.rcParams['figure.figsize'] = [10.0, 8.0]\n",
    "plt.rcParams['font.size'] = 12\n",
    "plt.rcParams['legend.fontsize'] = 'large'\n",
    "plt.rcParams['axes.titlesize'] = 18\n",
    "plt.rcParams['figure.titlesize'] = 'medium'\n",
    "plt.rcParams['savefig.dpi'] = 100"
   ]
  },
  {
   "cell_type": "code",
   "execution_count": 183,
   "metadata": {},
   "outputs": [
    {
     "data": {
      "image/png": "[encoded data removed]",
      "text/plain": [
       "<Figure size 720x576 with 1 Axes>"
      ]
     },
     "metadata": {},
     "output_type": "display_data"
    }
   ],
   "source": [
    "# Plot\n",
    "fig, ax = plt.subplots()\n",
    "ax.margins(0.05) # Optional, just adds 5% padding to the autoscaling\n",
    "\n",
    "disease_dict = {'af':'atrial fibrillation', 'lbd':'lewy body dementia'}\n",
    "\n",
    "for name, group in groups:\n",
    "    ax.plot(group.x, group.y, marker='o', linestyle='', ms=12, label=disease_dict[name])\n",
    "ax.legend()\n",
    "plt.title(\"tSNE plot of mean word2vec vectors for atrial fibrillation and LBD review papers\", )\n",
    "\n",
    "fig = plt.gcf()\n",
    "fig.savefig('figures/af_lbd_tsne3.png')\n",
    "\n",
    "plt.show()"
   ]
  },
  {
   "cell_type": "markdown",
   "metadata": {},
   "source": [
    "## Clustering algorithms\n",
    "\n",
    "We'll try using different clustering algorithms, to see if any of them can even separate atrial fibrillation and Lewy body dementia papers.\n",
    "\n",
    "We'll try K-means, agglomerative clustering, and also DB scan to see if they work."
   ]
  },
  {
   "cell_type": "code",
   "execution_count": 48,
   "metadata": {},
   "outputs": [],
   "source": [
    "from sklearn.cluster import KMeans\n",
    "from yellowbrick.cluster import SilhouetteVisualizer"
   ]
  },
  {
   "cell_type": "code",
   "execution_count": 571,
   "metadata": {},
   "outputs": [],
   "source": [
    "est = KMeans(n_clusters=3)"
   ]
  },
  {
   "cell_type": "code",
   "execution_count": 572,
   "metadata": {},
   "outputs": [],
   "source": [
    "urgh = test_df[['x', 'y']]"
   ]
  },
  {
   "cell_type": "code",
   "execution_count": 573,
   "metadata": {},
   "outputs": [
    {
     "data": {
      "text/plain": [
       "KMeans(algorithm='auto', copy_x=True, init='k-means++', max_iter=300,\n",
       "    n_clusters=3, n_init=10, n_jobs=1, precompute_distances='auto',\n",
       "    random_state=None, tol=0.0001, verbose=0)"
      ]
     },
     "execution_count": 573,
     "metadata": {},
     "output_type": "execute_result"
    }
   ],
   "source": [
    "est.fit(urgh)"
   ]
  },
  {
   "cell_type": "code",
   "execution_count": 574,
   "metadata": {},
   "outputs": [
    {
     "data": {
      "text/plain": [
       "array([[403.55145264,  31.2777462 ],\n",
       "       [-23.44174771,  75.69896594],\n",
       "       [-18.18564761, -62.093116  ]])"
      ]
     },
     "execution_count": 574,
     "metadata": {},
     "output_type": "execute_result"
    }
   ],
   "source": [
    "est.cluster_centers_"
   ]
  },
  {
   "cell_type": "code",
   "execution_count": 575,
   "metadata": {},
   "outputs": [
    {
     "data": {
      "text/plain": [
       "array([1, 1, 1, 1, 2, 2, 2, 2, 2, 2, 2, 1, 1, 2, 2, 1, 1, 2, 1, 1, 1, 2,\n",
       "       2, 0], dtype=int32)"
      ]
     },
     "execution_count": 575,
     "metadata": {},
     "output_type": "execute_result"
    }
   ],
   "source": [
    "est.labels_"
   ]
  },
  {
   "cell_type": "code",
   "execution_count": 576,
   "metadata": {},
   "outputs": [
    {
     "data": {
      "image/png": "[encoded data removed]",
      "text/plain": [
       "<Figure size 576x396 with 1 Axes>"
      ]
     },
     "metadata": {},
     "output_type": "display_data"
    }
   ],
   "source": [
    "# Instantiate the clustering model and visualizer\n",
    "visualizer = SilhouetteVisualizer(KMeans(n_clusters=2))\n",
    "visualizer.fit(urgh)\n",
    "visualizer.poof()"
   ]
  },
  {
   "cell_type": "markdown",
   "metadata": {},
   "source": [
    "Code to track progress:"
   ]
  },
  {
   "cell_type": "code",
   "execution_count": 54,
   "metadata": {},
   "outputs": [],
   "source": [
    "def log_progress(sequence, every=None, size=None, name='Items'):\n",
    "    from ipywidgets import IntProgress, HTML, VBox\n",
    "    from IPython.display import display\n",
    "\n",
    "    is_iterator = False\n",
    "    if size is None:\n",
    "        try:\n",
    "            size = len(sequence)\n",
    "        except TypeError:\n",
    "            is_iterator = True\n",
    "    if size is not None:\n",
    "        if every is None:\n",
    "            if size <= 200:\n",
    "                every = 1\n",
    "            else:\n",
    "                every = int(size / 200)     # every 0.5%\n",
    "    else:\n",
    "        assert every is not None, 'sequence is iterator, set every'\n",
    "\n",
    "    if is_iterator:\n",
    "        progress = IntProgress(min=0, max=1, value=1)\n",
    "        progress.bar_style = 'info'\n",
    "    else:\n",
    "        progress = IntProgress(min=0, max=size, value=0)\n",
    "    label = HTML()\n",
    "    box = VBox(children=[label, progress])\n",
    "    display(box)\n",
    "\n",
    "    index = 0\n",
    "    try:\n",
    "        for index, record in enumerate(sequence, 1):\n",
    "            if index == 1 or index % every == 0:\n",
    "                if is_iterator:\n",
    "                    label.value = '{name}: {index} / ?'.format(\n",
    "                        name=name,\n",
    "                        index=index\n",
    "                    )\n",
    "                else:\n",
    "                    progress.value = index\n",
    "                    label.value = u'{name}: {index} / {size}'.format(\n",
    "                        name=name,\n",
    "                        index=index,\n",
    "                        size=size\n",
    "                    )\n",
    "            yield record\n",
    "    except:\n",
    "        progress.bar_style = 'danger'\n",
    "        raise\n",
    "    else:\n",
    "        progress.bar_style = 'success'\n",
    "        progress.value = index\n",
    "        label.value = \"{name}: {index}\".format(\n",
    "            name=name,\n",
    "            index=str(index or '?')\n",
    "        )"
   ]
  },
  {
   "cell_type": "code",
   "execution_count": null,
   "metadata": {},
   "outputs": [],
   "source": []
  }
 ],
 "metadata": {
  "kernelspec": {
   "display_name": "Python 3",
   "language": "python",
   "name": "python3"
  },
  "language_info": {
   "codemirror_mode": {
    "name": "ipython",
    "version": 3
   },
   "file_extension": ".py",
   "mimetype": "text/x-python",
   "name": "python",
   "nbconvert_exporter": "python",
   "pygments_lexer": "ipython3",
   "version": "3.6.5"
  }
 },
 "nbformat": 4,
 "nbformat_minor": 2
}
