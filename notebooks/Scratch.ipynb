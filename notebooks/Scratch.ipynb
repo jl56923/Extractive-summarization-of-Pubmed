{
 "cells": [
  {
   "cell_type": "code",
   "execution_count": 22,
   "metadata": {},
   "outputs": [],
   "source": [
    "import pprint\n",
    "from Bio import Entrez"
   ]
  },
  {
   "cell_type": "code",
   "execution_count": 62,
   "metadata": {},
   "outputs": [],
   "source": [
    "def search(query):\n",
    "    Entrez.email = 'jl56923@gmail.com'\n",
    "    handle = Entrez.esearch(db='pubmed', \n",
    "                            sort='relevance', \n",
    "                            retmax='20',\n",
    "                            retmode='xml', \n",
    "                            term=query)\n",
    "    results = Entrez.read(handle)\n",
    "    return results"
   ]
  },
  {
   "cell_type": "code",
   "execution_count": 63,
   "metadata": {},
   "outputs": [],
   "source": [
    "results = search('pancreatic cancer')"
   ]
  },
  {
   "cell_type": "code",
   "execution_count": 64,
   "metadata": {},
   "outputs": [
    {
     "data": {
      "text/plain": [
       "7"
      ]
     },
     "execution_count": 64,
     "metadata": {},
     "output_type": "execute_result"
    }
   ],
   "source": [
    "len(results)"
   ]
  },
  {
   "cell_type": "code",
   "execution_count": 65,
   "metadata": {},
   "outputs": [
    {
     "data": {
      "text/plain": [
       "dict_keys(['Count', 'RetMax', 'RetStart', 'IdList', 'TranslationSet', 'TranslationStack', 'QueryTranslation'])"
      ]
     },
     "execution_count": 65,
     "metadata": {},
     "output_type": "execute_result"
    }
   ],
   "source": [
    "results.keys()"
   ]
  },
  {
   "cell_type": "code",
   "execution_count": 66,
   "metadata": {},
   "outputs": [],
   "source": [
    "id_list = results['IdList']"
   ]
  },
  {
   "cell_type": "code",
   "execution_count": 43,
   "metadata": {},
   "outputs": [],
   "source": [
    "with open(\"API_ignore.txt\", \"r\") as f:\n",
    "    lines = f.read()"
   ]
  },
  {
   "cell_type": "code",
   "execution_count": 48,
   "metadata": {},
   "outputs": [],
   "source": [
    "API_key = lines.split(\":\")[1].strip()"
   ]
  },
  {
   "cell_type": "code",
   "execution_count": 56,
   "metadata": {},
   "outputs": [],
   "source": [
    "def fetch_details(id_list):\n",
    "    ids = ','.join(id_list)\n",
    "    Entrez.email = 'jl56923@gmail.com'\n",
    "    Entrez.api_key = API_key\n",
    "    handle = Entrez.efetch(db='pubmed',\n",
    "                           retmode='XML',\n",
    "                           id=ids)\n",
    "    results = Entrez.read(handle)\n",
    "    return results"
   ]
  },
  {
   "cell_type": "code",
   "execution_count": 57,
   "metadata": {},
   "outputs": [],
   "source": [
    "papers = fetch_details(id_list)"
   ]
  },
  {
   "cell_type": "code",
   "execution_count": 68,
   "metadata": {},
   "outputs": [],
   "source": [
    "with open('test.txt', 'w') as f:\n",
    "    f.write(str(papers))"
   ]
  },
  {
   "cell_type": "code",
   "execution_count": 28,
   "metadata": {},
   "outputs": [
    {
     "name": "stdout",
     "output_type": "stream",
     "text": [
      "PubmedBookArticle\n",
      "PubmedArticle\n"
     ]
    }
   ],
   "source": [
    "results = search('fever')\n",
    "id_list = results['IdList']\n",
    "papers = fetch_details(id_list)\n",
    "for i, paper in enumerate(papers):\n",
    "    print(paper)"
   ]
  },
  {
   "cell_type": "code",
   "execution_count": 37,
   "metadata": {},
   "outputs": [],
   "source": [
    "p1 = papers['PubmedArticle']"
   ]
  },
  {
   "cell_type": "code",
   "execution_count": null,
   "metadata": {},
   "outputs": [],
   "source": [
    "results = search('fever')\n",
    "    id_list = results['IdList']\n",
    "    papers = fetch_details(id_list)\n",
    "    for i, paper in enumerate(papers):\n",
    "        print(\"%d) %s\" % (i+1, paper['MedlineCitation']['Article']['ArticleTitle']))"
   ]
  },
  {
   "cell_type": "code",
   "execution_count": 69,
   "metadata": {},
   "outputs": [],
   "source": [
    "import xml.etree.ElementTree as ET"
   ]
  },
  {
   "cell_type": "code",
   "execution_count": 101,
   "metadata": {},
   "outputs": [],
   "source": [
    "tree = ET.parse('test_xml.xml')\n",
    "root = tree.getroot()"
   ]
  },
  {
   "cell_type": "code",
   "execution_count": 102,
   "metadata": {},
   "outputs": [
    {
     "data": {
      "text/plain": [
       "<xml.etree.ElementTree.ElementTree at 0x10b792978>"
      ]
     },
     "execution_count": 102,
     "metadata": {},
     "output_type": "execute_result"
    }
   ],
   "source": [
    "tree"
   ]
  },
  {
   "cell_type": "code",
   "execution_count": 103,
   "metadata": {},
   "outputs": [
    {
     "name": "stdout",
     "output_type": "stream",
     "text": [
      "country\n",
      "{'name': 'Liechtenstein'}\n",
      "country\n",
      "{'name': 'Singapore'}\n",
      "country\n",
      "{'name': 'Panama'}\n"
     ]
    }
   ],
   "source": [
    "for child in root:\n",
    "    print(child.tag)\n",
    "    print(child.attrib)"
   ]
  },
  {
   "cell_type": "code",
   "execution_count": 91,
   "metadata": {},
   "outputs": [],
   "source": [
    "entrez_query = \"https://eutils.ncbi.nlm.nih.gov/entrez/eutils/efetch.fcgi?db=pmc&id={}\""
   ]
  },
  {
   "cell_type": "code",
   "execution_count": 92,
   "metadata": {},
   "outputs": [],
   "source": [
    "import requests"
   ]
  },
  {
   "cell_type": "code",
   "execution_count": 93,
   "metadata": {},
   "outputs": [],
   "source": [
    "r  = requests.get(entrez_query.format('PMC5353871'))"
   ]
  },
  {
   "cell_type": "code",
   "execution_count": 121,
   "metadata": {},
   "outputs": [],
   "source": [
    "tree = ET.ElementTree(ET.fromstring(r.content))\n",
    "root = tree.getroot()"
   ]
  },
  {
   "cell_type": "code",
   "execution_count": 124,
   "metadata": {},
   "outputs": [
    {
     "name": "stdout",
     "output_type": "stream",
     "text": [
      "<pmc-articleset xmlns:ns0=\"http://www.w3.org/1999/xlink\"><article article-type=\"review-article\">\n",
      "  \n",
      "  <front>\n",
      "    <journal-meta>\n",
      "      <journal-id journal-id-type=\"nlm-ta\">Eur Heart J</journal-id>\n",
      "      <journal-id journal-id-type=\"iso-abbrev\">Eur. Heart J</journal-id>\n",
      "      <journal-id journal-id-type=\"publisher-id\">eurheartj</journal-id>\n",
      "      <journal-title-group>\n",
      "        <journal-title>European Heart Journal</journal-title>\n",
      "      </journal-title-group>\n",
      "      <issn pub-type=\"ppub\">0195-668X</issn>\n",
      "      <issn pub-type=\"epub\">1522-9645</issn>\n",
      "      <publisher>\n",
      "        <publisher-name>Oxford University Press</publisher-name>\n",
      "      </publisher>\n",
      "    </journal-meta>\n",
      "    <article-meta>\n",
      "      <article-id pub-id-type=\"pmid\">27389907</article-id>\n",
      "      <article-id pub-id-type=\"pmc\">5353871</article-id>\n",
      "      <article-id pub-id-type=\"doi\">10.1093/eurheartj/ehw260</article-id>\n",
      "      <article-id pub-id-type=\"publisher-id\">ehw260</article-id>\n",
      "      <article-categories>\n",
      "        <subj-group subj-group-type=\"heading\">\n",
      "          <subject>Reviews</subject>\n",
      "          <subj-group subj-group-type=\"category-toc-heading\">\n",
      "            <subject>Clinical Update</subject>\n",
      "          </subj-group>\n",
      "        </subj-group>\n",
      "      </article-categories>\n",
      "      <title-group>\n",
      "        <article-title>Catheter ablation in patients with persistent atrial fibrillation</article-title>\n",
      "      </title-group>\n",
      "      <contrib-group>\n",
      "        <contrib contrib-type=\"author\">\n",
      "          <name>\n",
      "            <surname>Kirchhof</surname>\n",
      "            <given-names>Paulus</given-names>\n",
      "          </name>\n",
      "          <xref ref-type=\"aff\" rid=\"af1\">1</xref>\n",
      "          <xref ref-type=\"aff\" rid=\"af2\">2</xref>\n",
      "          <xref ref-type=\"aff\" rid=\"af3\">3</xref>\n",
      "          <xref ref-type=\"aff\" rid=\"af4\">4</xref>\n",
      "          <xref ref-type=\"corresp\" rid=\"cor1\" />\n",
      "          \n",
      "        </contrib>\n",
      "        <contrib contrib-type=\"author\">\n",
      "          <name>\n",
      "            <surname>Calkins</surname>\n",
      "            <given-names>Hugh</given-names>\n",
      "          </name>\n",
      "          <xref ref-type=\"aff\" rid=\"af5\">5</xref>\n",
      "        </contrib>\n",
      "      </contrib-group>\n",
      "      <aff id=\"af1\">\n",
      "<label>1</label>Institute of Cardiovascular Sciences, University of Birmingham, IBR, Room # 136, Birmingham B15 2TT, UK</aff>\n",
      "      <aff id=\"af2\">\n",
      "<label>2</label>SWBH and UHB NHS Trusts, Birmingham, UK</aff>\n",
      "      <aff id=\"af3\">\n",
      "<label>3</label>Atrial Fibrillation NETwork (AFNET), Münster, Germany</aff>\n",
      "      <aff id=\"af4\">\n",
      "<label>4</label>Department of Cardiovascular Medicine, Hospital of the University of Münster, Münster, Germany</aff>\n",
      "      <aff id=\"af5\">\n",
      "<label>5</label>Johns Hopkins University, Baltimore, MD, USA</aff>\n",
      "      <author-notes>\n",
      "        <corresp id=\"cor1\"><label>*</label>Corresponding author. Tel: +44 121 4147042, Email: <email>p.kirchhof@bham.ac.uk</email></corresp>\n",
      "      </author-notes>\n",
      "      <pub-date pub-type=\"ppub\">\n",
      "        <day>01</day>\n",
      "        <month>1</month>\n",
      "        <year>2017</year>\n",
      "      </pub-date>\n",
      "      <pub-date iso-8601-date=\"2016-07-07\" pub-type=\"epub\">\n",
      "        <day>07</day>\n",
      "        <month>7</month>\n",
      "        <year>2016</year>\n",
      "      </pub-date>\n",
      "      <pub-date pub-type=\"pmc-release\">\n",
      "        <day>07</day>\n",
      "        <month>7</month>\n",
      "        <year>2016</year>\n",
      "      </pub-date>\n",
      "      \n",
      "      <volume>38</volume>\n",
      "      <issue>1</issue>\n",
      "      <issue-title>Focus Issue on Atrial Fibrillation</issue-title>\n",
      "      <fpage>20</fpage>\n",
      "      <lpage>26</lpage>\n",
      "      <history>\n",
      "        <date date-type=\"received\">\n",
      "          <day>6</day>\n",
      "          <month>1</month>\n",
      "          <year>2016</year>\n",
      "        </date>\n",
      "        <date date-type=\"rev-recd\">\n",
      "          <day>29</day>\n",
      "          <month>4</month>\n",
      "          <year>2016</year>\n",
      "        </date>\n",
      "        <date date-type=\"accepted\">\n",
      "          <day>1</day>\n",
      "          <month>6</month>\n",
      "          <year>2016</year>\n",
      "        </date>\n",
      "      </history>\n",
      "      <permissions>\n",
      "        <copyright-statement>© The Author 2016. Published by Oxford University Press on behalf of the European Society of Cardiology.</copyright-statement>\n",
      "        <copyright-year>2016</copyright-year>\n",
      "        <license license-type=\"cc-by\" ns0:href=\"http://creativecommons.org/licenses/by/4.0/\">\n",
      "          <license-p>This is an Open Access article distributed under the terms of the Creative Commons Attribution License (<ext-link ext-link-type=\"uri\" ns0:href=\"http://creativecommons.org/licenses/by/4.0/\">http://creativecommons.org/licenses/by/4.0/</ext-link>), which permits unrestricted reuse, distribution, and reproduction in any medium, provided the original work is properly cited.</license-p>\n",
      "        </license>\n",
      "      </permissions>\n",
      "      <self-uri ns0:href=\"ehw260.pdf\" />\n",
      "      <abstract>\n",
      "        <p>Catheter ablation is increasingly offered to patients who suffer from symptoms due to atrial fibrillation (AF), based on a growing body of evidence illustrating its efficacy compared with antiarrhythmic drug therapy. Approximately one-third of AF ablation procedures are currently performed in patients with persistent or long-standing persistent AF. Here, we review the available information to guide catheter ablation in these more chronic forms of AF. We identify the following principles: Our clinical ability to discriminate paroxysmal and persistent AF is limited. Pulmonary vein isolation is a reasonable and effective first approach for catheter ablation of persistent AF. Other ablation strategies are being developed and need to be properly evaluated in controlled, multicentre trials. Treatment of concomitant conditions promoting recurrent AF by life style interventions and medical therapy should be a routine adjunct to catheter ablation of persistent AF. Early rhythm control therapy has a biological rationale and trials evaluating its value are underway. There is a clear need to generate more evidence for the best approach to ablation of persistent AF beyond pulmonary vein isolation in the form of adequately powered controlled multi-centre trials.</p>\n",
      "      </abstract>\n",
      "      <kwd-group>\n",
      "        <kwd>Atrial fibrillation</kwd>\n",
      "        <kwd>Persistent</kwd>\n",
      "        <kwd>Long-standing persistent</kwd>\n",
      "        <kwd>Catheter ablation</kwd>\n",
      "        <kwd>Technique</kwd>\n",
      "        <kwd>Indications</kwd>\n",
      "        <kwd>Outcomes</kwd>\n",
      "        <kwd>Sinus rhythm</kwd>\n",
      "        <kwd>Weight loss</kwd>\n",
      "        <kwd>Exercise</kwd>\n",
      "        <kwd>Complications</kwd>\n",
      "        <kwd>Clinical practice</kwd>\n",
      "        <kwd>Antiarrhythmic drugs</kwd>\n",
      "        <kwd>Rhythm control therapy</kwd>\n",
      "        <kwd>Upstream therapy</kwd>\n",
      "      </kwd-group>\n",
      "      <funding-group>\n",
      "        <award-group>\n",
      "          <funding-source>\n",
      "            <named-content content-type=\"funder-name\">European Union</named-content>\n",
      "          </funding-source>\n",
      "          <award-id>633193</award-id>\n",
      "        </award-group>\n",
      "        <award-group>\n",
      "          <funding-source>\n",
      "            <named-content content-type=\"funder-name\">Fondation Leducq</named-content>\n",
      "          </funding-source>\n",
      "        </award-group>\n",
      "        <award-group>\n",
      "          <funding-source>\n",
      "            <named-content content-type=\"funder-name\">British Heart Foundation</named-content>\n",
      "          </funding-source>\n",
      "          <award-id>FS/13/43/30324</award-id>\n",
      "        </award-group>\n",
      "      </funding-group>\n",
      "      <counts>\n",
      "        <page-count count=\"10\" />\n",
      "      </counts>\n",
      "    </article-meta>\n",
      "  </front>\n",
      "  <body>\n",
      "    <sec id=\"s1\" sec-type=\"intro\">\n",
      "      <title>Introduction</title>\n",
      "      <p>Recent prevalence estimates suggest that at least 33.5 million persons are affected by atrial fibrillation (AF).<sup><xref ref-type=\"bibr\" rid=\"ehw260C1\">1</xref></sup> Catheter ablation is increasingly offered to relieve AF-related symptoms,<sup><xref ref-type=\"bibr\" rid=\"ehw260C2\">2</xref>–<xref ref-type=\"bibr\" rid=\"ehw260C4\">4</xref></sup> based on evidence illustrating its efficacy compared with antiarrhythmic drug therapy.<sup><xref ref-type=\"bibr\" rid=\"ehw260C5\">5</xref>–<xref ref-type=\"bibr\" rid=\"ehw260C9\">9</xref></sup> There is less evidence supporting AF ablation in persistent AF, although small studies suggest better maintenance of sinus rhythm. Two years ago, the first multicentre trial comparing catheter ablation with cardioversion and antiarrhythmic drugs as first-line therapy for persistent AF has been reported and demonstrated more effective maintenance of sinus rhythm, as well as better quality of life, in patients randomized to catheter ablation.<sup><xref ref-type=\"bibr\" rid=\"ehw260C10\">10</xref></sup> In recently published surveys, approximately one-third of AF ablation procedures were performed in patients with persistent or long-standing persistent AF.<sup><xref ref-type=\"bibr\" rid=\"ehw260C4\">4</xref></sup> Here, we discuss recent data suggesting that our clinical ability to discriminate paroxysmal and persistent AF is limited, review the evidence supporting the use of catheter ablation in persistent AF, illustrate approaches to improve sinus rhythm maintenance by comprehensive cardiovascular risk reduction,<sup><xref ref-type=\"bibr\" rid=\"ehw260C11\">11</xref></sup> discuss the value of different ablation strategies, and highlight the need for adequate validation of novel approaches to catheter ablation for persistent AF.</p>\n",
      "    </sec>\n",
      "    <sec id=\"s2\">\n",
      "      <title>What is persistent atrial fibrillation</title>\n",
      "      <p>Persistent AF is defined as AF that persists without interruption for 7 days or longer.<sup><xref ref-type=\"bibr\" rid=\"ehw260C5\">5</xref>,<xref ref-type=\"bibr\" rid=\"ehw260C6\">6</xref></sup> Whether patients who have been cardioverted during the first 7 days of an AF episode should be classified as persistent or paroxysmal has been defined differently in the USA and in Europe,<sup><xref ref-type=\"bibr\" rid=\"ehw260C5\">5</xref>,<xref ref-type=\"bibr\" rid=\"ehw260C6\">6</xref></sup> but this only pertains to a small number of patients who receive early cardioversion. Patients who are in AF for &gt;1 year are classed as long-standing persistent AF.<sup><xref ref-type=\"bibr\" rid=\"ehw260C5\">5</xref>,<xref ref-type=\"bibr\" rid=\"ehw260C6\">6</xref></sup> Most patients who initially present with paroxysmal, self-terminating AF will progress to chronic forms of the arrhythmia (including permanent AF) or switch back and forth between paroxysmal and persistent or long-standing persistent AF.<sup><xref ref-type=\"bibr\" rid=\"ehw260C12\">12</xref>,<xref ref-type=\"bibr\" rid=\"ehw260C13\">13</xref></sup> This simple observation already suggests that paroxysmal and persistent AF are not biologically distinct entities, but rather constitute different presentations of the same arrhythmia, loosely associated with different stages of the disease. Consistent with this general concept, patients diagnosed with persistent AF are generally older than those in paroxysmal AF, and present with more comorbidities.<sup><xref ref-type=\"bibr\" rid=\"ehw260C14\">14</xref>,<xref ref-type=\"bibr\" rid=\"ehw260C15\">15</xref></sup> Over the last decade, the ECG-monitoring technology available to health care professionals and to the general public has tremendously advanced, thus profoundly improving our ability to differentiate AF patterns, reflected in consensus statements that informed regulatory bodies.<sup><xref ref-type=\"bibr\" rid=\"ehw260C7\">7</xref>,<xref ref-type=\"bibr\" rid=\"ehw260C16\">16</xref></sup> Importantly, a recent analysis of continued atrial rhythm monitoring using implanted devices suggests that the AF pattern (or ‘AF burden’) does not differ too much between patients who have been clinically diagnosed with ‘paroxysmal’ or ‘persistent’ AF.<sup><xref ref-type=\"bibr\" rid=\"ehw260C17\">17</xref></sup> Hence, the mere clinical classification of the AF pattern as ‘persistent’ may neither be sufficient justification to decide on a specific ablation strategy nor too powerful to predict the effectiveness of catheter ablation. It rather seems reasonable to assume that some patients with persistent AF respond to pulmonary vein isolation (PVI) as well as patients in paroxysmal AF, while others (with either AF pattern) are likely to develop recurrent AF.</p>\n",
      "    </sec>\n",
      "    <sec id=\"s3\">\n",
      "      <title>Prevention of recurrent atrial fibrillation in patients scheduled for ablation of persistent atrial fibrillation</title>\n",
      "      <p>It is well established that many patients already present with substantial atrial damage at the first episode of AF, and concomitant conditions such as hypertension, obesity, heart failure, chronic kidney disease, and others will cause ‘remodelling’ of the atria prior to occurrence of AF.<sup><xref ref-type=\"bibr\" rid=\"ehw260C11\">11</xref>,<xref ref-type=\"bibr\" rid=\"ehw260C18\">18</xref></sup> On top of this ‘remodelling’, AF induces electrical and structural changes in the atria that occur within days to weeks (<italic>Figure <xref ref-type=\"fig\" rid=\"ehw260F1\">1</xref></italic>). Nonetheless, some patients develop AF without detectable concomitant conditions late in life.<sup><xref ref-type=\"bibr\" rid=\"ehw260C19\">19</xref></sup><fig id=\"ehw260F1\" orientation=\"portrait\" position=\"float\"><label>Figure 1</label><caption><p>Major health modifiers promoting recurrent atrial fibrillation (orange boxes) and the likely intermediary mechanisms causing atrial damage and leading to atrial fibrillation (open boxes, top part, health modifiers taken from Fabritz <italic>et al.</italic><sup><xref ref-type=\"bibr\" rid=\"ehw260C89\">89</xref></sup>). The green boxes at the bottom illustrate interventions that can mitigate or reverse these effects. These ancillary interventions should be an integral part of the management of patients undergoing catheter ablation of persistent atrial fibrillation.</p></caption><graphic ns0:href=\"ehw26001\" /></fig></p>\n",
      "      <p>A number of factors promote recurrent AF in patients, including those that undergo ablation of AF. Interestingly, time since the first diagnosis of AF is only a weak factor, while the time spent in continuous AF prior to ablation is a better predictor of outcome, where maintenance of sinus rhythm after ablation is less likely in patients spending &gt;3 years continuously in AF prior to ablation (‘long-standing persistent’ AF).<sup><xref ref-type=\"bibr\" rid=\"ehw260C20\">20</xref></sup></p>\n",
      "      <p>Other drivers of recurrent AF are related to clinical conditions that promote structural remodelling. Left atrial remodelling, which can be assessed invasively by quantifying areas of low-voltage left atrial signals, or with MR imaging,<sup><xref ref-type=\"bibr\" rid=\"ehw260C21\">21</xref>–<xref ref-type=\"bibr\" rid=\"ehw260C24\">24</xref></sup> is largely determined by concomitant cardiovascular conditions and possibly by duration of AF, while other factors were derived from clinical information.<sup><xref ref-type=\"bibr\" rid=\"ehw260C25\">25</xref>,<xref ref-type=\"bibr\" rid=\"ehw260C26\">26</xref></sup> It is worthwhile to consider that the effect of any AF ablation procedure is to induce further areas of delayed gadolinium enhancement.<sup><xref ref-type=\"bibr\" rid=\"ehw260C23\">23</xref>,<xref ref-type=\"bibr\" rid=\"ehw260C27\">27</xref></sup></p>\n",
      "      <p>While the natural ageing process is presently difficult to modulate, several factors associated with recurrent AF after catheter ablation can be modified by medical therapy or life style interventions (<italic>Table <xref ref-type=\"table\" rid=\"ehw260TB1\">1</xref></italic>). Initial results of such life style interventions, e.g. regular exercise<sup><xref ref-type=\"bibr\" rid=\"ehw260C28\">28</xref></sup> or systematic weight reduction in obese patients scheduled for AF ablation,<sup><xref ref-type=\"bibr\" rid=\"ehw260C29\">29</xref>,<xref ref-type=\"bibr\" rid=\"ehw260C30\">30</xref></sup> are promising. Initial results also suggest that antihypertensive therapies that modulate central sympathetic tone (moxonidine) reduce recurrent AF after catheter ablation.<sup><xref ref-type=\"bibr\" rid=\"ehw260C31\">31</xref></sup> Angiotensin converting enzyme inhibitors or sartans, while not effective in preventing recurrent AF in patients without structural heart disease in the short term,<sup><xref ref-type=\"bibr\" rid=\"ehw260C32\">32</xref>,<xref ref-type=\"bibr\" rid=\"ehw260C33\">33</xref></sup> may have long-term beneficial effects for the primary prevention of AF.<sup><xref ref-type=\"bibr\" rid=\"ehw260C34\">34</xref></sup> It has also been suggested that evidence-based therapy of heart failure with reduced ejection fraction can help to prevent AF.<sup><xref ref-type=\"bibr\" rid=\"ehw260C35\">35</xref></sup> Likewise, adequate revascularization and treatment of mitral valve disease are likely to help stabilize sinus rhythm and restore atrial function (<italic>Figure <xref ref-type=\"fig\" rid=\"ehw260F1\">1</xref></italic>). While it will be difficult to evaluate each of these interventions separately in outcome trials, it seems reasonable to integrate adequate treatment of modifiable cardiovascular conditions into the management of patients undergoing ablation of AF based on their known general cardiovascular benefits.<sup><xref ref-type=\"bibr\" rid=\"ehw260C36\">36</xref></sup> In addition, it is common practice to use antiarrhythmic drugs for 3 months after catheter ablation of AF, including for persistent AF. Such treatment probably suppresses short-term recurrences of AF, but does not alter the mid-term recurrence rate.<sup><xref ref-type=\"bibr\" rid=\"ehw260C37\">37</xref></sup> This practice seems reasonable.\n",
      "<table-wrap id=\"ehw260TB1\" orientation=\"portrait\" position=\"float\"><label>Table 1</label><caption><p>Clinical factors that contribute to recurrent atrial fibrillation after catheter ablation and potential interventions that could reduce their impact on recurrent atrial fibrillation</p></caption><table frame=\"hsides\" rules=\"groups\"><colgroup span=\"1\"><col align=\"left\" span=\"1\" /><col align=\"left\" span=\"1\" /></colgroup><thead><tr><th align=\"left\" colspan=\"1\" rowspan=\"1\">Factor associated with recurrent AF</th><th align=\"left\" colspan=\"1\" rowspan=\"1\">Possible intervention</th></tr></thead><tbody><tr><td colspan=\"1\" rowspan=\"1\">Age</td><td colspan=\"1\" rowspan=\"1\">None available</td></tr><tr><td colspan=\"1\" rowspan=\"1\">Chronic kidney disease</td><td colspan=\"1\" rowspan=\"1\">?</td></tr><tr><td colspan=\"1\" rowspan=\"1\">Diabetes</td><td colspan=\"1\" rowspan=\"1\">Weight reduction, regular exercise (?)</td></tr><tr><td colspan=\"1\" rowspan=\"1\">Obesity</td><td colspan=\"1\" rowspan=\"1\">Weight reduction, regular exercise</td></tr><tr><td colspan=\"1\" rowspan=\"1\">Hypertension</td><td colspan=\"1\" rowspan=\"1\">Antihypertensive therapy, possibly including monoxidine and RAAS inhibition</td></tr><tr><td colspan=\"1\" rowspan=\"1\">Heart failure</td><td colspan=\"1\" rowspan=\"1\">Therapy of HFrEF with ACE inhibitors, β blockers, mineralocorticoid antagonists, etc.</td></tr><tr><td colspan=\"1\" rowspan=\"1\">High ventricular rate</td><td colspan=\"1\" rowspan=\"1\">Rate control therapy (?)</td></tr><tr><td colspan=\"1\" rowspan=\"1\">Left atrial diameter</td><td colspan=\"1\" rowspan=\"1\">None available</td></tr><tr><td colspan=\"1\" rowspan=\"1\">Duration of continuous AF prior to ablation</td><td colspan=\"1\" rowspan=\"1\">Early rhythm control therapy (?)</td></tr></tbody></table><table-wrap-foot><fn id=\"tblfn1\"><p>ACE, angiotensin converting enzyme; AF, atrial fibrillation; HFrEF, heart failure with reduced ejection fraction; RAAS, renin–angiotensin aldosterone.</p></fn></table-wrap-foot></table-wrap><fig id=\"ehw260F2\" orientation=\"portrait\" position=\"float\"><label>Figure 2</label><caption><p>Reconstruction of the left atrium (posterior view) showing the pulmonary veins and the left atrial appendage. Red dots illustrate the current approach of isolation of the pulmonary veins, in this case including a line between the two superior and inferior veins. Orange lines indicate additional linear ablation lesions that have been proposed to enhance the success rate of atrial fibrillation ablation (roof line, mitral isthmus line, ‘box’ lesions consisting of a roof/superior and inferior connection between the pulmonary vein isolation circles, and left atrial appendage isolation). The effectiveness of these additional ablation interventions will require evaluation in adequately sized and powered controlled trials.</p></caption><graphic ns0:href=\"ehw26002\" /></fig></p>\n",
      "    </sec>\n",
      "    <sec id=\"s4\">\n",
      "      <title>Pulmonary vein isolation prevents recurrent atrial fibrillation in some, but not all patients with persistent atrial fibrillation</title>\n",
      "      <p>The first description that triggers in the pulmonary veins initiate AF and that their elimination by radio frequency ablation prevents AF has been a key disruptive discovery shaping AF ablation.<sup><xref ref-type=\"bibr\" rid=\"ehw260C38\">38</xref></sup> Pulmonary vein isolation remains the cornerstone of AF ablation until today.<sup><xref ref-type=\"bibr\" rid=\"ehw260C7\">7</xref></sup> Two-thirds of surveyed European centres perform PVI without additional ablation targets as a first-line therapy for persistent AF.<sup><xref ref-type=\"bibr\" rid=\"ehw260C39\">39</xref></sup> Pulmonary vein isolation conveys a 60–80% rate of maintaining sinus rhythm after 1 year in patients who predominantly present with paroxysmal forms of AF, not different between centres mainly using cryoballoon and irrigated radio frequency ablation.<sup><xref ref-type=\"bibr\" rid=\"ehw260C40\">40</xref>–<xref ref-type=\"bibr\" rid=\"ehw260C42\">42</xref></sup> The rhythm outcome in patients with persistent AF is more variable, but not much worse in some series (<italic>Table <xref ref-type=\"table\" rid=\"ehw260TB2\">2</xref></italic>). The maintenance of sinus rhythm is not dramatically different between ‘persistent’ AF patients undergoing PVI alone compared with patients undergoing more extensive ablation approaches, including a risk to develop left atrial tachycardia with either approach (<italic>Table <xref ref-type=\"table\" rid=\"ehw260TB2\">2</xref></italic>).<sup><xref ref-type=\"bibr\" rid=\"ehw260C40\">40</xref></sup><table-wrap id=\"ehw260TB2\" orientation=\"portrait\" position=\"float\"><label>Table 2</label><caption><p>Controlled trials and selected observational data sets reporting sinus rhythm rates after catheter ablation of persistent atrial fibrillation</p></caption><table frame=\"hsides\" rules=\"groups\"><colgroup span=\"1\"><col align=\"left\" span=\"1\" /><col align=\"left\" span=\"1\" /><col align=\"left\" span=\"1\" /><col align=\"left\" span=\"1\" /><col align=\"left\" span=\"1\" /><col align=\"left\" span=\"1\" /></colgroup><thead><tr><th align=\"left\" colspan=\"1\" rowspan=\"2\" /><th align=\"left\" colspan=\"1\" rowspan=\"2\">Patients</th><th align=\"left\" colspan=\"1\" rowspan=\"2\">Intervention</th><th align=\"left\" colspan=\"1\" rowspan=\"2\">Control</th><th align=\"center\" colspan=\"2\" rowspan=\"1\">Sinus rhythm outcome<hr /></th></tr><tr><th align=\"left\" colspan=\"1\" rowspan=\"1\">Ablation</th><th align=\"left\" colspan=\"1\" rowspan=\"1\">Control</th></tr></thead><tbody><tr><td colspan=\"6\" rowspan=\"1\">Controlled trials</td></tr><tr><td colspan=\"1\" rowspan=\"1\"> Wazni<sup><xref ref-type=\"bibr\" rid=\"ehw260C47\">47</xref></sup></td><td colspan=\"1\" rowspan=\"1\">70 (paroxysmal and persistent)</td><td colspan=\"1\" rowspan=\"1\">CA</td><td colspan=\"1\" rowspan=\"1\">AAD + CV</td><td colspan=\"1\" rowspan=\"1\"><italic>87%</italic><sup>a</sup></td><td colspan=\"1\" rowspan=\"1\"><italic>46%</italic><sup>a</sup></td></tr><tr><td colspan=\"1\" rowspan=\"1\"> Oral<sup><xref ref-type=\"bibr\" rid=\"ehw260C48\">48</xref></sup></td><td colspan=\"1\" rowspan=\"1\">146</td><td colspan=\"1\" rowspan=\"1\">PVI + Amiodarone</td><td colspan=\"1\" rowspan=\"1\">Amiodarone + CV</td><td colspan=\"1\" rowspan=\"1\"><italic>74%</italic><sup>a</sup></td><td colspan=\"1\" rowspan=\"1\"><italic>58%</italic><sup>a</sup></td></tr><tr><td colspan=\"1\" rowspan=\"1\"> Stabile<sup><xref ref-type=\"bibr\" rid=\"ehw260C49\">49</xref></sup></td><td colspan=\"1\" rowspan=\"1\">137 (paroxysmal or persistent)</td><td colspan=\"1\" rowspan=\"1\">CA: PVI + mitral line + CTI</td><td colspan=\"1\" rowspan=\"1\">AAD</td><td colspan=\"1\" rowspan=\"1\">56%</td><td colspan=\"1\" rowspan=\"1\">10%</td></tr><tr><td colspan=\"1\" rowspan=\"1\"> Forleo<sup><xref ref-type=\"bibr\" rid=\"ehw260C50\">50</xref></sup></td><td colspan=\"1\" rowspan=\"1\">70 (41 persistent)</td><td colspan=\"1\" rowspan=\"1\">CA</td><td colspan=\"1\" rowspan=\"1\">AAD + CV</td><td colspan=\"1\" rowspan=\"1\"><italic>80%</italic><sup>a</sup></td><td colspan=\"1\" rowspan=\"1\"><italic>43%</italic><sup>a</sup></td></tr><tr><td colspan=\"1\" rowspan=\"1\"> Jones<sup><xref ref-type=\"bibr\" rid=\"ehw260C51\">51</xref></sup></td><td colspan=\"1\" rowspan=\"1\"><italic>52</italic></td><td colspan=\"1\" rowspan=\"1\"><italic>CA</italic></td><td colspan=\"1\" rowspan=\"1\"><italic>Rate control</italic></td><td colspan=\"1\" rowspan=\"1\"><italic>88%</italic><sup>a</sup></td><td colspan=\"1\" rowspan=\"1\"><italic>n.a.</italic></td></tr><tr><td colspan=\"1\" rowspan=\"1\"> Mont<sup><xref ref-type=\"bibr\" rid=\"ehw260C10\">10</xref></sup></td><td colspan=\"1\" rowspan=\"1\">146</td><td colspan=\"1\" rowspan=\"1\">CA</td><td colspan=\"1\" rowspan=\"1\">AAD + CV</td><td colspan=\"1\" rowspan=\"1\">70%</td><td colspan=\"1\" rowspan=\"1\">44%</td></tr><tr><td colspan=\"1\" rowspan=\"1\"> Verma<sup><xref ref-type=\"bibr\" rid=\"ehw260C43\">43</xref></sup></td><td colspan=\"1\" rowspan=\"1\">589</td><td colspan=\"1\" rowspan=\"1\">PVI</td><td colspan=\"1\" rowspan=\"1\">PVI + lines, PVI + CFAE</td><td colspan=\"1\" rowspan=\"1\">59%</td><td colspan=\"1\" rowspan=\"1\">46%; 49%</td></tr><tr><td colspan=\"1\" rowspan=\"1\"> Dong<sup><xref ref-type=\"bibr\" rid=\"ehw260C52\">52</xref></sup></td><td colspan=\"1\" rowspan=\"1\">146</td><td colspan=\"1\" rowspan=\"1\">CA + lines (fix)</td><td colspan=\"1\" rowspan=\"1\">CA (stepwise)</td><td colspan=\"1\" rowspan=\"1\">67%</td><td colspan=\"1\" rowspan=\"1\">60%</td></tr><tr><td colspan=\"6\" rowspan=\"1\">Observational data sets</td></tr><tr><td colspan=\"1\" rowspan=\"1\"> Hunter (multi centre)<sup><xref ref-type=\"bibr\" rid=\"ehw260C53\">53</xref></sup></td><td colspan=\"1\" rowspan=\"1\">586 (persistent)</td><td colspan=\"1\" rowspan=\"1\">CA (1.8 mean procedures, mainly PVI)</td><td colspan=\"1\" rowspan=\"1\">n.a.</td><td colspan=\"1\" rowspan=\"1\"><italic>60%</italic><sup>a</sup></td><td colspan=\"1\" rowspan=\"1\">n.a.</td></tr><tr><td colspan=\"1\" rowspan=\"1\"> Scherr (single centre)<sup><xref ref-type=\"bibr\" rid=\"ehw260C54\">54</xref></sup></td><td colspan=\"1\" rowspan=\"1\">150</td><td colspan=\"1\" rowspan=\"1\">CA (AF termination outcome)</td><td colspan=\"1\" rowspan=\"1\">n.a.</td><td colspan=\"1\" rowspan=\"1\">65%</td><td colspan=\"1\" rowspan=\"1\">n.a.</td></tr><tr><td colspan=\"1\" rowspan=\"1\"> Schreiber (single centre)<sup><xref ref-type=\"bibr\" rid=\"ehw260C55\">55</xref></sup></td><td colspan=\"1\" rowspan=\"1\">549</td><td colspan=\"1\" rowspan=\"1\">CA (stepwise approach)</td><td colspan=\"1\" rowspan=\"1\">n.a.</td><td colspan=\"1\" rowspan=\"1\">56%</td><td colspan=\"1\" rowspan=\"1\">n.a.</td></tr><tr><td colspan=\"1\" rowspan=\"1\"> Haissaguerre<sup><xref ref-type=\"bibr\" rid=\"ehw260C56\">56</xref></sup></td><td colspan=\"1\" rowspan=\"1\">103</td><td colspan=\"1\" rowspan=\"1\">CA (driver domains)</td><td colspan=\"1\" rowspan=\"1\"><italic>65%</italic><sup>a</sup></td><td colspan=\"1\" rowspan=\"1\">n.a.</td><td colspan=\"1\" rowspan=\"1\" /></tr></tbody></table><table-wrap-foot><fn id=\"tblfn2\"><p>AAD, antiarrhythmic drugs; CA, catheter ablation; CV, cardioversion; PVI, pulmonary vein isolation.</p></fn><fn id=\"tblfn3\"><p><sup>a</sup>Numbers in italic indicate success rates without intensive ECG monitoring.</p></fn></table-wrap-foot></table-wrap></p>\n",
      "      <p>One of the most important recent studies in field of ablation of persistent AF was the Star AF 2 trial.<sup><xref ref-type=\"bibr\" rid=\"ehw260C43\">43</xref></sup> This landmark study randomized 589 patients with persistent AF to PV isolation alone (<italic>N</italic> = 67 patients), to PVI plus linear ablation (<italic>N</italic> = 259 patients), or to PVI and ablation of continuous fractionated electrograms ablation (CFAE, <italic>N</italic> = 263 patients). The results of this study revealed no difference in outcomes of these three ablation strategies. After 18 months of follow-up, 59% of patients assigned to PVI alone were AF free, when compared with 49% of patients assigned to PVI plus CFAE ablation and 46% of patients assigned to PVI plus linear ablation. The lack of additional effects of CFAE ablation possibly came as less of a surprise as the lack of effects of linear lesions.<sup><xref ref-type=\"bibr\" rid=\"ehw260C44\">44</xref>,<xref ref-type=\"bibr\" rid=\"ehw260C45\">45</xref></sup> The longer procedure duration of extended ablation procedures, associated with higher radiation exposure and possibly higher complication rates, should be considered in this context. Star AF 2 clearly supports the use of PVI without further ablation as the first-line therapy in patients with persistent AF, opening the possibility of catheter ablation of persistent AF using cryothermy balloons in the future.<sup><xref ref-type=\"bibr\" rid=\"ehw260C46\">46</xref></sup> We propose that a group of patients with persistent AF respond as well to PVI as patients with paroxysmal AF.</p>\n",
      "    </sec>\n",
      "    <sec id=\"s5\">\n",
      "      <title>Targets for catheter ablation beyond pulmonary vein isolation</title>\n",
      "      <p>The most recent AF ablation consensus document considered PVI the ‘cornerstone’ of AF ablation.<sup><xref ref-type=\"bibr\" rid=\"ehw260C7\">7</xref></sup> The document also stated that additional ablation strategies should be considered when ablating persistent AF, and expressed a need for sufficiently powered multicentre trials comparing different AF ablation strategies. At that time there was no consensus as to which of these ablation strategies was optimal.</p>\n",
      "      <p>Prior to the seminal description of triggers in the pulmonary veins initiating AF,<sup><xref ref-type=\"bibr\" rid=\"ehw260C38\">38</xref></sup> several skilled groups developed different sets of linear left and right atrial lesions in an attempt to prevent AF.<sup><xref ref-type=\"bibr\" rid=\"ehw260C57\">57</xref>–<xref ref-type=\"bibr\" rid=\"ehw260C61\">61</xref></sup> Several linear lesions, e.g. around the mitral isthmus or a ‘roof line’ connecting the ablation lesions encircling the pulmonary veins, have been re-used as relevant adjuncts to PVI in persistent AF (<italic>Figure <xref ref-type=\"fig\" rid=\"ehw260F2\">2</xref></italic>).<sup><xref ref-type=\"bibr\" rid=\"ehw260C54\">54</xref>,<xref ref-type=\"bibr\" rid=\"ehw260C56\">56</xref>,<xref ref-type=\"bibr\" rid=\"ehw260C62\">62</xref>,<xref ref-type=\"bibr\" rid=\"ehw260C63\">63</xref></sup> Additional lesions that have been proposed are a ‘box’ encircling the posterior left atrium including all four pulmonary veins, and a line isolating the left atrial appendage (<italic>Figure <xref ref-type=\"fig\" rid=\"ehw260F2\">2</xref></italic>). Initial reports, often comprising procedures done in a single centre and relying on a few dozen of patients, were promising, while larger, confirmatory studies often yielded higher recurrence rates. One commonly proposed ablation strategy at the time was the ‘stepwise’ approach to ablation of persistent AF proposed and championed by the Bordeaux group.<sup><xref ref-type=\"bibr\" rid=\"ehw260C64\">64</xref>,<xref ref-type=\"bibr\" rid=\"ehw260C65\">65</xref></sup> Like other developments in the field that were mainly developed and evaluated in a small number of centres, this approach has never gained wide-spread use. A recent publication describing the long-term outcomes of 150 patients who underwent the stepwise approach to ablation of persistent AF using the stepwise approach was somewhat sobering. Arrhythmia-free survival rates after a single procedure were 35.3 ± 3.9, 28.0 ± 3.7, and 16.8 ± 3.2% at 1, 2, and 5 years, respectively.<sup><xref ref-type=\"bibr\" rid=\"ehw260C54\">54</xref></sup></p>\n",
      "      <p>New ablation strategies for ablation of persistent AF have started to emerge. One of these new strategies involves the use of a multi-electrode basket catheter to map ‘rotors’, i.e. areas that are critical for maintenance of AF.<sup><xref ref-type=\"bibr\" rid=\"ehw260C66\">66</xref>,<xref ref-type=\"bibr\" rid=\"ehw260C67\">67</xref></sup> Some, but not all, of the published outcomes using this basket-based rotor mapping-based approach have reported encouraging results.<sup><xref ref-type=\"bibr\" rid=\"ehw260C67\">67</xref>,<xref ref-type=\"bibr\" rid=\"ehw260C68\">68</xref></sup> Non-invasive body surface potential mapping has been used by another group to identify such critical areas (described as ‘drivers’ or ‘focal sources’ by these researchers).<sup><xref ref-type=\"bibr\" rid=\"ehw260C69\">69</xref>,<xref ref-type=\"bibr\" rid=\"ehw260C70\">70</xref></sup> Another strategy that has been developed is to homogenize areas of scar, using MRI or voltage mapping to identify areas of scar (see <italic>Figure <xref ref-type=\"fig\" rid=\"ehw260F3\">3</xref></italic> for illustrative examples of abnormal areas of low voltage in the left atrium). Once identified these areas of scar are ablated in an attempt to eliminate any potential re-entrant circuits.<sup><xref ref-type=\"bibr\" rid=\"ehw260C71\">71</xref></sup> Experimental data suggest that the core of a rotor may often co-localize with areas of conduction block, in line with the behaviour of voltage vectors constructed from filtered electrograms. Hence, these two approaches may result in somewhat overlapping ablation lesions. The concept of targeting fractionated electrograms (CFAE) has been abandoned by many centres after disappointing results of controlled trials. These lesions are placed based on electrogram characteristics and do not follow a defined anatomical pattern.\n",
      "<fig id=\"ehw260F3\" orientation=\"portrait\" position=\"float\"><label>Figure 3</label><caption><p>Examples of left atrial voltage maps (view onto the posterior left atrium) showing normal left atrial voltage (upper panel), confined areas of low left atrial voltage (lower left panel), and homogeneous reduction of left atrial electrogram voltage (lower right panel). Purple colour indicates areas with normal (&gt;0.5 mV) amplitude of bipolar electrograms, red areas with low (≤0.2 mV) left atrial voltage.</p></caption><graphic ns0:href=\"ehw26003\" /></fig></p>\n",
      "      <p>Whether any of the novel strategies listed above proves to be superior to PVI alone for ablation of persistent AF remains to be determined. Currently, a large variety of ablation strategies are being employed with a goal of obtaining preliminary data concerning whether these new ablation strategies are more effective than PV isolation alone. When interpreting results from studies evaluating novel ablation strategies, it seems important to recognise a major limitation of current catheter ablation interventions: Even when the PVI is performed in selected, highly experienced centres with a clear aim to achieve complete isolation, this is only achieved in a minority of patients.<sup><xref ref-type=\"bibr\" rid=\"ehw260C72\">72</xref></sup> Hence, better technology is needed to achieve transmural lesions. This has implications not only for the evaluation of linear lesions but also for other ablation concepts.</p>\n",
      "      <p>At some point these new ablation strategies will need to be compared head to head with PV isolation alone in sufficiently powered multicentre trials similar to the design of the Star-AF 2 Trial described above. Until that point, these new approaches must be considered experimental and their value unproven.</p>\n",
      "    </sec>\n",
      "    <sec id=\"s6\">\n",
      "      <title>Early rhythm control therapy</title>\n",
      "      <p>More and more electrophysiologists are opting to perform AF ablation early in the course of the AF journey in an attempt to reduce AF burden and limit AF-induced atrial damage. Consistent with this trend are the recommendations by both the ESC AF Guidelines and also the AHA/ACC/HRS AF consensus document that catheter ablation of paroxysmal AF may be considered as first-line therapy<sup><xref ref-type=\"bibr\" rid=\"ehw260C11\">11</xref>,<xref ref-type=\"bibr\" rid=\"ehw260C73\">73</xref></sup> based on patient preference and when performed in experienced centres.<sup><xref ref-type=\"bibr\" rid=\"ehw260C74\">74</xref></sup> While published trials, relying on antiarrhythmic drug therapy and often accepting interruption of oral anticoagulation after sinus rhythm restoration, have not shown a prognostic benefit of rhythm control therapy over usual care,<sup><xref ref-type=\"bibr\" rid=\"ehw260C75\">75</xref></sup> there is biological reason to believe that sinus rhythm maintenance could help to prevent these cardiovascular events.<sup><xref ref-type=\"bibr\" rid=\"ehw260C76\">76</xref>–<xref ref-type=\"bibr\" rid=\"ehw260C79\">79</xref></sup> Intermittent periods of sinus rhythm may reverse some of the underlying adaptive processes (‘electrical’ and ‘structural’ remodelling).<sup><xref ref-type=\"bibr\" rid=\"ehw260C78\">78</xref>,<xref ref-type=\"bibr\" rid=\"ehw260C80\">80</xref></sup> Activation patterns in the fibrillating atria are heterogeneous and highly variable over time.<sup><xref ref-type=\"bibr\" rid=\"ehw260C81\">81</xref></sup> The complexity of electrical activity in AF, described as drivers,<sup><xref ref-type=\"bibr\" rid=\"ehw260C56\">56</xref></sup> epicardial break through,<sup><xref ref-type=\"bibr\" rid=\"ehw260C82\">82</xref>–<xref ref-type=\"bibr\" rid=\"ehw260C84\">84</xref></sup> rotor,<sup><xref ref-type=\"bibr\" rid=\"ehw260C85\">85</xref></sup> or AF cycle length,<sup><xref ref-type=\"bibr\" rid=\"ehw260C86\">86</xref></sup> increases with longer duration of continuous AF. A novelty of the rhythm control approach in In EAST—AFNET 4 is the mandate for an early rhythm control therapy intervention,<sup><xref ref-type=\"bibr\" rid=\"ehw260C87\">87</xref>,<xref ref-type=\"bibr\" rid=\"ehw260C88\">88</xref></sup> informed by the observation that AF-induced atrial remodelling may facilitate recurrent AF during later stages of the disease. It remains to be seen if this early intervention approach bear can also help to prevent strokes and other major cardiovascular outcomes in AF patients.</p>\n",
      "    </sec>\n",
      "    <sec id=\"s7\">\n",
      "      <title>Summary</title>\n",
      "      <p>Catheter ablation is a reasonably effective intervention to achieve restoration and maintenance of sinus rhythm in patients with persistent AF. The evidence underpinning the use of catheter ablation is less strong for persistent and long-standing persistent AF than for paroxysmal AF. Acknowledging the need for further data, we suggest the following principles to guide catheter ablation of persistent AF (<italic>Figure <xref ref-type=\"fig\" rid=\"ehw260F4\">4</xref></italic>):\n",
      "<list list-type=\"order\"><list-item><p>Many patients who are clinically classified as ‘persistent AF’ will have a similar AF patterns to other patients who are classified as ‘paroxysmal AF’.</p></list-item><list-item><p>Catheter ablation should be considered for symptom relief in patients with persistent AF, especially after failed antiarrhythmic drug therapy.</p></list-item><list-item><p>Pulmonary vein isolation is a reasonable and often sufficiently effective ablation strategy in patients undergoing a first catheter ablation of persistent AF.</p></list-item><list-item><p>Additional ablation targets should in our view not routinely be pursued in the first procedure.</p></list-item><list-item><p>Optimal management of concomitant cardiovascular conditions should be an integral part of rhythm control therapy in patients with persistent AF undergoing catheter ablation.</p></list-item><list-item><p>Early rhythm control intervention has conceptual benefits, but needs evaluation in controlled trials. At present, it seems reasonable to not delay catheter ablation unduly after the decision for rhythm control therapy has been taken.\n",
      "<fig id=\"ehw260F4\" orientation=\"portrait\" position=\"float\"><label>Figure 4</label><caption><p>Proposed stepwise approach to catheter ablation of patients with persistent atrial fibrillation emphasizing the need to isolate the pulmonary veins before applying further ablation techniques, and illustrating the integration of medical and life style interventions underpinning the effect of catheter ablation. This proposal integrates available evidence. We recognize the need to evaluate the best AF ablation strategy in different populations of patients with persistent atrial fibrillation.</p></caption><graphic ns0:href=\"ehw26004\" /></fig></p></list-item></list></p>\n",
      "    </sec>\n",
      "    <sec id=\"s8\">\n"
     ]
    },
    {
     "name": "stdout",
     "output_type": "stream",
     "text": [
      "      <title>What next?</title>\n",
      "      <p>There are development needs for this exciting and understudied area in clinical electrophysiology. Among them, the following appear of special relevance to us:\n",
      "<list list-type=\"order\"><list-item><p>There is a need to develop better technology to achieve safe and reliable transmural lesions in the left atrium.</p></list-item><list-item><p>We need to identify clinical markers for different types of AF that allow to identify persistent AF patients who will benefit from catheter ablation.<sup><xref ref-type=\"bibr\" rid=\"ehw260C89\">89</xref></sup></p></list-item><list-item><p>Research into reduction of ablation complications and development of simple techniques to achieve PVI<sup><xref ref-type=\"bibr\" rid=\"ehw260C46\">46</xref></sup> is needed.</p></list-item><list-item><p>Several additional ablation strategies have been evaluated and abandoned, while others (including promising novel ideas) are in need of adequate evaluation in sufficiently powered controlled clinical trials, e.g. in patients with recurrent AF after successful PVI. This requires international cooperation of major ablation centres to allow the conduct of properly powered controlled trials.</p></list-item></list></p>\n",
      "    </sec>\n",
      "    <sec id=\"s9\">\n",
      "      <title>Authors' contributions</title>\n",
      "      <p>P.K. handled funding and supervision, drafted the manuscript. P.K., H.C. (literature review) acquired the data, conceived and designed the research. H.C. made critical revision of the manuscript for key intellectual content. The concept of this review article is based on a presentation given during the 2015 ESC congress in London.</p>\n",
      "    </sec>\n",
      "    <sec id=\"s10\">\n",
      "      <title>Funding</title>\n",
      "      <p>The writing of this review was partially supported by European Union [grant agreement no 633193 (CATCH ME, Characterizing Atrial fibrillation by Translating its Causes into Health Modifiers in the Elderly) to P.K.], Fondation Leducq (to P.K.), and British Heart Foundation (FS/13/43/30324 to P.K.).</p>\n",
      "      <p>\n",
      "<bold>Conflict of interest:</bold> H.C. reports personal fees from Medtronic, grants and personal fees from St Jude Medical, personal fees from Abbott Medical, outside the submitted work. P.K reports grants from British Heart Foundation and European Union, during the conduct of the study; personal fees from several industry partners, grants from several industry partners (institutional grants), grants from several public funders and charities (DZHK/BMBF, EU, BHF, and Leducq Foundation), outside the submitted work; In addition, P.K. has a patent AF therapy pending to University of Birmingham, and a patent Markers for AF pending to University of Birmingham.</p>\n",
      "    </sec>\n",
      "  </body>\n",
      "  <back>\n",
      "    <ref-list>\n",
      "      <title>References</title>\n",
      "      <ref id=\"ehw260C1\">\n",
      "        <label>1</label>\n",
      "        <mixed-citation publication-type=\"journal\">\n",
      "<person-group person-group-type=\"author\"><name name-style=\"western\"><surname>Chugh</surname><given-names>SS</given-names></name>, <name name-style=\"western\"><surname>Havmoeller</surname><given-names>R</given-names></name>, <name name-style=\"western\"><surname>Narayanan</surname><given-names>K</given-names></name>, <name name-style=\"western\"><surname>Singh</surname><given-names>D</given-names></name>, <name name-style=\"western\"><surname>Rienstra</surname><given-names>M</given-names></name>, <name name-style=\"western\"><surname>Benjamin</surname><given-names>EJ</given-names></name>, <name name-style=\"western\"><surname>Gillum</surname><given-names>RF</given-names></name>, <name name-style=\"western\"><surname>Kim</surname><given-names>YH</given-names></name>, <name name-style=\"western\"><surname>McAnulty</surname><given-names>JH</given-names><suffix>Jr</suffix></name>, <name name-style=\"western\"><surname>Zheng</surname><given-names>ZJ</given-names></name>, <name name-style=\"western\"><surname>Forouzanfar</surname><given-names>MH</given-names></name>, <name name-style=\"western\"><surname>Naghavi</surname><given-names>M</given-names></name>, <name name-style=\"western\"><surname>Mensah</surname><given-names>GA</given-names></name>, <name name-style=\"western\"><surname>Ezzati</surname><given-names>M</given-names></name>, <name name-style=\"western\"><surname>Murray</surname><given-names>CJ</given-names></name></person-group>\n",
      "<article-title>Worldwide epidemiology of atrial fibrillation: a Global Burden of Disease 2010 Study</article-title>. <source><italic>Circulation</italic></source><year>2014</year>;<volume>129</volume>:<fpage>837</fpage>–<lpage>847</lpage>.<pub-id pub-id-type=\"pmid\">24345399</pub-id></mixed-citation>\n",
      "      </ref>\n",
      "      <ref id=\"ehw260C2\">\n",
      "        <label>2</label>\n",
      "        <mixed-citation publication-type=\"journal\">\n",
      "<person-group person-group-type=\"author\"><name name-style=\"western\"><surname>Kirchhof</surname><given-names>P</given-names></name>, <name name-style=\"western\"><surname>Ammentorp</surname><given-names>B</given-names></name>, <name name-style=\"western\"><surname>Darius</surname><given-names>H</given-names></name>, <name name-style=\"western\"><surname>De Caterina</surname><given-names>R</given-names></name>, <name name-style=\"western\"><surname>Le Heuzey</surname><given-names>JY</given-names></name>, <name name-style=\"western\"><surname>Schilling</surname><given-names>RJ</given-names></name>, <name name-style=\"western\"><surname>Schmitt</surname><given-names>J</given-names></name>, <name name-style=\"western\"><surname>Zamorano</surname><given-names>JL</given-names></name></person-group>\n",
      "<article-title>Management of atrial fibrillation in seven European countries after the publication of the 2010 ESC Guidelines on atrial fibrillation: primary results of the PREvention oF thromboemolic events—European Registry in Atrial Fibrillation (PREFER in AF)</article-title>. <source><italic>Europace</italic></source><year>2014</year>;<volume>16</volume>:<fpage>6</fpage>–<lpage>14</lpage>.<pub-id pub-id-type=\"pmid\">24084680</pub-id></mixed-citation>\n",
      "      </ref>\n",
      "      <ref id=\"ehw260C3\">\n",
      "        <label>3</label>\n",
      "        <mixed-citation publication-type=\"journal\">\n",
      "<person-group person-group-type=\"author\"><name name-style=\"western\"><surname>Lip</surname><given-names>GY</given-names></name>, <name name-style=\"western\"><surname>Laroche</surname><given-names>C</given-names></name>, <name name-style=\"western\"><surname>Ioachim</surname><given-names>PM</given-names></name>, <name name-style=\"western\"><surname>Rasmussen</surname><given-names>LH</given-names></name>, <name name-style=\"western\"><surname>Vitali-Serdoz</surname><given-names>L</given-names></name>, <name name-style=\"western\"><surname>Petrescu</surname><given-names>L</given-names></name>, <name name-style=\"western\"><surname>Darabantiu</surname><given-names>D</given-names></name>, <name name-style=\"western\"><surname>Crijns</surname><given-names>HJ</given-names></name>, <name name-style=\"western\"><surname>Kirchhof</surname><given-names>P</given-names></name>, <name name-style=\"western\"><surname>Vardas</surname><given-names>P</given-names></name>, <name name-style=\"western\"><surname>Tavazzi</surname><given-names>L</given-names></name>, <name name-style=\"western\"><surname>Maggioni</surname><given-names>AP</given-names></name>, <name name-style=\"western\"><surname>Boriani</surname><given-names>G</given-names></name></person-group>\n",
      "<article-title>Prognosis and treatment of atrial fibrillation patients by European cardiologists: one year follow-up of the EURObservational Research Programme-Atrial Fibrillation General Registry Pilot Phase (EORP-AF Pilot registry)</article-title>. <source><italic>Eur Heart J</italic></source><year>2014</year>;<volume>35</volume>:<fpage>3365</fpage>–<lpage>3376</lpage>.<pub-id pub-id-type=\"pmid\">25176940</pub-id></mixed-citation>\n",
      "      </ref>\n",
      "      <ref id=\"ehw260C4\">\n",
      "        <label>4</label>\n",
      "        <mixed-citation publication-type=\"journal\">\n",
      "<person-group person-group-type=\"author\"><name name-style=\"western\"><surname>Arbelo</surname><given-names>E</given-names></name>, <name name-style=\"western\"><surname>Brugada</surname><given-names>J</given-names></name>, <name name-style=\"western\"><surname>Hindricks</surname><given-names>G</given-names></name>, <name name-style=\"western\"><surname>Maggioni</surname><given-names>AP</given-names></name>, <name name-style=\"western\"><surname>Tavazzi</surname><given-names>L</given-names></name>, <name name-style=\"western\"><surname>Vardas</surname><given-names>P</given-names></name>, <name name-style=\"western\"><surname>Laroche</surname><given-names>C</given-names></name>, <name name-style=\"western\"><surname>Anselme</surname><given-names>F</given-names></name>, <name name-style=\"western\"><surname>Inama</surname><given-names>G</given-names></name>, <name name-style=\"western\"><surname>Jais</surname><given-names>P</given-names></name>, <name name-style=\"western\"><surname>Kalarus</surname><given-names>Z</given-names></name>, <name name-style=\"western\"><surname>Kautzner</surname><given-names>J</given-names></name>, <name name-style=\"western\"><surname>Lewalter</surname><given-names>T</given-names></name>, <name name-style=\"western\"><surname>Mairesse</surname><given-names>GH</given-names></name>, <name name-style=\"western\"><surname>Perez-Villacastin</surname><given-names>J</given-names></name>, <name name-style=\"western\"><surname>Riahi</surname><given-names>S</given-names></name>, <name name-style=\"western\"><surname>Taborsky</surname><given-names>M</given-names></name>, <name name-style=\"western\"><surname>Theodorakis</surname><given-names>G</given-names></name>, <name name-style=\"western\"><surname>Trines</surname><given-names>SA</given-names></name></person-group>, <collab>Atrial Fibrillation Ablation Pilot Study Investigators</collab>. <article-title>The atrial fibrillation ablation pilot study: a European Survey on Methodology and results of catheter ablation for atrial fibrillation conducted by the European Heart Rhythm Association</article-title>. <source><italic>Eur Heart J</italic></source><year>2014</year>;<volume>35</volume>:<fpage>1466</fpage>–<lpage>1478</lpage>.<pub-id pub-id-type=\"pmid\">24487524</pub-id></mixed-citation>\n",
      "      </ref>\n",
      "      <ref id=\"ehw260C5\">\n",
      "        <label>5</label>\n",
      "        <mixed-citation publication-type=\"journal\">\n",
      "<person-group person-group-type=\"author\"><name name-style=\"western\"><surname>Camm</surname><given-names>AJ</given-names></name>, <name name-style=\"western\"><surname>Lip</surname><given-names>GY</given-names></name>, <name name-style=\"western\"><surname>De Caterina</surname><given-names>R</given-names></name>, <name name-style=\"western\"><surname>Savelieva</surname><given-names>I</given-names></name>, <name name-style=\"western\"><surname>Atar</surname><given-names>D</given-names></name>, <name name-style=\"western\"><surname>Hohnloser</surname><given-names>SH</given-names></name>, <name name-style=\"western\"><surname>Hindricks</surname><given-names>G</given-names></name>, <name name-style=\"western\"><surname>Kirchhof</surname><given-names>P</given-names></name></person-group>\n",
      "<article-title>2012 focused update of the ESC Guidelines for the management of atrial fibrillation: an update of the 2010 ESC Guidelines for the management of atrial fibrillation—developed with the special contribution of the European Heart Rhythm Association</article-title>. <source><italic>Europace</italic></source><year>2012</year>;<volume>14</volume>:<fpage>1385</fpage>–<lpage>1413</lpage>.<pub-id pub-id-type=\"pmid\">22923145</pub-id></mixed-citation>\n",
      "      </ref>\n",
      "      <ref id=\"ehw260C6\">\n",
      "        <label>6</label>\n",
      "        <mixed-citation publication-type=\"journal\">\n"
     ]
    },
    {
     "name": "stdout",
     "output_type": "stream",
     "text": [
      "<person-group person-group-type=\"author\"><name name-style=\"western\"><surname>January</surname><given-names>CT</given-names></name>, <name name-style=\"western\"><surname>Wann</surname><given-names>LS</given-names></name>, <name name-style=\"western\"><surname>Alpert</surname><given-names>JS</given-names></name>, <name name-style=\"western\"><surname>Calkins</surname><given-names>H</given-names></name>, <name name-style=\"western\"><surname>Cleveland</surname><given-names>JC</given-names><suffix>Jr</suffix></name>, <name name-style=\"western\"><surname>Cigarroa</surname><given-names>JE</given-names></name>, <name name-style=\"western\"><surname>Conti</surname><given-names>JB</given-names></name>, <name name-style=\"western\"><surname>Ellinor</surname><given-names>PT</given-names></name>, <name name-style=\"western\"><surname>Ezekowitz</surname><given-names>MD</given-names></name>, <name name-style=\"western\"><surname>Field</surname><given-names>ME</given-names></name>, <name name-style=\"western\"><surname>Murray</surname><given-names>KT</given-names></name>, <name name-style=\"western\"><surname>Sacco</surname><given-names>RL</given-names></name>, <name name-style=\"western\"><surname>Stevenson</surname><given-names>WG</given-names></name>, <name name-style=\"western\"><surname>Tchou</surname><given-names>PJ</given-names></name>, <name name-style=\"western\"><surname>Tracy</surname><given-names>CM</given-names></name>, <name name-style=\"western\"><surname>Yancy</surname><given-names>CW</given-names></name></person-group>\n",
      "<article-title>2014 AHA/ACC/HRS guideline for the management of patients with atrial fibrillation: a report of the American College of Cardiology/American Heart Association Task Force on practice guidelines and the Heart Rhythm Society</article-title>. <source><italic>Circulation</italic></source><year>2014</year>;<volume>130</volume>:<fpage>e199</fpage>–<lpage>e267</lpage>.<pub-id pub-id-type=\"pmid\">24682347</pub-id></mixed-citation>\n",
      "      </ref>\n",
      "      <ref id=\"ehw260C7\">\n",
      "        <label>7</label>\n",
      "        <mixed-citation publication-type=\"journal\">\n",
      "<person-group person-group-type=\"author\"><name name-style=\"western\"><surname>Calkins</surname><given-names>H</given-names></name>, <name name-style=\"western\"><surname>Kuck</surname><given-names>KH</given-names></name>, <name name-style=\"western\"><surname>Cappato</surname><given-names>R</given-names></name>, <name name-style=\"western\"><surname>Brugada</surname><given-names>J</given-names></name>, <name name-style=\"western\"><surname>Camm</surname><given-names>AJ</given-names></name>, <name name-style=\"western\"><surname>Chen</surname><given-names>SA</given-names></name>, <name name-style=\"western\"><surname>Crijns</surname><given-names>HJ</given-names></name>, <name name-style=\"western\"><surname>Damiano</surname><given-names>RJ</given-names><suffix>Jr</suffix></name>, <name name-style=\"western\"><surname>Davies</surname><given-names>DW</given-names></name>, <name name-style=\"western\"><surname>DiMarco</surname><given-names>J</given-names></name>, <name name-style=\"western\"><surname>Edgerton</surname><given-names>J</given-names></name>, <name name-style=\"western\"><surname>Ellenbogen</surname><given-names>K</given-names></name>, <name name-style=\"western\"><surname>Ezekowitz</surname><given-names>MD</given-names></name>, <name name-style=\"western\"><surname>Haines</surname><given-names>DE</given-names></name>, <name name-style=\"western\"><surname>Haissaguerre</surname><given-names>M</given-names></name>, <name name-style=\"western\"><surname>Hindricks</surname><given-names>G</given-names></name>, <name name-style=\"western\"><surname>Iesaka</surname><given-names>Y</given-names></name>, <name name-style=\"western\"><surname>Jackman</surname><given-names>W</given-names></name>, <name name-style=\"western\"><surname>Jalife</surname><given-names>J</given-names></name>, <name name-style=\"western\"><surname>Jais</surname><given-names>P</given-names></name>, <name name-style=\"western\"><surname>Kalman</surname><given-names>J</given-names></name>, <name name-style=\"western\"><surname>Keane</surname><given-names>D</given-names></name>, <name name-style=\"western\"><surname>Kim</surname><given-names>YH</given-names></name>, <name name-style=\"western\"><surname>Kirchhof</surname><given-names>P</given-names></name>, <name name-style=\"western\"><surname>Klein</surname><given-names>G</given-names></name>, <name name-style=\"western\"><surname>Kottkamp</surname><given-names>H</given-names></name>, <name name-style=\"western\"><surname>Kumagai</surname><given-names>K</given-names></name>, <name name-style=\"western\"><surname>Lindsay</surname><given-names>BD</given-names></name>, <name name-style=\"western\"><surname>Mansour</surname><given-names>M</given-names></name>, <name name-style=\"western\"><surname>Marchlinski</surname><given-names>FE</given-names></name>, <name name-style=\"western\"><surname>McCarthy</surname><given-names>PM</given-names></name>, <name name-style=\"western\"><surname>Mont</surname><given-names>JL</given-names></name>, <name name-style=\"western\"><surname>Morady</surname><given-names>F</given-names></name>, <name name-style=\"western\"><surname>Nademanee</surname><given-names>K</given-names></name>, <name name-style=\"western\"><surname>Nakagawa</surname><given-names>H</given-names></name>, <name name-style=\"western\"><surname>Natale</surname><given-names>A</given-names></name>, <name name-style=\"western\"><surname>Nattel</surname><given-names>S</given-names></name>, <name name-style=\"western\"><surname>Packer</surname><given-names>DL</given-names></name>, <name name-style=\"western\"><surname>Pappone</surname><given-names>C</given-names></name>, <name name-style=\"western\"><surname>Prystowsky</surname><given-names>E</given-names></name>, <name name-style=\"western\"><surname>Raviele</surname><given-names>A</given-names></name>, <name name-style=\"western\"><surname>Reddy</surname><given-names>V</given-names></name>, <name name-style=\"western\"><surname>Ruskin</surname><given-names>JN</given-names></name>, <name name-style=\"western\"><surname>Shemin</surname><given-names>RJ</given-names></name>, <name name-style=\"western\"><surname>Tsao</surname><given-names>HM</given-names></name>, <name name-style=\"western\"><surname>Wilber</surname><given-names>D</given-names></name></person-group>\n",
      "<article-title>2012 HRS/EHRA/ECAS Expert Consensus Statement on Catheter and Surgical Ablation of Atrial Fibrillation: recommendations for patient selection, procedural techniques, patient management and follow-up, definitions, endpoints, and research trial design</article-title>. <source><italic>Europace</italic></source><year>2012</year>;<volume>14</volume>:<fpage>528</fpage>–<lpage>606</lpage>.<pub-id pub-id-type=\"pmid\">22389422</pub-id></mixed-citation>\n",
      "      </ref>\n",
      "      <ref id=\"ehw260C8\">\n",
      "        <label>8</label>\n",
      "        <mixed-citation publication-type=\"journal\">\n",
      "<person-group person-group-type=\"author\"><name name-style=\"western\"><surname>Cosedis Nielsen</surname><given-names>J</given-names></name>, <name name-style=\"western\"><surname>Johannessen</surname><given-names>A</given-names></name>, <name name-style=\"western\"><surname>Raatikainen</surname><given-names>P</given-names></name>, <name name-style=\"western\"><surname>Hindricks</surname><given-names>G</given-names></name>, <name name-style=\"western\"><surname>Walfridsson</surname><given-names>H</given-names></name>, <name name-style=\"western\"><surname>Kongstad</surname><given-names>O</given-names></name>, <name name-style=\"western\"><surname>Pehrson</surname><given-names>S</given-names></name>, <name name-style=\"western\"><surname>Englund</surname><given-names>A</given-names></name>, <name name-style=\"western\"><surname>Hartikainen</surname><given-names>J</given-names></name>, <name name-style=\"western\"><surname>Mortensen</surname><given-names>LS</given-names></name>, <name name-style=\"western\"><surname>Hansen</surname><given-names>PS</given-names></name></person-group>\n",
      "<article-title>Radiofrequency ablation as initial therapy in paroxysmal atrial fibrillation</article-title>. <source><italic>N Engl J Med</italic></source><year>2012</year>;<volume>367</volume>:<fpage>1587</fpage>–<lpage>1595</lpage>.<pub-id pub-id-type=\"pmid\">23094720</pub-id></mixed-citation>\n",
      "      </ref>\n",
      "      <ref id=\"ehw260C9\">\n",
      "        <label>9</label>\n",
      "        <mixed-citation publication-type=\"journal\">\n",
      "<person-group person-group-type=\"author\"><name name-style=\"western\"><surname>Skanes</surname><given-names>AC</given-names></name>, <name name-style=\"western\"><surname>Healey</surname><given-names>JS</given-names></name>, <name name-style=\"western\"><surname>Cairns</surname><given-names>JA</given-names></name>, <name name-style=\"western\"><surname>Dorian</surname><given-names>P</given-names></name>, <name name-style=\"western\"><surname>Gillis</surname><given-names>AM</given-names></name>, <name name-style=\"western\"><surname>McMurtry</surname><given-names>MS</given-names></name>, <name name-style=\"western\"><surname>Mitchell</surname><given-names>LB</given-names></name>, <name name-style=\"western\"><surname>Verma</surname><given-names>A</given-names></name>, <name name-style=\"western\"><surname>Nattel</surname><given-names>S</given-names></name></person-group>\n",
      "<article-title>Focused 2012 update of the Canadian Cardiovascular Society atrial fibrillation guidelines: recommendations for stroke prevention and rate/rhythm control</article-title>. <source><italic>Can J Cardiol</italic></source><year>2012</year>;<volume>28</volume>:<fpage>125</fpage>–<lpage>136</lpage>.<pub-id pub-id-type=\"pmid\">22433576</pub-id></mixed-citation>\n",
      "      </ref>\n",
      "      <ref id=\"ehw260C10\">\n",
      "        <label>10</label>\n",
      "        <mixed-citation publication-type=\"journal\">\n",
      "<person-group person-group-type=\"author\"><name name-style=\"western\"><surname>Mont</surname><given-names>L</given-names></name>, <name name-style=\"western\"><surname>Bisbal</surname><given-names>F</given-names></name>, <name name-style=\"western\"><surname>Hernandez-Madrid</surname><given-names>A</given-names></name>, <name name-style=\"western\"><surname>Perez-Castellano</surname><given-names>N</given-names></name>, <name name-style=\"western\"><surname>Vinolas</surname><given-names>X</given-names></name>, <name name-style=\"western\"><surname>Arenal</surname><given-names>A</given-names></name>, <name name-style=\"western\"><surname>Arribas</surname><given-names>F</given-names></name>, <name name-style=\"western\"><surname>Fernandez-Lozano</surname><given-names>I</given-names></name>, <name name-style=\"western\"><surname>Bodegas</surname><given-names>A</given-names></name>, <name name-style=\"western\"><surname>Cobos</surname><given-names>A</given-names></name>, <name name-style=\"western\"><surname>Matia</surname><given-names>R</given-names></name>, <name name-style=\"western\"><surname>Perez-Villacastin</surname><given-names>J</given-names></name>, <name name-style=\"western\"><surname>Guerra</surname><given-names>JM</given-names></name>, <name name-style=\"western\"><surname>Avila</surname><given-names>P</given-names></name>, <name name-style=\"western\"><surname>Lopez-Gil</surname><given-names>M</given-names></name>, <name name-style=\"western\"><surname>Castro</surname><given-names>V</given-names></name>, <name name-style=\"western\"><surname>Arana</surname><given-names>JI</given-names></name>, <name name-style=\"western\"><surname>Brugada</surname><given-names>J</given-names></name></person-group>, <collab>SARA investigators</collab>. <article-title>Catheter ablation vs. antiarrhythmic drug treatment of persistent atrial fibrillation: a multicentre, randomized, controlled trial (SARA study)</article-title>. <source><italic>Eur Heart J</italic></source><year>2014</year>;<volume>35</volume>:<fpage>501</fpage>–<lpage>507</lpage>.<pub-id pub-id-type=\"pmid\">24135832</pub-id></mixed-citation>\n",
      "      </ref>\n",
      "      <ref id=\"ehw260C11\">\n",
      "        <label>11</label>\n",
      "        <mixed-citation publication-type=\"journal\">\n"
     ]
    },
    {
     "name": "stdout",
     "output_type": "stream",
     "text": [
      "<person-group person-group-type=\"author\"><name name-style=\"western\"><surname>Kirchhof</surname><given-names>P</given-names></name>, <name name-style=\"western\"><surname>Lip</surname><given-names>GY</given-names></name>, <name name-style=\"western\"><surname>Van Gelder</surname><given-names>IC</given-names></name>, <name name-style=\"western\"><surname>Bax</surname><given-names>J</given-names></name>, <name name-style=\"western\"><surname>Hylek</surname><given-names>E</given-names></name>, <name name-style=\"western\"><surname>Kaab</surname><given-names>S</given-names></name>, <name name-style=\"western\"><surname>Schotten</surname><given-names>U</given-names></name>, <name name-style=\"western\"><surname>Wegscheider</surname><given-names>K</given-names></name>, <name name-style=\"western\"><surname>Boriani</surname><given-names>G</given-names></name>, <name name-style=\"western\"><surname>Brandes</surname><given-names>A</given-names></name>, <name name-style=\"western\"><surname>Ezekowitz</surname><given-names>M</given-names></name>, <name name-style=\"western\"><surname>Diener</surname><given-names>H</given-names></name>, <name name-style=\"western\"><surname>Haegeli</surname><given-names>L</given-names></name>, <name name-style=\"western\"><surname>Heidbuchel</surname><given-names>H</given-names></name>, <name name-style=\"western\"><surname>Lane</surname><given-names>D</given-names></name>, <name name-style=\"western\"><surname>Mont</surname><given-names>L</given-names></name>, <name name-style=\"western\"><surname>Willems</surname><given-names>S</given-names></name>, <name name-style=\"western\"><surname>Dorian</surname><given-names>P</given-names></name>, <name name-style=\"western\"><surname>Aunes-Jansson</surname><given-names>M</given-names></name>, <name name-style=\"western\"><surname>Blomstrom-Lundqvist</surname><given-names>C</given-names></name>, <name name-style=\"western\"><surname>Borentain</surname><given-names>M</given-names></name>, <name name-style=\"western\"><surname>Breitenstein</surname><given-names>S</given-names></name>, <name name-style=\"western\"><surname>Brueckmann</surname><given-names>M</given-names></name>, <name name-style=\"western\"><surname>Cater</surname><given-names>N</given-names></name>, <name name-style=\"western\"><surname>Clemens</surname><given-names>A</given-names></name>, <name name-style=\"western\"><surname>Dobrev</surname><given-names>D</given-names></name>, <name name-style=\"western\"><surname>Dubner</surname><given-names>S</given-names></name>, <name name-style=\"western\"><surname>Edvardsson</surname><given-names>NG</given-names></name>, <name name-style=\"western\"><surname>Friberg</surname><given-names>L</given-names></name>, <name name-style=\"western\"><surname>Goette</surname><given-names>A</given-names></name>, <name name-style=\"western\"><surname>Gulizia</surname><given-names>M</given-names></name>, <name name-style=\"western\"><surname>Hatala</surname><given-names>R</given-names></name>, <name name-style=\"western\"><surname>Horwood</surname><given-names>J</given-names></name>, <name name-style=\"western\"><surname>Szumowski</surname><given-names>L</given-names></name>, <name name-style=\"western\"><surname>Kappenberger</surname><given-names>L</given-names></name>, <name name-style=\"western\"><surname>Kautzner</surname><given-names>J</given-names></name>, <name name-style=\"western\"><surname>Leute</surname><given-names>A</given-names></name>, <name name-style=\"western\"><surname>Lobban</surname><given-names>T</given-names></name>, <name name-style=\"western\"><surname>Meyer</surname><given-names>R</given-names></name>, <name name-style=\"western\"><surname>Millerhagen</surname><given-names>J</given-names></name>, <name name-style=\"western\"><surname>Morgan</surname><given-names>J</given-names></name>, <name name-style=\"western\"><surname>Muenzel</surname><given-names>F</given-names></name>, <name name-style=\"western\"><surname>Nabauer</surname><given-names>M</given-names></name>, <name name-style=\"western\"><surname>Baertels</surname><given-names>C</given-names></name>, <name name-style=\"western\"><surname>Oeff</surname><given-names>M</given-names></name>, <name name-style=\"western\"><surname>Paar</surname><given-names>D</given-names></name>, <name name-style=\"western\"><surname>Polifka</surname><given-names>J</given-names></name>, <name name-style=\"western\"><surname>Ravens</surname><given-names>U</given-names></name>, <name name-style=\"western\"><surname>Rosin</surname><given-names>L</given-names></name>, <name name-style=\"western\"><surname>Stegink</surname><given-names>W</given-names></name>, <name name-style=\"western\"><surname>Steinbeck</surname><given-names>G</given-names></name>, <name name-style=\"western\"><surname>Vardas</surname><given-names>P</given-names></name>, <name name-style=\"western\"><surname>Vincent</surname><given-names>A</given-names></name>, <name name-style=\"western\"><surname>Walter</surname><given-names>M</given-names></name>, <name name-style=\"western\"><surname>Breithardt</surname><given-names>G</given-names></name>, <name name-style=\"western\"><surname>Camm</surname><given-names>AJ</given-names></name></person-group>\n",
      "<article-title>Comprehensive risk reduction in patients with atrial fibrillation: emerging diagnostic and therapeutic options—a report from the 3rd Atrial Fibrillation Competence NETwork/European Heart Rhythm Association consensus conference</article-title>. <source><italic>Europace</italic></source><year>2012</year>;<volume>14</volume>:<fpage>8</fpage>–<lpage>27</lpage>.<pub-id pub-id-type=\"pmid\">21791573</pub-id></mixed-citation>\n",
      "      </ref>\n",
      "      <ref id=\"ehw260C12\">\n",
      "        <label>12</label>\n",
      "        <mixed-citation publication-type=\"journal\">\n",
      "<person-group person-group-type=\"author\"><name name-style=\"western\"><surname>Kerr</surname><given-names>CR</given-names></name>, <name name-style=\"western\"><surname>Humphries</surname><given-names>KH</given-names></name>, <name name-style=\"western\"><surname>Talajic</surname><given-names>M</given-names></name>, <name name-style=\"western\"><surname>Klein</surname><given-names>GJ</given-names></name>, <name name-style=\"western\"><surname>Connolly</surname><given-names>SJ</given-names></name>, <name name-style=\"western\"><surname>Green</surname><given-names>M</given-names></name>, <name name-style=\"western\"><surname>Boone</surname><given-names>J</given-names></name>, <name name-style=\"western\"><surname>Sheldon</surname><given-names>R</given-names></name>, <name name-style=\"western\"><surname>Dorian</surname><given-names>P</given-names></name>, <name name-style=\"western\"><surname>Newman</surname><given-names>D</given-names></name></person-group>\n",
      "<article-title>Progression to chronic atrial fibrillation after the initial diagnosis of paroxysmal atrial fibrillation: results from the Canadian Registry of Atrial Fibrillation</article-title>. <source><italic>Am Heart J</italic></source><year>2005</year>;<volume>149</volume>:<fpage>489</fpage>–<lpage>496</lpage>.<pub-id pub-id-type=\"pmid\">15864238</pub-id></mixed-citation>\n",
      "      </ref>\n",
      "      <ref id=\"ehw260C13\">\n",
      "        <label>13</label>\n",
      "        <mixed-citation publication-type=\"journal\">\n",
      "<person-group person-group-type=\"author\"><name name-style=\"western\"><surname>Jahangir</surname><given-names>A</given-names></name>, <name name-style=\"western\"><surname>Lee</surname><given-names>V</given-names></name>, <name name-style=\"western\"><surname>Friedman</surname><given-names>PA</given-names></name>, <name name-style=\"western\"><surname>Trusty</surname><given-names>JM</given-names></name>, <name name-style=\"western\"><surname>Hodge</surname><given-names>DO</given-names></name>, <name name-style=\"western\"><surname>Kopecky</surname><given-names>SL</given-names></name>, <name name-style=\"western\"><surname>Packer</surname><given-names>DL</given-names></name>, <name name-style=\"western\"><surname>Hammill</surname><given-names>SC</given-names></name>, <name name-style=\"western\"><surname>Shen</surname><given-names>WK</given-names></name>, <name name-style=\"western\"><surname>Gersh</surname><given-names>BJ</given-names></name></person-group>\n",
      "<article-title>Long-term progression and outcomes with aging in patients with lone atrial fibrillation: a 30-year follow-up study</article-title>. <source><italic>Circulation</italic></source><year>2007</year>;<volume>115</volume>:<fpage>3050</fpage>–<lpage>3056</lpage>.<pub-id pub-id-type=\"pmid\">17548732</pub-id></mixed-citation>\n",
      "      </ref>\n",
      "      <ref id=\"ehw260C14\">\n",
      "        <label>14</label>\n",
      "        <mixed-citation publication-type=\"journal\">\n",
      "<person-group person-group-type=\"author\"><name name-style=\"western\"><surname>Nabauer</surname><given-names>M</given-names></name>, <name name-style=\"western\"><surname>Gerth</surname><given-names>A</given-names></name>, <name name-style=\"western\"><surname>Limbourg</surname><given-names>T</given-names></name>, <name name-style=\"western\"><surname>Schneider</surname><given-names>S</given-names></name>, <name name-style=\"western\"><surname>Oeff</surname><given-names>M</given-names></name>, <name name-style=\"western\"><surname>Kirchhof</surname><given-names>P</given-names></name>, <name name-style=\"western\"><surname>Goette</surname><given-names>A</given-names></name>, <name name-style=\"western\"><surname>Lewalter</surname><given-names>T</given-names></name>, <name name-style=\"western\"><surname>Ravens</surname><given-names>U</given-names></name>, <name name-style=\"western\"><surname>Meinertz</surname><given-names>T</given-names></name>, <name name-style=\"western\"><surname>Breithardt</surname><given-names>G</given-names></name>, <name name-style=\"western\"><surname>Steinbeck</surname><given-names>G</given-names></name></person-group>\n",
      "<article-title>The Registry of the German Competence NETwork on Atrial Fibrillation: patient characteristics and initial management</article-title>. <source><italic>Europace</italic></source><year>2009</year>;<volume>11</volume>:<fpage>423</fpage>–<lpage>434</lpage>.<pub-id pub-id-type=\"pmid\">19153087</pub-id></mixed-citation>\n",
      "      </ref>\n",
      "      <ref id=\"ehw260C15\">\n",
      "        <label>15</label>\n",
      "        <mixed-citation publication-type=\"journal\">\n",
      "<person-group person-group-type=\"author\"><name name-style=\"western\"><surname>Holmqvist</surname><given-names>F</given-names></name>, <name name-style=\"western\"><surname>Kim</surname><given-names>S</given-names></name>, <name name-style=\"western\"><surname>Steinberg</surname><given-names>BA</given-names></name>, <name name-style=\"western\"><surname>Reiffel</surname><given-names>JA</given-names></name>, <name name-style=\"western\"><surname>Mahaffey</surname><given-names>KW</given-names></name>, <name name-style=\"western\"><surname>Gersh</surname><given-names>BJ</given-names></name>, <name name-style=\"western\"><surname>Fonarow</surname><given-names>GC</given-names></name>, <name name-style=\"western\"><surname>Naccarelli</surname><given-names>GV</given-names></name>, <name name-style=\"western\"><surname>Chang</surname><given-names>P</given-names></name>, <name name-style=\"western\"><surname>Freeman</surname><given-names>JV</given-names></name>, <name name-style=\"western\"><surname>Kowey</surname><given-names>PR</given-names></name>, <name name-style=\"western\"><surname>Thomas</surname><given-names>L</given-names></name>, <name name-style=\"western\"><surname>Peterson</surname><given-names>ED</given-names></name>, <name name-style=\"western\"><surname>Piccini</surname><given-names>JP</given-names></name></person-group>, <collab>ORBIT-AF Investigators</collab>. <article-title>Heart rate is associated with progression of atrial fibrillation, independent of rhythm</article-title>. <source><italic>Heart</italic></source><year>2015</year>;<volume>101</volume>:<fpage>894</fpage>–<lpage>899</lpage>.<pub-id pub-id-type=\"pmid\">25732748</pub-id></mixed-citation>\n",
      "      </ref>\n",
      "      <ref id=\"ehw260C16\">\n",
      "        <label>16</label>\n",
      "        <mixed-citation publication-type=\"journal\">\n",
      "<person-group person-group-type=\"author\"><name name-style=\"western\"><surname>Kirchhof</surname><given-names>P</given-names></name>, <name name-style=\"western\"><surname>Auricchio</surname><given-names>A</given-names></name>, <name name-style=\"western\"><surname>Bax</surname><given-names>J</given-names></name>, <name name-style=\"western\"><surname>Crijns</surname><given-names>H</given-names></name>, <name name-style=\"western\"><surname>Camm</surname><given-names>J</given-names></name>, <name name-style=\"western\"><surname>Diener</surname><given-names>HC</given-names></name>, <name name-style=\"western\"><surname>Goette</surname><given-names>A</given-names></name>, <name name-style=\"western\"><surname>Hindricks</surname><given-names>G</given-names></name>, <name name-style=\"western\"><surname>Hohnloser</surname><given-names>S</given-names></name>, <name name-style=\"western\"><surname>Kappenberger</surname><given-names>L</given-names></name>, <name name-style=\"western\"><surname>Kuck</surname><given-names>KH</given-names></name>, <name name-style=\"western\"><surname>Lip</surname><given-names>GY</given-names></name>, <name name-style=\"western\"><surname>Olsson</surname><given-names>B</given-names></name>, <name name-style=\"western\"><surname>Meinertz</surname><given-names>T</given-names></name>, <name name-style=\"western\"><surname>Priori</surname><given-names>S</given-names></name>, <name name-style=\"western\"><surname>Ravens</surname><given-names>U</given-names></name>, <name name-style=\"western\"><surname>Steinbeck</surname><given-names>G</given-names></name>, <name name-style=\"western\"><surname>Svernhage</surname><given-names>E</given-names></name>, <name name-style=\"western\"><surname>Tijssen</surname><given-names>J</given-names></name>, <name name-style=\"western\"><surname>Vincent</surname><given-names>A</given-names></name>, <name name-style=\"western\"><surname>Breithardt</surname><given-names>G</given-names></name></person-group>\n",
      "<article-title>Outcome parameters for trials in atrial fibrillation: executive summary: recommendations from a consensus conference organized by the German Atrial Fibrillation Competence NETwork (AFNET) and the European Heart Rhythm Association (EHRA)</article-title>. <source><italic>Eur Heart J</italic></source><year>2007</year>;<volume>28</volume>:<fpage>2803</fpage>–<lpage>2817</lpage>.<pub-id pub-id-type=\"pmid\">17897924</pub-id></mixed-citation>\n",
      "      </ref>\n",
      "      <ref id=\"ehw260C17\">\n",
      "        <label>17</label>\n",
      "        <mixed-citation publication-type=\"journal\">\n",
      "<person-group person-group-type=\"author\"><name name-style=\"western\"><surname>Charitos</surname><given-names>EI</given-names></name>, <name name-style=\"western\"><surname>Purerfellner</surname><given-names>H</given-names></name>, <name name-style=\"western\"><surname>Glotzer</surname><given-names>TV</given-names></name>, <name name-style=\"western\"><surname>Ziegler</surname><given-names>PD</given-names></name></person-group>\n",
      "<article-title>Clinical classifications of atrial fibrillation poorly reflect its temporal persistence: insights from 1,195 patients continuously monitored with implantable devices</article-title>. <source><italic>J Am Coll Cardiol</italic></source><year>2014</year>;<volume>63</volume>:<fpage>2840</fpage>–<lpage>2848</lpage>.<pub-id pub-id-type=\"pmid\">24814497</pub-id></mixed-citation>\n",
      "      </ref>\n",
      "      <ref id=\"ehw260C18\">\n",
      "        <label>18</label>\n",
      "        <mixed-citation publication-type=\"journal\">\n",
      "<person-group person-group-type=\"author\"><name name-style=\"western\"><surname>Benjamin</surname><given-names>EJ</given-names></name>, <name name-style=\"western\"><surname>Chen</surname><given-names>PS</given-names></name>, <name name-style=\"western\"><surname>Bild</surname><given-names>DE</given-names></name>, <name name-style=\"western\"><surname>Mascette</surname><given-names>AM</given-names></name>, <name name-style=\"western\"><surname>Albert</surname><given-names>CM</given-names></name>, <name name-style=\"western\"><surname>Alonso</surname><given-names>A</given-names></name>, <name name-style=\"western\"><surname>Calkins</surname><given-names>H</given-names></name>, <name name-style=\"western\"><surname>Connolly</surname><given-names>SJ</given-names></name>, <name name-style=\"western\"><surname>Curtis</surname><given-names>AB</given-names></name>, <name name-style=\"western\"><surname>Darbar</surname><given-names>D</given-names></name>, <name name-style=\"western\"><surname>Ellinor</surname><given-names>PT</given-names></name>, <name name-style=\"western\"><surname>Go</surname><given-names>AS</given-names></name>, <name name-style=\"western\"><surname>Goldschlager</surname><given-names>NF</given-names></name>, <name name-style=\"western\"><surname>Heckbert</surname><given-names>SR</given-names></name>, <name name-style=\"western\"><surname>Jalife</surname><given-names>J</given-names></name>, <name name-style=\"western\"><surname>Kerr</surname><given-names>CR</given-names></name>, <name name-style=\"western\"><surname>Levy</surname><given-names>D</given-names></name>, <name name-style=\"western\"><surname>Lloyd-Jones</surname><given-names>DM</given-names></name>, <name name-style=\"western\"><surname>Massie</surname><given-names>BM</given-names></name>, <name name-style=\"western\"><surname>Nattel</surname><given-names>S</given-names></name>, <name name-style=\"western\"><surname>Olgin</surname><given-names>JE</given-names></name>, <name name-style=\"western\"><surname>Packer</surname><given-names>DL</given-names></name>, <name name-style=\"western\"><surname>Po</surname><given-names>SS</given-names></name>, <name name-style=\"western\"><surname>Tsang</surname><given-names>TS</given-names></name>, <name name-style=\"western\"><surname>Van Wagoner</surname><given-names>DR</given-names></name>, <name name-style=\"western\"><surname>Waldo</surname><given-names>AL</given-names></name>, <name name-style=\"western\"><surname>Wyse</surname><given-names>DG</given-names></name></person-group>\n",
      "<article-title>Prevention of atrial fibrillation: report from a national heart, lung, and blood institute workshop</article-title>. <source><italic>Circulation</italic></source><year>2009</year>;<volume>119</volume>:<fpage>606</fpage>–<lpage>618</lpage>.<pub-id pub-id-type=\"pmid\">19188521</pub-id></mixed-citation>\n",
      "      </ref>\n",
      "      <ref id=\"ehw260C19\">\n",
      "        <label>19</label>\n",
      "        <mixed-citation publication-type=\"journal\">\n"
     ]
    },
    {
     "name": "stdout",
     "output_type": "stream",
     "text": [
      "<person-group person-group-type=\"author\"><name name-style=\"western\"><surname>Weijs</surname><given-names>B</given-names></name>, <name name-style=\"western\"><surname>Pisters</surname><given-names>R</given-names></name>, <name name-style=\"western\"><surname>Nieuwlaat</surname><given-names>R</given-names></name>, <name name-style=\"western\"><surname>Breithardt</surname><given-names>G</given-names></name>, <name name-style=\"western\"><surname>Le Heuzey</surname><given-names>JY</given-names></name>, <name name-style=\"western\"><surname>Vardas</surname><given-names>PE</given-names></name>, <name name-style=\"western\"><surname>Limantoro</surname><given-names>I</given-names></name>, <name name-style=\"western\"><surname>Schotten</surname><given-names>U</given-names></name>, <name name-style=\"western\"><surname>Lip</surname><given-names>GY</given-names></name>, <name name-style=\"western\"><surname>Crijns</surname><given-names>HJ</given-names></name></person-group>\n",
      "<article-title>Idiopathic atrial fibrillation revisited in a large longitudinal clinical cohort</article-title>. <source><italic>Europace</italic></source><year>2012</year>;<volume>14</volume>:<fpage>184</fpage>–<lpage>190</lpage>.<pub-id pub-id-type=\"pmid\">22135317</pub-id></mixed-citation>\n",
      "      </ref>\n",
      "      <ref id=\"ehw260C20\">\n",
      "        <label>20</label>\n",
      "        <mixed-citation publication-type=\"journal\">\n",
      "<person-group person-group-type=\"author\"><name name-style=\"western\"><surname>Anselmino</surname><given-names>M</given-names></name>, <name name-style=\"western\"><surname>Matta</surname><given-names>M</given-names></name>, <name name-style=\"western\"><surname>D'Ascenzo</surname><given-names>F</given-names></name>, <name name-style=\"western\"><surname>Bunch</surname><given-names>TJ</given-names></name>, <name name-style=\"western\"><surname>Schilling</surname><given-names>RJ</given-names></name>, <name name-style=\"western\"><surname>Hunter</surname><given-names>RJ</given-names></name>, <name name-style=\"western\"><surname>Pappone</surname><given-names>C</given-names></name>, <name name-style=\"western\"><surname>Neumann</surname><given-names>T</given-names></name>, <name name-style=\"western\"><surname>Noelker</surname><given-names>G</given-names></name>, <name name-style=\"western\"><surname>Fiala</surname><given-names>M</given-names></name>, <name name-style=\"western\"><surname>Bertaglia</surname><given-names>E</given-names></name>, <name name-style=\"western\"><surname>Frontera</surname><given-names>A</given-names></name>, <name name-style=\"western\"><surname>Duncan</surname><given-names>E</given-names></name>, <name name-style=\"western\"><surname>Nalliah</surname><given-names>C</given-names></name>, <name name-style=\"western\"><surname>Jais</surname><given-names>P</given-names></name>, <name name-style=\"western\"><surname>Weerasooriya</surname><given-names>R</given-names></name>, <name name-style=\"western\"><surname>Kalman</surname><given-names>JM</given-names></name>, <name name-style=\"western\"><surname>Gaita</surname><given-names>F</given-names></name></person-group>\n",
      "<article-title>Catheter ablation of atrial fibrillation in patients with left ventricular systolic dysfunction: a systematic review and meta-analysis</article-title>. <source><italic>Circ Arrhythm Electrophysiol</italic></source><year>2014</year>;<volume>7</volume>:<fpage>1011</fpage>–<lpage>1018</lpage>.<pub-id pub-id-type=\"pmid\">25262686</pub-id></mixed-citation>\n",
      "      </ref>\n",
      "      <ref id=\"ehw260C21\">\n",
      "        <label>21</label>\n",
      "        <mixed-citation publication-type=\"journal\">\n",
      "<person-group person-group-type=\"author\"><name name-style=\"western\"><surname>Marrouche</surname><given-names>NF</given-names></name>, <name name-style=\"western\"><surname>Wilber</surname><given-names>D</given-names></name>, <name name-style=\"western\"><surname>Hindricks</surname><given-names>G</given-names></name>, <name name-style=\"western\"><surname>Jais</surname><given-names>P</given-names></name>, <name name-style=\"western\"><surname>Akoum</surname><given-names>N</given-names></name>, <name name-style=\"western\"><surname>Marchlinski</surname><given-names>F</given-names></name>, <name name-style=\"western\"><surname>Kholmovski</surname><given-names>E</given-names></name>, <name name-style=\"western\"><surname>Burgon</surname><given-names>N</given-names></name>, <name name-style=\"western\"><surname>Hu</surname><given-names>N</given-names></name>, <name name-style=\"western\"><surname>Mont</surname><given-names>L</given-names></name>, <name name-style=\"western\"><surname>Deneke</surname><given-names>T</given-names></name>, <name name-style=\"western\"><surname>Duytschaever</surname><given-names>M</given-names></name>, <name name-style=\"western\"><surname>Neumann</surname><given-names>T</given-names></name>, <name name-style=\"western\"><surname>Mansour</surname><given-names>M</given-names></name>, <name name-style=\"western\"><surname>Mahnkopf</surname><given-names>C</given-names></name>, <name name-style=\"western\"><surname>Herweg</surname><given-names>B</given-names></name>, <name name-style=\"western\"><surname>Daoud</surname><given-names>E</given-names></name>, <name name-style=\"western\"><surname>Wissner</surname><given-names>E</given-names></name>, <name name-style=\"western\"><surname>Bansmann</surname><given-names>P</given-names></name>, <name name-style=\"western\"><surname>Brachmann</surname><given-names>J</given-names></name></person-group>\n",
      "<article-title>Association of atrial tissue fibrosis identified by delayed enhancement MRI and atrial fibrillation catheter ablation: the DECAAF study</article-title>. <source><italic>J Am Med Assoc</italic></source><year>2014</year>;<volume>311</volume>:<fpage>498</fpage>–<lpage>506</lpage>.</mixed-citation>\n",
      "      </ref>\n",
      "      <ref id=\"ehw260C22\">\n",
      "        <label>22</label>\n",
      "        <mixed-citation publication-type=\"journal\">\n",
      "<person-group person-group-type=\"author\"><name name-style=\"western\"><surname>Khurram</surname><given-names>IM</given-names></name>, <name name-style=\"western\"><surname>Beinart</surname><given-names>R</given-names></name>, <name name-style=\"western\"><surname>Zipunnikov</surname><given-names>V</given-names></name>, <name name-style=\"western\"><surname>Dewire</surname><given-names>J</given-names></name>, <name name-style=\"western\"><surname>Yarmohammadi</surname><given-names>H</given-names></name>, <name name-style=\"western\"><surname>Sasaki</surname><given-names>T</given-names></name>, <name name-style=\"western\"><surname>Spragg</surname><given-names>DD</given-names></name>, <name name-style=\"western\"><surname>Marine</surname><given-names>JE</given-names></name>, <name name-style=\"western\"><surname>Berger</surname><given-names>RD</given-names></name>, <name name-style=\"western\"><surname>Halperin</surname><given-names>HR</given-names></name>, <name name-style=\"western\"><surname>Calkins</surname><given-names>H</given-names></name>, <name name-style=\"western\"><surname>Zimmerman</surname><given-names>SL</given-names></name>, <name name-style=\"western\"><surname>Nazarian</surname><given-names>S</given-names></name></person-group>\n",
      "<article-title>Magnetic resonance image intensity ratio, a normalized measure to enable interpatient comparability of left atrial fibrosis</article-title>. <source><italic>Heart Rhythm</italic></source><year>2014</year>;<volume>11</volume>:<fpage>85</fpage>–<lpage>92</lpage>.<pub-id pub-id-type=\"pmid\">24096166</pub-id></mixed-citation>\n",
      "      </ref>\n",
      "      <ref id=\"ehw260C23\">\n",
      "        <label>23</label>\n",
      "        <mixed-citation publication-type=\"journal\">\n",
      "<person-group person-group-type=\"author\"><name name-style=\"western\"><surname>Fukumoto</surname><given-names>K</given-names></name>, <name name-style=\"western\"><surname>Habibi</surname><given-names>M</given-names></name>, <name name-style=\"western\"><surname>Gucuk Ipek</surname><given-names>E</given-names></name>, <name name-style=\"western\"><surname>Khurram</surname><given-names>IM</given-names></name>, <name name-style=\"western\"><surname>Zimmerman</surname><given-names>SL</given-names></name>, <name name-style=\"western\"><surname>Zipunnikov</surname><given-names>V</given-names></name>, <name name-style=\"western\"><surname>Spragg</surname><given-names>DD</given-names></name>, <name name-style=\"western\"><surname>Ashikaga</surname><given-names>H</given-names></name>, <name name-style=\"western\"><surname>Rickard</surname><given-names>J</given-names></name>, <name name-style=\"western\"><surname>Marine</surname><given-names>JE</given-names></name>, <name name-style=\"western\"><surname>Berger</surname><given-names>RD</given-names></name>, <name name-style=\"western\"><surname>Calkins</surname><given-names>H</given-names></name>, <name name-style=\"western\"><surname>Nazarian</surname><given-names>S</given-names></name></person-group>\n",
      "<article-title>Comparison of preexisting and ablation-induced late gadolinium enhancement on left atrial magnetic resonance imaging</article-title>. <source><italic>Heart Rhythm</italic></source><year>2015</year>;<volume>12</volume>:<fpage>668</fpage>–<lpage>672</lpage>.<pub-id pub-id-type=\"pmid\">25533586</pub-id></mixed-citation>\n",
      "      </ref>\n",
      "      <ref id=\"ehw260C24\">\n",
      "        <label>24</label>\n",
      "        <mixed-citation publication-type=\"journal\">\n",
      "<person-group person-group-type=\"author\"><name name-style=\"western\"><surname>Ling</surname><given-names>Z</given-names></name>, <name name-style=\"western\"><surname>McManigle</surname><given-names>J</given-names></name>, <name name-style=\"western\"><surname>Zipunnikov</surname><given-names>V</given-names></name>, <name name-style=\"western\"><surname>Pashakhanloo</surname><given-names>F</given-names></name>, <name name-style=\"western\"><surname>Khurram</surname><given-names>IM</given-names></name>, <name name-style=\"western\"><surname>Zimmerman</surname><given-names>SL</given-names></name>, <name name-style=\"western\"><surname>Philips</surname><given-names>B</given-names></name>, <name name-style=\"western\"><surname>Marine</surname><given-names>JE</given-names></name>, <name name-style=\"western\"><surname>Spragg</surname><given-names>DD</given-names></name>, <name name-style=\"western\"><surname>Ashikaga</surname><given-names>H</given-names></name>, <name name-style=\"western\"><surname>Calkins</surname><given-names>H</given-names></name>, <name name-style=\"western\"><surname>Nazarian</surname><given-names>S</given-names></name></person-group>\n",
      "<article-title>The association of left atrial low-voltage regions on electroanatomic mapping with low attenuation regions on cardiac computed tomography perfusion imaging in patients with atrial fibrillation</article-title>. <source><italic>Heart Rhythm</italic></source><year>2015</year>;<volume>12</volume>:<fpage>857</fpage>–<lpage>864</lpage>.<pub-id pub-id-type=\"pmid\">25595922</pub-id></mixed-citation>\n",
      "      </ref>\n",
      "      <ref id=\"ehw260C25\">\n",
      "        <label>25</label>\n",
      "        <mixed-citation publication-type=\"journal\">\n",
      "<person-group person-group-type=\"author\"><name name-style=\"western\"><surname>Kosiuk</surname><given-names>J</given-names></name>, <name name-style=\"western\"><surname>Dinov</surname><given-names>B</given-names></name>, <name name-style=\"western\"><surname>Kornej</surname><given-names>J</given-names></name>, <name name-style=\"western\"><surname>Acou</surname><given-names>WJ</given-names></name>, <name name-style=\"western\"><surname>Schonbauer</surname><given-names>R</given-names></name>, <name name-style=\"western\"><surname>Fiedler</surname><given-names>L</given-names></name>, <name name-style=\"western\"><surname>Buchta</surname><given-names>P</given-names></name>, <name name-style=\"western\"><surname>Myrda</surname><given-names>K</given-names></name>, <name name-style=\"western\"><surname>Gasior</surname><given-names>M</given-names></name>, <name name-style=\"western\"><surname>Polonski</surname><given-names>L</given-names></name>, <name name-style=\"western\"><surname>Kircher</surname><given-names>S</given-names></name>, <name name-style=\"western\"><surname>Arya</surname><given-names>A</given-names></name>, <name name-style=\"western\"><surname>Sommer</surname><given-names>P</given-names></name>, <name name-style=\"western\"><surname>Bollmann</surname><given-names>A</given-names></name>, <name name-style=\"western\"><surname>Hindricks</surname><given-names>G</given-names></name>, <name name-style=\"western\"><surname>Rolf</surname><given-names>S</given-names></name></person-group>\n",
      "<article-title>Prospective, multicenter validation of a clinical risk score for left atrial arrhythmogenic substrate based on voltage analysis: DR-FLASH score</article-title>. <source><italic>Heart Rhythm</italic></source><year>2015</year>;<volume>12</volume>:<fpage>2207</fpage>–<lpage>2212</lpage>.<pub-id pub-id-type=\"pmid\">26144350</pub-id></mixed-citation>\n",
      "      </ref>\n",
      "      <ref id=\"ehw260C26\">\n",
      "        <label>26</label>\n",
      "        <mixed-citation publication-type=\"journal\">\n",
      "<person-group person-group-type=\"author\"><name name-style=\"western\"><surname>Cochet</surname><given-names>H</given-names></name>, <name name-style=\"western\"><surname>Mouries</surname><given-names>A</given-names></name>, <name name-style=\"western\"><surname>Nivet</surname><given-names>H</given-names></name>, <name name-style=\"western\"><surname>Sacher</surname><given-names>F</given-names></name>, <name name-style=\"western\"><surname>Derval</surname><given-names>N</given-names></name>, <name name-style=\"western\"><surname>Denis</surname><given-names>A</given-names></name>, <name name-style=\"western\"><surname>Merle</surname><given-names>M</given-names></name>, <name name-style=\"western\"><surname>Relan</surname><given-names>J</given-names></name>, <name name-style=\"western\"><surname>Hocini</surname><given-names>M</given-names></name>, <name name-style=\"western\"><surname>Haissaguerre</surname><given-names>M</given-names></name>, <name name-style=\"western\"><surname>Laurent</surname><given-names>F</given-names></name>, <name name-style=\"western\"><surname>Montaudon</surname><given-names>M</given-names></name>, <name name-style=\"western\"><surname>Jais</surname><given-names>P</given-names></name></person-group>\n",
      "<article-title>Age, atrial fibrillation, and structural heart disease are the main determinants of left atrial fibrosis detected by delayed-enhanced magnetic resonance imaging in a general cardiology population</article-title>. <source><italic>J Cardiovasc Electrophysiol</italic></source><year>2015</year>;<volume>26</volume>:<fpage>484</fpage>–<lpage>492</lpage>.<pub-id pub-id-type=\"pmid\">25727248</pub-id></mixed-citation>\n",
      "      </ref>\n",
      "      <ref id=\"ehw260C27\">\n",
      "        <label>27</label>\n",
      "        <mixed-citation publication-type=\"journal\">\n"
     ]
    },
    {
     "name": "stdout",
     "output_type": "stream",
     "text": [
      "<person-group person-group-type=\"author\"><name name-style=\"western\"><surname>Ozgun</surname><given-names>M</given-names></name>, <name name-style=\"western\"><surname>Maintz</surname><given-names>D</given-names></name>, <name name-style=\"western\"><surname>Bunck</surname><given-names>AC</given-names></name>, <name name-style=\"western\"><surname>Monnig</surname><given-names>G</given-names></name>, <name name-style=\"western\"><surname>Eckardt</surname><given-names>L</given-names></name>, <name name-style=\"western\"><surname>Wasmer</surname><given-names>K</given-names></name>, <name name-style=\"western\"><surname>Heindel</surname><given-names>W</given-names></name>, <name name-style=\"western\"><surname>Botnar</surname><given-names>RM</given-names></name>, <name name-style=\"western\"><surname>Kirchhof</surname><given-names>P</given-names></name></person-group>\n",
      "<article-title>Right atrial scar detection after catheter ablation: comparison of 2D and high spatial resolution 3D-late enhancement magnetic resonance imaging</article-title>. <source><italic>Acad Radiol</italic></source><year>2011</year>;<volume>18</volume>:<fpage>488</fpage>–<lpage>494</lpage>.<pub-id pub-id-type=\"pmid\">21277233</pub-id></mixed-citation>\n",
      "      </ref>\n",
      "      <ref id=\"ehw260C28\">\n",
      "        <label>28</label>\n",
      "        <mixed-citation publication-type=\"journal\">\n",
      "<person-group person-group-type=\"author\"><name name-style=\"western\"><surname>Pathak</surname><given-names>RK</given-names></name>, <name name-style=\"western\"><surname>Elliott</surname><given-names>A</given-names></name>, <name name-style=\"western\"><surname>Middeldorp</surname><given-names>ME</given-names></name>, <name name-style=\"western\"><surname>Meredith</surname><given-names>M</given-names></name>, <name name-style=\"western\"><surname>Mehta</surname><given-names>AB</given-names></name>, <name name-style=\"western\"><surname>Mahajan</surname><given-names>R</given-names></name>, <name name-style=\"western\"><surname>Hendriks</surname><given-names>JM</given-names></name>, <name name-style=\"western\"><surname>Twomey</surname><given-names>D</given-names></name>, <name name-style=\"western\"><surname>Kalman</surname><given-names>JM</given-names></name>, <name name-style=\"western\"><surname>Abhayaratna</surname><given-names>WP</given-names></name>, <name name-style=\"western\"><surname>Lau</surname><given-names>DH</given-names></name>, <name name-style=\"western\"><surname>Sanders</surname><given-names>P</given-names></name></person-group>\n",
      "<article-title>Impact of CARDIOrespiratory FITness on arrhythmia recurrence in obese individuals with atrial fibrillation: the CARDIO-FIT study</article-title>. <source><italic>J Am Coll Cardiol</italic></source><year>2015</year>;<volume>66</volume>:<fpage>985</fpage>–<lpage>996</lpage>.<pub-id pub-id-type=\"pmid\">26113406</pub-id></mixed-citation>\n",
      "      </ref>\n",
      "      <ref id=\"ehw260C29\">\n",
      "        <label>29</label>\n",
      "        <mixed-citation publication-type=\"journal\">\n",
      "<person-group person-group-type=\"author\"><name name-style=\"western\"><surname>Abed</surname><given-names>HS</given-names></name>, <name name-style=\"western\"><surname>Wittert</surname><given-names>GA</given-names></name>, <name name-style=\"western\"><surname>Leong</surname><given-names>DP</given-names></name>, <name name-style=\"western\"><surname>Shirazi</surname><given-names>MG</given-names></name>, <name name-style=\"western\"><surname>Bahrami</surname><given-names>B</given-names></name>, <name name-style=\"western\"><surname>Middeldorp</surname><given-names>ME</given-names></name>, <name name-style=\"western\"><surname>Lorimer</surname><given-names>MF</given-names></name>, <name name-style=\"western\"><surname>Lau</surname><given-names>DH</given-names></name>, <name name-style=\"western\"><surname>Antic</surname><given-names>NA</given-names></name>, <name name-style=\"western\"><surname>Brooks</surname><given-names>AG</given-names></name>, <name name-style=\"western\"><surname>Abhayaratna</surname><given-names>WP</given-names></name>, <name name-style=\"western\"><surname>Kalman</surname><given-names>JM</given-names></name>, <name name-style=\"western\"><surname>Sanders</surname><given-names>P</given-names></name></person-group>\n",
      "<article-title>Effect of weight reduction and cardiometabolic risk factor management on symptom burden and severity in patients with atrial fibrillation: a randomized clinical trial</article-title>. <source><italic>J Am Med Assoc</italic></source><year>2013</year>;<volume>310</volume>:<fpage>2050</fpage>–<lpage>2060</lpage>.</mixed-citation>\n",
      "      </ref>\n",
      "      <ref id=\"ehw260C30\">\n",
      "        <label>30</label>\n",
      "        <mixed-citation publication-type=\"journal\">\n",
      "<person-group person-group-type=\"author\"><name name-style=\"western\"><surname>Pathak</surname><given-names>RK</given-names></name>, <name name-style=\"western\"><surname>Middeldorp</surname><given-names>ME</given-names></name>, <name name-style=\"western\"><surname>Meredith</surname><given-names>M</given-names></name>, <name name-style=\"western\"><surname>Mehta</surname><given-names>AB</given-names></name>, <name name-style=\"western\"><surname>Mahajan</surname><given-names>R</given-names></name>, <name name-style=\"western\"><surname>Wong</surname><given-names>CX</given-names></name>, <name name-style=\"western\"><surname>Twomey</surname><given-names>D</given-names></name>, <name name-style=\"western\"><surname>Elliott</surname><given-names>AD</given-names></name>, <name name-style=\"western\"><surname>Kalman</surname><given-names>JM</given-names></name>, <name name-style=\"western\"><surname>Abhayaratna</surname><given-names>WP</given-names></name>, <name name-style=\"western\"><surname>Lau</surname><given-names>DH</given-names></name>, <name name-style=\"western\"><surname>Sanders</surname><given-names>P</given-names></name></person-group>\n",
      "<article-title>Long-term effect of goal-directed weight management in an atrial fibrillation cohort: A Long-Term Follow-Up Study (LEGACY)</article-title>. <source><italic>J Am Coll Cardiol</italic></source><year>2015</year>;<volume>65</volume>:<fpage>2159</fpage>–<lpage>2169</lpage>.<pub-id pub-id-type=\"pmid\">25792361</pub-id></mixed-citation>\n",
      "      </ref>\n",
      "      <ref id=\"ehw260C31\">\n",
      "        <label>31</label>\n",
      "        <mixed-citation publication-type=\"journal\">\n",
      "<person-group person-group-type=\"author\"><name name-style=\"western\"><surname>Giannopoulos</surname><given-names>G</given-names></name>, <name name-style=\"western\"><surname>Kossyvakis</surname><given-names>C</given-names></name>, <name name-style=\"western\"><surname>Efremidis</surname><given-names>M</given-names></name>, <name name-style=\"western\"><surname>Katsivas</surname><given-names>A</given-names></name>, <name name-style=\"western\"><surname>Panagopoulou</surname><given-names>V</given-names></name>, <name name-style=\"western\"><surname>Doudoumis</surname><given-names>K</given-names></name>, <name name-style=\"western\"><surname>Raisakis</surname><given-names>K</given-names></name>, <name name-style=\"western\"><surname>Letsas</surname><given-names>K</given-names></name>, <name name-style=\"western\"><surname>Rentoukas</surname><given-names>I</given-names></name>, <name name-style=\"western\"><surname>Pyrgakis</surname><given-names>V</given-names></name>, <name name-style=\"western\"><surname>Manolis</surname><given-names>AS</given-names></name>, <name name-style=\"western\"><surname>Tousoulis</surname><given-names>D</given-names></name>, <name name-style=\"western\"><surname>Stefanadis</surname><given-names>C</given-names></name>, <name name-style=\"western\"><surname>Deftereos</surname><given-names>S</given-names></name></person-group>\n",
      "<article-title>Central sympathetic inhibition to reduce post-ablation atrial fibrillation recurrences in hypertensive patients: a randomized controlled study</article-title>. <source><italic>Circulation</italic></source><year>2014</year>;<volume>130</volume>:<fpage>1346</fpage>–<lpage>1352</lpage>.<pub-id pub-id-type=\"pmid\">25147079</pub-id></mixed-citation>\n",
      "      </ref>\n",
      "      <ref id=\"ehw260C32\">\n",
      "        <label>32</label>\n",
      "        <mixed-citation publication-type=\"journal\">\n",
      "<person-group person-group-type=\"author\"><name name-style=\"western\"><surname>Disertori</surname><given-names>M</given-names></name>, <name name-style=\"western\"><surname>Latini</surname><given-names>R</given-names></name>, <name name-style=\"western\"><surname>Barlera</surname><given-names>S</given-names></name>, <name name-style=\"western\"><surname>Franzosi</surname><given-names>MG</given-names></name>, <name name-style=\"western\"><surname>Staszewsky</surname><given-names>L</given-names></name>, <name name-style=\"western\"><surname>Maggioni</surname><given-names>AP</given-names></name>, <name name-style=\"western\"><surname>Lucci</surname><given-names>D</given-names></name>, <name name-style=\"western\"><surname>Di Pasquale</surname><given-names>G</given-names></name>, <name name-style=\"western\"><surname>Tognoni</surname><given-names>G</given-names></name></person-group>\n",
      "<article-title>Valsartan for prevention of recurrent atrial fibrillation</article-title>. <source><italic>N Engl J Med</italic></source><year>2009</year>;<volume>360</volume>:<fpage>1606</fpage>–<lpage>1617</lpage>.<pub-id pub-id-type=\"pmid\">19369667</pub-id></mixed-citation>\n",
      "      </ref>\n",
      "      <ref id=\"ehw260C33\">\n",
      "        <label>33</label>\n",
      "        <mixed-citation publication-type=\"journal\">\n",
      "<person-group person-group-type=\"author\"><name name-style=\"western\"><surname>Goette</surname><given-names>A</given-names></name>, <name name-style=\"western\"><surname>Schon</surname><given-names>N</given-names></name>, <name name-style=\"western\"><surname>Kirchhof</surname><given-names>P</given-names></name>, <name name-style=\"western\"><surname>Breithardt</surname><given-names>G</given-names></name>, <name name-style=\"western\"><surname>Fetsch</surname><given-names>T</given-names></name>, <name name-style=\"western\"><surname>Hausler</surname><given-names>KG</given-names></name>, <name name-style=\"western\"><surname>Klein</surname><given-names>HU</given-names></name>, <name name-style=\"western\"><surname>Steinbeck</surname><given-names>G</given-names></name>, <name name-style=\"western\"><surname>Wegscheider</surname><given-names>K</given-names></name>, <name name-style=\"western\"><surname>Meinertz</surname><given-names>T</given-names></name></person-group>\n",
      "<article-title>Angiotensin II-antagonist in paroxysmal atrial fibrillation (ANTIPAF) trial</article-title>. <source><italic>Circ Arrhythm Electrophysiol</italic></source><year>2012</year>;<volume>5</volume>:<fpage>43</fpage>–<lpage>51</lpage>.<pub-id pub-id-type=\"pmid\">22157519</pub-id></mixed-citation>\n",
      "      </ref>\n",
      "      <ref id=\"ehw260C34\">\n",
      "        <label>34</label>\n",
      "        <mixed-citation publication-type=\"journal\">\n",
      "<person-group person-group-type=\"author\"><name name-style=\"western\"><surname>Marott</surname><given-names>SC</given-names></name>, <name name-style=\"western\"><surname>Nielsen</surname><given-names>SF</given-names></name>, <name name-style=\"western\"><surname>Benn</surname><given-names>M</given-names></name>, <name name-style=\"western\"><surname>Nordestgaard</surname><given-names>BG</given-names></name></person-group>\n",
      "<article-title>Antihypertensive treatment and risk of atrial fibrillation: a nationwide study</article-title>. <source><italic>Eur Heart J</italic></source><year>2014</year>;<volume>35</volume>:<fpage>1205</fpage>–<lpage>1214</lpage>.<pub-id pub-id-type=\"pmid\">24347316</pub-id></mixed-citation>\n",
      "      </ref>\n",
      "      <ref id=\"ehw260C35\">\n",
      "        <label>35</label>\n",
      "        <mixed-citation publication-type=\"journal\">\n",
      "<person-group person-group-type=\"author\"><name name-style=\"western\"><surname>Kotecha</surname><given-names>D</given-names></name>, <name name-style=\"western\"><surname>Piccini</surname><given-names>JP</given-names></name></person-group>\n",
      "<article-title>Atrial fibrillation in heart failure: what should we do?</article-title><source><italic>Eur Heart J</italic></source><year>2015</year>;<volume>36</volume>:<fpage>3250</fpage>–<lpage>3257</lpage>.<pub-id pub-id-type=\"pmid\">26419625</pub-id></mixed-citation>\n",
      "      </ref>\n",
      "      <ref id=\"ehw260C36\">\n",
      "        <label>36</label>\n",
      "        <mixed-citation publication-type=\"journal\">\n",
      "<collab>GBD 2013 Risk Factors Collaborators</collab>\n"
     ]
    },
    {
     "name": "stdout",
     "output_type": "stream",
     "text": [
      "<person-group person-group-type=\"author\"><name name-style=\"western\"><surname>Forouzanfar</surname><given-names>MH</given-names></name>, <name name-style=\"western\"><surname>Alexander</surname><given-names>L</given-names></name>, <name name-style=\"western\"><surname>Anderson</surname><given-names>HR</given-names></name>, <name name-style=\"western\"><surname>Bachman</surname><given-names>VF</given-names></name>, <name name-style=\"western\"><surname>Biryukov</surname><given-names>S</given-names></name>, <name name-style=\"western\"><surname>Brauer</surname><given-names>M</given-names></name>, <name name-style=\"western\"><surname>Burnett</surname><given-names>R</given-names></name>, <name name-style=\"western\"><surname>Casey</surname><given-names>D</given-names></name>, <name name-style=\"western\"><surname>Coates</surname><given-names>MM</given-names></name>, <name name-style=\"western\"><surname>Cohen</surname><given-names>A</given-names></name>, <name name-style=\"western\"><surname>Delwiche</surname><given-names>K</given-names></name>, <name name-style=\"western\"><surname>Estep</surname><given-names>K</given-names></name>, <name name-style=\"western\"><surname>Frostad</surname><given-names>JJ</given-names></name>, <name name-style=\"western\"><surname>Kc</surname><given-names>A</given-names></name>, <name name-style=\"western\"><surname>Kyu</surname><given-names>HH</given-names></name>, <name name-style=\"western\"><surname>Moradi-Lakeh</surname><given-names>M</given-names></name>, <name name-style=\"western\"><surname>Ng</surname><given-names>M</given-names></name>, <name name-style=\"western\"><surname>Slepak</surname><given-names>EL</given-names></name>, <name name-style=\"western\"><surname>Thomas</surname><given-names>BA</given-names></name>, <name name-style=\"western\"><surname>Wagner</surname><given-names>J</given-names></name>, <name name-style=\"western\"><surname>Aasvang</surname><given-names>GM</given-names></name>, <name name-style=\"western\"><surname>Abbafati</surname><given-names>C</given-names></name>, <name name-style=\"western\"><surname>Ozgoren</surname><given-names>AA</given-names></name>, <name name-style=\"western\"><surname>Abd-Allah</surname><given-names>F</given-names></name>, <name name-style=\"western\"><surname>Abera</surname><given-names>SF</given-names></name>, <name name-style=\"western\"><surname>Aboyans</surname><given-names>V</given-names></name>, <name name-style=\"western\"><surname>Abraham</surname><given-names>B</given-names></name>, <name name-style=\"western\"><surname>Abraham</surname><given-names>JP</given-names></name>, <name name-style=\"western\"><surname>Abubakar</surname><given-names>I</given-names></name>, <name name-style=\"western\"><surname>Abu-Rmeileh</surname><given-names>NM</given-names></name>, <name name-style=\"western\"><surname>Aburto</surname><given-names>TC</given-names></name>, <name name-style=\"western\"><surname>Achoki</surname><given-names>T</given-names></name>, <name name-style=\"western\"><surname>Adelekan</surname><given-names>A</given-names></name>, <name name-style=\"western\"><surname>Adofo</surname><given-names>K</given-names></name>, <name name-style=\"western\"><surname>Adou</surname><given-names>AK</given-names></name>, <name name-style=\"western\"><surname>Adsuar</surname><given-names>JC</given-names></name>, <name name-style=\"western\"><surname>Afshin</surname><given-names>A</given-names></name>, <name name-style=\"western\"><surname>Agardh</surname><given-names>EE</given-names></name>, <name name-style=\"western\"><surname>Al Khabouri</surname><given-names>MJ</given-names></name>, <name name-style=\"western\"><surname>Al Lami</surname><given-names>FH</given-names></name>, <name name-style=\"western\"><surname>Alam</surname><given-names>SS</given-names></name>, <name name-style=\"western\"><surname>Alasfoor</surname><given-names>D</given-names></name>, <name name-style=\"western\"><surname>Albittar</surname><given-names>MI</given-names></name>, <name name-style=\"western\"><surname>Alegretti</surname><given-names>MA</given-names></name>, <name name-style=\"western\"><surname>Aleman</surname><given-names>AV</given-names></name>, <name name-style=\"western\"><surname>Alemu</surname><given-names>ZA</given-names></name>, <name name-style=\"western\"><surname>Alfonso-Cristancho</surname><given-names>R</given-names></name>, <name name-style=\"western\"><surname>Alhabib</surname><given-names>S</given-names></name>, <name name-style=\"western\"><surname>Ali</surname><given-names>R</given-names></name>, <name name-style=\"western\"><surname>Ali</surname><given-names>MK</given-names></name>, <name name-style=\"western\"><surname>Alla</surname><given-names>F</given-names></name>, <name name-style=\"western\"><surname>Allebeck</surname><given-names>P</given-names></name>, <name name-style=\"western\"><surname>Allen</surname><given-names>PJ</given-names></name>, <name name-style=\"western\"><surname>Alsharif</surname><given-names>U</given-names></name>, <name name-style=\"western\"><surname>Alvarez</surname><given-names>E</given-names></name>, <name name-style=\"western\"><surname>Alvis-Guzman</surname><given-names>N</given-names></name>, <name name-style=\"western\"><surname>Amankwaa</surname><given-names>AA</given-names></name>, <name name-style=\"western\"><surname>Amare</surname><given-names>AT</given-names></name>, <name name-style=\"western\"><surname>Ameh</surname><given-names>EA</given-names></name>, <name name-style=\"western\"><surname>Ameli</surname><given-names>O</given-names></name>, <name name-style=\"western\"><surname>Amini</surname><given-names>H</given-names></name>, <name name-style=\"western\"><surname>Ammar</surname><given-names>W</given-names></name>, <name name-style=\"western\"><surname>Anderson</surname><given-names>BO</given-names></name>, <name name-style=\"western\"><surname>Antonio</surname><given-names>CA</given-names></name>, <name name-style=\"western\"><surname>Anwari</surname><given-names>P</given-names></name>, <name name-style=\"western\"><surname>Cunningham</surname><given-names>SA</given-names></name>, <name name-style=\"western\"><surname>Arnlov</surname><given-names>J</given-names></name>, <name name-style=\"western\"><surname>Arsenijevic</surname><given-names>VS</given-names></name>, <name name-style=\"western\"><surname>Artaman</surname><given-names>A</given-names></name>, <name name-style=\"western\"><surname>Asghar</surname><given-names>RJ</given-names></name>, <name name-style=\"western\"><surname>Assadi</surname><given-names>R</given-names></name>, <name name-style=\"western\"><surname>Atkins</surname><given-names>LS</given-names></name>, <name name-style=\"western\"><surname>Atkinson</surname><given-names>C</given-names></name>, <name name-style=\"western\"><surname>Avila</surname><given-names>MA</given-names></name>, <name name-style=\"western\"><surname>Awuah</surname><given-names>B</given-names></name>, <name name-style=\"western\"><surname>Badawi</surname><given-names>A</given-names></name>, <name name-style=\"western\"><surname>Bahit</surname><given-names>MC</given-names></name>, <name name-style=\"western\"><surname>Bakfalouni</surname><given-names>T</given-names></name>, <name name-style=\"western\"><surname>Balakrishnan</surname><given-names>K</given-names></name>, <name name-style=\"western\"><surname>Balalla</surname><given-names>S</given-names></name>, <name name-style=\"western\"><surname>Balu</surname><given-names>RK</given-names></name>, <name name-style=\"western\"><surname>Banerjee</surname><given-names>A</given-names></name>, <name name-style=\"western\"><surname>Barber</surname><given-names>RM</given-names></name>, <name name-style=\"western\"><surname>Barker-Collo</surname><given-names>SL</given-names></name>, <name name-style=\"western\"><surname>Barquera</surname><given-names>S</given-names></name>, <name name-style=\"western\"><surname>Barregard</surname><given-names>L</given-names></name>, <name name-style=\"western\"><surname>Barrero</surname><given-names>LH</given-names></name>, <name name-style=\"western\"><surname>Barrientos-Gutierrez</surname><given-names>T</given-names></name>, <name name-style=\"western\"><surname>Basto-Abreu</surname><given-names>AC</given-names></name>, <name name-style=\"western\"><surname>Basu</surname><given-names>A</given-names></name>, <name name-style=\"western\"><surname>Basu</surname><given-names>S</given-names></name>, <name name-style=\"western\"><surname>Basulaiman</surname><given-names>MO</given-names></name>, <name name-style=\"western\"><surname>Ruvalcaba</surname><given-names>CB</given-names></name>, <name name-style=\"western\"><surname>Beardsley</surname><given-names>J</given-names></name>, <name name-style=\"western\"><surname>Bedi</surname><given-names>N</given-names></name>, <name name-style=\"western\"><surname>Bekele</surname><given-names>T</given-names></name>, <name name-style=\"western\"><surname>Bell</surname><given-names>ML</given-names></name>, <name name-style=\"western\"><surname>Benjet</surname><given-names>C</given-names></name>, <name name-style=\"western\"><surname>Bennett</surname><given-names>DA</given-names></name>, <name name-style=\"western\"><surname>Benzian</surname><given-names>H</given-names></name>, <name name-style=\"western\"><surname>Bernabe</surname><given-names>E</given-names></name>, <name name-style=\"western\"><surname>Beyene</surname><given-names>TJ</given-names></name>, <name name-style=\"western\"><surname>Bhala</surname><given-names>N</given-names></name>, <name name-style=\"western\"><surname>Bhalla</surname><given-names>A</given-names></name>, <name name-style=\"western\"><surname>Bhutta</surname><given-names>ZA</given-names></name>, <name name-style=\"western\"><surname>Bikbov</surname><given-names>B</given-names></name>, <name name-style=\"western\"><surname>Abdulhak</surname><given-names>AA</given-names></name>, <name name-style=\"western\"><surname>Blore</surname><given-names>JD</given-names></name>, <name name-style=\"western\"><surname>Blyth</surname><given-names>FM</given-names></name>, <name name-style=\"western\"><surname>Bohensky</surname><given-names>MA</given-names></name>, <name name-style=\"western\"><surname>Basara</surname><given-names>BB</given-names></name>, <name name-style=\"western\"><surname>Borges</surname><given-names>G</given-names></name>, <name name-style=\"western\"><surname>Bornstein</surname><given-names>NM</given-names></name>, <name name-style=\"western\"><surname>Bose</surname><given-names>D</given-names></name>, <name name-style=\"western\"><surname>Boufous</surname><given-names>S</given-names></name>, <name name-style=\"western\"><surname>Bourne</surname><given-names>RR</given-names></name>, <name name-style=\"western\"><surname>Brainin</surname><given-names>M</given-names></name>, <name name-style=\"western\"><surname>Brazinova</surname><given-names>A</given-names></name>, <name name-style=\"western\"><surname>Breitborde</surname><given-names>NJ</given-names></name>, <name name-style=\"western\"><surname>Brenner</surname><given-names>H</given-names></name>, <name name-style=\"western\"><surname>Briggs</surname><given-names>AD</given-names></name>, <name name-style=\"western\"><surname>Broday</surname><given-names>DM</given-names></name>, <name name-style=\"western\"><surname>Brooks</surname><given-names>PM</given-names></name>, <name name-style=\"western\"><surname>Bruce</surname><given-names>NG</given-names></name>, <name name-style=\"western\"><surname>Brugha</surname><given-names>TS</given-names></name>, <name name-style=\"western\"><surname>Brunekreef</surname><given-names>B</given-names></name>, <name name-style=\"western\"><surname>Buchbinder</surname><given-names>R</given-names></name>, <name name-style=\"western\"><surname>Bui</surname><given-names>LN</given-names></name>, <name name-style=\"western\"><surname>Bukhman</surname><given-names>G</given-names></name>, <name name-style=\"western\"><surname>Bulloch</surname><given-names>AG</given-names></name>, <name name-style=\"western\"><surname>Burch</surname><given-names>M</given-names></name>, <name name-style=\"western\"><surname>Burney</surname><given-names>PG</given-names></name>, <name name-style=\"western\"><surname>Campos-Nonato</surname><given-names>IR</given-names></name>, <name name-style=\"western\"><surname>Campuzano</surname><given-names>JC</given-names></name>, <name name-style=\"western\"><surname>Cantoral</surname><given-names>AJ</given-names></name>, <name name-style=\"western\"><surname>Caravanos</surname><given-names>J</given-names></name>, <name name-style=\"western\"><surname>Cardenas</surname><given-names>R</given-names></name>, <name name-style=\"western\"><surname>Cardis</surname><given-names>E</given-names></name>, <name name-style=\"western\"><surname>Carpenter</surname><given-names>DO</given-names></name>, <name name-style=\"western\"><surname>Caso</surname><given-names>V</given-names></name>, <name name-style=\"western\"><surname>Castaneda-Orjuela</surname><given-names>CA</given-names></name>, <name name-style=\"western\"><surname>Castro</surname><given-names>RE</given-names></name>, <name name-style=\"western\"><surname>Catala-Lopez</surname><given-names>F</given-names></name>, <name name-style=\"western\"><surname>Cavalleri</surname><given-names>F</given-names></name>, <name name-style=\"western\"><surname>Cavlin</surname><given-names>A</given-names></name>, <name name-style=\"western\"><surname>Chadha</surname><given-names>VK</given-names></name>, <name name-style=\"western\"><surname>Chang</surname><given-names>JC</given-names></name>, <name name-style=\"western\"><surname>Charlson</surname><given-names>FJ</given-names></name>, <name name-style=\"western\"><surname>Chen</surname><given-names>H</given-names></name>, <name name-style=\"western\"><surname>Chen</surname><given-names>W</given-names></name>, <name name-style=\"western\"><surname>Chen</surname><given-names>Z</given-names></name>, <name name-style=\"western\"><surname>Chiang</surname><given-names>PP</given-names></name>, <name name-style=\"western\"><surname>Chimed-Ochir</surname><given-names>O</given-names></name>, <name name-style=\"western\"><surname>Chowdhury</surname><given-names>R</given-names></name>, <name name-style=\"western\"><surname>Christophi</surname><given-names>CA</given-names></name>, <name name-style=\"western\"><surname>Chuang</surname><given-names>TW</given-names></name>, <name name-style=\"western\"><surname>Chugh</surname><given-names>SS</given-names></name>, <name name-style=\"western\"><surname>Cirillo</surname><given-names>M</given-names></name>, <name name-style=\"western\"><surname>Classen</surname><given-names>TK</given-names></name>, <name name-style=\"western\"><surname>Colistro</surname><given-names>V</given-names></name>, <name name-style=\"western\"><surname>Colomar</surname><given-names>M</given-names></name>, <name name-style=\"western\"><surname>Colquhoun</surname><given-names>SM</given-names></name>, <name name-style=\"western\"><surname>Contreras</surname><given-names>AG</given-names></name>, <name name-style=\"western\"><surname>Cooper</surname><given-names>C</given-names></name>, <name name-style=\"western\"><surname>Cooperrider</surname><given-names>K</given-names></name>, <name name-style=\"western\"><surname>Cooper</surname><given-names>LT</given-names></name>, <name name-style=\"western\"><surname>Coresh</surname><given-names>J</given-names></name>, <name name-style=\"western\"><surname>Courville</surname><given-names>KJ</given-names></name>, <name name-style=\"western\"><surname>Criqui</surname><given-names>MH</given-names></name>, <name name-style=\"western\"><surname>Cuevas-Nasu</surname><given-names>L</given-names></name>, <name name-style=\"western\"><surname>Damsere-Derry</surname><given-names>J</given-names></name>, <name name-style=\"western\"><surname>Danawi</surname><given-names>H</given-names></name>, <name name-style=\"western\"><surname>Dandona</surname><given-names>L</given-names></name>, <name name-style=\"western\"><surname>Dandona</surname><given-names>R</given-names></name>, <name name-style=\"western\"><surname>Dargan</surname><given-names>PI</given-names></name>, <name name-style=\"western\"><surname>Davis</surname><given-names>A</given-names></name>, <name name-style=\"western\"><surname>Davitoiu</surname><given-names>DV</given-names></name>, <name name-style=\"western\"><surname>Dayama</surname><given-names>A</given-names></name>, <name name-style=\"western\"><surname>de Castro</surname><given-names>EF</given-names></name>, <name name-style=\"western\"><surname>De la Cruz-Gongora</surname><given-names>V</given-names></name>, <name name-style=\"western\"><surname>De Leo</surname><given-names>D</given-names></name>, <name name-style=\"western\"><surname>de Lima</surname><given-names>G</given-names></name>, <name name-style=\"western\"><surname>Degenhardt</surname><given-names>L</given-names></name>, <name name-style=\"western\"><surname>Del Pozo-Cruz</surname><given-names>B</given-names></name>, <name name-style=\"western\"><surname>Dellavalle</surname><given-names>RP</given-names></name>, <name name-style=\"western\"><surname>Deribe</surname><given-names>K</given-names></name>, <name name-style=\"western\"><surname>"
     ]
    },
    {
     "name": "stdout",
     "output_type": "stream",
     "text": [
      "Derrett</surname><given-names>S</given-names></name>, <name name-style=\"western\"><surname>Jarlais</surname><given-names>DC</given-names></name>, <name name-style=\"western\"><surname>Dessalegn</surname><given-names>M</given-names></name>, <name name-style=\"western\"><surname>deVeber</surname><given-names>GA</given-names></name>, <name name-style=\"western\"><surname>Devries</surname><given-names>KM</given-names></name>, <name name-style=\"western\"><surname>Dharmaratne</surname><given-names>SD</given-names></name>, <name name-style=\"western\"><surname>Dherani</surname><given-names>MK</given-names></name>, <name name-style=\"western\"><surname>Dicker</surname><given-names>D</given-names></name>, <name name-style=\"western\"><surname>Ding</surname><given-names>EL</given-names></name>, <name name-style=\"western\"><surname>Dokova</surname><given-names>K</given-names></name>, <name name-style=\"western\"><surname>Dorsey</surname><given-names>ER</given-names></name>, <name name-style=\"western\"><surname>Driscoll</surname><given-names>TR</given-names></name>, <name name-style=\"western\"><surname>Duan</surname><given-names>L</given-names></name>, <name name-style=\"western\"><surname>Durrani</surname><given-names>AM</given-names></name>, <name name-style=\"western\"><surname>Ebel</surname><given-names>BE</given-names></name>, <name name-style=\"western\"><surname>Ellenbogen</surname><given-names>RG</given-names></name>, <name name-style=\"western\"><surname>Elshrek</surname><given-names>YM</given-names></name>, <name name-style=\"western\"><surname>Endres</surname><given-names>M</given-names></name>, <name name-style=\"western\"><surname>Ermakov</surname><given-names>SP</given-names></name>, <name name-style=\"western\"><surname>Erskine</surname><given-names>HE</given-names></name>, <name name-style=\"western\"><surname>Eshrati</surname><given-names>B</given-names></name>, <name name-style=\"western\"><surname>Esteghamati</surname><given-names>A</given-names></name>, <name name-style=\"western\"><surname>Fahimi</surname><given-names>S</given-names></name>, <name name-style=\"western\"><surname>Faraon</surname><given-names>EJ</given-names></name>, <name name-style=\"western\"><surname>Farzadfar</surname><given-names>F</given-names></name>, <name name-style=\"western\"><surname>Fay</surname><given-names>DF</given-names></name>, <name name-style=\"western\"><surname>Feigin</surname><given-names>VL</given-names></name>, <name name-style=\"western\"><surname>Feigl</surname><given-names>AB</given-names></name>, <name name-style=\"western\"><surname>Fereshtehnejad</surname><given-names>SM</given-names></name>, <name name-style=\"western\"><surname>Ferrari</surname><given-names>AJ</given-names></name>, <name name-style=\"western\"><surname>Ferri</surname><given-names>CP</given-names></name>, <name name-style=\"western\"><surname>Flaxman</surname><given-names>AD</given-names></name>, <name name-style=\"western\"><surname>Fleming</surname><given-names>TD</given-names></name>, <name name-style=\"western\"><surname>Foigt</surname><given-names>N</given-names></name>, <name name-style=\"western\"><surname>Foreman</surname><given-names>KJ</given-names></name>, <name name-style=\"western\"><surname>Paleo</surname><given-names>UF</given-names></name>, <name name-style=\"western\"><surname>Franklin</surname><given-names>RC</given-names></name>, <name name-style=\"western\"><surname>Gabbe</surname><given-names>B</given-names></name>, <name name-style=\"western\"><surname>Gaffikin</surname><given-names>L</given-names></name>, <name name-style=\"western\"><surname>Gakidou</surname><given-names>E</given-names></name>, <name name-style=\"western\"><surname>Gamkrelidze</surname><given-names>A</given-names></name>, <name name-style=\"western\"><surname>Gankpe</surname><given-names>FG</given-names></name>, <name name-style=\"western\"><surname>Gansevoort</surname><given-names>RT</given-names></name>, <name name-style=\"western\"><surname>Garcia-Guerra</surname><given-names>FA</given-names></name>, <name name-style=\"western\"><surname>Gasana</surname><given-names>E</given-names></name>, <name name-style=\"western\"><surname>Geleijnse</surname><given-names>JM</given-names></name>, <name name-style=\"western\"><surname>Gessner</surname><given-names>BD</given-names></name>, <name name-style=\"western\"><surname>Gething</surname><given-names>P</given-names></name>, <name name-style=\"western\"><surname>Gibney</surname><given-names>KB</given-names></name>, <name name-style=\"western\"><surname>Gillum</surname><given-names>RF</given-names></name>, <name name-style=\"western\"><surname>Ginawi</surname><given-names>IA</given-names></name>, <name name-style=\"western\"><surname>Giroud</surname><given-names>M</given-names></name>, <name name-style=\"western\"><surname>Giussani</surname><given-names>G</given-names></name>, <name name-style=\"western\"><surname>Goenka</surname><given-names>S</given-names></name>, <name name-style=\"western\"><surname>Goginashvili</surname><given-names>K</given-names></name>, <name name-style=\"western\"><surname>Dantes</surname><given-names>HG</given-names></name>, <name name-style=\"western\"><surname>Gona</surname><given-names>P</given-names></name>, <name name-style=\"western\"><surname>de Cosio</surname><given-names>TG</given-names></name>, <name name-style=\"western\"><surname>Gonzalez-Castell</surname><given-names>D</given-names></name>, <name name-style=\"western\"><surname>Gotay</surname><given-names>CC</given-names></name>, <name name-style=\"western\"><surname>Goto</surname><given-names>A</given-names></name>, <name name-style=\"western\"><surname>Gouda</surname><given-names>HN</given-names></name>, <name name-style=\"western\"><surname>Guerrant</surname><given-names>RL</given-names></name>, <name name-style=\"western\"><surname>Gugnani</surname><given-names>HC</given-names></name>, <name name-style=\"western\"><surname>Guillemin</surname><given-names>F</given-names></name>, <name name-style=\"western\"><surname>Gunnell</surname><given-names>D</given-names></name>, <name name-style=\"western\"><surname>Gupta</surname><given-names>R</given-names></name>, <name name-style=\"western\"><surname>Gupta</surname><given-names>R</given-names></name>, <name name-style=\"western\"><surname>Gutierrez</surname><given-names>RA</given-names></name>, <name name-style=\"western\"><surname>Hafezi-Nejad</surname><given-names>N</given-names></name>, <name name-style=\"western\"><surname>Hagan</surname><given-names>H</given-names></name>, <name name-style=\"western\"><surname>Hagstromer</surname><given-names>M</given-names></name>, <name name-style=\"western\"><surname>Halasa</surname><given-names>YA</given-names></name>, <name name-style=\"western\"><surname>Hamadeh</surname><given-names>RR</given-names></name>, <name name-style=\"western\"><surname>Hammami</surname><given-names>M</given-names></name>, <name name-style=\"western\"><surname>Hankey</surname><given-names>GJ</given-names></name>, <name name-style=\"western\"><surname>Hao</surname><given-names>Y</given-names></name>, <name name-style=\"western\"><surname>Harb</surname><given-names>HL</given-names></name>, <name name-style=\"western\"><surname>Haregu</surname><given-names>TN</given-names></name>, <name name-style=\"western\"><surname>Haro</surname><given-names>JM</given-names></name>, <name name-style=\"western\"><surname>Havmoeller</surname><given-names>R</given-names></name>, <name name-style=\"western\"><surname>Hay</surname><given-names>SI</given-names></name>, <name name-style=\"western\"><surname>Hedayati</surname><given-names>MT</given-names></name>, <name name-style=\"western\"><surname>Heredia-Pi</surname><given-names>IB</given-names></name>, <name name-style=\"western\"><surname>Hernandez</surname><given-names>L</given-names></name>, <name name-style=\"western\"><surname>Heuton</surname><given-names>KR</given-names></name>, <name name-style=\"western\"><surname>Heydarpour</surname><given-names>P</given-names></name>, <name name-style=\"western\"><surname>Hijar</surname><given-names>M</given-names></name>, <name name-style=\"western\"><surname>Hoek</surname><given-names>HW</given-names></name>, <name name-style=\"western\"><surname>Hoffman</surname><given-names>HJ</given-names></name>, <name name-style=\"western\"><surname>Hornberger</surname><given-names>JC</given-names></name>, <name name-style=\"western\"><surname>Hosgood</surname><given-names>HD</given-names></name>, <name name-style=\"western\"><surname>Hoy</surname><given-names>DG</given-names></name>, <name name-style=\"western\"><surname>Hsairi</surname><given-names>M</given-names></name>, <name name-style=\"western\"><surname>Hu</surname><given-names>G</given-names></name>, <name name-style=\"western\"><surname>Hu</surname><given-names>H</given-names></name>, <name name-style=\"western\"><surname>Huang</surname><given-names>C</given-names></name>, <name name-style=\"western\"><surname>Huang</surname><given-names>JJ</given-names></name>, <name name-style=\"western\"><surname>Hubbell</surname><given-names>BJ</given-names></name>, <name name-style=\"western\"><surname>Huiart</surname><given-names>L</given-names></name>, <name name-style=\"western\"><surname>Husseini</surname><given-names>A</given-names></name>, <name name-style=\"western\"><surname>Iannarone</surname><given-names>ML</given-names></name>, <name name-style=\"western\"><surname>Iburg</surname><given-names>KM</given-names></name>, <name name-style=\"western\"><surname>Idrisov</surname><given-names>BT</given-names></name>, <name name-style=\"western\"><surname>Ikeda</surname><given-names>N</given-names></name>, <name name-style=\"western\"><surname>Innos</surname><given-names>K</given-names></name>, <name name-style=\"western\"><surname>Inoue</surname><given-names>M</given-names></name>, <name name-style=\"western\"><surname>Islami</surname><given-names>F</given-names></name>, <name name-style=\"western\"><surname>Ismayilova</surname><given-names>S</given-names></name>, <name name-style=\"western\"><surname>Jacobsen</surname><given-names>KH</given-names></name>, <name name-style=\"western\"><surname>Jansen</surname><given-names>HA</given-names></name>, <name name-style=\"western\"><surname>Jarvis</surname><given-names>DL</given-names></name>, <name name-style=\"western\"><surname>Jassal</surname><given-names>SK</given-names></name>, <name name-style=\"western\"><surname>Jauregui</surname><given-names>A</given-names></name>, <name name-style=\"western\"><surname>Jayaraman</surname><given-names>S</given-names></name>, <name name-style=\"western\"><surname>Jeemon</surname><given-names>P</given-names></name>, <name name-style=\"western\"><surname>Jensen</surname><given-names>PN</given-names></name>, <name name-style=\"western\"><surname>Jha</surname><given-names>V</given-names></name>, <name name-style=\"western\"><surname>Jiang</surname><given-names>F</given-names></name>, <name name-style=\"western\"><surname>Jiang</surname><given-names>G</given-names></name>, <name name-style=\"western\"><surname>Jiang</surname><given-names>Y</given-names></name>, <name name-style=\"western\"><surname>Jonas</surname><given-names>JB</given-names></name>, <name name-style=\"western\"><surname>Juel</surname><given-names>K</given-names></name>, <name name-style=\"western\"><surname>Kan</surname><given-names>H</given-names></name>, <name name-style=\"western\"><surname>Roseline</surname><given-names>SS</given-names></name>, <name name-style=\"western\"><surname>Karam</surname><given-names>NE</given-names></name>, <name name-style=\"western\"><surname>Karch</surname><given-names>A</given-names></name>, <name name-style=\"western\"><surname>Karema</surname><given-names>CK</given-names></name>, <name name-style=\"western\"><surname>Karthikeyan</surname><given-names>G</given-names></name>, <name name-style=\"western\"><surname>Kaul</surname><given-names>A</given-names></name>, <name name-style=\"western\"><surname>Kawakami</surname><given-names>N</given-names></name>, <name name-style=\"western\"><surname>Kazi</surname><given-names>DS</given-names></name>, <name name-style=\"western\"><surname>Kemp</surname><given-names>AH</given-names></name>, <name name-style=\"western\"><surname>Kengne</surname><given-names>AP</given-names></name>, <name name-style=\"western\"><surname>Keren</surname><given-names>A</given-names></name>, <name name-style=\"western\"><surname>Khader</surname><given-names>YS</given-names></name>, <name name-style=\"western\"><surname>Khalifa</surname><given-names>SE</given-names></name>, <name name-style=\"western\"><surname>Khan</surname><given-names>EA</given-names></name>, <name name-style=\"western\"><surname>Khang</surname><given-names>YH</given-names></name>, <name name-style=\"western\"><surname>Khatibzadeh</surname><given-names>S</given-names></name>, <name name-style=\"western\"><surname>Khonelidze</surname><given-names>I</given-names></name>, <name name-style=\"western\"><surname>Kieling</surname><given-names>C</given-names></name>, <name name-style=\"western\"><surname>Kim</surname><given-names>D</given-names></name>, <name name-style=\"western\"><surname>Kim</surname><given-names>S</given-names></name>, <name name-style=\"western\"><surname>Kim</surname><given-names>Y</given-names></name>, <name name-style=\"western\"><surname>Kimokoti</surname><given-names>RW</given-names></name>, <name name-style=\"western\"><surname>Kinfu</surname><given-names>Y</given-names></name>, <name name-style=\"western\"><surname>Kinge</surname><given-names>JM</given-names></name>, <name name-style=\"western\"><surname>Kissela</surname><given-names>BM</given-names></name>, <name name-style=\"western\"><surname>Kivipelto</surname><given-names>M</given-names></name>, <name name-style=\"western\"><surname>Knibbs</surname><given-names>LD</given-names></name>, <name name-style=\"western\"><surname>Knudsen</surname><given-names>AK</given-names></name>, <name name-style=\"western\"><surname>Kokubo</surname><given-names>Y</given-names></name>, <name name-style=\"western\"><surname>Kose</surname><given-names>MR</given-names></name>, <name name-style=\"western\""
     ]
    },
    {
     "name": "stdout",
     "output_type": "stream",
     "text": [
      "><surname>Kosen</surname><given-names>S</given-names></name>, <name name-style=\"western\"><surname>Kraemer</surname><given-names>A</given-names></name>, <name name-style=\"western\"><surname>Kravchenko</surname><given-names>M</given-names></name>, <name name-style=\"western\"><surname>Krishnaswami</surname><given-names>S</given-names></name>, <name name-style=\"western\"><surname>Kromhout</surname><given-names>H</given-names></name>, <name name-style=\"western\"><surname>Ku</surname><given-names>T</given-names></name>, <name name-style=\"western\"><surname>Defo</surname><given-names>BK</given-names></name>, <name name-style=\"western\"><surname>Bicer</surname><given-names>BK</given-names></name>, <name name-style=\"western\"><surname>Kuipers</surname><given-names>EJ</given-names></name>, <name name-style=\"western\"><surname>Kulkarni</surname><given-names>C</given-names></name>, <name name-style=\"western\"><surname>Kulkarni</surname><given-names>VS</given-names></name>, <name name-style=\"western\"><surname>Kumar</surname><given-names>GA</given-names></name>, <name name-style=\"western\"><surname>Kwan</surname><given-names>GF</given-names></name>, <name name-style=\"western\"><surname>Lai</surname><given-names>T</given-names></name>, <name name-style=\"western\"><surname>Balaji</surname><given-names>AL</given-names></name>, <name name-style=\"western\"><surname>Lalloo</surname><given-names>R</given-names></name>, <name name-style=\"western\"><surname>Lallukka</surname><given-names>T</given-names></name>, <name name-style=\"western\"><surname>Lam</surname><given-names>H</given-names></name>, <name name-style=\"western\"><surname>Lan</surname><given-names>Q</given-names></name>, <name name-style=\"western\"><surname>Lansingh</surname><given-names>VC</given-names></name>, <name name-style=\"western\"><surname>Larson</surname><given-names>HJ</given-names></name>, <name name-style=\"western\"><surname>Larsson</surname><given-names>A</given-names></name>, <name name-style=\"western\"><surname>Laryea</surname><given-names>DO</given-names></name>, <name name-style=\"western\"><surname>Lavados</surname><given-names>PM</given-names></name>, <name name-style=\"western\"><surname>Lawrynowicz</surname><given-names>AE</given-names></name>, <name name-style=\"western\"><surname>Leasher</surname><given-names>JL</given-names></name>, <name name-style=\"western\"><surname>Lee</surname><given-names>JT</given-names></name>, <name name-style=\"western\"><surname>Leigh</surname><given-names>J</given-names></name>, <name name-style=\"western\"><surname>Leung</surname><given-names>R</given-names></name>, <name name-style=\"western\"><surname>Levi</surname><given-names>M</given-names></name>, <name name-style=\"western\"><surname>Li</surname><given-names>Y</given-names></name>, <name name-style=\"western\"><surname>Li</surname><given-names>Y</given-names></name>, <name name-style=\"western\"><surname>Liang</surname><given-names>J</given-names></name>, <name name-style=\"western\"><surname>Liang</surname><given-names>X</given-names></name>, <name name-style=\"western\"><surname>Lim</surname><given-names>SS</given-names></name>, <name name-style=\"western\"><surname>Lindsay</surname><given-names>MP</given-names></name>, <name name-style=\"western\"><surname>Lipshultz</surname><given-names>SE</given-names></name>, <name name-style=\"western\"><surname>Liu</surname><given-names>S</given-names></name>, <name name-style=\"western\"><surname>Liu</surname><given-names>Y</given-names></name>, <name name-style=\"western\"><surname>Lloyd</surname><given-names>BK</given-names></name>, <name name-style=\"western\"><surname>Logroscino</surname><given-names>G</given-names></name>, <name name-style=\"western\"><surname>London</surname><given-names>SJ</given-names></name>, <name name-style=\"western\"><surname>Lopez</surname><given-names>N</given-names></name>, <name name-style=\"western\"><surname>Lortet-Tieulent</surname><given-names>J</given-names></name>, <name name-style=\"western\"><surname>Lotufo</surname><given-names>PA</given-names></name>, <name name-style=\"western\"><surname>Lozano</surname><given-names>R</given-names></name>, <name name-style=\"western\"><surname>Lunevicius</surname><given-names>R</given-names></name>, <name name-style=\"western\"><surname>Ma</surname><given-names>J</given-names></name>, <name name-style=\"western\"><surname>Ma</surname><given-names>S</given-names></name>, <name name-style=\"western\"><surname>Machado</surname><given-names>VM</given-names></name>, <name name-style=\"western\"><surname>MacIntyre</surname><given-names>MF</given-names></name>, <name name-style=\"western\"><surname>Magis-Rodriguez</surname><given-names>C</given-names></name>, <name name-style=\"western\"><surname>Mahdi</surname><given-names>AA</given-names></name>, <name name-style=\"western\"><surname>Majdan</surname><given-names>M</given-names></name>, <name name-style=\"western\"><surname>Malekzadeh</surname><given-names>R</given-names></name>, <name name-style=\"western\"><surname>Mangalam</surname><given-names>S</given-names></name>, <name name-style=\"western\"><surname>Mapoma</surname><given-names>CC</given-names></name>, <name name-style=\"western\"><surname>Marape</surname><given-names>M</given-names></name>, <name name-style=\"western\"><surname>Marcenes</surname><given-names>W</given-names></name>, <name name-style=\"western\"><surname>Margolis</surname><given-names>DJ</given-names></name>, <name name-style=\"western\"><surname>Margono</surname><given-names>C</given-names></name>, <name name-style=\"western\"><surname>Marks</surname><given-names>GB</given-names></name>, <name name-style=\"western\"><surname>Martin</surname><given-names>RV</given-names></name>, <name name-style=\"western\"><surname>Marzan</surname><given-names>MB</given-names></name>, <name name-style=\"western\"><surname>Mashal</surname><given-names>MT</given-names></name>, <name name-style=\"western\"><surname>Masiye</surname><given-names>F</given-names></name>, <name name-style=\"western\"><surname>Mason-Jones</surname><given-names>AJ</given-names></name>, <name name-style=\"western\"><surname>Matsushita</surname><given-names>K</given-names></name>, <name name-style=\"western\"><surname>Matzopoulos</surname><given-names>R</given-names></name>, <name name-style=\"western\"><surname>Mayosi</surname><given-names>BM</given-names></name>, <name name-style=\"western\"><surname>Mazorodze</surname><given-names>TT</given-names></name>, <name name-style=\"western\"><surname>McKay</surname><given-names>AC</given-names></name>, <name name-style=\"western\"><surname>McKee</surname><given-names>M</given-names></name>, <name name-style=\"western\"><surname>McLain</surname><given-names>A</given-names></name>, <name name-style=\"western\"><surname>Meaney</surname><given-names>PA</given-names></name>, <name name-style=\"western\"><surname>Medina</surname><given-names>C</given-names></name>, <name name-style=\"western\"><surname>Mehndiratta</surname><given-names>MM</given-names></name>, <name name-style=\"western\"><surname>Mejia-Rodriguez</surname><given-names>F</given-names></name>, <name name-style=\"western\"><surname>Mekonnen</surname><given-names>W</given-names></name>, <name name-style=\"western\"><surname>Melaku</surname><given-names>YA</given-names></name>, <name name-style=\"western\"><surname>Meltzer</surname><given-names>M</given-names></name>, <name name-style=\"western\"><surname>Memish</surname><given-names>ZA</given-names></name>, <name name-style=\"western\"><surname>Mendoza</surname><given-names>W</given-names></name>, <name name-style=\"western\"><surname>Mensah</surname><given-names>GA</given-names></name>, <name name-style=\"western\"><surname>Meretoja</surname><given-names>A</given-names></name>, <name name-style=\"western\"><surname>Mhimbira</surname><given-names>FA</given-names></name>, <name name-style=\"western\"><surname>Micha</surname><given-names>R</given-names></name>, <name name-style=\"western\"><surname>Miller</surname><given-names>TR</given-names></name>, <name name-style=\"western\"><surname>Mills</surname><given-names>EJ</given-names></name>, <name name-style=\"western\"><surname>Misganaw</surname><given-names>A</given-names></name>, <name name-style=\"western\"><surname>Mishra</surname><given-names>S</given-names></name>, <name name-style=\"western\"><surname>Ibrahim</surname><given-names>NM</given-names></name>, <name name-style=\"western\"><surname>Mohammad</surname><given-names>KA</given-names></name>, <name name-style=\"western\"><surname>Mokdad</surname><given-names>AH</given-names></name>, <name name-style=\"western\"><surname>Mola</surname><given-names>GL</given-names></name>, <name name-style=\"western\"><surname>Monasta</surname><given-names>L</given-names></name>, <name name-style=\"western\"><surname>Hernandez</surname><given-names>JC</given-names></name>, <name name-style=\"western\"><surname>Montico</surname><given-names>M</given-names></name>, <name name-style=\"western\"><surname>Moore</surname><given-names>AR</given-names></name>, <name name-style=\"western\"><surname>Morawska</surname><given-names>L</given-names></name>, <name name-style=\"western\"><surname>Mori</surname><given-names>R</given-names></name>, <name name-style=\"western\"><surname>Moschandreas</surname><given-names>J</given-names></name>, <name name-style=\"western\"><surname>Moturi</surname><given-names>WN</given-names></name>, <name name-style=\"western\"><surname>Mozaffarian</surname><given-names>D</given-names></name>, <name name-style=\"western\"><surname>Mueller</surname><given-names>UO</given-names></name>, <name name-style=\"western\"><surname>Mukaigawara</surname><given-names>M</given-names></name>, <name name-style=\"western\"><surname>Mullany</surname><given-names>EC</given-names></name>, <name name-style=\"western\"><surname>Murthy</surname><given-names>KS</given-names></name>, <name name-style=\"western\"><surname>Naghavi</surname><given-names>M</given-names></name>, <name name-style=\"western\"><surname>Nahas</surname><given-names>Z</given-names></name>, <name name-style=\"western\"><surname>Naheed</surname><given-names>A</given-names></name>, <name name-style=\"western\"><surname>Naidoo</surname><given-names>KS</given-names></name>, <name name-style=\"western\"><surname>Naldi</surname><given-names>L</given-names></name>, <name name-style=\"western\"><surname>Nand</surname><given-names>D</given-names></name>, <name name-style=\"western\"><surname>Nangia</surname><given-names>V</given-names></name>, <name name-style=\"western\"><surname>Narayan</surname><given-names>KV</given-names></name>, <name name-style=\"western\"><surname>Nash</surname><given-names>D</given-names></name>, <name name-style=\"western\"><surname>Neal</surname><given-names>B</given-names></name>, <name name-style=\"western\"><surname>Nejjari</surname><given-names>C</given-names></name>, <name name-style=\"western\"><surname>Neupane</surname><given-names>SP</given-names></name>, <name name-style=\"western\"><surname>Newton</surname><given-names>CR</given-names></name>, <name name-style=\"western\"><surname>Ngalesoni</surname><given-names>FN</given-names></name>, <name name-style=\"western\"><surname>de Dieu Ngirabega</surname><given-names>J</given-names></name>, <name name-style=\"western\"><surname>Nguyen</surname><given-names>G</given-names></name>, <name name-style=\"western\"><surname>Nguyen</surname><given-names>NT</given-names></name>, <name name-style=\"western\"><surname>Nieuwenhuijsen</surname><given-names>MJ</given-names></name>, <name name-style=\"western\"><surname>Nisar</surname><given-names>MI</given-names></name>, <name name-style=\"western\"><surname>Nogueira</surname><given-names>JR</given-names></name>, <name name-style=\"western\"><surname>Nolla</surname><given-names>JM</given-names></name>, <name name-style=\"western\"><surname>Nolte</surname><given-names>S</given-names></name>, <name name-style=\"western\"><surname>Norheim</surname><given-names>OF</given-names></name>, <name name-style=\"western\"><surname>Norman</surname><given-names>RE</given-names></name>, <name name-style=\"western\"><surname>Norrving</surname><given-names>B</given-names></name>, <name name-style=\"western\"><surname>Nyakarahuka</surname><given-names>L</given-names></name>, <name name-style=\"western\"><surname>Oh</surname><given-names>IH</given-names></name>, <name name-style=\"western\"><surname>Ohkubo</surname><given-names>T</given-names></name>, <name name-style=\"western\"><surname>Olusanya</surname><given-names>BO</given-names></name>, <name name-style=\"western\"><surname>Omer</surname><given-names>SB</given-names></name>, <name name-style=\"western\"><surname>Opio</surname><given-names>JN</given-names></name>, <name name-style=\"western\"><surname>Orozco</surname><given-names>R</given-names></name>, <name name-style=\"western\"><surname>Pagcatipunan</surname><given-names>RS</given-names><suffix>Jr</suffix></name>, <name name-style=\"western\"><surname>Pain</surname><given-names>AW</given-names></name>, <name name-style=\"western\"><surname>Pandian</surname><given-names>JD</given-names></name>, <name name-style=\"western\"><surname>Panelo</surname><given-names>CI</given-names></name>, <name name-style=\"western\"><surname>Papachristou</surname><given-names>C</given-names></name>, <name name-style=\"western\"><surname>Park</surname><given-names>EK</given-names></name>, <name name-style=\"western\"><surname>Parry</surname><given-names>CD</given-names></name>, <name name-style=\"western\"><surname>Caicedo</surname><given-names>AJ</given-names></name>, <name name-style=\"western\"><surname>Patten</surname><given-names>SB</given-names></name>, <name name-style=\"western\"><surname>Paul</surname><given-names>VK</given-names></name>, <name name-style=\"western\"><surname>Pavlin</surname><given-names>BI</given-names></name>, <name name-style=\"western\"><surname>Pearce</surname><given-names>N</given-names></name>, <name name-style=\"western\"><surname>Pedraza</surname><given-names>LS</given-names></name>, <name name-style=\"western\"><surname>Pedroza</surname><given-names"
     ]
    },
    {
     "name": "stdout",
     "output_type": "stream",
     "text": [
      ">A</given-names></name>, <name name-style=\"western\"><surname>Stokic</surname><given-names>LP</given-names></name>, <name name-style=\"western\"><surname>Pekericli</surname><given-names>A</given-names></name>, <name name-style=\"western\"><surname>Pereira</surname><given-names>DM</given-names></name>, <name name-style=\"western\"><surname>Perez-Padilla</surname><given-names>R</given-names></name>, <name name-style=\"western\"><surname>Perez-Ruiz</surname><given-names>F</given-names></name>, <name name-style=\"western\"><surname>Perico</surname><given-names>N</given-names></name>, <name name-style=\"western\"><surname>Perry</surname><given-names>SA</given-names></name>, <name name-style=\"western\"><surname>Pervaiz</surname><given-names>A</given-names></name>, <name name-style=\"western\"><surname>Pesudovs</surname><given-names>K</given-names></name>, <name name-style=\"western\"><surname>Peterson</surname><given-names>CB</given-names></name>, <name name-style=\"western\"><surname>Petzold</surname><given-names>M</given-names></name>, <name name-style=\"western\"><surname>Phillips</surname><given-names>MR</given-names></name>, <name name-style=\"western\"><surname>Phua</surname><given-names>HP</given-names></name>, <name name-style=\"western\"><surname>Plass</surname><given-names>D</given-names></name>, <name name-style=\"western\"><surname>Poenaru</surname><given-names>D</given-names></name>, <name name-style=\"western\"><surname>Polanczyk</surname><given-names>GV</given-names></name>, <name name-style=\"western\"><surname>Polinder</surname><given-names>S</given-names></name>, <name name-style=\"western\"><surname>Pond</surname><given-names>CD</given-names></name>, <name name-style=\"western\"><surname>Pope</surname><given-names>CA</given-names></name>, <name name-style=\"western\"><surname>Pope</surname><given-names>D</given-names></name>, <name name-style=\"western\"><surname>Popova</surname><given-names>S</given-names></name>, <name name-style=\"western\"><surname>Pourmalek</surname><given-names>F</given-names></name>, <name name-style=\"western\"><surname>Powles</surname><given-names>J</given-names></name>, <name name-style=\"western\"><surname>Prabhakaran</surname><given-names>D</given-names></name>, <name name-style=\"western\"><surname>Prasad</surname><given-names>NM</given-names></name>, <name name-style=\"western\"><surname>Qato</surname><given-names>DM</given-names></name>, <name name-style=\"western\"><surname>Quezada</surname><given-names>AD</given-names></name>, <name name-style=\"western\"><surname>Quistberg</surname><given-names>DA</given-names></name>, <name name-style=\"western\"><surname>Racape</surname><given-names>L</given-names></name>, <name name-style=\"western\"><surname>Rafay</surname><given-names>A</given-names></name>, <name name-style=\"western\"><surname>Rahimi</surname><given-names>K</given-names></name>, <name name-style=\"western\"><surname>Rahimi-Movaghar</surname><given-names>V</given-names></name>, <name name-style=\"western\"><surname>Rahman</surname><given-names>SU</given-names></name>, <name name-style=\"western\"><surname>Raju</surname><given-names>M</given-names></name>, <name name-style=\"western\"><surname>Rakovac</surname><given-names>I</given-names></name>, <name name-style=\"western\"><surname>Rana</surname><given-names>SM</given-names></name>, <name name-style=\"western\"><surname>Rao</surname><given-names>M</given-names></name>, <name name-style=\"western\"><surname>Razavi</surname><given-names>H</given-names></name>, <name name-style=\"western\"><surname>Reddy</surname><given-names>KS</given-names></name>, <name name-style=\"western\"><surname>Refaat</surname><given-names>AH</given-names></name>, <name name-style=\"western\"><surname>Rehm</surname><given-names>J</given-names></name>, <name name-style=\"western\"><surname>Remuzzi</surname><given-names>G</given-names></name>, <name name-style=\"western\"><surname>Ribeiro</surname><given-names>AL</given-names></name>, <name name-style=\"western\"><surname>Riccio</surname><given-names>PM</given-names></name>, <name name-style=\"western\"><surname>Richardson</surname><given-names>L</given-names></name>, <name name-style=\"western\"><surname>Riederer</surname><given-names>A</given-names></name>, <name name-style=\"western\"><surname>Robinson</surname><given-names>M</given-names></name>, <name name-style=\"western\"><surname>Roca</surname><given-names>A</given-names></name>, <name name-style=\"western\"><surname>Rodriguez</surname><given-names>A</given-names></name>, <name name-style=\"western\"><surname>Rojas-Rueda</surname><given-names>D</given-names></name>, <name name-style=\"western\"><surname>Romieu</surname><given-names>I</given-names></name>, <name name-style=\"western\"><surname>Ronfani</surname><given-names>L</given-names></name>, <name name-style=\"western\"><surname>Room</surname><given-names>R</given-names></name>, <name name-style=\"western\"><surname>Roy</surname><given-names>N</given-names></name>, <name name-style=\"western\"><surname>Ruhago</surname><given-names>GM</given-names></name>, <name name-style=\"western\"><surname>Rushton</surname><given-names>L</given-names></name>, <name name-style=\"western\"><surname>Sabin</surname><given-names>N</given-names></name>, <name name-style=\"western\"><surname>Sacco</surname><given-names>RL</given-names></name>, <name name-style=\"western\"><surname>Saha</surname><given-names>S</given-names></name>, <name name-style=\"western\"><surname>Sahathevan</surname><given-names>R</given-names></name>, <name name-style=\"western\"><surname>Sahraian</surname><given-names>MA</given-names></name>, <name name-style=\"western\"><surname>Salomon</surname><given-names>JA</given-names></name>, <name name-style=\"western\"><surname>Salvo</surname><given-names>D</given-names></name>, <name name-style=\"western\"><surname>Sampson</surname><given-names>UK</given-names></name>, <name name-style=\"western\"><surname>Sanabria</surname><given-names>JR</given-names></name>, <name name-style=\"western\"><surname>Sanchez</surname><given-names>LM</given-names></name>, <name name-style=\"western\"><surname>Sanchez-Pimienta</surname><given-names>TG</given-names></name>, <name name-style=\"western\"><surname>Sanchez-Riera</surname><given-names>L</given-names></name>, <name name-style=\"western\"><surname>Sandar</surname><given-names>L</given-names></name>, <name name-style=\"western\"><surname>Santos</surname><given-names>IS</given-names></name>, <name name-style=\"western\"><surname>Sapkota</surname><given-names>A</given-names></name>, <name name-style=\"western\"><surname>Satpathy</surname><given-names>M</given-names></name>, <name name-style=\"western\"><surname>Saunders</surname><given-names>JE</given-names></name>, <name name-style=\"western\"><surname>Sawhney</surname><given-names>M</given-names></name>, <name name-style=\"western\"><surname>Saylan</surname><given-names>MI</given-names></name>, <name name-style=\"western\"><surname>Scarborough</surname><given-names>P</given-names></name>, <name name-style=\"western\"><surname>Schmidt</surname><given-names>JC</given-names></name>, <name name-style=\"western\"><surname>Schneider</surname><given-names>IJ</given-names></name>, <name name-style=\"western\"><surname>Schottker</surname><given-names>B</given-names></name>, <name name-style=\"western\"><surname>Schwebel</surname><given-names>DC</given-names></name>, <name name-style=\"western\"><surname>Scott</surname><given-names>JG</given-names></name>, <name name-style=\"western\"><surname>Seedat</surname><given-names>S</given-names></name>, <name name-style=\"western\"><surname>Sepanlou</surname><given-names>SG</given-names></name>, <name name-style=\"western\"><surname>Serdar</surname><given-names>B</given-names></name>, <name name-style=\"western\"><surname>Servan-Mori</surname><given-names>EE</given-names></name>, <name name-style=\"western\"><surname>Shaddick</surname><given-names>G</given-names></name>, <name name-style=\"western\"><surname>Shahraz</surname><given-names>S</given-names></name>, <name name-style=\"western\"><surname>Levy</surname><given-names>TS</given-names></name>, <name name-style=\"western\"><surname>Shangguan</surname><given-names>S</given-names></name>, <name name-style=\"western\"><surname>She</surname><given-names>J</given-names></name>, <name name-style=\"western\"><surname>Sheikhbahaei</surname><given-names>S</given-names></name>, <name name-style=\"western\"><surname>Shibuya</surname><given-names>K</given-names></name>, <name name-style=\"western\"><surname>Shin</surname><given-names>HH</given-names></name>, <name name-style=\"western\"><surname>Shinohara</surname><given-names>Y</given-names></name>, <name name-style=\"western\"><surname>Shiri</surname><given-names>R</given-names></name>, <name name-style=\"western\"><surname>Shishani</surname><given-names>K</given-names></name>, <name name-style=\"western\"><surname>Shiue</surname><given-names>I</given-names></name>, <name name-style=\"western\"><surname>Sigfusdottir</surname><given-names>ID</given-names></name>, <name name-style=\"western\"><surname>Silberberg</surname><given-names>DH</given-names></name>, <name name-style=\"western\"><surname>Simard</surname><given-names>EP</given-names></name>, <name name-style=\"western\"><surname>Sindi</surname><given-names>S</given-names></name>, <name name-style=\"western\"><surname>Singh</surname><given-names>A</given-names></name>, <name name-style=\"western\"><surname>Singh</surname><given-names>GM</given-names></name>, <name name-style=\"western\"><surname>Singh</surname><given-names>JA</given-names></name>, <name name-style=\"western\"><surname>Skirbekk</surname><given-names>V</given-names></name>, <name name-style=\"western\"><surname>Sliwa</surname><given-names>K</given-names></name>, <name name-style=\"western\"><surname>Soljak</surname><given-names>M</given-names></name>, <name name-style=\"western\"><surname>Soneji</surname><given-names>S</given-names></name>, <name name-style=\"western\"><surname>Soreide</surname><given-names>K</given-names></name>, <name name-style=\"western\"><surname>Soshnikov</surname><given-names>S</given-names></name>, <name name-style=\"western\"><surname>Sposato</surname><given-names>LA</given-names></name>, <name name-style=\"western\"><surname>Sreeramareddy</surname><given-names>CT</given-names></name>, <name name-style=\"western\"><surname>Stapelberg</surname><given-names>NJ</given-names></name>, <name name-style=\"western\"><surname>Stathopoulou</surname><given-names>V</given-names></name>, <name name-style=\"western\"><surname>Steckling</surname><given-names>N</given-names></name>, <name name-style=\"western\"><surname>Stein</surname><given-names>DJ</given-names></name>, <name name-style=\"western\"><surname>Stein</surname><given-names>MB</given-names></name>, <name name-style=\"western\"><surname>Stephens</surname><given-names>N</given-names></name>, <name name-style=\"western\"><surname>Stockl</surname><given-names>H</given-names></name>, <name name-style=\"western\"><surname>Straif</surname><given-names>K</given-names></name>, <name name-style=\"western\"><surname>Stroumpoulis</surname><given-names>K</given-names></name>, <name name-style=\"western\"><surname>Sturua</surname><given-names>L</given-names></name>, <name name-style=\"western\"><surname>Sunguya</surname><given-names>BF</given-names></name>, <name name-style=\"western\"><surname>Swaminathan</surname><given-names>S</given-names></name>, <name name-style=\"western\"><surname>Swaroop</surname><given-names>M</given-names></name>, <name name-style=\"western\"><surname>Sykes</surname><given-names>BL</given-names></name>, <name name-style=\"western\"><surname>Tabb</surname><given-names>KM</given-names></name>, <name name-style=\"western\"><surname>Takahashi</surname><given-names>K</given-names></name>, <name name-style=\"western\"><surname>Talongwa</surname><given-names>RT</given-names></name>, <name name-style=\"western\"><surname>Tandon</surname><given-names>N</given-names></name>, <name name-style=\"western\"><surname>Tanne</surname><given-names>D</given-names></name>, <name name-style=\"western\"><surname>Tanner</surname><given-names>M</given-names></name>, <name name-style=\"western\"><surname>Tavakkoli</surname><given-names>M</given-names></name>, <name name-style=\"western\"><surname>Te Ao</surname><given-names>BJ</given-names></name>, <name name-style=\"western\"><surname>Teixeira</surname><given-names>CM</given-names></name>, <name name-style=\"western\"><surname>Tellez Rojo</surname><given-names>MM</given-names></name>, <name name-style=\"western\"><surname>Terkawi</surname><given-names>AS</given-names></name>, <name name-style=\"western\"><surname>Texcalac-Sangrador</surname><given-names>JL</given-names></name>, <name name-style=\"western\"><surname>Thackway</surname><given-names>SV</given-names></name>, <name name-style=\"western\"><surname>Thomson</surname><given-names>B</given-names></name>, <name name-style=\"western\"><surname>Thorne-Lyman</surname><given-names>AL</given-names></name>, <name name-style=\"western\"><surname>Thrift</surname><given-names>AG</given-names></name>, <name name-style=\"western\"><surname>Thurston</surname><given-names>GD</given-names></name>, <name name-style=\"western\"><surname>Tillmann</surname><given-names>T</given-names></name>, <name name-style=\"western\"><surname>Tobollik</surname><given-names>M</given-names></name>, <name name-style=\"western\"><surname>Tonelli</surname><given-names>M</given-names></name>, <name name-style=\"western\"><surname>Topouzis</surname><given-names>F</given-names></name>, <name name-style=\"western\"><surname>Towbin</surname><given-names>JA</given-names></name>, <name name-style=\"western\"><surname>Toyoshima</surname><given-names>H</given-names></name>, <name name-style=\"western\"><surname>Traebert</surname><given-names>J</given-names></name>, <name name-style=\"western\"><surname>Tran</surname><given-names>BX</given-names></name>, <name name-style=\"western\"><surname>Trasande</surname><given-names>L</given-names></name>, <name name-style=\"western\"><surname>Trillini</surname><given-names>M</given-names></name>, <name name-style=\"western\"><surname>"
     ]
    },
    {
     "name": "stdout",
     "output_type": "stream",
     "text": [
      "Trujillo</surname><given-names>U</given-names></name>, <name name-style=\"western\"><surname>Dimbuene</surname><given-names>ZT</given-names></name>, <name name-style=\"western\"><surname>Tsilimbaris</surname><given-names>M</given-names></name>, <name name-style=\"western\"><surname>Tuzcu</surname><given-names>EM</given-names></name>, <name name-style=\"western\"><surname>Uchendu</surname><given-names>US</given-names></name>, <name name-style=\"western\"><surname>Ukwaja</surname><given-names>KN</given-names></name>, <name name-style=\"western\"><surname>Uzun</surname><given-names>SB</given-names></name>, <name name-style=\"western\"><surname>van de Vijver</surname><given-names>S</given-names></name>, <name name-style=\"western\"><surname>Van Dingenen</surname><given-names>R</given-names></name>, <name name-style=\"western\"><surname>van Gool</surname><given-names>CH</given-names></name>, <name name-style=\"western\"><surname>van Os</surname><given-names>J</given-names></name>, <name name-style=\"western\"><surname>Varakin</surname><given-names>YY</given-names></name>, <name name-style=\"western\"><surname>Vasankari</surname><given-names>TJ</given-names></name>, <name name-style=\"western\"><surname>Vasconcelos</surname><given-names>AM</given-names></name>, <name name-style=\"western\"><surname>Vavilala</surname><given-names>MS</given-names></name>, <name name-style=\"western\"><surname>Veerman</surname><given-names>LJ</given-names></name>, <name name-style=\"western\"><surname>Velasquez-Melendez</surname><given-names>G</given-names></name>, <name name-style=\"western\"><surname>Venketasubramanian</surname><given-names>N</given-names></name>, <name name-style=\"western\"><surname>Vijayakumar</surname><given-names>L</given-names></name>, <name name-style=\"western\"><surname>Villalpando</surname><given-names>S</given-names></name>, <name name-style=\"western\"><surname>Violante</surname><given-names>FS</given-names></name>, <name name-style=\"western\"><surname>Vlassov</surname><given-names>VV</given-names></name>, <name name-style=\"western\"><surname>Vollset</surname><given-names>SE</given-names></name>, <name name-style=\"western\"><surname>Wagner</surname><given-names>GR</given-names></name>, <name name-style=\"western\"><surname>Waller</surname><given-names>SG</given-names></name>, <name name-style=\"western\"><surname>Wallin</surname><given-names>MT</given-names></name>, <name name-style=\"western\"><surname>Wan</surname><given-names>X</given-names></name>, <name name-style=\"western\"><surname>Wang</surname><given-names>H</given-names></name>, <name name-style=\"western\"><surname>Wang</surname><given-names>J</given-names></name>, <name name-style=\"western\"><surname>Wang</surname><given-names>L</given-names></name>, <name name-style=\"western\"><surname>Wang</surname><given-names>W</given-names></name>, <name name-style=\"western\"><surname>Wang</surname><given-names>Y</given-names></name>, <name name-style=\"western\"><surname>Warouw</surname><given-names>TS</given-names></name>, <name name-style=\"western\"><surname>Watts</surname><given-names>CH</given-names></name>, <name name-style=\"western\"><surname>Weichenthal</surname><given-names>S</given-names></name>, <name name-style=\"western\"><surname>Weiderpass</surname><given-names>E</given-names></name>, <name name-style=\"western\"><surname>Weintraub</surname><given-names>RG</given-names></name>, <name name-style=\"western\"><surname>Werdecker</surname><given-names>A</given-names></name>, <name name-style=\"western\"><surname>Wessells</surname><given-names>KR</given-names></name>, <name name-style=\"western\"><surname>Westerman</surname><given-names>R</given-names></name>, <name name-style=\"western\"><surname>Whiteford</surname><given-names>HA</given-names></name>, <name name-style=\"western\"><surname>Wilkinson</surname><given-names>JD</given-names></name>, <name name-style=\"western\"><surname>Williams</surname><given-names>HC</given-names></name>, <name name-style=\"western\"><surname>Williams</surname><given-names>TN</given-names></name>, <name name-style=\"western\"><surname>Woldeyohannes</surname><given-names>SM</given-names></name>, <name name-style=\"western\"><surname>Wolfe</surname><given-names>CD</given-names></name>, <name name-style=\"western\"><surname>Wong</surname><given-names>JQ</given-names></name>, <name name-style=\"western\"><surname>Woolf</surname><given-names>AD</given-names></name>, <name name-style=\"western\"><surname>Wright</surname><given-names>JL</given-names></name>, <name name-style=\"western\"><surname>Wurtz</surname><given-names>B</given-names></name>, <name name-style=\"western\"><surname>Xu</surname><given-names>G</given-names></name>, <name name-style=\"western\"><surname>Yan</surname><given-names>LL</given-names></name>, <name name-style=\"western\"><surname>Yang</surname><given-names>G</given-names></name>, <name name-style=\"western\"><surname>Yano</surname><given-names>Y</given-names></name>, <name name-style=\"western\"><surname>Ye</surname><given-names>P</given-names></name>, <name name-style=\"western\"><surname>Yenesew</surname><given-names>M</given-names></name>, <name name-style=\"western\"><surname>Yentur</surname><given-names>GK</given-names></name>, <name name-style=\"western\"><surname>Yip</surname><given-names>P</given-names></name>, <name name-style=\"western\"><surname>Yonemoto</surname><given-names>N</given-names></name>, <name name-style=\"western\"><surname>Yoon</surname><given-names>SJ</given-names></name>, <name name-style=\"western\"><surname>Younis</surname><given-names>MZ</given-names></name>, <name name-style=\"western\"><surname>Younoussi</surname><given-names>Z</given-names></name>, <name name-style=\"western\"><surname>Yu</surname><given-names>C</given-names></name>, <name name-style=\"western\"><surname>Zaki</surname><given-names>ME</given-names></name>, <name name-style=\"western\"><surname>Zhao</surname><given-names>Y</given-names></name>, <name name-style=\"western\"><surname>Zheng</surname><given-names>Y</given-names></name>, <name name-style=\"western\"><surname>Zhou</surname><given-names>M</given-names></name>, <name name-style=\"western\"><surname>Zhu</surname><given-names>J</given-names></name>, <name name-style=\"western\"><surname>Zhu</surname><given-names>S</given-names></name>, <name name-style=\"western\"><surname>Zou</surname><given-names>X</given-names></name>, <name name-style=\"western\"><surname>Zunt</surname><given-names>JR</given-names></name>, <name name-style=\"western\"><surname>Lopez</surname><given-names>AD</given-names></name>, <name name-style=\"western\"><surname>Vos</surname><given-names>T</given-names></name>, <name name-style=\"western\"><surname>Murray</surname><given-names>CJ</given-names></name></person-group>\n",
      "<article-title>Global, regional, and national comparative risk assessment of 79 behavioural, environmental and occupational, and metabolic risks or clusters of risks in 188 countries, 1990–2013: a systematic analysis for the Global Burden of Disease Study 2013</article-title>. <source><italic>Lancet</italic></source><year>2015</year>;<volume>386</volume>:<fpage>2287</fpage>–<lpage>2323</lpage>.<pub-id pub-id-type=\"pmid\">26364544</pub-id></mixed-citation>\n",
      "      </ref>\n",
      "      <ref id=\"ehw260C37\">\n",
      "        <label>37</label>\n",
      "        <mixed-citation publication-type=\"journal\">\n",
      "<person-group person-group-type=\"author\"><name name-style=\"western\"><surname>Darkner</surname><given-names>S</given-names></name>, <name name-style=\"western\"><surname>Chen</surname><given-names>X</given-names></name>, <name name-style=\"western\"><surname>Hansen</surname><given-names>J</given-names></name>, <name name-style=\"western\"><surname>Pehrson</surname><given-names>S</given-names></name>, <name name-style=\"western\"><surname>Johannessen</surname><given-names>A</given-names></name>, <name name-style=\"western\"><surname>Nielsen</surname><given-names>JB</given-names></name>, <name name-style=\"western\"><surname>Svendsen</surname><given-names>JH</given-names></name></person-group>\n",
      "<article-title>Recurrence of arrhythmia following short-term oral AMIOdarone after CATheter ablation for atrial fibrillation: a double-blind, randomized, placebo-controlled study (AMIO-CAT trial)</article-title>. <source><italic>Eur Heart J</italic></source><year>2014</year>;<volume>35</volume>:<fpage>3356</fpage>–<lpage>3364</lpage>.<pub-id pub-id-type=\"pmid\">25182250</pub-id></mixed-citation>\n",
      "      </ref>\n",
      "      <ref id=\"ehw260C38\">\n",
      "        <label>38</label>\n",
      "        <mixed-citation publication-type=\"journal\">\n",
      "<person-group person-group-type=\"author\"><name name-style=\"western\"><surname>Haissaguerre</surname><given-names>M</given-names></name>, <name name-style=\"western\"><surname>Jais</surname><given-names>P</given-names></name>, <name name-style=\"western\"><surname>Shah</surname><given-names>DC</given-names></name>, <name name-style=\"western\"><surname>Takahashi</surname><given-names>A</given-names></name>, <name name-style=\"western\"><surname>Hocini</surname><given-names>M</given-names></name>, <name name-style=\"western\"><surname>Quiniou</surname><given-names>G</given-names></name>, <name name-style=\"western\"><surname>Garrigue</surname><given-names>S</given-names></name>, <name name-style=\"western\"><surname>LeMouroux</surname><given-names>A</given-names></name>, <name name-style=\"western\"><surname>LeMetayer</surname><given-names>P</given-names></name>, <name name-style=\"western\"><surname>Clementy</surname><given-names>J</given-names></name></person-group>\n",
      "<article-title>Spontaneous initiation of atrial fibrillation by ectopic beats originating in the pulmonary veins</article-title>. <source><italic>N Engl J Med</italic></source><year>1998</year>;<volume>339</volume>:<fpage>659</fpage>–<lpage>666</lpage>.<pub-id pub-id-type=\"pmid\">9725923</pub-id></mixed-citation>\n",
      "      </ref>\n",
      "      <ref id=\"ehw260C39\">\n",
      "        <label>39</label>\n",
      "        <mixed-citation publication-type=\"journal\">\n",
      "<person-group person-group-type=\"author\"><name name-style=\"western\"><surname>Dagres</surname><given-names>N</given-names></name>, <name name-style=\"western\"><surname>Bongiorni</surname><given-names>MG</given-names></name>, <name name-style=\"western\"><surname>Larsen</surname><given-names>TB</given-names></name>, <name name-style=\"western\"><surname>Hernandez-Madrid</surname><given-names>A</given-names></name>, <name name-style=\"western\"><surname>Pison</surname><given-names>L</given-names></name>, <name name-style=\"western\"><surname>Blomstrom-Lundqvist</surname><given-names>C</given-names></name></person-group>, <collab>Scientific Initiatives Committee, European Heart Rhythm Association</collab>. <article-title>Current ablation techniques for persistent atrial fibrillation: results of the European Heart Rhythm Association Survey</article-title>. <source><italic>Europace</italic></source><year>2015</year>;<volume>17</volume>:<fpage>1596</fpage>–<lpage>1600</lpage>.<pub-id pub-id-type=\"pmid\">26498718</pub-id></mixed-citation>\n",
      "      </ref>\n",
      "      <ref id=\"ehw260C40\">\n",
      "        <label>40</label>\n",
      "        <mixed-citation publication-type=\"journal\">\n",
      "<person-group person-group-type=\"author\"><name name-style=\"western\"><surname>Ciconte</surname><given-names>G</given-names></name>, <name name-style=\"western\"><surname>Ottaviano</surname><given-names>L</given-names></name>, <name name-style=\"western\"><surname>de Asmundis</surname><given-names>C</given-names></name>, <name name-style=\"western\"><surname>Baltogiannis</surname><given-names>G</given-names></name>, <name name-style=\"western\"><surname>Conte</surname><given-names>G</given-names></name>, <name name-style=\"western\"><surname>Sieira</surname><given-names>J</given-names></name>, <name name-style=\"western\"><surname>Di Giovanni</surname><given-names>G</given-names></name>, <name name-style=\"western\"><surname>Saitoh</surname><given-names>Y</given-names></name>, <name name-style=\"western\"><surname>Irfan</surname><given-names>G</given-names></name>, <name name-style=\"western\"><surname>Mugnai</surname><given-names>G</given-names></name>, <name name-style=\"western\"><surname>Storti</surname><given-names>C</given-names></name>, <name name-style=\"western\"><surname>Montenero</surname><given-names>AS</given-names></name>, <name name-style=\"western\"><surname>Chierchia</surname><given-names>GB</given-names></name>, <name name-style=\"western\"><surname>Brugada</surname><given-names>P</given-names></name></person-group>\n",
      "<article-title>Pulmonary vein isolation as index procedure for persistent atrial fibrillation: one-year clinical outcome after ablation using the second-generation cryoballoon</article-title>. <source><italic>Heart Rhythm</italic></source><year>2015</year>;<volume>12</volume>:<fpage>60</fpage>–<lpage>66</lpage>.<pub-id pub-id-type=\"pmid\">25281891</pub-id></mixed-citation>\n",
      "      </ref>\n",
      "      <ref id=\"ehw260C41\">\n",
      "        <label>41</label>\n",
      "        <mixed-citation publication-type=\"journal\">\n",
      "<person-group person-group-type=\"author\"><name name-style=\"western\"><surname>Straube</surname><given-names>F</given-names></name>, <name name-style=\"western\"><surname>Dorwarth</surname><given-names>U</given-names></name>, <name name-style=\"western\"><surname>Ammar-Busch</surname><given-names>S</given-names></name>, <name name-style=\"western\"><surname>Peter</surname><given-names>T</given-names></name>, <name name-style=\"western\"><surname>Noelker</surname><given-names>G</given-names></name>, <name name-style=\"western\"><surname>Massa</surname><given-names>T</given-names></name>, <name name-style=\"western\"><surname>Kuniss</surname><given-names>M</given-names></name>, <name name-style=\"western\"><surname>Ewertsen</surname><given-names>NC</given-names></name>, <name name-style=\"western\"><surname>Chun</surname><given-names>KR</given-names></name>, <name name-style=\"western\"><surname>Tebbenjohanns</surname><given-names>J</given-names></name>, <name name-style=\"western\"><surname>Tilz</surname><given-names>R</given-names></name>, <name name-style=\"western\"><surname>Kuck</surname><given-names>KH</given-names></name>, <name name-style=\"western\"><surname>Ouarrak</surname><given-names>T</given-names></name>, <name name-style=\"western\"><surname>Senges</surname><given-names>J</given-names></name>, <name name-style=\"western\"><surname>Hoffmann</surname><given-names>E</given-names></name>, <name name-style=\"western\"><surname>Investigators</surname><given-names>FC</given-names></name></person-group>\n",
      "<article-title>First-line catheter ablation of paroxysmal atrial fibrillation: outcome of radiofrequency vs. cryoballoon pulmonary vein isolation</article-title>. <source><italic>Europace</italic></source><year>2016</year>;18:368–375.</mixed-citation>\n",
      "      </ref>\n",
      "      <ref id=\"ehw260C42\">\n",
      "        <label>42</label>\n",
      "        <mixed-citation publication-type=\"journal\">\n",
      "<person-group person-group-type=\"author\"><name name-style=\"western\"><surname>Luik</surname><given-names>A</given-names></name>, <name name-style=\"western\"><surname>Radzewitz</surname><given-names>A</given-names></name>, <name name-style=\"western\"><surname>Kieser</surname><given-names>M</given-names></name>, <name name-style=\"western\"><surname>Walter</surname><given-names>M</given-names></name>, <name name-style=\"western\"><surname>Bramlage</surname><given-names>P</given-names></name>, <name name-style=\"western\"><surname>Hormann</surname><given-names>P</given-names></name>, <name name-style=\"western\"><surname>Schmidt</surname><given-names>K</given-names></name>, <name name-style=\"western\"><surname>Horn</surname><given-names>N</given-names></name>, <name name-style=\"western\"><surname>Brinkmeier-Theofanopoulou</surname><given-names>M</given-names></name>, <name name-style=\"western\"><surname>Kunzmann</surname><given-names>K</given-names></name>, <name name-style=\"western\"><surname>Riexinger</surname><given-names>T</given-names></name>, <name name-style=\"western\"><surname>Schymik</surname><given-names>G</given-names></name>, <name name-style=\"western\"><surname>Merkel</surname><given-names>M</given-names></name>, <name name-style=\"western\"><surname>Schmitt</surname><given-names>C</given-names></name></person-group>\n",
      "<article-title>Cryoballoon versus open irrigated radiofrequency ablation in patients with paroxysmal atrial fibrillation: the prospective, randomized, controlled, noninferiority FreezeAF study</article-title>. <source><italic>Circulation</italic></source><year>2015</year>;<volume>132</volume>:<fpage>1311</fpage>–<lpage>1319</lpage>.<pub-id pub-id-type=\"pmid\">26283655</pub-id></mixed-citation>\n",
      "      </ref>\n",
      "      <ref id=\"ehw260C43\">\n",
      "        <label>43</label>\n",
      "        <mixed-citation publication-type=\"journal\">\n",
      "<person-group person-group-type=\"author\"><name name-style=\"western\"><surname>Verma</surname><given-names>A</given-names></name>, <name name-style=\"western\"><surname>Jiang</surname><given-names>CY</given-names></name>, <name name-style=\"western\"><surname>Betts</surname><given-names>TR</given-names></name>, <name name-style=\"western\"><surname>Chen</surname><given-names>J</given-names></name>, <name name-style=\"western\"><surname>Deisenhofer</surname><given-names>I</given-names></name>, <name name-style=\"western\"><surname>Mantovan</surname><given-names>R</given-names></name>, <name name-style=\"western\"><surname>Macle</surname><given-names>L</given-names></name>, <name name-style=\"western\"><surname>Morillo</surname><given-names>CA</given-names></name>, <name name-style=\"western\"><surname>Haverkamp</surname><given-names>W</given-names></name>, <name name-style=\"western\"><surname>Weerasooriya</surname><given-names>R</given-names></name>, <name name-style=\"western\"><surname>Albenque</surname><given-names>JP</given-names></name>, <name name-style=\"western\"><surname>Nardi</surname><given-names>S</given-names></name>, <name name-style=\"western\"><surname>Menardi</surname><given-names>E</given-names></name>, <name name-style=\"western\"><surname>Novak</surname><given-names>P</given-names></name>, <name name-style=\"western\"><surname>Sanders</surname><given-names>P</given-names></name>, <name name-style=\"western\"><surname>Investigators</surname><given-names>SAI</given-names></name></person-group>\n",
      "<article-title>Approaches to catheter ablation for persistent atrial fibrillation</article-title>. <source><italic>N Engl J Med</italic></source><year>2015</year>;<volume>372</volume>:<fpage>1812</fpage>–<lpage>1822</lpage>.<pub-id pub-id-type=\"pmid\">25946280</pub-id></mixed-citation>\n",
      "      </ref>\n",
      "      <ref id=\"ehw260C44\">\n",
      "        <label>44</label>\n",
      "        <mixed-citation publication-type=\"journal\">\n",
      "<person-group person-group-type=\"author\"><name name-style=\"western\"><surname>Wong</surname><given-names>KC</given-names></name>, <name name-style=\"western\"><surname>Paisey</surname><given-names>JR</given-names></name>, <name name-style=\"western\"><surname>Sopher</surname><given-names>M</given-names></name>, <name name-style=\"western\"><surname>Balasubramaniam</surname><given-names>R</given-names></name>, <name name-style=\"western\"><surname>Jones</surname><given-names>M</given-names></name>, <name name-style=\"western\"><surname>Qureshi</surname><given-names>N</given-names></name>, <name name-style=\"western\"><surname>Hayes</surname><given-names>CR</given-names></name>, <name name-style=\"western\"><surname>Ginks</surname><given-names>MR</given-names></name>, <name name-style=\"western\"><surname>Rajappan</surname><given-names>K</given-names></name>, <name name-style=\"western\"><surname>Bashir</surname><given-names>Y</given-names></name>, <name name-style=\"western\"><surname>Betts</surname><given-names>TR</given-names></name></person-group>\n",
      "<article-title>No benefit of complex fractionated atrial electrogram ablation in addition to circumferential pulmonary vein ablation and linear ablation: Benefit of Complex Ablation study</article-title>. <source><italic>Circ Arrhythm Electrophysiol</italic></source><year>2015</year>;<volume>8</volume>:<fpage>1316</fpage>–<lpage>1324</lpage>.<pub-id pub-id-type=\"pmid\">26283145</pub-id></mixed-citation>\n",
      "      </ref>\n",
      "      <ref id=\"ehw260C45\">\n",
      "        <label>45</label>\n",
      "        <mixed-citation publication-type=\"journal\">\n",
      "<person-group person-group-type=\"author\"><name name-style=\"western\"><surname>Providencia</surname><given-names>R</given-names></name>, <name name-style=\"western\"><surname>Lambiase</surname><given-names>PD</given-names></name>, <name name-style=\"western\"><surname>Srinivasan</surname><given-names>N</given-names></name>, <name name-style=\"western\"><surname>Ganesh Babu</surname><given-names>G</given-names></name>, <name name-style=\"western\"><surname>Bronis</surname><given-names>K</given-names></name>, <name name-style=\"western\"><surname>Ahsan</surname><given-names>S</given-names></name>, <name name-style=\"western\"><surname>Khan</surname><given-names>FZ</given-names></name>, <name name-style=\"western\"><surname>Chow</surname><given-names>AW</given-names></name>, <name name-style=\"western\"><surname>Rowland</surname><given-names>E</given-names></name>, <name name-style=\"western\"><surname>Lowe</surname><given-names>M</given-names></name>, <name name-style=\"western\"><surname>Segal</surname><given-names>OR</given-names></name></person-group>\n",
      "<article-title>Is there still a role for complex fractionated atrial electrogram ablation in addition to pulmonary vein isolation in patients with paroxysmal and persistent atrial fibrillation? Meta-analysis of 1415 patients</article-title>. <source><italic>Circ Arrhythm Electrophysiol</italic></source><year>2015</year>;<volume>8</volume>:<fpage>1017</fpage>–<lpage>1029</lpage>.<pub-id pub-id-type=\"pmid\">26082515</pub-id></mixed-citation>\n",
      "      </ref>\n",
      "      <ref id=\"ehw260C46\">\n",
      "        <label>46</label>\n",
      "        <mixed-citation publication-type=\"journal\">\n"
     ]
    },
    {
     "name": "stdout",
     "output_type": "stream",
     "text": [
      "<person-group person-group-type=\"author\"><name name-style=\"western\"><surname>Kuck</surname><given-names>KH</given-names></name>, <name name-style=\"western\"><surname>Brugada</surname><given-names>J</given-names></name>, <name name-style=\"western\"><surname>Furnkranz</surname><given-names>A</given-names></name>, <name name-style=\"western\"><surname>Metzner</surname><given-names>A</given-names></name>, <name name-style=\"western\"><surname>Ouyang</surname><given-names>F</given-names></name>, <name name-style=\"western\"><surname>Chun</surname><given-names>KR</given-names></name>, <name name-style=\"western\"><surname>Elvan</surname><given-names>A</given-names></name>, <name name-style=\"western\"><surname>Arentz</surname><given-names>T</given-names></name>, <name name-style=\"western\"><surname>Bestehorn</surname><given-names>K</given-names></name>, <name name-style=\"western\"><surname>Pocock</surname><given-names>SJ</given-names></name>, <name name-style=\"western\"><surname>Albenque</surname><given-names>JP</given-names></name>, <name name-style=\"western\"><surname>Tondo</surname><given-names>C</given-names></name></person-group>, <collab>for the FIRE AND ICE Investigators</collab>. <article-title>Cryoballoon or radiofrequency ablation for paroxysmal atrial fibrillation</article-title>. <source><italic>N Engl J Med</italic></source><year>2016</year>; <comment><ext-link ext-link-type=\"uri\" ns0:href=\"http://dx.doi.org/10.1056/NEJMoa1602014\">doi:10.1056/NEJMoa1602014</ext-link></comment>.</mixed-citation>\n",
      "      </ref>\n",
      "      <ref id=\"ehw260C47\">\n",
      "        <label>47</label>\n",
      "        <mixed-citation publication-type=\"journal\">\n",
      "<person-group person-group-type=\"author\"><name name-style=\"western\"><surname>Wazni</surname><given-names>OM</given-names></name>, <name name-style=\"western\"><surname>Marrouche</surname><given-names>NF</given-names></name>, <name name-style=\"western\"><surname>Martin</surname><given-names>DO</given-names></name>, <name name-style=\"western\"><surname>Verma</surname><given-names>A</given-names></name>, <name name-style=\"western\"><surname>Bhargava</surname><given-names>M</given-names></name>, <name name-style=\"western\"><surname>Saliba</surname><given-names>W</given-names></name>, <name name-style=\"western\"><surname>Bash</surname><given-names>D</given-names></name>, <name name-style=\"western\"><surname>Schweikert</surname><given-names>R</given-names></name>, <name name-style=\"western\"><surname>Brachmann</surname><given-names>J</given-names></name>, <name name-style=\"western\"><surname>Gunther</surname><given-names>J</given-names></name>, <name name-style=\"western\"><surname>Gutleben</surname><given-names>K</given-names></name>, <name name-style=\"western\"><surname>Pisano</surname><given-names>E</given-names></name>, <name name-style=\"western\"><surname>Potenza</surname><given-names>D</given-names></name>, <name name-style=\"western\"><surname>Fanelli</surname><given-names>R</given-names></name>, <name name-style=\"western\"><surname>Raviele</surname><given-names>A</given-names></name>, <name name-style=\"western\"><surname>Themistoclakis</surname><given-names>S</given-names></name>, <name name-style=\"western\"><surname>Rossillo</surname><given-names>A</given-names></name>, <name name-style=\"western\"><surname>Bonso</surname><given-names>A</given-names></name>, <name name-style=\"western\"><surname>Natale</surname><given-names>A</given-names></name></person-group>\n",
      "<article-title>Radiofrequency ablation vs antiarrhythmic drugs as first-line treatment of symptomatic atrial fibrillation: a randomized trial</article-title>. <source><italic>J Am Med Assoc</italic></source><year>2005</year>;<volume>293</volume>:<fpage>2634</fpage>–<lpage>2640</lpage>.</mixed-citation>\n",
      "      </ref>\n",
      "      <ref id=\"ehw260C48\">\n",
      "        <label>48</label>\n",
      "        <mixed-citation publication-type=\"journal\">\n",
      "<person-group person-group-type=\"author\"><name name-style=\"western\"><surname>Oral</surname><given-names>H</given-names></name>, <name name-style=\"western\"><surname>Pappone</surname><given-names>C</given-names></name>, <name name-style=\"western\"><surname>Chugh</surname><given-names>A</given-names></name>, <name name-style=\"western\"><surname>Good</surname><given-names>E</given-names></name>, <name name-style=\"western\"><surname>Bogun</surname><given-names>F</given-names></name>, <name name-style=\"western\"><surname>Pelosi</surname><given-names>F</given-names><suffix>Jr</suffix></name>, <name name-style=\"western\"><surname>Bates</surname><given-names>ER</given-names></name>, <name name-style=\"western\"><surname>Lehmann</surname><given-names>MH</given-names></name>, <name name-style=\"western\"><surname>Vicedomini</surname><given-names>G</given-names></name>, <name name-style=\"western\"><surname>Augello</surname><given-names>G</given-names></name>, <name name-style=\"western\"><surname>Agricola</surname><given-names>E</given-names></name>, <name name-style=\"western\"><surname>Sala</surname><given-names>S</given-names></name>, <name name-style=\"western\"><surname>Santinelli</surname><given-names>V</given-names></name>, <name name-style=\"western\"><surname>Morady</surname><given-names>F</given-names></name></person-group>\n",
      "<article-title>Circumferential pulmonary-vein ablation for chronic atrial fibrillation</article-title>. <source><italic>N Engl J Med</italic></source><year>2006</year>;<volume>354</volume>:<fpage>934</fpage>–<lpage>941</lpage>.<pub-id pub-id-type=\"pmid\">16510747</pub-id></mixed-citation>\n",
      "      </ref>\n",
      "      <ref id=\"ehw260C49\">\n",
      "        <label>49</label>\n",
      "        <mixed-citation publication-type=\"journal\">\n",
      "<person-group person-group-type=\"author\"><name name-style=\"western\"><surname>Stabile</surname><given-names>G</given-names></name>, <name name-style=\"western\"><surname>Bertaglia</surname><given-names>E</given-names></name>, <name name-style=\"western\"><surname>Senatore</surname><given-names>G</given-names></name>, <name name-style=\"western\"><surname>De Simone</surname><given-names>A</given-names></name>, <name name-style=\"western\"><surname>Zoppo</surname><given-names>F</given-names></name>, <name name-style=\"western\"><surname>Donnici</surname><given-names>G</given-names></name>, <name name-style=\"western\"><surname>Turco</surname><given-names>P</given-names></name>, <name name-style=\"western\"><surname>Pascotto</surname><given-names>P</given-names></name>, <name name-style=\"western\"><surname>Fazzari</surname><given-names>M</given-names></name>, <name name-style=\"western\"><surname>Vitale</surname><given-names>DF</given-names></name></person-group>\n",
      "<article-title>Catheter ablation treatment in patients with drug-refractory atrial fibrillation: a prospective, multi-centre, randomized, controlled study (Catheter Ablation For The Cure Of Atrial Fibrillation Study)</article-title>. <source><italic>Eur Heart J</italic></source><year>2006</year>;<volume>27</volume>:<fpage>216</fpage>–<lpage>221</lpage>.<pub-id pub-id-type=\"pmid\">16214831</pub-id></mixed-citation>\n",
      "      </ref>\n",
      "      <ref id=\"ehw260C50\">\n",
      "        <label>50</label>\n",
      "        <mixed-citation publication-type=\"journal\">\n",
      "<person-group person-group-type=\"author\"><name name-style=\"western\"><surname>Forleo</surname><given-names>GB</given-names></name>, <name name-style=\"western\"><surname>Mantica</surname><given-names>M</given-names></name>, <name name-style=\"western\"><surname>De Luca</surname><given-names>L</given-names></name>, <name name-style=\"western\"><surname>Leo</surname><given-names>R</given-names></name>, <name name-style=\"western\"><surname>Santini</surname><given-names>L</given-names></name>, <name name-style=\"western\"><surname>Panigada</surname><given-names>S</given-names></name>, <name name-style=\"western\"><surname>De Sanctis</surname><given-names>V</given-names></name>, <name name-style=\"western\"><surname>Pappalardo</surname><given-names>A</given-names></name>, <name name-style=\"western\"><surname>Laurenzi</surname><given-names>F</given-names></name>, <name name-style=\"western\"><surname>Avella</surname><given-names>A</given-names></name>, <name name-style=\"western\"><surname>Casella</surname><given-names>M</given-names></name>, <name name-style=\"western\"><surname>Dello Russo</surname><given-names>A</given-names></name>, <name name-style=\"western\"><surname>Romeo</surname><given-names>F</given-names></name>, <name name-style=\"western\"><surname>Pelargonio</surname><given-names>G</given-names></name>, <name name-style=\"western\"><surname>Tondo</surname><given-names>C</given-names></name></person-group>\n",
      "<article-title>Catheter ablation of atrial fibrillation in patients with diabetes mellitus type 2: results from a randomized study comparing pulmonary vein isolation versus antiarrhythmic drug therapy</article-title>. <source><italic>J Cardiovasc Electrophysiol</italic></source><year>2009</year>;<volume>20</volume>:<fpage>22</fpage>–<lpage>28</lpage>.<pub-id pub-id-type=\"pmid\">18775050</pub-id></mixed-citation>\n",
      "      </ref>\n",
      "      <ref id=\"ehw260C51\">\n",
      "        <label>51</label>\n",
      "        <mixed-citation publication-type=\"journal\">\n",
      "<person-group person-group-type=\"author\"><name name-style=\"western\"><surname>Jones</surname><given-names>DG</given-names></name>, <name name-style=\"western\"><surname>Haldar</surname><given-names>SK</given-names></name>, <name name-style=\"western\"><surname>Hussain</surname><given-names>W</given-names></name>, <name name-style=\"western\"><surname>Sharma</surname><given-names>R</given-names></name>, <name name-style=\"western\"><surname>Francis</surname><given-names>DP</given-names></name>, <name name-style=\"western\"><surname>Rahman-Haley</surname><given-names>SL</given-names></name>, <name name-style=\"western\"><surname>McDonagh</surname><given-names>TA</given-names></name>, <name name-style=\"western\"><surname>Underwood</surname><given-names>SR</given-names></name>, <name name-style=\"western\"><surname>Markides</surname><given-names>V</given-names></name>, <name name-style=\"western\"><surname>Wong</surname><given-names>T</given-names></name></person-group>\n",
      "<article-title>A randomized trial to assess catheter ablation versus rate control in the management of persistent atrial fibrillation in heart failure</article-title>. <source><italic>J Am Coll Cardiol</italic></source><year>2013</year>;<volume>61</volume>:<fpage>1894</fpage>–<lpage>1903</lpage>.<pub-id pub-id-type=\"pmid\">23500267</pub-id></mixed-citation>\n",
      "      </ref>\n",
      "      <ref id=\"ehw260C52\">\n",
      "        <label>52</label>\n",
      "        <mixed-citation publication-type=\"journal\">\n",
      "<person-group person-group-type=\"author\"><name name-style=\"western\"><surname>Dong</surname><given-names>JZ</given-names></name>, <name name-style=\"western\"><surname>Sang</surname><given-names>CH</given-names></name>, <name name-style=\"western\"><surname>Yu</surname><given-names>RH</given-names></name>, <name name-style=\"western\"><surname>Long</surname><given-names>Y</given-names></name>, <name name-style=\"western\"><surname>Tang</surname><given-names>RB</given-names></name>, <name name-style=\"western\"><surname>Jiang</surname><given-names>CX</given-names></name>, <name name-style=\"western\"><surname>Ning</surname><given-names>M</given-names></name>, <name name-style=\"western\"><surname>Liu</surname><given-names>N</given-names></name>, <name name-style=\"western\"><surname>Liu</surname><given-names>XP</given-names></name>, <name name-style=\"western\"><surname>Du</surname><given-names>X</given-names></name>, <name name-style=\"western\"><surname>Tse</surname><given-names>HF</given-names></name>, <name name-style=\"western\"><surname>Ma</surname><given-names>CS</given-names></name></person-group>\n",
      "<article-title>Prospective randomized comparison between a fixed ‘2C3L’ approach vs. stepwise approach for catheter ablation of persistent atrial fibrillation</article-title>. <source><italic>Europace</italic></source><year>2015</year>;<volume>17</volume>:<fpage>1798</fpage>–<lpage>1806</lpage>.<pub-id pub-id-type=\"pmid\">25957039</pub-id></mixed-citation>\n",
      "      </ref>\n",
      "      <ref id=\"ehw260C53\">\n",
      "        <label>53</label>\n",
      "        <mixed-citation publication-type=\"journal\">\n",
      "<person-group person-group-type=\"author\"><name name-style=\"western\"><surname>Hunter</surname><given-names>RJ</given-names></name>, <name name-style=\"western\"><surname>McCready</surname><given-names>J</given-names></name>, <name name-style=\"western\"><surname>Diab</surname><given-names>I</given-names></name>, <name name-style=\"western\"><surname>Page</surname><given-names>SP</given-names></name>, <name name-style=\"western\"><surname>Finlay</surname><given-names>M</given-names></name>, <name name-style=\"western\"><surname>Richmond</surname><given-names>L</given-names></name>, <name name-style=\"western\"><surname>French</surname><given-names>A</given-names></name>, <name name-style=\"western\"><surname>Earley</surname><given-names>MJ</given-names></name>, <name name-style=\"western\"><surname>Sporton</surname><given-names>S</given-names></name>, <name name-style=\"western\"><surname>Jones</surname><given-names>M</given-names></name>, <name name-style=\"western\"><surname>Joseph</surname><given-names>JP</given-names></name>, <name name-style=\"western\"><surname>Bashir</surname><given-names>Y</given-names></name>, <name name-style=\"western\"><surname>Betts</surname><given-names>TR</given-names></name>, <name name-style=\"western\"><surname>Thomas</surname><given-names>G</given-names></name>, <name name-style=\"western\"><surname>Staniforth</surname><given-names>A</given-names></name>, <name name-style=\"western\"><surname>Lee</surname><given-names>G</given-names></name>, <name name-style=\"western\"><surname>Kistler</surname><given-names>P</given-names></name>, <name name-style=\"western\"><surname>Rajappan</surname><given-names>K</given-names></name>, <name name-style=\"western\"><surname>Chow</surname><given-names>A</given-names></name>, <name name-style=\"western\"><surname>Schilling</surname><given-names>RJ</given-names></name></person-group>\n",
      "<article-title>Maintenance of sinus rhythm with an ablation strategy in patients with atrial fibrillation is associated with a lower risk of stroke and death</article-title>. <source><italic>Heart</italic></source><year>2012</year>;<volume>98</volume>:<fpage>48</fpage>–<lpage>53</lpage>.<pub-id pub-id-type=\"pmid\">21930724</pub-id></mixed-citation>\n",
      "      </ref>\n",
      "      <ref id=\"ehw260C54\">\n",
      "        <label>54</label>\n",
      "        <mixed-citation publication-type=\"journal\">\n",
      "<person-group person-group-type=\"author\"><name name-style=\"western\"><surname>Scherr</surname><given-names>D</given-names></name>, <name name-style=\"western\"><surname>Khairy</surname><given-names>P</given-names></name>, <name name-style=\"western\"><surname>Miyazaki</surname><given-names>S</given-names></name>, <name name-style=\"western\"><surname>Aurillac-Lavignolle</surname><given-names>V</given-names></name>, <name name-style=\"western\"><surname>Pascale</surname><given-names>P</given-names></name>, <name name-style=\"western\"><surname>Wilton</surname><given-names>SB</given-names></name>, <name name-style=\"western\"><surname>Ramoul</surname><given-names>K</given-names></name>, <name name-style=\"western\"><surname>Komatsu</surname><given-names>Y</given-names></name>, <name name-style=\"western\"><surname>Roten</surname><given-names>L</given-names></name>, <name name-style=\"western\"><surname>Jadidi</surname><given-names>A</given-names></name>, <name name-style=\"western\"><surname>Linton</surname><given-names>N</given-names></name>, <name name-style=\"western\"><surname>Pedersen</surname><given-names>M</given-names></name>, <name name-style=\"western\"><surname>Daly</surname><given-names>M</given-names></name>, <name name-style=\"western\"><surname>O'Neill</surname><given-names>M</given-names></name>, <name name-style=\"western\"><surname>Knecht</surname><given-names>S</given-names></name>, <name name-style=\"western\"><surname>Weerasooriya</surname><given-names>R</given-names></name>, <name name-style=\"western\"><surname>Rostock</surname><given-names>T</given-names></name>, <name name-style=\"western\"><surname>Manninger</surname><given-names>M</given-names></name>, <name name-style=\"western\"><surname>Cochet</surname><given-names>H</given-names></name>, <name name-style=\"western\"><surname>Shah</surname><given-names>AJ</given-names></name>, <name name-style=\"western\"><surname>Yeim</surname><given-names>S</given-names></name>, <name name-style=\"western\"><surname>Denis</surname><given-names>A</given-names></name>, <name name-style=\"western\"><surname>Derval</surname><given-names>N</given-names></name>, <name name-style=\"western\"><surname>Hocini</surname><given-names>M</given-names></name>, <name name-style=\"western\"><surname>Sacher</surname><given-names>F</given-names></name>, <name name-style=\"western\"><surname>Haissaguerre</surname><given-names>M</given-names></name>, <name name-style=\"western\"><surname>Jais</surname><given-names>P</given-names></name></person-group>\n",
      "<article-title>Five-year outcome of catheter ablation of persistent atrial fibrillation using termination of atrial fibrillation as a procedural endpoint</article-title>. <source><italic>Circ Arrhythm Electrophysiol</italic></source><year>2015</year>;<volume>8</volume>:<fpage>18</fpage>–<lpage>24</lpage>.<pub-id pub-id-type=\"pmid\">25528745</pub-id></mixed-citation>\n",
      "      </ref>\n",
      "      <ref id=\"ehw260C55\">\n",
      "        <label>55</label>\n",
      "        <mixed-citation publication-type=\"journal\">\n",
      "<person-group person-group-type=\"author\"><name name-style=\"western\"><surname>Schreiber</surname><given-names>D</given-names></name>, <name name-style=\"western\"><surname>Rostock</surname><given-names>T</given-names></name>, <name name-style=\"western\"><surname>Frohlich</surname><given-names>M</given-names></name>, <name name-style=\"western\"><surname>Sultan</surname><given-names>A</given-names></name>, <name name-style=\"western\"><surname>Servatius</surname><given-names>H</given-names></name>, <name name-style=\"western\"><surname>Hoffmann</surname><given-names>BA</given-names></name>, <name name-style=\"western\"><surname>Luker</surname><given-names>J</given-names></name>, <name name-style=\"western\"><surname>Berner</surname><given-names>I</given-names></name>, <name name-style=\"western\"><surname>Schaffer</surname><given-names>B</given-names></name>, <name name-style=\"western\"><surname>Wegscheider</surname><given-names>K</given-names></name>, <name name-style=\"western\"><surname>Lezius</surname><given-names>S</given-names></name>, <name name-style=\"western\"><surname>Willems</surname><given-names>S</given-names></name>, <name name-style=\"western\"><surname>Steven</surname><given-names>D</given-names></name></person-group>\n",
      "<article-title>Five-year follow-up after catheter ablation of persistent atrial fibrillation using the stepwise approach and prognostic factors for success</article-title>. <source><italic>Circ Arrhythm Electrophysiol</italic></source><year>2015</year>;<volume>8</volume>:<fpage>308</fpage>–<lpage>317</lpage>.<pub-id pub-id-type=\"pmid\">25744570</pub-id></mixed-citation>\n",
      "      </ref>\n",
      "      <ref id=\"ehw260C56\">\n",
      "        <label>56</label>\n",
      "        <mixed-citation publication-type=\"journal\">\n",
      "<person-group person-group-type=\"author\"><name name-style=\"western\"><surname>Haissaguerre</surname><given-names>M</given-names></name>, <name name-style=\"western\"><surname>Hocini</surname><given-names>M</given-names></name>, <name name-style=\"western\"><surname>Denis</surname><given-names>A</given-names></name>, <name name-style=\"western\"><surname>Shah</surname><given-names>AJ</given-names></name>, <name name-style=\"western\"><surname>Komatsu</surname><given-names>Y</given-names></name>, <name name-style=\"western\"><surname>Yamashita</surname><given-names>S</given-names></name>, <name name-style=\"western\"><surname>Daly</surname><given-names>M</given-names></name>, <name name-style=\"western\"><surname>Amraoui</surname><given-names>S</given-names></name>, <name name-style=\"western\"><surname>Zellerhoff</surname><given-names>S</given-names></name>, <name name-style=\"western\"><surname>Picat</surname><given-names>MQ</given-names></name>, <name name-style=\"western\"><surname>Quotb</surname><given-names>A</given-names></name>, <name name-style=\"western\"><surname>Jesel</surname><given-names>L</given-names></name>, <name name-style=\"western\"><surname>Lim</surname><given-names>H</given-names></name>, <name name-style=\"western\"><surname>Ploux</surname><given-names>S</given-names></name>, <name name-style=\"western\"><surname>Bordachar</surname><given-names>P</given-names></name>, <name name-style=\"western\"><surname>Attuel</surname><given-names>G</given-names></name>, <name name-style=\"western\"><surname>Meillet</surname><given-names>V</given-names></name>, <name name-style=\"western\"><surname>Ritter</surname><given-names>P</given-names></name>, <name name-style=\"western\"><surname>Derval</surname><given-names>N</given-names></name>, <name name-style=\"western\"><surname>Sacher</surname><given-names>F</given-names></name>, <name name-style=\"western\"><surname>Bernus</surname><given-names>O</given-names></name>, <name name-style=\"western\"><surname>Cochet</surname><given-names>H</given-names></name>, <name name-style=\"western\"><surname>Jais</surname><given-names>P</given-names></name>, <name name-style=\"western\"><surname>Dubois</surname><given-names>R</given-names></name></person-group>\n",
      "<article-title>Driver domains in persistent atrial fibrillation</article-title>. <source><italic>Circulation</italic></source><year>2014</year>;<volume>130</volume>:<fpage>530</fpage>–<lpage>538</lpage>.<pub-id pub-id-type=\"pmid\">25028391</pub-id></mixed-citation>\n",
      "      </ref>\n",
      "      <ref id=\"ehw260C57\">\n",
      "        <label>57</label>\n",
      "        <mixed-citation publication-type=\"journal\">\n",
      "<person-group person-group-type=\"author\"><name name-style=\"western\"><surname>Schwartzman</surname><given-names>D</given-names></name>, <name name-style=\"western\"><surname>Kuck</surname><given-names>KH</given-names></name></person-group>\n",
      "<article-title>Anatomy-guided linear atrial lesions for radiofrequency catheter ablation of atrial fibrillation</article-title>. <source><italic>Pacing Clin Electrophysiol</italic></source><year>1998</year>;<volume>21</volume>:<fpage>1959</fpage>–<lpage>1978</lpage>.<pub-id pub-id-type=\"pmid\">9793093</pub-id></mixed-citation>\n",
      "      </ref>\n",
      "      <ref id=\"ehw260C58\">\n",
      "        <label>58</label>\n",
      "        <mixed-citation publication-type=\"journal\">\n",
      "<person-group person-group-type=\"author\"><name name-style=\"western\"><surname>Ernst</surname><given-names>S</given-names></name>, <name name-style=\"western\"><surname>Ouyang</surname><given-names>F</given-names></name>, <name name-style=\"western\"><surname>Lober</surname><given-names>F</given-names></name>, <name name-style=\"western\"><surname>Antz</surname><given-names>M</given-names></name>, <name name-style=\"western\"><surname>Kuck</surname><given-names>KH</given-names></name></person-group>\n",
      "<article-title>Catheter-induced linear lesions in the left atrium in patients with atrial fibrillation: an electroanatomic study</article-title>. <source><italic>J Am Coll Cardiol</italic></source><year>2003</year>;<volume>42</volume>:<fpage>1271</fpage>–<lpage>1282</lpage>.<pub-id pub-id-type=\"pmid\">14522495</pub-id></mixed-citation>\n",
      "      </ref>\n"
     ]
    },
    {
     "name": "stdout",
     "output_type": "stream",
     "text": [
      "      <ref id=\"ehw260C59\">\n",
      "        <label>59</label>\n",
      "        <mixed-citation publication-type=\"journal\">\n",
      "<person-group person-group-type=\"author\"><name name-style=\"western\"><surname>Haissaguerre</surname><given-names>M</given-names></name>, <name name-style=\"western\"><surname>Jais</surname><given-names>P</given-names></name>, <name name-style=\"western\"><surname>Shah</surname><given-names>DC</given-names></name>, <name name-style=\"western\"><surname>Gencel</surname><given-names>L</given-names></name>, <name name-style=\"western\"><surname>Pradeau</surname><given-names>V</given-names></name>, <name name-style=\"western\"><surname>Garrigues</surname><given-names>S</given-names></name>, <name name-style=\"western\"><surname>Chouairi</surname><given-names>S</given-names></name>, <name name-style=\"western\"><surname>Hocini</surname><given-names>M</given-names></name>, <name name-style=\"western\"><surname>Le Metayer</surname><given-names>P</given-names></name>, <name name-style=\"western\"><surname>Roudaut</surname><given-names>R</given-names></name>, <name name-style=\"western\"><surname>Clementy</surname><given-names>J</given-names></name></person-group>\n",
      "<article-title>Right and left atrial radiofrequency catheter therapy of paroxysmal atrial fibrillation</article-title>. <source><italic>J Cardiovasc Electrophysiol</italic></source><year>1996</year>;<volume>7</volume>:<fpage>1132</fpage>–<lpage>1144</lpage>.<pub-id pub-id-type=\"pmid\">8985802</pub-id></mixed-citation>\n",
      "      </ref>\n",
      "      <ref id=\"ehw260C60\">\n",
      "        <label>60</label>\n",
      "        <mixed-citation publication-type=\"journal\">\n",
      "<person-group person-group-type=\"author\"><name name-style=\"western\"><surname>Haissaguerre</surname><given-names>M</given-names></name>, <name name-style=\"western\"><surname>Shah</surname><given-names>DC</given-names></name>, <name name-style=\"western\"><surname>Jais</surname><given-names>P</given-names></name></person-group>\n",
      "<article-title>Catheter-mediated linear block in the atria</article-title>. <source><italic>Circulation</italic></source><year>2000</year>;<volume>102</volume>:<fpage>E123</fpage>.<pub-id pub-id-type=\"pmid\">11056114</pub-id></mixed-citation>\n",
      "      </ref>\n",
      "      <ref id=\"ehw260C61\">\n",
      "        <label>61</label>\n",
      "        <mixed-citation publication-type=\"journal\">\n",
      "<person-group person-group-type=\"author\"><name name-style=\"western\"><surname>Jais</surname><given-names>P</given-names></name>, <name name-style=\"western\"><surname>Shah</surname><given-names>DC</given-names></name>, <name name-style=\"western\"><surname>Haissaguerre</surname><given-names>M</given-names></name>, <name name-style=\"western\"><surname>Takahashi</surname><given-names>A</given-names></name>, <name name-style=\"western\"><surname>Lavergne</surname><given-names>T</given-names></name>, <name name-style=\"western\"><surname>Hocini</surname><given-names>M</given-names></name>, <name name-style=\"western\"><surname>Garrigue</surname><given-names>S</given-names></name>, <name name-style=\"western\"><surname>Barold</surname><given-names>SS</given-names></name>, <name name-style=\"western\"><surname>Le Metayer</surname><given-names>P</given-names></name>, <name name-style=\"western\"><surname>Clementy</surname><given-names>J</given-names></name></person-group>\n",
      "<article-title>Efficacy and safety of septal and left-atrial linear ablation for atrial fibrillation</article-title>. <source><italic>Am J Cardiol</italic></source><year>1999</year>;<volume>84</volume>:<fpage>139R</fpage>–<lpage>146R</lpage>.</mixed-citation>\n",
      "      </ref>\n",
      "      <ref id=\"ehw260C62\">\n",
      "        <label>62</label>\n",
      "        <mixed-citation publication-type=\"journal\">\n",
      "<person-group person-group-type=\"author\"><name name-style=\"western\"><surname>Knecht</surname><given-names>S</given-names></name>, <name name-style=\"western\"><surname>Hocini</surname><given-names>M</given-names></name>, <name name-style=\"western\"><surname>Wright</surname><given-names>M</given-names></name>, <name name-style=\"western\"><surname>Lellouche</surname><given-names>N</given-names></name>, <name name-style=\"western\"><surname>O'Neill</surname><given-names>MD</given-names></name>, <name name-style=\"western\"><surname>Matsuo</surname><given-names>S</given-names></name>, <name name-style=\"western\"><surname>Nault</surname><given-names>I</given-names></name>, <name name-style=\"western\"><surname>Chauhan</surname><given-names>VS</given-names></name>, <name name-style=\"western\"><surname>Makati</surname><given-names>KJ</given-names></name>, <name name-style=\"western\"><surname>Bevilacqua</surname><given-names>M</given-names></name>, <name name-style=\"western\"><surname>Lim</surname><given-names>KT</given-names></name>, <name name-style=\"western\"><surname>Sacher</surname><given-names>F</given-names></name>, <name name-style=\"western\"><surname>Deplagne</surname><given-names>A</given-names></name>, <name name-style=\"western\"><surname>Derval</surname><given-names>N</given-names></name>, <name name-style=\"western\"><surname>Bordachar</surname><given-names>P</given-names></name>, <name name-style=\"western\"><surname>Jais</surname><given-names>P</given-names></name>, <name name-style=\"western\"><surname>Clementy</surname><given-names>J</given-names></name>, <name name-style=\"western\"><surname>Haissaguerre</surname><given-names>M</given-names></name></person-group>\n",
      "<article-title>Left atrial linear lesions are required for successful treatment of persistent atrial fibrillation</article-title>. <source><italic>Eur Heart J</italic></source><year>2008</year>;<volume>29</volume>:<fpage>2359</fpage>–<lpage>2366</lpage>.<pub-id pub-id-type=\"pmid\">18614522</pub-id></mixed-citation>\n",
      "      </ref>\n",
      "      <ref id=\"ehw260C63\">\n",
      "        <label>63</label>\n",
      "        <mixed-citation publication-type=\"journal\">\n",
      "<person-group person-group-type=\"author\"><name name-style=\"western\"><surname>Ouyang</surname><given-names>F</given-names></name>, <name name-style=\"western\"><surname>Ernst</surname><given-names>S</given-names></name>, <name name-style=\"western\"><surname>Chun</surname><given-names>J</given-names></name>, <name name-style=\"western\"><surname>Bansch</surname><given-names>D</given-names></name>, <name name-style=\"western\"><surname>Li</surname><given-names>Y</given-names></name>, <name name-style=\"western\"><surname>Schaumann</surname><given-names>A</given-names></name>, <name name-style=\"western\"><surname>Mavrakis</surname><given-names>H</given-names></name>, <name name-style=\"western\"><surname>Liu</surname><given-names>X</given-names></name>, <name name-style=\"western\"><surname>Deger</surname><given-names>FT</given-names></name>, <name name-style=\"western\"><surname>Schmidt</surname><given-names>B</given-names></name>, <name name-style=\"western\"><surname>Xue</surname><given-names>Y</given-names></name>, <name name-style=\"western\"><surname>Cao</surname><given-names>J</given-names></name>, <name name-style=\"western\"><surname>Hennig</surname><given-names>D</given-names></name>, <name name-style=\"western\"><surname>Huang</surname><given-names>H</given-names></name>, <name name-style=\"western\"><surname>Kuck</surname><given-names>KH</given-names></name>, <name name-style=\"western\"><surname>Antz</surname><given-names>M</given-names></name></person-group>\n",
      "<article-title>Electrophysiological findings during ablation of persistent atrial fibrillation with electroanatomic mapping and double Lasso catheter technique</article-title>. <source><italic>Circulation</italic></source><year>2005</year>;<volume>112</volume>:<fpage>3038</fpage>–<lpage>3048</lpage>.<pub-id pub-id-type=\"pmid\">16275866</pub-id></mixed-citation>\n",
      "      </ref>\n",
      "      <ref id=\"ehw260C64\">\n",
      "        <label>64</label>\n",
      "        <mixed-citation publication-type=\"journal\">\n",
      "<person-group person-group-type=\"author\"><name name-style=\"western\"><surname>Takahashi</surname><given-names>Y</given-names></name>, <name name-style=\"western\"><surname>O'Neill</surname><given-names>MD</given-names></name>, <name name-style=\"western\"><surname>Hocini</surname><given-names>M</given-names></name>, <name name-style=\"western\"><surname>Reant</surname><given-names>P</given-names></name>, <name name-style=\"western\"><surname>Jonsson</surname><given-names>A</given-names></name>, <name name-style=\"western\"><surname>Jais</surname><given-names>P</given-names></name>, <name name-style=\"western\"><surname>Sanders</surname><given-names>P</given-names></name>, <name name-style=\"western\"><surname>Rostock</surname><given-names>T</given-names></name>, <name name-style=\"western\"><surname>Rotter</surname><given-names>M</given-names></name>, <name name-style=\"western\"><surname>Sacher</surname><given-names>F</given-names></name>, <name name-style=\"western\"><surname>Laffite</surname><given-names>S</given-names></name>, <name name-style=\"western\"><surname>Roudaut</surname><given-names>R</given-names></name>, <name name-style=\"western\"><surname>Clementy</surname><given-names>J</given-names></name>, <name name-style=\"western\"><surname>Haissaguerre</surname><given-names>M</given-names></name></person-group>\n",
      "<article-title>Effects of stepwise ablation of chronic atrial fibrillation on atrial electrical and mechanical properties</article-title>. <source><italic>J Am Coll Cardiol</italic></source><year>2007</year>;<volume>49</volume>:<fpage>1306</fpage>–<lpage>1314</lpage>.<pub-id pub-id-type=\"pmid\">17394963</pub-id></mixed-citation>\n",
      "      </ref>\n",
      "      <ref id=\"ehw260C65\">\n",
      "        <label>65</label>\n",
      "        <mixed-citation publication-type=\"journal\">\n",
      "<person-group person-group-type=\"author\"><name name-style=\"western\"><surname>O'Neill</surname><given-names>MD</given-names></name>, <name name-style=\"western\"><surname>Wright</surname><given-names>M</given-names></name>, <name name-style=\"western\"><surname>Knecht</surname><given-names>S</given-names></name>, <name name-style=\"western\"><surname>Jais</surname><given-names>P</given-names></name>, <name name-style=\"western\"><surname>Hocini</surname><given-names>M</given-names></name>, <name name-style=\"western\"><surname>Takahashi</surname><given-names>Y</given-names></name>, <name name-style=\"western\"><surname>Jonsson</surname><given-names>A</given-names></name>, <name name-style=\"western\"><surname>Sacher</surname><given-names>F</given-names></name>, <name name-style=\"western\"><surname>Matsuo</surname><given-names>S</given-names></name>, <name name-style=\"western\"><surname>Lim</surname><given-names>KT</given-names></name>, <name name-style=\"western\"><surname>Arantes</surname><given-names>L</given-names></name>, <name name-style=\"western\"><surname>Derval</surname><given-names>N</given-names></name>, <name name-style=\"western\"><surname>Lellouche</surname><given-names>N</given-names></name>, <name name-style=\"western\"><surname>Nault</surname><given-names>I</given-names></name>, <name name-style=\"western\"><surname>Bordachar</surname><given-names>P</given-names></name>, <name name-style=\"western\"><surname>Clementy</surname><given-names>J</given-names></name>, <name name-style=\"western\"><surname>Haissaguerre</surname><given-names>M</given-names></name></person-group>\n",
      "<article-title>Long-term follow-up of persistent atrial fibrillation ablation using termination as a procedural endpoint</article-title>. <source><italic>Eur Heart J</italic></source><year>2009</year>;<volume>30</volume>:<fpage>1105</fpage>–<lpage>1112</lpage>.<pub-id pub-id-type=\"pmid\">19270341</pub-id></mixed-citation>\n",
      "      </ref>\n",
      "      <ref id=\"ehw260C66\">\n",
      "        <label>66</label>\n",
      "        <mixed-citation publication-type=\"journal\">\n",
      "<person-group person-group-type=\"author\"><name name-style=\"western\"><surname>Narayan</surname><given-names>SM</given-names></name>, <name name-style=\"western\"><surname>Krummen</surname><given-names>DE</given-names></name>, <name name-style=\"western\"><surname>Clopton</surname><given-names>P</given-names></name>, <name name-style=\"western\"><surname>Shivkumar</surname><given-names>K</given-names></name>, <name name-style=\"western\"><surname>Miller</surname><given-names>JM</given-names></name></person-group>\n",
      "<article-title>Direct or coincidental elimination of stable rotors or focal sources may explain successful atrial fibrillation ablation: on-treatment analysis of the CONFIRM trial (Conventional ablation for AF with or without focal impulse and rotor modulation)</article-title>. <source><italic>J Am Coll Cardiol</italic></source><year>2013</year>;<volume>62</volume>:<fpage>138</fpage>–<lpage>147</lpage>.<pub-id pub-id-type=\"pmid\">23563126</pub-id></mixed-citation>\n",
      "      </ref>\n",
      "      <ref id=\"ehw260C67\">\n",
      "        <label>67</label>\n",
      "        <mixed-citation publication-type=\"journal\">\n",
      "<person-group person-group-type=\"author\"><name name-style=\"western\"><surname>Buch</surname><given-names>E</given-names></name>, <name name-style=\"western\"><surname>Share</surname><given-names>M</given-names></name>, <name name-style=\"western\"><surname>Tung</surname><given-names>R</given-names></name>, <name name-style=\"western\"><surname>Benharash</surname><given-names>P</given-names></name>, <name name-style=\"western\"><surname>Sharma</surname><given-names>P</given-names></name>, <name name-style=\"western\"><surname>Koneru</surname><given-names>J</given-names></name>, <name name-style=\"western\"><surname>Mandapati</surname><given-names>R</given-names></name>, <name name-style=\"western\"><surname>Ellenbogen</surname><given-names>KA</given-names></name>, <name name-style=\"western\"><surname>Shivkumar</surname><given-names>K</given-names></name></person-group>\n",
      "<article-title>Long-term clinical outcomes of focal impulse and rotor modulation for treatment of atrial fibrillation: a multicenter experience</article-title>. <source><italic>Heart Rhythm</italic></source><year>2016</year>;<volume>13</volume>:<fpage>636</fpage>–<lpage>641</lpage>.<pub-id pub-id-type=\"pmid\">26498260</pub-id></mixed-citation>\n",
      "      </ref>\n",
      "      <ref id=\"ehw260C68\">\n",
      "        <label>68</label>\n",
      "        <mixed-citation publication-type=\"journal\">\n",
      "<person-group person-group-type=\"author\"><name name-style=\"western\"><surname>Sommer</surname><given-names>P</given-names></name>, <name name-style=\"western\"><surname>Kircher</surname><given-names>S</given-names></name>, <name name-style=\"western\"><surname>Rolf</surname><given-names>S</given-names></name>, <name name-style=\"western\"><surname>John</surname><given-names>S</given-names></name>, <name name-style=\"western\"><surname>Arya</surname><given-names>A</given-names></name>, <name name-style=\"western\"><surname>Dinov</surname><given-names>B</given-names></name>, <name name-style=\"western\"><surname>Richter</surname><given-names>S</given-names></name>, <name name-style=\"western\"><surname>Bollmann</surname><given-names>A</given-names></name>, <name name-style=\"western\"><surname>Hindricks</surname><given-names>G</given-names></name></person-group>\n"
     ]
    },
    {
     "name": "stdout",
     "output_type": "stream",
     "text": [
      "<article-title>Successful repeat catheter ablation of recurrent longstanding persistent atrial fibrillation with rotor elimination as the procedural endpoint: a case series</article-title>. <source><italic>J Cardiovasc Electrophysiol</italic></source><year>2016</year>;<volume>27</volume>:<fpage>274</fpage>–<lpage>280</lpage>.<pub-id pub-id-type=\"pmid\">26527103</pub-id></mixed-citation>\n",
      "      </ref>\n",
      "      <ref id=\"ehw260C69\">\n",
      "        <label>69</label>\n",
      "        <mixed-citation publication-type=\"journal\">\n",
      "<person-group person-group-type=\"author\"><name name-style=\"western\"><surname>Hocini</surname><given-names>M</given-names></name>, <name name-style=\"western\"><surname>Shah</surname><given-names>AJ</given-names></name>, <name name-style=\"western\"><surname>Neumann</surname><given-names>T</given-names></name>, <name name-style=\"western\"><surname>Kuniss</surname><given-names>M</given-names></name>, <name name-style=\"western\"><surname>Erkapic</surname><given-names>D</given-names></name>, <name name-style=\"western\"><surname>Chaumeil</surname><given-names>A</given-names></name>, <name name-style=\"western\"><surname>Copley</surname><given-names>SJ</given-names></name>, <name name-style=\"western\"><surname>Lim</surname><given-names>PB</given-names></name>, <name name-style=\"western\"><surname>Kanagaratnam</surname><given-names>P</given-names></name>, <name name-style=\"western\"><surname>Denis</surname><given-names>A</given-names></name>, <name name-style=\"western\"><surname>Derval</surname><given-names>N</given-names></name>, <name name-style=\"western\"><surname>Dubois</surname><given-names>R</given-names></name>, <name name-style=\"western\"><surname>Cochet</surname><given-names>H</given-names></name>, <name name-style=\"western\"><surname>Jais</surname><given-names>P</given-names></name>, <name name-style=\"western\"><surname>Haissaguerre</surname><given-names>M</given-names></name></person-group>\n",
      "<article-title>Focal arrhythmia ablation determined by high-resolution noninvasive maps: multicenter feasibility study</article-title>. <source><italic>J Cardiovasc Electrophysiol</italic></source><year>2015</year>;<volume>26</volume>:<fpage>754</fpage>–<lpage>760</lpage>.<pub-id pub-id-type=\"pmid\">25916893</pub-id></mixed-citation>\n",
      "      </ref>\n",
      "      <ref id=\"ehw260C70\">\n",
      "        <label>70</label>\n",
      "        <mixed-citation publication-type=\"journal\">\n",
      "<person-group person-group-type=\"author\"><name name-style=\"western\"><surname>Lim</surname><given-names>HS</given-names></name>, <name name-style=\"western\"><surname>Derval</surname><given-names>N</given-names></name>, <name name-style=\"western\"><surname>Denis</surname><given-names>A</given-names></name>, <name name-style=\"western\"><surname>Zellerhoff</surname><given-names>S</given-names></name>, <name name-style=\"western\"><surname>Haissaguerre</surname><given-names>M</given-names></name></person-group>\n",
      "<article-title>Distinct localized reentrant drivers in persistent atrial fibrillation identified by noninvasive mapping: relation to f-wave morphology</article-title>. <source><italic>Card Electrophysiol Clin</italic></source><year>2015</year>;<volume>7</volume>:<fpage>153</fpage>–<lpage>155</lpage>.<pub-id pub-id-type=\"pmid\">25784030</pub-id></mixed-citation>\n",
      "      </ref>\n",
      "      <ref id=\"ehw260C71\">\n",
      "        <label>71</label>\n",
      "        <mixed-citation publication-type=\"journal\">\n",
      "<person-group person-group-type=\"author\"><name name-style=\"western\"><surname>Kottkamp</surname><given-names>H</given-names></name>, <name name-style=\"western\"><surname>Berg</surname><given-names>J</given-names></name>, <name name-style=\"western\"><surname>Bender</surname><given-names>R</given-names></name>, <name name-style=\"western\"><surname>Rieger</surname><given-names>A</given-names></name>, <name name-style=\"western\"><surname>Schreiber</surname><given-names>D</given-names></name></person-group>\n",
      "<article-title>Box isolation of fibrotic areas (BIFA): a patient-tailored substrate modification approach for ablation of atrial fibrillation</article-title>. <source><italic>J Cardiovasc Electrophysiol</italic></source><year>2016</year>;<volume>27</volume>:<fpage>22</fpage>–<lpage>30</lpage>.<pub-id pub-id-type=\"pmid\">26511713</pub-id></mixed-citation>\n",
      "      </ref>\n",
      "      <ref id=\"ehw260C72\">\n",
      "        <label>72</label>\n",
      "        <mixed-citation publication-type=\"journal\">\n",
      "<person-group person-group-type=\"author\"><name name-style=\"western\"><surname>Kuck</surname><given-names>KH</given-names></name>, <name name-style=\"western\"><surname>Hoffmann</surname><given-names>BA</given-names></name>, <name name-style=\"western\"><surname>Ernst</surname><given-names>S</given-names></name>, <name name-style=\"western\"><surname>Wegscheider</surname><given-names>K</given-names></name>, <name name-style=\"western\"><surname>Treszl</surname><given-names>A</given-names></name>, <name name-style=\"western\"><surname>Metzner</surname><given-names>A</given-names></name>, <name name-style=\"western\"><surname>Eckardt</surname><given-names>L</given-names></name>, <name name-style=\"western\"><surname>Lewalter</surname><given-names>T</given-names></name>, <name name-style=\"western\"><surname>Breithardt</surname><given-names>G</given-names></name>, <name name-style=\"western\"><surname>Willems</surname><given-names>S</given-names></name></person-group>, <collab>Gap-AF-AFNET 1 Investigators</collab>. <article-title>Impact of complete versus incomplete circumferential lines around the pulmonary veins during catheter ablation of paroxysmal atrial fibrillation: results from the Gap-Atrial Fibrillation-German Atrial Fibrillation Competence Network 1 Trial</article-title>. <source><italic>Circ Arrhythm Electrophysiol</italic></source><year>2016</year>;<volume>9</volume>:<fpage>e003337</fpage>.<pub-id pub-id-type=\"pmid\">26763226</pub-id></mixed-citation>\n",
      "      </ref>\n",
      "      <ref id=\"ehw260C73\">\n",
      "        <label>73</label>\n",
      "        <mixed-citation publication-type=\"journal\">\n",
      "<person-group person-group-type=\"author\"><name name-style=\"western\"><surname>Camm</surname><given-names>AJ</given-names></name>, <name name-style=\"western\"><surname>Lip</surname><given-names>GY</given-names></name>, <name name-style=\"western\"><surname>De Caterina</surname><given-names>R</given-names></name>, <name name-style=\"western\"><surname>Savelieva</surname><given-names>I</given-names></name>, <name name-style=\"western\"><surname>Atar</surname><given-names>D</given-names></name>, <name name-style=\"western\"><surname>Hohnloser</surname><given-names>SH</given-names></name>, <name name-style=\"western\"><surname>Hindricks</surname><given-names>G</given-names></name>, <name name-style=\"western\"><surname>Kirchhof</surname><given-names>P</given-names></name>, <name name-style=\"western\"><surname>Bax</surname><given-names>JJ</given-names></name>, <name name-style=\"western\"><surname>Baumgartner</surname><given-names>H</given-names></name>, <name name-style=\"western\"><surname>Ceconi</surname><given-names>C</given-names></name>, <name name-style=\"western\"><surname>Dean</surname><given-names>V</given-names></name>, <name name-style=\"western\"><surname>Deaton</surname><given-names>C</given-names></name>, <name name-style=\"western\"><surname>Fagard</surname><given-names>R</given-names></name>, <name name-style=\"western\"><surname>Funck-Brentano</surname><given-names>C</given-names></name>, <name name-style=\"western\"><surname>Hasdai</surname><given-names>D</given-names></name>, <name name-style=\"western\"><surname>Hoes</surname><given-names>A</given-names></name>, <name name-style=\"western\"><surname>Knuuti</surname><given-names>J</given-names></name>, <name name-style=\"western\"><surname>Kolh</surname><given-names>P</given-names></name>, <name name-style=\"western\"><surname>McDonagh</surname><given-names>T</given-names></name>, <name name-style=\"western\"><surname>Moulin</surname><given-names>C</given-names></name>, <name name-style=\"western\"><surname>Popescu</surname><given-names>BA</given-names></name>, <name name-style=\"western\"><surname>Reiner</surname><given-names>Z</given-names></name>, <name name-style=\"western\"><surname>Sechtem</surname><given-names>U</given-names></name>, <name name-style=\"western\"><surname>Sirnes</surname><given-names>PA</given-names></name>, <name name-style=\"western\"><surname>Tendera</surname><given-names>M</given-names></name>, <name name-style=\"western\"><surname>Torbicki</surname><given-names>A</given-names></name>, <name name-style=\"western\"><surname>Vahanian</surname><given-names>A</given-names></name>, <name name-style=\"western\"><surname>Windecker</surname><given-names>S</given-names></name>, <name name-style=\"western\"><surname>Vardas</surname><given-names>P</given-names></name>, <name name-style=\"western\"><surname>Al-Attar</surname><given-names>N</given-names></name>, <name name-style=\"western\"><surname>Alfieri</surname><given-names>O</given-names></name>, <name name-style=\"western\"><surname>Angelini</surname><given-names>A</given-names></name>, <name name-style=\"western\"><surname>Blomstrom-Lundqvist</surname><given-names>C</given-names></name>, <name name-style=\"western\"><surname>Colonna</surname><given-names>P</given-names></name>, <name name-style=\"western\"><surname>De Sutter</surname><given-names>J</given-names></name>, <name name-style=\"western\"><surname>Ernst</surname><given-names>S</given-names></name>, <name name-style=\"western\"><surname>Goette</surname><given-names>A</given-names></name>, <name name-style=\"western\"><surname>Gorenek</surname><given-names>B</given-names></name>, <name name-style=\"western\"><surname>Hatala</surname><given-names>R</given-names></name>, <name name-style=\"western\"><surname>Heidbuchel</surname><given-names>H</given-names></name>, <name name-style=\"western\"><surname>Heldal</surname><given-names>M</given-names></name>, <name name-style=\"western\"><surname>Kristensen</surname><given-names>SD</given-names></name>, <name name-style=\"western\"><surname>Le Heuzey</surname><given-names>JY</given-names></name>, <name name-style=\"western\"><surname>Mavrakis</surname><given-names>H</given-names></name>, <name name-style=\"western\"><surname>Mont</surname><given-names>L</given-names></name>, <name name-style=\"western\"><surname>Filardi</surname><given-names>PP</given-names></name>, <name name-style=\"western\"><surname>Ponikowski</surname><given-names>P</given-names></name>, <name name-style=\"western\"><surname>Prendergast</surname><given-names>B</given-names></name>, <name name-style=\"western\"><surname>Rutten</surname><given-names>FH</given-names></name>, <name name-style=\"western\"><surname>Schotten</surname><given-names>U</given-names></name>, <name name-style=\"western\"><surname>Van Gelder</surname><given-names>IC</given-names></name>, <name name-style=\"western\"><surname>Verheugt</surname><given-names>FW</given-names></name></person-group>\n",
      "<article-title>2012 focused update of the ESC Guidelines for the management of atrial fibrillation: an update of the 2010 ESC Guidelines for the management of atrial fibrillation. Developed with the special contribution of the European Heart Rhythm Association</article-title>. <source><italic>Eur Heart J</italic></source><year>2012</year>;<volume>33</volume>:<fpage>2719</fpage>–<lpage>2747</lpage>.<pub-id pub-id-type=\"pmid\">22922413</pub-id></mixed-citation>\n",
      "      </ref>\n",
      "      <ref id=\"ehw260C74\">\n",
      "        <label>74</label>\n",
      "        <mixed-citation publication-type=\"journal\">\n",
      "<person-group person-group-type=\"author\"><name name-style=\"western\"><surname>Kirchhof</surname><given-names>P</given-names></name>, <name name-style=\"western\"><surname>Breithardt</surname><given-names>G</given-names></name>, <name name-style=\"western\"><surname>Bax</surname><given-names>J</given-names></name>, <name name-style=\"western\"><surname>Benninger</surname><given-names>G</given-names></name>, <name name-style=\"western\"><surname>Blomstrom-Lundqvist</surname><given-names>C</given-names></name>, <name name-style=\"western\"><surname>Boriani</surname><given-names>G</given-names></name>, <name name-style=\"western\"><surname>Brandes</surname><given-names>A</given-names></name>, <name name-style=\"western\"><surname>Brown</surname><given-names>H</given-names></name>, <name name-style=\"western\"><surname>Brueckmann</surname><given-names>M</given-names></name>, <name name-style=\"western\"><surname>Calkins</surname><given-names>H</given-names></name>, <name name-style=\"western\"><surname>Calvert</surname><given-names>M</given-names></name>, <name name-style=\"western\"><surname>Christoffels</surname><given-names>V</given-names></name>, <name name-style=\"western\"><surname>Crijns</surname><given-names>H</given-names></name>, <name name-style=\"western\"><surname>Dobrev</surname><given-names>D</given-names></name>, <name name-style=\"western\"><surname>Ellinor</surname><given-names>P</given-names></name>, <name name-style=\"western\"><surname>Fabritz</surname><given-names>L</given-names></name>, <name name-style=\"western\"><surname>Fetsch</surname><given-names>T</given-names></name>, <name name-style=\"western\"><surname>Freedman</surname><given-names>SB</given-names></name>, <name name-style=\"western\"><surname>Gerth</surname><given-names>A</given-names></name>, <name name-style=\"western\"><surname>Goette</surname><given-names>A</given-names></name>, <name name-style=\"western\"><surname>Guasch</surname><given-names>E</given-names></name>, <name name-style=\"western\"><surname>Hack</surname><given-names>G</given-names></name>, <name name-style=\"western\"><surname>Haegeli</surname><given-names>L</given-names></name>, <name name-style=\"western\"><surname>Hatem</surname><given-names>S</given-names></name>, <name name-style=\"western\"><surname>Haeusler</surname><given-names>KG</given-names></name>, <name name-style=\"western\"><surname>Heidbuchel</surname><given-names>H</given-names></name>, <name name-style=\"western\"><surname>Heinrich-Nols</surname><given-names>J</given-names></name>, <name name-style=\"western\"><surname>Hidden-Lucet</surname><given-names>F</given-names></name>, <name name-style=\"western\"><surname>Hindricks</surname><given-names>G</given-names></name>, <name name-style=\"western\"><surname>Juul-Moller</surname><given-names>S</given-names></name>, <name name-style=\"western\"><surname>Kaab</surname><given-names>S</given-names></name>, <name name-style=\"western\"><surname>Kappenberger</surname><given-names>L</given-names></name>, <name name-style=\"western\"><surname>Kespohl</surname><given-names>S</given-names></name>, <name name-style=\"western\"><surname>Kotecha</surname><given-names>D</given-names></name>, <name name-style=\"western\"><surname>Lane</surname><given-names>DA</given-names></name>, <name name-style=\"western\"><surname>Leute</surname><given-names>A</given-names></name>, <name name-style=\"western\"><surname>Lewalter</surname><given-names>T</given-names></name>, <name name-style=\"western\"><surname>Meyer</surname><given-names>R</given-names></name>, <name name-style=\"western\"><surname>Mont</surname><given-names>L</given-names></name>, <name name-style=\"western\"><surname>Munzel</surname><given-names>F</given-names></name>, <name name-style=\"western\"><surname>Nabauer</surname><given-names>M</given-names></name>, <name name-style=\"western\"><surname>Nielsen</surname><given-names>JC</given-names></name>, <name name-style=\"western\"><surname>Oeff</surname><given-names>M</given-names></name>, <name name-style=\"western\"><surname>Oldgren</surname><given-names>J</given-names></name>, <name name-style=\"western\"><surname>Oto</surname><given-names>A</given-names></name>, <name name-style=\"western\"><surname>Piccini</surname><given-names>JP</given-names></name>, <name name-style=\"western\"><surname>Pilmeyer</surname><given-names>A</given-names></name>, <name name-style=\"western\"><surname>Potpara</surname><given-names>T</given-names></name>, <name name-style=\"western\"><surname>Ravens</surname><given-names>U</given-names></name>, <name name-style=\"western\"><surname>Reinecke</surname><given-names>H</given-names></name>, <name name-style=\"western\"><surname>Rostock</surname><given-names>T</given-names></name>, <name name-style=\"western\"><surname>Rustige</surname><given-names>J</given-names></name>, <name name-style=\"western\"><surname>Savelieva</surname><given-names>I</given-names></name>, <name name-style=\"western\"><surname>Schnabel</surname><given-names>R</given-names></name>, <name name-style=\"western\"><surname>Schotten</surname><given-names>U</given-names></name>, <name name-style=\"western\"><surname>Schwichtenberg</surname><given-names>L</given-names></name>, <name name-style=\"western\"><surname>Sinner</surname><given-names>MF</given-names></name>, <name name-style=\"western\"><surname>Steinbeck</surname><given-names>G</given-names></name>, <name name-style=\"western\"><surname>Stoll</surname><given-names>M</given-names></name>, <name name-style=\"western\"><surname>Tavazzi</surname><given-names>L</given-names></name>, <name name-style=\"western\"><surname>Themistoclakis</surname><given-names>S</given-names></name>, <name name-style=\"western\"><surname>Tse</surname><given-names>HF</given-names></name>, <name name-style=\"western\"><surname>Van Gelder</surname><given-names>IC</given-names></name>, <name name-style=\"western\"><surname>Vardas</surname><given-names>PE</given-names></name>, <name name-style=\"western\"><surname>Varpula</surname><given-names>T</given-names></name>, <name name-style=\"western\"><surname>Vincent</surname><given-names>A</given-names></name>, <name name-style=\"western\"><surname>Werring</surname><given-names>D</given-names></name>, <name name-style=\"western\"><surname>Willems</surname><given-names>S</given-names></name>, <name name-style=\"western\"><surname>Ziegler</surname><given-names>A</given-names></name>, <name name-style=\"western\"><surname>Lip</surname><given-names>GY</given-names></name>, <name name-style=\"western\"><surname>Camm</surname><given-names>AJ</given-names></name></person-group>\n"
     ]
    },
    {
     "name": "stdout",
     "output_type": "stream",
     "text": [
      "<article-title>A roadmap to improve the quality of atrial fibrillation management: proceedings from the fifth Atrial Fibrillation Network/European Heart Rhythm Association consensus conference</article-title>. <source><italic>Europace</italic></source><year>2016</year>;<volume>18</volume>:<fpage>37</fpage>–<lpage>50</lpage>.<pub-id pub-id-type=\"pmid\">26481149</pub-id></mixed-citation>\n",
      "      </ref>\n",
      "      <ref id=\"ehw260C75\">\n",
      "        <label>75</label>\n",
      "        <mixed-citation publication-type=\"journal\">\n",
      "<person-group person-group-type=\"author\"><name name-style=\"western\"><surname>Testa</surname><given-names>L</given-names></name>, <name name-style=\"western\"><surname>Biondi-Zoccai</surname><given-names>GG</given-names></name>, <name name-style=\"western\"><surname>Dello Russo</surname><given-names>A</given-names></name>, <name name-style=\"western\"><surname>Bellocci</surname><given-names>F</given-names></name>, <name name-style=\"western\"><surname>Andreotti</surname><given-names>F</given-names></name>, <name name-style=\"western\"><surname>Crea</surname><given-names>F</given-names></name></person-group>\n",
      "<article-title>Rate-control vs. rhythm-control in patients with atrial fibrillation: a meta-analysis</article-title>. <source><italic>Eur Heart J</italic></source><year>2005</year>;<volume>26</volume>:<fpage>2000</fpage>–<lpage>2006</lpage>.<pub-id pub-id-type=\"pmid\">15872032</pub-id></mixed-citation>\n",
      "      </ref>\n",
      "      <ref id=\"ehw260C76\">\n",
      "        <label>76</label>\n",
      "        <mixed-citation publication-type=\"journal\">\n",
      "<person-group person-group-type=\"author\"><name name-style=\"western\"><surname>Kirchhof</surname><given-names>P</given-names></name></person-group>\n",
      "<article-title>Can we improve outcomes in atrial fibrillation patients by early therapy?</article-title><source><italic>BMC Med</italic></source><year>2009</year>;<volume>7</volume>:<fpage>72</fpage>.<pub-id pub-id-type=\"pmid\">19941634</pub-id></mixed-citation>\n",
      "      </ref>\n",
      "      <ref id=\"ehw260C77\">\n",
      "        <label>77</label>\n",
      "        <mixed-citation publication-type=\"journal\">\n",
      "<person-group person-group-type=\"author\"><name name-style=\"western\"><surname>Kirchhof</surname><given-names>P</given-names></name>, <name name-style=\"western\"><surname>Bax</surname><given-names>J</given-names></name>, <name name-style=\"western\"><surname>Blomstrom-Lundquist</surname><given-names>C</given-names></name>, <name name-style=\"western\"><surname>Calkins</surname><given-names>H</given-names></name>, <name name-style=\"western\"><surname>Camm</surname><given-names>AJ</given-names></name>, <name name-style=\"western\"><surname>Cappato</surname><given-names>R</given-names></name>, <name name-style=\"western\"><surname>Cosio</surname><given-names>F</given-names></name>, <name name-style=\"western\"><surname>Crijns</surname><given-names>H</given-names></name>, <name name-style=\"western\"><surname>Diener</surname><given-names>HC</given-names></name>, <name name-style=\"western\"><surname>Goette</surname><given-names>A</given-names></name>, <name name-style=\"western\"><surname>Israel</surname><given-names>CW</given-names></name>, <name name-style=\"western\"><surname>Kuck</surname><given-names>KH</given-names></name>, <name name-style=\"western\"><surname>Lip</surname><given-names>GY</given-names></name>, <name name-style=\"western\"><surname>Nattel</surname><given-names>S</given-names></name>, <name name-style=\"western\"><surname>Page</surname><given-names>RL</given-names></name>, <name name-style=\"western\"><surname>Ravens</surname><given-names>U</given-names></name>, <name name-style=\"western\"><surname>Schotten</surname><given-names>U</given-names></name>, <name name-style=\"western\"><surname>Steinbeck</surname><given-names>G</given-names></name>, <name name-style=\"western\"><surname>Vardas</surname><given-names>P</given-names></name>, <name name-style=\"western\"><surname>Waldo</surname><given-names>A</given-names></name>, <name name-style=\"western\"><surname>Wegscheider</surname><given-names>K</given-names></name>, <name name-style=\"western\"><surname>Willems</surname><given-names>S</given-names></name>, <name name-style=\"western\"><surname>Breithardt</surname><given-names>G</given-names></name></person-group>\n",
      "<article-title>Early and comprehensive management of atrial fibrillation: executive summary of the proceedings from the 2nd AFNET-EHRA consensus conference ‘research perspectives in AF</article-title>’. <source><italic>Eur Heart J</italic></source><year>2009</year>;<volume>30</volume>:<fpage>2969</fpage>–<lpage>2977c</lpage>.<pub-id pub-id-type=\"pmid\">19535417</pub-id></mixed-citation>\n",
      "      </ref>\n",
      "      <ref id=\"ehw260C78\">\n",
      "        <label>78</label>\n",
      "        <mixed-citation publication-type=\"journal\">\n",
      "<person-group person-group-type=\"author\"><name name-style=\"western\"><surname>Nattel</surname><given-names>S</given-names></name>, <name name-style=\"western\"><surname>Guasch</surname><given-names>E</given-names></name>, <name name-style=\"western\"><surname>Savelieva</surname><given-names>I</given-names></name>, <name name-style=\"western\"><surname>Cosio</surname><given-names>FG</given-names></name>, <name name-style=\"western\"><surname>Valverde</surname><given-names>I</given-names></name>, <name name-style=\"western\"><surname>Halperin</surname><given-names>JL</given-names></name>, <name name-style=\"western\"><surname>Conroy</surname><given-names>JM</given-names></name>, <name name-style=\"western\"><surname>Al-Khatib</surname><given-names>SM</given-names></name>, <name name-style=\"western\"><surname>Hess</surname><given-names>PL</given-names></name>, <name name-style=\"western\"><surname>Kirchhof</surname><given-names>P</given-names></name>, <name name-style=\"western\"><surname>De Bono</surname><given-names>J</given-names></name>, <name name-style=\"western\"><surname>Lip</surname><given-names>GY</given-names></name>, <name name-style=\"western\"><surname>Banerjee</surname><given-names>A</given-names></name>, <name name-style=\"western\"><surname>Ruskin</surname><given-names>J</given-names></name>, <name name-style=\"western\"><surname>Blendea</surname><given-names>D</given-names></name>, <name name-style=\"western\"><surname>Camm</surname><given-names>AJ</given-names></name></person-group>\n",
      "<article-title>Early management of atrial fibrillation to prevent cardiovascular complications</article-title>. <source><italic>Eur Heart J</italic></source><year>2014</year>;<volume>35</volume>:<fpage>1448</fpage>–<lpage>1456</lpage>.<pub-id pub-id-type=\"pmid\">24536084</pub-id></mixed-citation>\n",
      "      </ref>\n",
      "      <ref id=\"ehw260C79\">\n",
      "        <label>79</label>\n",
      "        <mixed-citation publication-type=\"journal\">\n",
      "<person-group person-group-type=\"author\"><name name-style=\"western\"><surname>Van Gelder</surname><given-names>IC</given-names></name>, <name name-style=\"western\"><surname>Haegeli</surname><given-names>LM</given-names></name>, <name name-style=\"western\"><surname>Brandes</surname><given-names>A</given-names></name>, <name name-style=\"western\"><surname>Heidbuchel</surname><given-names>H</given-names></name>, <name name-style=\"western\"><surname>Aliot</surname><given-names>E</given-names></name>, <name name-style=\"western\"><surname>Kautzner</surname><given-names>J</given-names></name>, <name name-style=\"western\"><surname>Szumowski</surname><given-names>L</given-names></name>, <name name-style=\"western\"><surname>Mont</surname><given-names>L</given-names></name>, <name name-style=\"western\"><surname>Morgan</surname><given-names>J</given-names></name>, <name name-style=\"western\"><surname>Willems</surname><given-names>S</given-names></name>, <name name-style=\"western\"><surname>Themistoclakis</surname><given-names>S</given-names></name>, <name name-style=\"western\"><surname>Gulizia</surname><given-names>M</given-names></name>, <name name-style=\"western\"><surname>Elvan</surname><given-names>A</given-names></name>, <name name-style=\"western\"><surname>Smit</surname><given-names>MD</given-names></name>, <name name-style=\"western\"><surname>Kirchhof</surname><given-names>P</given-names></name></person-group>\n",
      "<article-title>Rationale and current perspective for early rhythm control therapy in atrial fibrillation</article-title>. <source><italic>Europace</italic></source><year>2011</year>;<volume>13</volume>:<fpage>1517</fpage>–<lpage>1525</lpage>.<pub-id pub-id-type=\"pmid\">21784740</pub-id></mixed-citation>\n",
      "      </ref>\n",
      "      <ref id=\"ehw260C80\">\n",
      "        <label>80</label>\n",
      "        <mixed-citation publication-type=\"journal\">\n",
      "<person-group person-group-type=\"author\"><name name-style=\"western\"><surname>Schotten</surname><given-names>U</given-names></name>, <name name-style=\"western\"><surname>Verheule</surname><given-names>S</given-names></name>, <name name-style=\"western\"><surname>Kirchhof</surname><given-names>P</given-names></name>, <name name-style=\"western\"><surname>Goette</surname><given-names>A</given-names></name></person-group>\n",
      "<article-title>Pathophysiological mechanisms of atrial fibrillation: a translational appraisal</article-title>. <source><italic>Physiol Rev</italic></source><year>2011</year>;<volume>91</volume>:<fpage>265</fpage>–<lpage>325</lpage>.<pub-id pub-id-type=\"pmid\">21248168</pub-id></mixed-citation>\n",
      "      </ref>\n",
      "      <ref id=\"ehw260C81\">\n",
      "        <label>81</label>\n",
      "        <mixed-citation publication-type=\"journal\">\n",
      "<person-group person-group-type=\"author\"><name name-style=\"western\"><surname>Lee</surname><given-names>G</given-names></name>, <name name-style=\"western\"><surname>Kumar</surname><given-names>S</given-names></name>, <name name-style=\"western\"><surname>Teh</surname><given-names>A</given-names></name>, <name name-style=\"western\"><surname>Madry</surname><given-names>A</given-names></name>, <name name-style=\"western\"><surname>Spence</surname><given-names>S</given-names></name>, <name name-style=\"western\"><surname>Larobina</surname><given-names>M</given-names></name>, <name name-style=\"western\"><surname>Goldblatt</surname><given-names>J</given-names></name>, <name name-style=\"western\"><surname>Brown</surname><given-names>R</given-names></name>, <name name-style=\"western\"><surname>Atkinson</surname><given-names>V</given-names></name>, <name name-style=\"western\"><surname>Moten</surname><given-names>S</given-names></name>, <name name-style=\"western\"><surname>Morton</surname><given-names>JB</given-names></name>, <name name-style=\"western\"><surname>Sanders</surname><given-names>P</given-names></name>, <name name-style=\"western\"><surname>Kistler</surname><given-names>PM</given-names></name>, <name name-style=\"western\"><surname>Kalman</surname><given-names>JM</given-names></name></person-group>\n",
      "<article-title>Epicardial wave mapping in human long-lasting persistent atrial fibrillation: transient rotational circuits, complex wavefronts, and disorganized activity</article-title>. <source><italic>Eur Heart J</italic></source><year>2014</year>;<volume>35</volume>:<fpage>86</fpage>–<lpage>97</lpage>.<pub-id pub-id-type=\"pmid\">23935092</pub-id></mixed-citation>\n",
      "      </ref>\n",
      "      <ref id=\"ehw260C82\">\n",
      "        <label>82</label>\n",
      "        <mixed-citation publication-type=\"journal\">\n",
      "<person-group person-group-type=\"author\"><name name-style=\"western\"><surname>Eckstein</surname><given-names>J</given-names></name>, <name name-style=\"western\"><surname>Maesen</surname><given-names>B</given-names></name>, <name name-style=\"western\"><surname>Linz</surname><given-names>D</given-names></name>, <name name-style=\"western\"><surname>Zeemering</surname><given-names>S</given-names></name>, <name name-style=\"western\"><surname>van Hunnik</surname><given-names>A</given-names></name>, <name name-style=\"western\"><surname>Verheule</surname><given-names>S</given-names></name>, <name name-style=\"western\"><surname>Allessie</surname><given-names>M</given-names></name>, <name name-style=\"western\"><surname>Schotten</surname><given-names>U</given-names></name></person-group>\n",
      "<article-title>Time course and mechanisms of endo-epicardial electrical dissociation during atrial fibrillation in the goat</article-title>. <source><italic>Cardiovasc Res</italic></source><year>2011</year>;<volume>89</volume>:<fpage>816</fpage>–<lpage>824</lpage>.<pub-id pub-id-type=\"pmid\">20978006</pub-id></mixed-citation>\n",
      "      </ref>\n",
      "      <ref id=\"ehw260C83\">\n",
      "        <label>83</label>\n",
      "        <mixed-citation publication-type=\"journal\">\n",
      "<person-group person-group-type=\"author\"><name name-style=\"western\"><surname>Eckstein</surname><given-names>J</given-names></name>, <name name-style=\"western\"><surname>Zeemering</surname><given-names>S</given-names></name>, <name name-style=\"western\"><surname>Linz</surname><given-names>D</given-names></name>, <name name-style=\"western\"><surname>Maesen</surname><given-names>B</given-names></name>, <name name-style=\"western\"><surname>Verheule</surname><given-names>S</given-names></name>, <name name-style=\"western\"><surname>van Hunnik</surname><given-names>A</given-names></name>, <name name-style=\"western\"><surname>Crijns</surname><given-names>H</given-names></name>, <name name-style=\"western\"><surname>Allessie</surname><given-names>MA</given-names></name>, <name name-style=\"western\"><surname>Schotten</surname><given-names>U</given-names></name></person-group>\n",
      "<article-title>Transmural conduction is the predominant mechanism of breakthrough during atrial fibrillation: evidence from simultaneous endo-epicardial high-density activation mapping</article-title>. <source><italic>Circ Arrhythm Electrophysiol</italic></source><year>2013</year>;<volume>6</volume>:<fpage>334</fpage>–<lpage>341</lpage>.<pub-id pub-id-type=\"pmid\">23512204</pub-id></mixed-citation>\n",
      "      </ref>\n",
      "      <ref id=\"ehw260C84\">\n",
      "        <label>84</label>\n",
      "        <mixed-citation publication-type=\"journal\">\n",
      "<person-group person-group-type=\"author\"><name name-style=\"western\"><surname>Allessie</surname><given-names>MA</given-names></name>, <name name-style=\"western\"><surname>de Groot</surname><given-names>NM</given-names></name>, <name name-style=\"western\"><surname>Houben</surname><given-names>RP</given-names></name>, <name name-style=\"western\"><surname>Schotten</surname><given-names>U</given-names></name>, <name name-style=\"western\"><surname>Boersma</surname><given-names>E</given-names></name>, <name name-style=\"western\"><surname>Smeets</surname><given-names>JL</given-names></name>, <name name-style=\"western\"><surname>Crijns</surname><given-names>HJ</given-names></name></person-group>\n",
      "<article-title>Electropathological substrate of long-standing persistent atrial fibrillation in patients with structural heart disease: longitudinal dissociation</article-title>. <source><italic>Circ Arrhythm Electrophysiol</italic></source><year>2010</year>;<volume>3</volume>:<fpage>606</fpage>–<lpage>615</lpage>.<pub-id pub-id-type=\"pmid\">20719881</pub-id></mixed-citation>\n",
      "      </ref>\n",
      "      <ref id=\"ehw260C85\">\n",
      "        <label>85</label>\n",
      "        <mixed-citation publication-type=\"journal\">\n",
      "<person-group person-group-type=\"author\"><name name-style=\"western\"><surname>Eckstein</surname><given-names>J</given-names></name>, <name name-style=\"western\"><surname>Schotten</surname><given-names>U</given-names></name></person-group>\n",
      "<article-title>Rotors and breakthroughs as three-dimensional perpetuators of atrial fibrillation</article-title>. <source><italic>Cardiovasc Res</italic></source><year>2012</year>;<volume>94</volume>:<fpage>8</fpage>–<lpage>9</lpage>.<pub-id pub-id-type=\"pmid\">22331500</pub-id></mixed-citation>\n",
      "      </ref>\n",
      "      <ref id=\"ehw260C86\">\n",
      "        <label>86</label>\n",
      "        <mixed-citation publication-type=\"journal\">\n",
      "<person-group person-group-type=\"author\"><name name-style=\"western\"><surname>Drewitz</surname><given-names>I</given-names></name>, <name name-style=\"western\"><surname>Willems</surname><given-names>S</given-names></name>, <name name-style=\"western\"><surname>Salukhe</surname><given-names>TV</given-names></name>, <name name-style=\"western\"><surname>Steven</surname><given-names>D</given-names></name>, <name name-style=\"western\"><surname>Hoffmann</surname><given-names>BA</given-names></name>, <name name-style=\"western\"><surname>Servatius</surname><given-names>H</given-names></name>, <name name-style=\"western\"><surname>Bock</surname><given-names>K</given-names></name>, <name name-style=\"western\"><surname>Aydin</surname><given-names>MA</given-names></name>, <name name-style=\"western\"><surname>Wegscheider</surname><given-names>K</given-names></name>, <name name-style=\"western\"><surname>Meinertz</surname><given-names>T</given-names></name>, <name name-style=\"western\"><surname>Rostock</surname><given-names>T</given-names></name></person-group>\n",
      "<article-title>Atrial fibrillation cycle length is a sole independent predictor of a substrate for consecutive arrhythmias in patients with persistent atrial fibrillation</article-title>. <source><italic>Circ Arrhythm Electrophysiol</italic></source><year>2010</year>;<volume>3</volume>:<fpage>351</fpage>–<lpage>360</lpage>.<pub-id pub-id-type=\"pmid\">20511536</pub-id></mixed-citation>\n",
      "      </ref>\n",
      "      <ref id=\"ehw260C87\">\n",
      "        <label>87</label>\n",
      "        <mixed-citation publication-type=\"journal\">\n",
      "<person-group person-group-type=\"author\"><name name-style=\"western\"><surname>Kirchhof</surname><given-names>P</given-names></name>, <name name-style=\"western\"><surname>Breithardt</surname><given-names>G</given-names></name>, <name name-style=\"western\"><surname>Camm</surname><given-names>AJ</given-names></name>, <name name-style=\"western\"><surname>Crijns</surname><given-names>HJ</given-names></name>, <name name-style=\"western\"><surname>Kuck</surname><given-names>KH</given-names></name>, <name name-style=\"western\"><surname>Vardas</surname><given-names>P</given-names></name>, <name name-style=\"western\"><surname>Wegscheider</surname><given-names>K</given-names></name></person-group>\n",
      "<article-title>Improving outcomes in patients with atrial fibrillation: rationale and design of the Early treatment of Atrial fibrillation for Stroke prevention Trial</article-title>. <source><italic>Am Heart J</italic></source><year>2013</year>;<volume>166</volume>:<fpage>442</fpage>–<lpage>448</lpage>.<pub-id pub-id-type=\"pmid\">24016492</pub-id></mixed-citation>\n",
      "      </ref>\n",
      "      <ref id=\"ehw260C88\">\n"
     ]
    },
    {
     "name": "stdout",
     "output_type": "stream",
     "text": [
      "        <label>88</label>\n",
      "        <mixed-citation publication-type=\"journal\">\n",
      "<person-group person-group-type=\"author\"><name name-style=\"western\"><surname>Aliot</surname><given-names>E</given-names></name>, <name name-style=\"western\"><surname>Brandes</surname><given-names>A</given-names></name>, <name name-style=\"western\"><surname>Eckardt</surname><given-names>L</given-names></name>, <name name-style=\"western\"><surname>Elvan</surname><given-names>A</given-names></name>, <name name-style=\"western\"><surname>Gulizia</surname><given-names>M</given-names></name>, <name name-style=\"western\"><surname>Heidbuchel</surname><given-names>H</given-names></name>, <name name-style=\"western\"><surname>Kautzner</surname><given-names>J</given-names></name>, <name name-style=\"western\"><surname>Mont</surname><given-names>L</given-names></name>, <name name-style=\"western\"><surname>Morgan</surname><given-names>J</given-names></name>, <name name-style=\"western\"><surname>Ng</surname><given-names>A</given-names></name>, <name name-style=\"western\"><surname>Szumowski</surname><given-names>L</given-names></name>, <name name-style=\"western\"><surname>Themistoclakis</surname><given-names>S</given-names></name>, <name name-style=\"western\"><surname>Van Gelder</surname><given-names>IC</given-names></name>, <name name-style=\"western\"><surname>Willems</surname><given-names>S</given-names></name>, <name name-style=\"western\"><surname>Kirchhof</surname><given-names>P</given-names></name></person-group>\n",
      "<article-title>The EAST study: redefining the role of rhythmcontrol therapy in atrial fibrillation: EAST, the Early Treatment of Atrial Fibrillation for Stroke Prevention Trial</article-title>. <source><italic>Eur Heart J</italic></source><year>2015</year>;<volume>36</volume>:<fpage>255</fpage>–<lpage>256</lpage>.<pub-id pub-id-type=\"pmid\">25646394</pub-id></mixed-citation>\n",
      "      </ref>\n",
      "      <ref id=\"ehw260C89\">\n",
      "        <label>89</label>\n",
      "        <mixed-citation publication-type=\"journal\">\n",
      "<person-group person-group-type=\"author\"><name name-style=\"western\"><surname>Fabritz</surname><given-names>L</given-names></name>, <name name-style=\"western\"><surname>Guasch</surname><given-names>E</given-names></name>, <name name-style=\"western\"><surname>Antoniades</surname><given-names>C</given-names></name>, <name name-style=\"western\"><surname>Bardinet</surname><given-names>I</given-names></name>, <name name-style=\"western\"><surname>Benninger</surname><given-names>G</given-names></name>, <name name-style=\"western\"><surname>Betts</surname><given-names>TR</given-names></name>, <name name-style=\"western\"><surname>Brand</surname><given-names>E</given-names></name>, <name name-style=\"western\"><surname>Breithardt</surname><given-names>G</given-names></name>, <name name-style=\"western\"><surname>Bucklar-Suchankova</surname><given-names>G</given-names></name>, <name name-style=\"western\"><surname>Camm</surname><given-names>AJ</given-names></name>, <name name-style=\"western\"><surname>Cartlidge</surname><given-names>D</given-names></name>, <name name-style=\"western\"><surname>Casadei</surname><given-names>B</given-names></name>, <name name-style=\"western\"><surname>Chua</surname><given-names>WW</given-names></name>, <name name-style=\"western\"><surname>Crijns</surname><given-names>HJ</given-names></name>, <name name-style=\"western\"><surname>Deeks</surname><given-names>J</given-names></name>, <name name-style=\"western\"><surname>Hatem</surname><given-names>S</given-names></name>, <name name-style=\"western\"><surname>Hidden-Lucet</surname><given-names>F</given-names></name>, <name name-style=\"western\"><surname>Kaab</surname><given-names>S</given-names></name>, <name name-style=\"western\"><surname>Maniadakis</surname><given-names>N</given-names></name>, <name name-style=\"western\"><surname>Martin</surname><given-names>S</given-names></name>, <name name-style=\"western\"><surname>Mont</surname><given-names>L</given-names></name>, <name name-style=\"western\"><surname>Reinecke</surname><given-names>H</given-names></name>, <name name-style=\"western\"><surname>Sinner</surname><given-names>MF</given-names></name>, <name name-style=\"western\"><surname>Schotten</surname><given-names>U</given-names></name>, <name name-style=\"western\"><surname>Southwood</surname><given-names>T</given-names></name>, <name name-style=\"western\"><surname>Stoll</surname><given-names>M</given-names></name>, <name name-style=\"western\"><surname>Vardas</surname><given-names>P</given-names></name>, <name name-style=\"western\"><surname>Wakili</surname><given-names>R</given-names></name>, <name name-style=\"western\"><surname>West</surname><given-names>A</given-names></name>, <name name-style=\"western\"><surname>Ziegler</surname><given-names>A</given-names></name>, <name name-style=\"western\"><surname>Kirchhof</surname><given-names>P</given-names></name></person-group>\n",
      "<article-title>Expert consensus document: defining the major health modifiers causing atrial fibrillation: a roadmap to underpin personalized prevention and treatment</article-title>. <source><italic>Nat Rev Cardiol</italic></source><year>2016</year>;<volume>13</volume>:<fpage>230</fpage>–<lpage>237</lpage>.<pub-id pub-id-type=\"pmid\">26701216</pub-id></mixed-citation>\n",
      "      </ref>\n",
      "    </ref-list>\n",
      "  </back>\n",
      "</article>\n",
      "</pmc-articleset>\n"
     ]
    }
   ],
   "source": [
    "ET.dump(tree)"
   ]
  },
  {
   "cell_type": "code",
   "execution_count": 125,
   "metadata": {},
   "outputs": [],
   "source": [
    "text = root.find('.//p')"
   ]
  },
  {
   "cell_type": "code",
   "execution_count": 126,
   "metadata": {},
   "outputs": [
    {
     "name": "stdout",
     "output_type": "stream",
     "text": [
      "Catheter ablation is increasingly offered to patients who suffer from symptoms due to atrial fibrillation (AF), based on a growing body of evidence illustrating its efficacy compared with antiarrhythmic drug therapy. Approximately one-third of AF ablation procedures are currently performed in patients with persistent or long-standing persistent AF. Here, we review the available information to guide catheter ablation in these more chronic forms of AF. We identify the following principles: Our clinical ability to discriminate paroxysmal and persistent AF is limited. Pulmonary vein isolation is a reasonable and effective first approach for catheter ablation of persistent AF. Other ablation strategies are being developed and need to be properly evaluated in controlled, multicentre trials. Treatment of concomitant conditions promoting recurrent AF by life style interventions and medical therapy should be a routine adjunct to catheter ablation of persistent AF. Early rhythm control therapy has a biological rationale and trials evaluating its value are underway. There is a clear need to generate more evidence for the best approach to ablation of persistent AF beyond pulmonary vein isolation in the form of adequately powered controlled multi-centre trials.\n"
     ]
    }
   ],
   "source": [
    "print(\"\".join(text.itertext()))"
   ]
  },
  {
   "cell_type": "code",
   "execution_count": 112,
   "metadata": {},
   "outputs": [
    {
     "name": "stdout",
     "output_type": "stream",
     "text": [
      "article\n",
      "{'article-type': 'review-article'}\n"
     ]
    }
   ],
   "source": [
    "for child in root:\n",
    "    print(child.tag)\n",
    "    print(child.attrib)"
   ]
  },
  {
   "cell_type": "code",
   "execution_count": 127,
   "metadata": {},
   "outputs": [],
   "source": [
    "all_text = root.findall('.//p')"
   ]
  },
  {
   "cell_type": "code",
   "execution_count": 128,
   "metadata": {},
   "outputs": [
    {
     "name": "stdout",
     "output_type": "stream",
     "text": [
      "Catheter ablation is increasingly offered to patients who suffer from symptoms due to atrial fibrillation (AF), based on a growing body of evidence illustrating its efficacy compared with antiarrhythmic drug therapy. Approximately one-third of AF ablation procedures are currently performed in patients with persistent or long-standing persistent AF. Here, we review the available information to guide catheter ablation in these more chronic forms of AF. We identify the following principles: Our clinical ability to discriminate paroxysmal and persistent AF is limited. Pulmonary vein isolation is a reasonable and effective first approach for catheter ablation of persistent AF. Other ablation strategies are being developed and need to be properly evaluated in controlled, multicentre trials. Treatment of concomitant conditions promoting recurrent AF by life style interventions and medical therapy should be a routine adjunct to catheter ablation of persistent AF. Early rhythm control therapy has a biological rationale and trials evaluating its value are underway. There is a clear need to generate more evidence for the best approach to ablation of persistent AF beyond pulmonary vein isolation in the form of adequately powered controlled multi-centre trials.\n",
      "Recent prevalence estimates suggest that at least 33.5 million persons are affected by atrial fibrillation (AF).1 Catheter ablation is increasingly offered to relieve AF-related symptoms,2–4 based on evidence illustrating its efficacy compared with antiarrhythmic drug therapy.5–9 There is less evidence supporting AF ablation in persistent AF, although small studies suggest better maintenance of sinus rhythm. Two years ago, the first multicentre trial comparing catheter ablation with cardioversion and antiarrhythmic drugs as first-line therapy for persistent AF has been reported and demonstrated more effective maintenance of sinus rhythm, as well as better quality of life, in patients randomized to catheter ablation.10 In recently published surveys, approximately one-third of AF ablation procedures were performed in patients with persistent or long-standing persistent AF.4 Here, we discuss recent data suggesting that our clinical ability to discriminate paroxysmal and persistent AF is limited, review the evidence supporting the use of catheter ablation in persistent AF, illustrate approaches to improve sinus rhythm maintenance by comprehensive cardiovascular risk reduction,11 discuss the value of different ablation strategies, and highlight the need for adequate validation of novel approaches to catheter ablation for persistent AF.\n",
      "Persistent AF is defined as AF that persists without interruption for 7 days or longer.5,6 Whether patients who have been cardioverted during the first 7 days of an AF episode should be classified as persistent or paroxysmal has been defined differently in the USA and in Europe,5,6 but this only pertains to a small number of patients who receive early cardioversion. Patients who are in AF for >1 year are classed as long-standing persistent AF.5,6 Most patients who initially present with paroxysmal, self-terminating AF will progress to chronic forms of the arrhythmia (including permanent AF) or switch back and forth between paroxysmal and persistent or long-standing persistent AF.12,13 This simple observation already suggests that paroxysmal and persistent AF are not biologically distinct entities, but rather constitute different presentations of the same arrhythmia, loosely associated with different stages of the disease. Consistent with this general concept, patients diagnosed with persistent AF are generally older than those in paroxysmal AF, and present with more comorbidities.14,15 Over the last decade, the ECG-monitoring technology available to health care professionals and to the general public has tremendously advanced, thus profoundly improving our ability to differentiate AF patterns, reflected in consensus statements that informed regulatory bodies.7,16 Importantly, a recent analysis of continued atrial rhythm monitoring using implanted devices suggests that the AF pattern (or ‘AF burden’) does not differ too much between patients who have been clinically diagnosed with ‘paroxysmal’ or ‘persistent’ AF.17 Hence, the mere clinical classification of the AF pattern as ‘persistent’ may neither be sufficient justification to decide on a specific ablation strategy nor too powerful to predict the effectiveness of catheter ablation. It rather seems reasonable to assume that some patients with persistent AF respond to pulmonary vein isolation (PVI) as well as patients in paroxysmal AF, while others (with either AF pattern) are likely to develop recurrent AF.\n",
      "It is well established that many patients already present with substantial atrial damage at the first episode of AF, and concomitant conditions such as hypertension, obesity, heart failure, chronic kidney disease, and others will cause ‘remodelling’ of the atria prior to occurrence of AF.11,18 On top of this ‘remodelling’, AF induces electrical and structural changes in the atria that occur within days to weeks (Figure 1). Nonetheless, some patients develop AF without detectable concomitant conditions late in life.19Figure 1Major health modifiers promoting recurrent atrial fibrillation (orange boxes) and the likely intermediary mechanisms causing atrial damage and leading to atrial fibrillation (open boxes, top part, health modifiers taken from Fabritz et al.89). The green boxes at the bottom illustrate interventions that can mitigate or reverse these effects. These ancillary interventions should be an integral part of the management of patients undergoing catheter ablation of persistent atrial fibrillation.\n",
      "Major health modifiers promoting recurrent atrial fibrillation (orange boxes) and the likely intermediary mechanisms causing atrial damage and leading to atrial fibrillation (open boxes, top part, health modifiers taken from Fabritz et al.89). The green boxes at the bottom illustrate interventions that can mitigate or reverse these effects. These ancillary interventions should be an integral part of the management of patients undergoing catheter ablation of persistent atrial fibrillation.\n",
      "A number of factors promote recurrent AF in patients, including those that undergo ablation of AF. Interestingly, time since the first diagnosis of AF is only a weak factor, while the time spent in continuous AF prior to ablation is a better predictor of outcome, where maintenance of sinus rhythm after ablation is less likely in patients spending >3 years continuously in AF prior to ablation (‘long-standing persistent’ AF).20\n",
      "Other drivers of recurrent AF are related to clinical conditions that promote structural remodelling. Left atrial remodelling, which can be assessed invasively by quantifying areas of low-voltage left atrial signals, or with MR imaging,21–24 is largely determined by concomitant cardiovascular conditions and possibly by duration of AF, while other factors were derived from clinical information.25,26 It is worthwhile to consider that the effect of any AF ablation procedure is to induce further areas of delayed gadolinium enhancement.23,27\n",
      "While the natural ageing process is presently difficult to modulate, several factors associated with recurrent AF after catheter ablation can be modified by medical therapy or life style interventions (Table 1). Initial results of such life style interventions, e.g. regular exercise28 or systematic weight reduction in obese patients scheduled for AF ablation,29,30 are promising. Initial results also suggest that antihypertensive therapies that modulate central sympathetic tone (moxonidine) reduce recurrent AF after catheter ablation.31 Angiotensin converting enzyme inhibitors or sartans, while not effective in preventing recurrent AF in patients without structural heart disease in the short term,32,33 may have long-term beneficial effects for the primary prevention of AF.34 It has also been suggested that evidence-based therapy of heart failure with reduced ejection fraction can help to prevent AF.35 Likewise, adequate revascularization and treatment of mitral valve disease are likely to help stabilize sinus rhythm and restore atrial function (Figure 1). While it will be difficult to evaluate each of these interventions separately in outcome trials, it seems reasonable to integrate adequate treatment of modifiable cardiovascular conditions into the management of patients undergoing ablation of AF based on their known general cardiovascular benefits.36 In addition, it is common practice to use antiarrhythmic drugs for 3 months after catheter ablation of AF, including for persistent AF. Such treatment probably suppresses short-term recurrences of AF, but does not alter the mid-term recurrence rate.37 This practice seems reasonable.\n",
      "Table 1Clinical factors that contribute to recurrent atrial fibrillation after catheter ablation and potential interventions that could reduce their impact on recurrent atrial fibrillationFactor associated with recurrent AFPossible interventionAgeNone availableChronic kidney disease?DiabetesWeight reduction, regular exercise (?)ObesityWeight reduction, regular exerciseHypertensionAntihypertensive therapy, possibly including monoxidine and RAAS inhibitionHeart failureTherapy of HFrEF with ACE inhibitors, β blockers, mineralocorticoid antagonists, etc.High ventricular rateRate control therapy (?)Left atrial diameterNone availableDuration of continuous AF prior to ablationEarly rhythm control therapy (?)ACE, angiotensin converting enzyme; AF, atrial fibrillation; HFrEF, heart failure with reduced ejection fraction; RAAS, renin–angiotensin aldosterone.Figure 2Reconstruction of the left atrium (posterior view) showing the pulmonary veins and the left atrial appendage. Red dots illustrate the current approach of isolation of the pulmonary veins, in this case including a line between the two superior and inferior veins. Orange lines indicate additional linear ablation lesions that have been proposed to enhance the success rate of atrial fibrillation ablation (roof line, mitral isthmus line, ‘box’ lesions consisting of a roof/superior and inferior connection between the pulmonary vein isolation circles, and left atrial appendage isolation). The effectiveness of these additional ablation interventions will require evaluation in adequately sized and powered controlled trials.\n",
      "Clinical factors that contribute to recurrent atrial fibrillation after catheter ablation and potential interventions that could reduce their impact on recurrent atrial fibrillation\n",
      "ACE, angiotensin converting enzyme; AF, atrial fibrillation; HFrEF, heart failure with reduced ejection fraction; RAAS, renin–angiotensin aldosterone.\n",
      "Reconstruction of the left atrium (posterior view) showing the pulmonary veins and the left atrial appendage. Red dots illustrate the current approach of isolation of the pulmonary veins, in this case including a line between the two superior and inferior veins. Orange lines indicate additional linear ablation lesions that have been proposed to enhance the success rate of atrial fibrillation ablation (roof line, mitral isthmus line, ‘box’ lesions consisting of a roof/superior and inferior connection between the pulmonary vein isolation circles, and left atrial appendage isolation). The effectiveness of these additional ablation interventions will require evaluation in adequately sized and powered controlled trials.\n",
      "The first description that triggers in the pulmonary veins initiate AF and that their elimination by radio frequency ablation prevents AF has been a key disruptive discovery shaping AF ablation.38 Pulmonary vein isolation remains the cornerstone of AF ablation until today.7 Two-thirds of surveyed European centres perform PVI without additional ablation targets as a first-line therapy for persistent AF.39 Pulmonary vein isolation conveys a 60–80% rate of maintaining sinus rhythm after 1 year in patients who predominantly present with paroxysmal forms of AF, not different between centres mainly using cryoballoon and irrigated radio frequency ablation.40–42 The rhythm outcome in patients with persistent AF is more variable, but not much worse in some series (Table 2). The maintenance of sinus rhythm is not dramatically different between ‘persistent’ AF patients undergoing PVI alone compared with patients undergoing more extensive ablation approaches, including a risk to develop left atrial tachycardia with either approach (Table 2).40Table 2Controlled trials and selected observational data sets reporting sinus rhythm rates after catheter ablation of persistent atrial fibrillationPatientsInterventionControlSinus rhythm outcomeAblationControlControlled trials Wazni4770 (paroxysmal and persistent)CAAAD + CV87%a46%a Oral48146PVI + AmiodaroneAmiodarone + CV74%a58%a Stabile49137 (paroxysmal or persistent)CA: PVI + mitral line + CTIAAD56%10% Forleo5070 (41 persistent)CAAAD + CV80%a43%a Jones5152CARate control88%an.a. Mont10146CAAAD + CV70%44% Verma43589PVIPVI + lines, PVI + CFAE59%46%; 49% Dong52146CA + lines (fix)CA (stepwise)67%60%Observational data sets Hunter (multi centre)53586 (persistent)CA (1.8 mean procedures, mainly PVI)n.a.60%an.a. Scherr (single centre)54150CA (AF termination outcome)n.a.65%n.a. Schreiber (single centre)55549CA (stepwise approach)n.a.56%n.a. Haissaguerre56103CA (driver domains)65%an.a.AAD, antiarrhythmic drugs; CA, catheter ablation; CV, cardioversion; PVI, pulmonary vein isolation.aNumbers in italic indicate success rates without intensive ECG monitoring.\n",
      "Controlled trials and selected observational data sets reporting sinus rhythm rates after catheter ablation of persistent atrial fibrillation\n",
      "AAD, antiarrhythmic drugs; CA, catheter ablation; CV, cardioversion; PVI, pulmonary vein isolation.\n",
      "aNumbers in italic indicate success rates without intensive ECG monitoring.\n",
      "One of the most important recent studies in field of ablation of persistent AF was the Star AF 2 trial.43 This landmark study randomized 589 patients with persistent AF to PV isolation alone (N = 67 patients), to PVI plus linear ablation (N = 259 patients), or to PVI and ablation of continuous fractionated electrograms ablation (CFAE, N = 263 patients). The results of this study revealed no difference in outcomes of these three ablation strategies. After 18 months of follow-up, 59% of patients assigned to PVI alone were AF free, when compared with 49% of patients assigned to PVI plus CFAE ablation and 46% of patients assigned to PVI plus linear ablation. The lack of additional effects of CFAE ablation possibly came as less of a surprise as the lack of effects of linear lesions.44,45 The longer procedure duration of extended ablation procedures, associated with higher radiation exposure and possibly higher complication rates, should be considered in this context. Star AF 2 clearly supports the use of PVI without further ablation as the first-line therapy in patients with persistent AF, opening the possibility of catheter ablation of persistent AF using cryothermy balloons in the future.46 We propose that a group of patients with persistent AF respond as well to PVI as patients with paroxysmal AF.\n",
      "The most recent AF ablation consensus document considered PVI the ‘cornerstone’ of AF ablation.7 The document also stated that additional ablation strategies should be considered when ablating persistent AF, and expressed a need for sufficiently powered multicentre trials comparing different AF ablation strategies. At that time there was no consensus as to which of these ablation strategies was optimal.\n",
      "Prior to the seminal description of triggers in the pulmonary veins initiating AF,38 several skilled groups developed different sets of linear left and right atrial lesions in an attempt to prevent AF.57–61 Several linear lesions, e.g. around the mitral isthmus or a ‘roof line’ connecting the ablation lesions encircling the pulmonary veins, have been re-used as relevant adjuncts to PVI in persistent AF (Figure 2).54,56,62,63 Additional lesions that have been proposed are a ‘box’ encircling the posterior left atrium including all four pulmonary veins, and a line isolating the left atrial appendage (Figure 2). Initial reports, often comprising procedures done in a single centre and relying on a few dozen of patients, were promising, while larger, confirmatory studies often yielded higher recurrence rates. One commonly proposed ablation strategy at the time was the ‘stepwise’ approach to ablation of persistent AF proposed and championed by the Bordeaux group.64,65 Like other developments in the field that were mainly developed and evaluated in a small number of centres, this approach has never gained wide-spread use. A recent publication describing the long-term outcomes of 150 patients who underwent the stepwise approach to ablation of persistent AF using the stepwise approach was somewhat sobering. Arrhythmia-free survival rates after a single procedure were 35.3 ± 3.9, 28.0 ± 3.7, and 16.8 ± 3.2% at 1, 2, and 5 years, respectively.54\n",
      "New ablation strategies for ablation of persistent AF have started to emerge. One of these new strategies involves the use of a multi-electrode basket catheter to map ‘rotors’, i.e. areas that are critical for maintenance of AF.66,67 Some, but not all, of the published outcomes using this basket-based rotor mapping-based approach have reported encouraging results.67,68 Non-invasive body surface potential mapping has been used by another group to identify such critical areas (described as ‘drivers’ or ‘focal sources’ by these researchers).69,70 Another strategy that has been developed is to homogenize areas of scar, using MRI or voltage mapping to identify areas of scar (see Figure 3 for illustrative examples of abnormal areas of low voltage in the left atrium). Once identified these areas of scar are ablated in an attempt to eliminate any potential re-entrant circuits.71 Experimental data suggest that the core of a rotor may often co-localize with areas of conduction block, in line with the behaviour of voltage vectors constructed from filtered electrograms. Hence, these two approaches may result in somewhat overlapping ablation lesions. The concept of targeting fractionated electrograms (CFAE) has been abandoned by many centres after disappointing results of controlled trials. These lesions are placed based on electrogram characteristics and do not follow a defined anatomical pattern.\n",
      "Figure 3Examples of left atrial voltage maps (view onto the posterior left atrium) showing normal left atrial voltage (upper panel), confined areas of low left atrial voltage (lower left panel), and homogeneous reduction of left atrial electrogram voltage (lower right panel). Purple colour indicates areas with normal (>0.5 mV) amplitude of bipolar electrograms, red areas with low (≤0.2 mV) left atrial voltage.\n",
      "Examples of left atrial voltage maps (view onto the posterior left atrium) showing normal left atrial voltage (upper panel), confined areas of low left atrial voltage (lower left panel), and homogeneous reduction of left atrial electrogram voltage (lower right panel). Purple colour indicates areas with normal (>0.5 mV) amplitude of bipolar electrograms, red areas with low (≤0.2 mV) left atrial voltage.\n",
      "Whether any of the novel strategies listed above proves to be superior to PVI alone for ablation of persistent AF remains to be determined. Currently, a large variety of ablation strategies are being employed with a goal of obtaining preliminary data concerning whether these new ablation strategies are more effective than PV isolation alone. When interpreting results from studies evaluating novel ablation strategies, it seems important to recognise a major limitation of current catheter ablation interventions: Even when the PVI is performed in selected, highly experienced centres with a clear aim to achieve complete isolation, this is only achieved in a minority of patients.72 Hence, better technology is needed to achieve transmural lesions. This has implications not only for the evaluation of linear lesions but also for other ablation concepts.\n",
      "At some point these new ablation strategies will need to be compared head to head with PV isolation alone in sufficiently powered multicentre trials similar to the design of the Star-AF 2 Trial described above. Until that point, these new approaches must be considered experimental and their value unproven.\n",
      "More and more electrophysiologists are opting to perform AF ablation early in the course of the AF journey in an attempt to reduce AF burden and limit AF-induced atrial damage. Consistent with this trend are the recommendations by both the ESC AF Guidelines and also the AHA/ACC/HRS AF consensus document that catheter ablation of paroxysmal AF may be considered as first-line therapy11,73 based on patient preference and when performed in experienced centres.74 While published trials, relying on antiarrhythmic drug therapy and often accepting interruption of oral anticoagulation after sinus rhythm restoration, have not shown a prognostic benefit of rhythm control therapy over usual care,75 there is biological reason to believe that sinus rhythm maintenance could help to prevent these cardiovascular events.76–79 Intermittent periods of sinus rhythm may reverse some of the underlying adaptive processes (‘electrical’ and ‘structural’ remodelling).78,80 Activation patterns in the fibrillating atria are heterogeneous and highly variable over time.81 The complexity of electrical activity in AF, described as drivers,56 epicardial break through,82–84 rotor,85 or AF cycle length,86 increases with longer duration of continuous AF. A novelty of the rhythm control approach in In EAST—AFNET 4 is the mandate for an early rhythm control therapy intervention,87,88 informed by the observation that AF-induced atrial remodelling may facilitate recurrent AF during later stages of the disease. It remains to be seen if this early intervention approach bear can also help to prevent strokes and other major cardiovascular outcomes in AF patients.\n",
      "Catheter ablation is a reasonably effective intervention to achieve restoration and maintenance of sinus rhythm in patients with persistent AF. The evidence underpinning the use of catheter ablation is less strong for persistent and long-standing persistent AF than for paroxysmal AF. Acknowledging the need for further data, we suggest the following principles to guide catheter ablation of persistent AF (Figure 4):\n",
      "Many patients who are clinically classified as ‘persistent AF’ will have a similar AF patterns to other patients who are classified as ‘paroxysmal AF’.Catheter ablation should be considered for symptom relief in patients with persistent AF, especially after failed antiarrhythmic drug therapy.Pulmonary vein isolation is a reasonable and often sufficiently effective ablation strategy in patients undergoing a first catheter ablation of persistent AF.Additional ablation targets should in our view not routinely be pursued in the first procedure.Optimal management of concomitant cardiovascular conditions should be an integral part of rhythm control therapy in patients with persistent AF undergoing catheter ablation.Early rhythm control intervention has conceptual benefits, but needs evaluation in controlled trials. At present, it seems reasonable to not delay catheter ablation unduly after the decision for rhythm control therapy has been taken.\n",
      "Figure 4Proposed stepwise approach to catheter ablation of patients with persistent atrial fibrillation emphasizing the need to isolate the pulmonary veins before applying further ablation techniques, and illustrating the integration of medical and life style interventions underpinning the effect of catheter ablation. This proposal integrates available evidence. We recognize the need to evaluate the best AF ablation strategy in different populations of patients with persistent atrial fibrillation.\n",
      "Many patients who are clinically classified as ‘persistent AF’ will have a similar AF patterns to other patients who are classified as ‘paroxysmal AF’.\n",
      "Catheter ablation should be considered for symptom relief in patients with persistent AF, especially after failed antiarrhythmic drug therapy.\n",
      "Pulmonary vein isolation is a reasonable and often sufficiently effective ablation strategy in patients undergoing a first catheter ablation of persistent AF.\n",
      "Additional ablation targets should in our view not routinely be pursued in the first procedure.\n",
      "Optimal management of concomitant cardiovascular conditions should be an integral part of rhythm control therapy in patients with persistent AF undergoing catheter ablation.\n",
      "Early rhythm control intervention has conceptual benefits, but needs evaluation in controlled trials. At present, it seems reasonable to not delay catheter ablation unduly after the decision for rhythm control therapy has been taken.\n",
      "Figure 4Proposed stepwise approach to catheter ablation of patients with persistent atrial fibrillation emphasizing the need to isolate the pulmonary veins before applying further ablation techniques, and illustrating the integration of medical and life style interventions underpinning the effect of catheter ablation. This proposal integrates available evidence. We recognize the need to evaluate the best AF ablation strategy in different populations of patients with persistent atrial fibrillation.\n",
      "Proposed stepwise approach to catheter ablation of patients with persistent atrial fibrillation emphasizing the need to isolate the pulmonary veins before applying further ablation techniques, and illustrating the integration of medical and life style interventions underpinning the effect of catheter ablation. This proposal integrates available evidence. We recognize the need to evaluate the best AF ablation strategy in different populations of patients with persistent atrial fibrillation.\n",
      "There are development needs for this exciting and understudied area in clinical electrophysiology. Among them, the following appear of special relevance to us:\n",
      "There is a need to develop better technology to achieve safe and reliable transmural lesions in the left atrium.We need to identify clinical markers for different types of AF that allow to identify persistent AF patients who will benefit from catheter ablation.89Research into reduction of ablation complications and development of simple techniques to achieve PVI46 is needed.Several additional ablation strategies have been evaluated and abandoned, while others (including promising novel ideas) are in need of adequate evaluation in sufficiently powered controlled clinical trials, e.g. in patients with recurrent AF after successful PVI. This requires international cooperation of major ablation centres to allow the conduct of properly powered controlled trials.\n",
      "There is a need to develop better technology to achieve safe and reliable transmural lesions in the left atrium.\n",
      "We need to identify clinical markers for different types of AF that allow to identify persistent AF patients who will benefit from catheter ablation.89\n",
      "Research into reduction of ablation complications and development of simple techniques to achieve PVI46 is needed.\n",
      "Several additional ablation strategies have been evaluated and abandoned, while others (including promising novel ideas) are in need of adequate evaluation in sufficiently powered controlled clinical trials, e.g. in patients with recurrent AF after successful PVI. This requires international cooperation of major ablation centres to allow the conduct of properly powered controlled trials.\n",
      "P.K. handled funding and supervision, drafted the manuscript. P.K., H.C. (literature review) acquired the data, conceived and designed the research. H.C. made critical revision of the manuscript for key intellectual content. The concept of this review article is based on a presentation given during the 2015 ESC congress in London.\n",
      "The writing of this review was partially supported by European Union [grant agreement no 633193 (CATCH ME, Characterizing Atrial fibrillation by Translating its Causes into Health Modifiers in the Elderly) to P.K.], Fondation Leducq (to P.K.), and British Heart Foundation (FS/13/43/30324 to P.K.).\n",
      "\n",
      "Conflict of interest: H.C. reports personal fees from Medtronic, grants and personal fees from St Jude Medical, personal fees from Abbott Medical, outside the submitted work. P.K reports grants from British Heart Foundation and European Union, during the conduct of the study; personal fees from several industry partners, grants from several industry partners (institutional grants), grants from several public funders and charities (DZHK/BMBF, EU, BHF, and Leducq Foundation), outside the submitted work; In addition, P.K. has a patent AF therapy pending to University of Birmingham, and a patent Markers for AF pending to University of Birmingham.\n"
     ]
    }
   ],
   "source": [
    "for texts in all_text:\n",
    "    print(\"\".join(texts.itertext()))"
   ]
  },
  {
   "cell_type": "markdown",
   "metadata": {},
   "source": [
    "Let's look at the list of open access papers."
   ]
  },
  {
   "cell_type": "code",
   "execution_count": 11,
   "metadata": {},
   "outputs": [
    {
     "name": "stdout",
     "output_type": "stream",
     "text": [
      "API_ignore.txt\n",
      "README.md\n",
      "articles\n",
      "notebooks\n",
      "oa_comm_use_file_list.csv\n",
      "oa_file_list.csv\n",
      "test.txt\n",
      "test_xml.xml\n"
     ]
    }
   ],
   "source": [
    "%%bash\n",
    "ls .."
   ]
  },
  {
   "cell_type": "code",
   "execution_count": 4,
   "metadata": {},
   "outputs": [],
   "source": [
    "import pandas as pd"
   ]
  },
  {
   "cell_type": "code",
   "execution_count": 5,
   "metadata": {},
   "outputs": [],
   "source": [
    "oa_comm_use = pd.read_csv(\"../oa_comm_use_file_list.csv\")"
   ]
  },
  {
   "cell_type": "code",
   "execution_count": 7,
   "metadata": {},
   "outputs": [
    {
     "data": {
      "text/html": [
       "<div>\n",
       "<style scoped>\n",
       "    .dataframe tbody tr th:only-of-type {\n",
       "        vertical-align: middle;\n",
       "    }\n",
       "\n",
       "    .dataframe tbody tr th {\n",
       "        vertical-align: top;\n",
       "    }\n",
       "\n",
       "    .dataframe thead th {\n",
       "        text-align: right;\n",
       "    }\n",
       "</style>\n",
       "<table border=\"1\" class=\"dataframe\">\n",
       "  <thead>\n",
       "    <tr style=\"text-align: right;\">\n",
       "      <th></th>\n",
       "      <th>File</th>\n",
       "      <th>Article Citation</th>\n",
       "      <th>Accession ID</th>\n",
       "      <th>Last Updated (YYYY-MM-DD HH:MM:SS)</th>\n",
       "      <th>PMID</th>\n",
       "      <th>License</th>\n",
       "    </tr>\n",
       "  </thead>\n",
       "  <tbody>\n",
       "    <tr>\n",
       "      <th>0</th>\n",
       "      <td>oa_package/e6/58/PMC176545.tar.gz</td>\n",
       "      <td>PLoS Biol. 2003 Oct 18; 1(1):e5</td>\n",
       "      <td>PMC176545</td>\n",
       "      <td>2016-12-06 10:05:59</td>\n",
       "      <td>12929205.0</td>\n",
       "      <td>CC BY</td>\n",
       "    </tr>\n",
       "    <tr>\n",
       "      <th>1</th>\n",
       "      <td>oa_package/36/ba/PMC176546.tar.gz</td>\n",
       "      <td>PLoS Biol. 2003 Oct 18; 1(1):e6</td>\n",
       "      <td>PMC176546</td>\n",
       "      <td>2016-12-06 16:39:13</td>\n",
       "      <td>12929206.0</td>\n",
       "      <td>CC BY</td>\n",
       "    </tr>\n",
       "    <tr>\n",
       "      <th>2</th>\n",
       "      <td>oa_package/a9/0c/PMC176547.tar.gz</td>\n",
       "      <td>PLoS Biol. 2003 Oct 18; 1(1):e7</td>\n",
       "      <td>PMC176547</td>\n",
       "      <td>2016-12-05 13:30:03</td>\n",
       "      <td>NaN</td>\n",
       "      <td>CC BY</td>\n",
       "    </tr>\n",
       "    <tr>\n",
       "      <th>3</th>\n",
       "      <td>oa_package/46/44/PMC176548.tar.gz</td>\n",
       "      <td>PLoS Biol. 2003 Oct 18; 1(1):e11</td>\n",
       "      <td>PMC176548</td>\n",
       "      <td>2016-12-05 12:32:10</td>\n",
       "      <td>NaN</td>\n",
       "      <td>CC BY</td>\n",
       "    </tr>\n",
       "    <tr>\n",
       "      <th>4</th>\n",
       "      <td>oa_package/81/5e/PMC193604.tar.gz</td>\n",
       "      <td>PLoS Biol. 2003 Oct 15; 1(1):e13</td>\n",
       "      <td>PMC193604</td>\n",
       "      <td>2016-12-06 10:05:55</td>\n",
       "      <td>12975658.0</td>\n",
       "      <td>CC BY</td>\n",
       "    </tr>\n",
       "  </tbody>\n",
       "</table>\n",
       "</div>"
      ],
      "text/plain": [
       "                                File                  Article Citation  \\\n",
       "0  oa_package/e6/58/PMC176545.tar.gz   PLoS Biol. 2003 Oct 18; 1(1):e5   \n",
       "1  oa_package/36/ba/PMC176546.tar.gz   PLoS Biol. 2003 Oct 18; 1(1):e6   \n",
       "2  oa_package/a9/0c/PMC176547.tar.gz   PLoS Biol. 2003 Oct 18; 1(1):e7   \n",
       "3  oa_package/46/44/PMC176548.tar.gz  PLoS Biol. 2003 Oct 18; 1(1):e11   \n",
       "4  oa_package/81/5e/PMC193604.tar.gz  PLoS Biol. 2003 Oct 15; 1(1):e13   \n",
       "\n",
       "  Accession ID Last Updated (YYYY-MM-DD HH:MM:SS)        PMID License  \n",
       "0    PMC176545                2016-12-06 10:05:59  12929205.0   CC BY  \n",
       "1    PMC176546                2016-12-06 16:39:13  12929206.0   CC BY  \n",
       "2    PMC176547                2016-12-05 13:30:03         NaN   CC BY  \n",
       "3    PMC176548                2016-12-05 12:32:10         NaN   CC BY  \n",
       "4    PMC193604                2016-12-06 10:05:55  12975658.0   CC BY  "
      ]
     },
     "execution_count": 7,
     "metadata": {},
     "output_type": "execute_result"
    }
   ],
   "source": [
    "oa_comm_use.head()"
   ]
  },
  {
   "cell_type": "code",
   "execution_count": 8,
   "metadata": {},
   "outputs": [
    {
     "data": {
      "text/plain": [
       "(1277830, 6)"
      ]
     },
     "execution_count": 8,
     "metadata": {},
     "output_type": "execute_result"
    }
   ],
   "source": [
    "oa_comm_use.shape"
   ]
  },
  {
   "cell_type": "code",
   "execution_count": 13,
   "metadata": {},
   "outputs": [],
   "source": [
    "oa_file_list = pd.read_csv(\"../oa_file_list.csv\")"
   ]
  },
  {
   "cell_type": "code",
   "execution_count": 14,
   "metadata": {},
   "outputs": [
    {
     "data": {
      "text/html": [
       "<div>\n",
       "<style scoped>\n",
       "    .dataframe tbody tr th:only-of-type {\n",
       "        vertical-align: middle;\n",
       "    }\n",
       "\n",
       "    .dataframe tbody tr th {\n",
       "        vertical-align: top;\n",
       "    }\n",
       "\n",
       "    .dataframe thead th {\n",
       "        text-align: right;\n",
       "    }\n",
       "</style>\n",
       "<table border=\"1\" class=\"dataframe\">\n",
       "  <thead>\n",
       "    <tr style=\"text-align: right;\">\n",
       "      <th></th>\n",
       "      <th>File</th>\n",
       "      <th>Article Citation</th>\n",
       "      <th>Accession ID</th>\n",
       "      <th>Last Updated (YYYY-MM-DD HH:MM:SS)</th>\n",
       "      <th>PMID</th>\n",
       "      <th>License</th>\n",
       "    </tr>\n",
       "  </thead>\n",
       "  <tbody>\n",
       "    <tr>\n",
       "      <th>0</th>\n",
       "      <td>oa_package/08/e0/PMC13900.tar.gz</td>\n",
       "      <td>Breast Cancer Res. 2001 Nov 2; 3(1):55-60</td>\n",
       "      <td>PMC13900</td>\n",
       "      <td>2017-04-26 12:15:50</td>\n",
       "      <td>11250746.0</td>\n",
       "      <td>NO-CC CODE</td>\n",
       "    </tr>\n",
       "    <tr>\n",
       "      <th>1</th>\n",
       "      <td>oa_package/b0/ac/PMC13901.tar.gz</td>\n",
       "      <td>Breast Cancer Res. 2001 Nov 9; 3(1):61-65</td>\n",
       "      <td>PMC13901</td>\n",
       "      <td>2016-01-20 10:58:46</td>\n",
       "      <td>11250747.0</td>\n",
       "      <td>NO-CC CODE</td>\n",
       "    </tr>\n",
       "    <tr>\n",
       "      <th>2</th>\n",
       "      <td>oa_package/f7/98/PMC13902.tar.gz</td>\n",
       "      <td>Breast Cancer Res. 2001 Nov 8; 3(1):66-75</td>\n",
       "      <td>PMC13902</td>\n",
       "      <td>2006-02-02 19:37:52</td>\n",
       "      <td>11250748.0</td>\n",
       "      <td>NO-CC CODE</td>\n",
       "    </tr>\n",
       "    <tr>\n",
       "      <th>3</th>\n",
       "      <td>oa_package/9c/7f/PMC13911.tar.gz</td>\n",
       "      <td>Breast Cancer Res. 2000 Nov 16; 2(1):59-63</td>\n",
       "      <td>PMC13911</td>\n",
       "      <td>2013-03-17 14:00:52</td>\n",
       "      <td>11056684.0</td>\n",
       "      <td>NO-CC CODE</td>\n",
       "    </tr>\n",
       "    <tr>\n",
       "      <th>4</th>\n",
       "      <td>oa_package/c6/fb/PMC13912.tar.gz</td>\n",
       "      <td>Breast Cancer Res. 2000 Dec 6; 2(1):64-72</td>\n",
       "      <td>PMC13912</td>\n",
       "      <td>2013-03-17 14:00:52</td>\n",
       "      <td>11400682.0</td>\n",
       "      <td>NO-CC CODE</td>\n",
       "    </tr>\n",
       "  </tbody>\n",
       "</table>\n",
       "</div>"
      ],
      "text/plain": [
       "                               File  \\\n",
       "0  oa_package/08/e0/PMC13900.tar.gz   \n",
       "1  oa_package/b0/ac/PMC13901.tar.gz   \n",
       "2  oa_package/f7/98/PMC13902.tar.gz   \n",
       "3  oa_package/9c/7f/PMC13911.tar.gz   \n",
       "4  oa_package/c6/fb/PMC13912.tar.gz   \n",
       "\n",
       "                             Article Citation Accession ID  \\\n",
       "0   Breast Cancer Res. 2001 Nov 2; 3(1):55-60     PMC13900   \n",
       "1   Breast Cancer Res. 2001 Nov 9; 3(1):61-65     PMC13901   \n",
       "2   Breast Cancer Res. 2001 Nov 8; 3(1):66-75     PMC13902   \n",
       "3  Breast Cancer Res. 2000 Nov 16; 2(1):59-63     PMC13911   \n",
       "4   Breast Cancer Res. 2000 Dec 6; 2(1):64-72     PMC13912   \n",
       "\n",
       "  Last Updated (YYYY-MM-DD HH:MM:SS)        PMID     License  \n",
       "0                2017-04-26 12:15:50  11250746.0  NO-CC CODE  \n",
       "1                2016-01-20 10:58:46  11250747.0  NO-CC CODE  \n",
       "2                2006-02-02 19:37:52  11250748.0  NO-CC CODE  \n",
       "3                2013-03-17 14:00:52  11056684.0  NO-CC CODE  \n",
       "4                2013-03-17 14:00:52  11400682.0  NO-CC CODE  "
      ]
     },
     "execution_count": 14,
     "metadata": {},
     "output_type": "execute_result"
    }
   ],
   "source": [
    "oa_file_list.head()"
   ]
  },
  {
   "cell_type": "code",
   "execution_count": 15,
   "metadata": {},
   "outputs": [
    {
     "data": {
      "text/plain": [
       "(2100375, 6)"
      ]
     },
     "execution_count": 15,
     "metadata": {},
     "output_type": "execute_result"
    }
   ],
   "source": [
    "oa_file_list.shape"
   ]
  },
  {
   "cell_type": "code",
   "execution_count": 17,
   "metadata": {},
   "outputs": [
    {
     "data": {
      "text/plain": [
       "30110623.0"
      ]
     },
     "execution_count": 17,
     "metadata": {},
     "output_type": "execute_result"
    }
   ],
   "source": []
  },
  {
   "cell_type": "code",
   "execution_count": 20,
   "metadata": {},
   "outputs": [
    {
     "name": "stdout",
     "output_type": "stream",
     "text": [
      "0_Data_retrieval.ipynb\n",
      "Scratch.ipynb\n",
      "__pycache__\n",
      "text.xml\n",
      "xml_to_dict.py\n"
     ]
    }
   ],
   "source": [
    "%%bash\n",
    "ls"
   ]
  },
  {
   "cell_type": "code",
   "execution_count": 24,
   "metadata": {},
   "outputs": [],
   "source": [
    "import xml_to_dict as xml_to_dict\n",
    "import xml.etree.ElementTree as ET"
   ]
  },
  {
   "cell_type": "code",
   "execution_count": 25,
   "metadata": {},
   "outputs": [],
   "source": [
    "tree = ET.parse('text.xml')\n",
    "root = tree.getroot()\n",
    "xmldict = xml_to_dict.XmlDictConfig(root)"
   ]
  },
  {
   "cell_type": "code",
   "execution_count": null,
   "metadata": {},
   "outputs": [],
   "source": []
  }
 ],
 "metadata": {
  "kernelspec": {
   "display_name": "Python 3",
   "language": "python",
   "name": "python3"
  },
  "language_info": {
   "codemirror_mode": {
    "name": "ipython",
    "version": 3
   },
   "file_extension": ".py",
   "mimetype": "text/x-python",
   "name": "python",
   "nbconvert_exporter": "python",
   "pygments_lexer": "ipython3",
   "version": "3.6.5"
  }
 },
 "nbformat": 4,
 "nbformat_minor": 2
}
