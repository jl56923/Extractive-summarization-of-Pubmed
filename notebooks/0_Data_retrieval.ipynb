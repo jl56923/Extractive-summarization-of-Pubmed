{
 "cells": [
  {
   "cell_type": "code",
   "execution_count": 1,
   "metadata": {},
   "outputs": [],
   "source": [
    "import numpy as np\n",
    "import pandas as pd\n",
    "import requests\n",
    "import xml.etree.ElementTree as ET\n",
    "import re\n",
    "import pickle\n",
    "\n",
    "import pprint\n",
    "\n",
    "from Bio import Entrez"
   ]
  },
  {
   "cell_type": "code",
   "execution_count": 2,
   "metadata": {},
   "outputs": [],
   "source": [
    "with open(\"../API_ignore.txt\", \"r\") as f:\n",
    "    lines = f.read()\n",
    "\n",
    "entrez_api_key = lines.split(\":\")[1].strip()"
   ]
  },
  {
   "cell_type": "markdown",
   "metadata": {},
   "source": [
    "## Step 1\n",
    "\n",
    "First, we use esearch to send a query for all reviews & systematic reviews that have free full text for a specific topic; we want to get the PMIDs of these papers."
   ]
  },
  {
   "cell_type": "code",
   "execution_count": 3,
   "metadata": {},
   "outputs": [],
   "source": [
    "esearch_base_query = \"https://eutils.ncbi.nlm.nih.gov/entrez/eutils/esearch.fcgi?\"\n",
    "    \n",
    "review_pmids_query_dict = {\n",
    "    \"db\": \"pubmed\",\n",
    "    \"sort\": \"relevance\",\n",
    "    \"retmax\": '10',\n",
    "    \"term\": \"{}+AND+((Review[ptyp]+OR+systematic[sb])+AND+free+full+text[sb])\",\n",
    "    \"api_key\": entrez_api_key\n",
    "}"
   ]
  },
  {
   "cell_type": "code",
   "execution_count": 4,
   "metadata": {},
   "outputs": [],
   "source": [
    "joined_terms = [k+\"=\"+v for k, v in review_pmids_query_dict.items()] "
   ]
  },
  {
   "cell_type": "code",
   "execution_count": 5,
   "metadata": {},
   "outputs": [],
   "source": [
    "get_review_pmids_query = esearch_base_query + \"&\".join(joined_terms)"
   ]
  },
  {
   "cell_type": "code",
   "execution_count": 6,
   "metadata": {},
   "outputs": [
    {
     "data": {
      "text/plain": [
       "'https://eutils.ncbi.nlm.nih.gov/entrez/eutils/esearch.fcgi?db=pubmed&sort=relevance&retmax=10&term={}+AND+((Review[ptyp]+OR+systematic[sb])+AND+free+full+text[sb])&api_key=b0b12c603fda132e7f526bd128008cf75a08'"
      ]
     },
     "execution_count": 6,
     "metadata": {},
     "output_type": "execute_result"
    }
   ],
   "source": [
    "get_review_pmids_query"
   ]
  },
  {
   "cell_type": "code",
   "execution_count": 104,
   "metadata": {},
   "outputs": [
    {
     "data": {
      "text/plain": [
       "{'sort': 'relevance',\n",
       " 'retmax': 100,\n",
       " 'term': '{}+AND+((Review[ptyp]+OR+systematic[sb])+AND+free+full+text[sb])',\n",
       " 'api_key': 'b0b12c603fda132e7f526bd128008cf75a08'}"
      ]
     },
     "execution_count": 104,
     "metadata": {},
     "output_type": "execute_result"
    }
   ],
   "source": [
    "review_pmids_query_dict"
   ]
  },
  {
   "cell_type": "code",
   "execution_count": 23,
   "metadata": {},
   "outputs": [],
   "source": [
    "#\"https://eutils.ncbi.nlm.nih.gov/entrez/eutils/esearch.fcgi?db=pubmed&term=asthma&Review[ptyp]\"\n",
    "# https://eutils.ncbi.nlm.nih.gov/entrez/eutils/esearch.fcgi?db=pubmed&sort=relevance&retmax=100&term=atrial+fibrillation+AND+((Review[ptyp]+OR+systematic[sb])+AND+free+full+text[sb])\n",
    "\n",
    "#get_review_pmids_query = \"https://eutils.ncbi.nlm.nih.gov/entrez/eutils/esearch.fcgi?db=pubmed&term={}+AND+((Review[ptyp]+OR+systematic[sb])+AND+free+full+text[sb])&api_key={}\""
   ]
  },
  {
   "cell_type": "code",
   "execution_count": 9,
   "metadata": {},
   "outputs": [],
   "source": [
    "first_search = \"atrial+fibrillation\""
   ]
  },
  {
   "cell_type": "code",
   "execution_count": 10,
   "metadata": {},
   "outputs": [],
   "source": [
    "second_search = \"lewy+body+dementia\""
   ]
  },
  {
   "cell_type": "code",
   "execution_count": 8,
   "metadata": {},
   "outputs": [],
   "source": [
    "# Once we send this query to pubmed using eutils, we get back an xml object which we can store in a tree.\n",
    "r = requests.get(get_review_pmids_query.format(first_search, entrez_api_key))"
   ]
  },
  {
   "cell_type": "code",
   "execution_count": 11,
   "metadata": {},
   "outputs": [],
   "source": [
    "# Once we send this query to pubmed using eutils, we get back an xml object which we can store in a tree.\n",
    "r = requests.get(get_review_pmids_query.format(second_search, entrez_api_key))"
   ]
  },
  {
   "cell_type": "code",
   "execution_count": 12,
   "metadata": {},
   "outputs": [],
   "source": [
    "tree = ET.ElementTree(ET.fromstring(r.content))\n",
    "root = tree.getroot()\n",
    "\n",
    "pmids = root.findall('.//Id')\n",
    "\n",
    "pmid_list = [pmid.text for pmid in pmids]"
   ]
  },
  {
   "cell_type": "markdown",
   "metadata": {},
   "source": [
    "## Step 2\n",
    "\n",
    "Now that we have the PMIDs for the 20 review papers returned by esearch, we have to convert the PMIDs into PMCIDs. In order to convert the PMIDs to PMCIDs, we have to use the ID converter provided by the NCBI, as outlined here: https://www.ncbi.nlm.nih.gov/pmc/tools/id-converter-api/"
   ]
  },
  {
   "cell_type": "code",
   "execution_count": 13,
   "metadata": {},
   "outputs": [],
   "source": [
    "# Let's convert each PMID into a PMCID. The JSON that is returned from this request always has a key 'records'.\n",
    "# Check the dictionary inside of 'records'; if there is a key called 'errmsg', then you know that\n",
    "# the convert request failed. Otherwise, check to see if the dictionary inside of records has a key called \n",
    "# 'pmcid'. If it does, grab the value of the key 'pmcid' and store it. We'll use that PMCID to query PMC to\n",
    "# fetch the xml of the full paper.\n",
    "\n",
    "convert_PMID_query = \"https://www.ncbi.nlm.nih.gov/pmc/utils/idconv/v1.0/?tool=review_assistant&email=jl56923@gmail.com&ids={}&format=json\""
   ]
  },
  {
   "cell_type": "code",
   "execution_count": 14,
   "metadata": {},
   "outputs": [],
   "source": [
    "pmcid_list = []\n",
    "\n",
    "for pmid in pmid_list:\n",
    "    r = requests.get(convert_PMID_query.format(pmid))\n",
    "    result = r.json()\n",
    "    records_dict = result['records'][0]\n",
    "    # If there is an error message in the records dictionary that gets returned with the result, then this\n",
    "    # paper does not have a PMCID and we are not going to be able to get the full text of this paper.\n",
    "    if 'errmsg' in records_dict:\n",
    "        pass\n",
    "    else:\n",
    "        if 'pmcid' in records_dict:\n",
    "            pmcid_list.append(records_dict['pmcid'])"
   ]
  },
  {
   "cell_type": "code",
   "execution_count": 15,
   "metadata": {},
   "outputs": [
    {
     "data": {
      "text/plain": [
       "['PMC6088773',\n",
       " 'PMC4892610',\n",
       " 'PMC5840831',\n",
       " 'PMC5390937',\n",
       " 'PMC4610749',\n",
       " 'PMC4275567',\n",
       " 'PMC5873980',\n",
       " 'PMC5724510',\n",
       " 'PMC5912679']"
      ]
     },
     "execution_count": 15,
     "metadata": {},
     "output_type": "execute_result"
    }
   ],
   "source": [
    "pmcid_list"
   ]
  },
  {
   "cell_type": "markdown",
   "metadata": {},
   "source": [
    "## Step 3\n",
    "\n",
    "Now that we have the list of pmcids, we can use efetch to get the xml of these papers."
   ]
  },
  {
   "cell_type": "code",
   "execution_count": 16,
   "metadata": {},
   "outputs": [],
   "source": [
    "get_pmc_xml_query = \"https://eutils.ncbi.nlm.nih.gov/entrez/eutils/efetch.fcgi?db=pmc&id={}&tool=review_assistant&email=jl56923@gmail.com\""
   ]
  },
  {
   "cell_type": "code",
   "execution_count": 17,
   "metadata": {},
   "outputs": [
    {
     "data": {
      "text/plain": [
       "['PMC6088773',\n",
       " 'PMC4892610',\n",
       " 'PMC5840831',\n",
       " 'PMC5390937',\n",
       " 'PMC4610749',\n",
       " 'PMC4275567',\n",
       " 'PMC5873980',\n",
       " 'PMC5724510',\n",
       " 'PMC5912679']"
      ]
     },
     "execution_count": 17,
     "metadata": {},
     "output_type": "execute_result"
    }
   ],
   "source": [
    "pmcid_list"
   ]
  },
  {
   "cell_type": "code",
   "execution_count": 18,
   "metadata": {},
   "outputs": [],
   "source": [
    "r = requests.get(get_pmc_xml_query.format(pmcid_list[0]))"
   ]
  },
  {
   "cell_type": "code",
   "execution_count": 19,
   "metadata": {},
   "outputs": [],
   "source": [
    "tree = ET.ElementTree(ET.fromstring(r.content))\n",
    "root = tree.getroot()"
   ]
  },
  {
   "cell_type": "code",
   "execution_count": 21,
   "metadata": {},
   "outputs": [],
   "source": [
    "title = root.find('.//article-title')"
   ]
  },
  {
   "cell_type": "code",
   "execution_count": 22,
   "metadata": {},
   "outputs": [
    {
     "data": {
      "text/plain": [
       "'Non-pharmacological interventions for Lewy body dementia: a systematic review'"
      ]
     },
     "execution_count": 22,
     "metadata": {},
     "output_type": "execute_result"
    }
   ],
   "source": [
    "title.text"
   ]
  },
  {
   "cell_type": "code",
   "execution_count": 23,
   "metadata": {},
   "outputs": [],
   "source": [
    "sections = root.findall(\".//sec\")"
   ]
  },
  {
   "cell_type": "code",
   "execution_count": 24,
   "metadata": {},
   "outputs": [
    {
     "name": "stdout",
     "output_type": "stream",
     "text": [
      "sec\n",
      "{'sec-type': 'intro', 'id': 'sec1'}\n",
      "[<Element 'title' at 0x113b21318>, <Element 'p' at 0x113b21368>, <Element 'p' at 0x113b21818>, <Element 'p' at 0x113b243b8>]\n",
      "Introduction\n",
      "----\n",
      "\n",
      "sec\n",
      "{'sec-type': 'methods', 'id': 'sec2'}\n",
      "[<Element 'title' at 0x113b24728>, <Element 'p' at 0x113b24778>, <Element 'sec' at 0x113b247c8>, <Element 'sec' at 0x113b248b8>, <Element 'sec' at 0x113b24ea8>, <Element 'sec' at 0x113b24f98>, <Element 'sec' at 0x113b2b138>, <Element 'sec' at 0x113b2b368>]\n",
      "Method\n",
      "----\n",
      "\n",
      "sec\n",
      "{'id': 'sec2-1'}\n",
      "[<Element 'title' at 0x113b24818>, <Element 'p' at 0x113b24868>]\n",
      "Eligibility criteria\n",
      "----\n",
      "\n",
      "sec\n",
      "{'id': 'sec2-2'}\n",
      "[<Element 'title' at 0x113b24908>, <Element 'p' at 0x113b24958>, <Element 'p' at 0x113b24e08>, <Element 'p' at 0x113b24e58>]\n",
      "Search strategy\n",
      "----\n",
      "\n",
      "sec\n",
      "{'id': 'sec2-3'}\n",
      "[<Element 'title' at 0x113b24ef8>, <Element 'p' at 0x113b24f48>]\n",
      "Study selection\n",
      "----\n",
      "\n",
      "sec\n",
      "{'id': 'sec2-4'}\n",
      "[<Element 'title' at 0x113b2b048>, <Element 'p' at 0x113b2b098>, <Element 'p' at 0x113b2b0e8>]\n",
      "Data extraction\n",
      "----\n",
      "\n",
      "sec\n",
      "{'id': 'sec2-5'}\n",
      "[<Element 'title' at 0x113b2b188>, <Element 'p' at 0x113b2b1d8>]\n",
      "Quality assessment\n",
      "----\n",
      "\n",
      "sec\n",
      "{'id': 'sec2-6'}\n",
      "[<Element 'title' at 0x113b2b3b8>, <Element 'p' at 0x113b2b408>]\n",
      "Data synthesis\n",
      "----\n",
      "\n",
      "sec\n",
      "{'sec-type': 'results', 'id': 'sec3'}\n",
      "[<Element 'title' at 0x113b2b4a8>, <Element 'sec' at 0x113b2b4f8>, <Element 'sec' at 0x113b4a458>, <Element 'sec' at 0x113b4a728>, <Element 'sec' at 0x113b4ad68>, <Element 'sec' at 0x113b4edb8>]\n",
      "Results\n",
      "----\n",
      "\n",
      "sec\n",
      "{'id': 'sec3-1'}\n",
      "[<Element 'title' at 0x113b2b548>, <Element 'p' at 0x113b2b598>]\n",
      "Search results\n",
      "----\n",
      "\n",
      "sec\n",
      "{'id': 'sec3-2'}\n",
      "[<Element 'title' at 0x113b4a4a8>, <Element 'p' at 0x113b4a4f8>]\n",
      "Quality assessment\n",
      "----\n",
      "\n",
      "sec\n",
      "{'id': 'sec3-3', 'sec-type': 'subjects'}\n",
      "[<Element 'title' at 0x113b4a778>, <Element 'p' at 0x113b4a7c8>]\n",
      "Participants\n",
      "----\n",
      "\n",
      "sec\n",
      "{'id': 'sec3-4'}\n",
      "[<Element 'title' at 0x113b4adb8>, <Element 'p' at 0x113b4ae08>]\n",
      "Interventions\n",
      "----\n",
      "\n",
      "sec\n",
      "{'id': 'sec3-5'}\n",
      "[<Element 'title' at 0x113b4ee08>, <Element 'p' at 0x113b4eea8>, <Element 'p' at 0x113b4ef48>, <Element 'p' at 0x113b530e8>, <Element 'p' at 0x113b53728>]\n",
      "Effectiveness of interventions\n",
      "----\n",
      "\n",
      "sec\n",
      "{'sec-type': 'discussion', 'id': 'sec4'}\n",
      "[<Element 'title' at 0x113b570e8>, <Element 'p' at 0x113b57138>, <Element 'p' at 0x113b57228>, <Element 'p' at 0x113b57688>, <Element 'p' at 0x113b57db8>]\n",
      "Discussion\n",
      "----\n",
      "\n"
     ]
    }
   ],
   "source": [
    "for section in sections:\n",
    "    print(section.tag)\n",
    "    print(section.attrib)\n",
    "    print(list(section))\n",
    "    section_title = section.find(\".//title\")\n",
    "    print(section_title.text)\n",
    "    print(\"----\\n\")"
   ]
  },
  {
   "cell_type": "code",
   "execution_count": 26,
   "metadata": {},
   "outputs": [
    {
     "name": "stdout",
     "output_type": "stream",
     "text": [
      "introduction\n",
      "----\n",
      "\n",
      "method\n",
      "----\n",
      "\n",
      "eligibility criteria\n",
      "----\n",
      "\n",
      "search strategy\n",
      "----\n",
      "\n",
      "study selection\n",
      "----\n",
      "\n",
      "data extraction\n",
      "----\n",
      "\n",
      "quality assessment\n",
      "----\n",
      "\n",
      "data synthesis\n",
      "----\n",
      "\n",
      "results\n",
      "----\n",
      "\n",
      "search results\n",
      "----\n",
      "\n",
      "quality assessment\n",
      "----\n",
      "\n",
      "participants\n",
      "----\n",
      "\n",
      "interventions\n",
      "----\n",
      "\n",
      "effectiveness of interventions\n",
      "----\n",
      "\n",
      "discussion\n",
      "----\n",
      "\n"
     ]
    }
   ],
   "source": [
    "# let's get the number of the section that has a title that contains 'Conclusion', because we want to ignore\n",
    "# all the sections after that.\n",
    "conclusion_index = len(sections)\n",
    "\n",
    "for index, section in enumerate(sections):\n",
    "    section_title = section.find(\".//title\")\n",
    "    if \"conclusion\" in section_title.text.lower():\n",
    "        print(index)\n",
    "        conclusion_index = index\n",
    "    print(section_title.text.lower())\n",
    "    print(\"----\\n\")"
   ]
  },
  {
   "cell_type": "code",
   "execution_count": 27,
   "metadata": {},
   "outputs": [],
   "source": [
    "article_text = \"\"\n",
    "section_text = \"\"\n",
    "\n",
    "for section in sections[:conclusion_index]:\n",
    "    section_paragraphs = section.findall(\".//p\")\n",
    "    \n",
    "    for paragraph in section_paragraphs:\n",
    "        section_text += \" \".join(paragraph.itertext())\n",
    "        section_text += \" \"\n",
    "        \n",
    "    article_text += section_text.strip()\n",
    "    section_text = \"\""
   ]
  },
  {
   "cell_type": "code",
   "execution_count": 28,
   "metadata": {},
   "outputs": [],
   "source": [
    "# Let's also get rid of all of the references that are in square brackets, if there are any.\n",
    "article_text = re.sub(r' \\[.*?]', \"\", article_text)\n",
    "article_text = re.sub(r'(\\s)+', \" \", article_text)"
   ]
  },
  {
   "cell_type": "code",
   "execution_count": 29,
   "metadata": {},
   "outputs": [
    {
     "data": {
      "text/plain": [
       "\"Lewy body dementia is a common neurodegenerative disease in older people (Walker et al. 2015 ). It is responsible for 5–25% of diagnosed cases of dementia (Vann Jones & O'Brien, 2014 ), giving it a likely prevalence of around 1% in people over 65 years old (Ballard et al. 2013 ). The disease is characterised by fluctuations in attention and alertness, recurrent visual hallucinations, and parkinsonian motor features (McKeith et al. 2005 ). It is broadly considered to consist of two related disorders – dementia with Lewy bodies and Parkinson's disease dementia – that are distinguished by the relative timing of when cognitive and motor symptoms appear. Dementia with Lewy bodies is diagnosed if dementia develops either prior to parkinsonian motor symptoms or within 1 year of their onset. By contrast, Parkinson's disease dementia is diagnosed if dementia develops after 1 year of parkinsonian motor symptoms. The two disorders share a common underlying pathophysiology, but likely vary in the sequence by which brain areas underpinning cognition and motor function are affected (Aarsland et al. 2009 ; McKeith, 2009 ). Lewy body dementia poses a number of challenges for clinical management that differ from those of other dementias. People with Lewy body dementia typically experience visual hallucinations and may be more likely to have delusions than people with other types of dementia (Ballard et al. 1999 ; Aarsland et al. 2007 ; Brodaty et al. 2015 ). These types of symptoms can be very distressing to both patients and their carers, and are a risk factor for early institutionalisation (Black & Almeida, 2004 ; Brodaty et al. 2014 ). Pharmacological management, however, is limited because of the condition's adverse sensitivity to neuroleptics (antipsychotic drugs) (McKeith et al. 1992 ; Aarsland et al. 2005 ; Ballard et al. 2013 ). Antidepressants also appear to be poorly tolerated (Culo et al. 2010 ) with no clear evidence that they are effective for treating mood disturbances in this population (Ballard et al. 2013 ; Stinton et al. 2015 ), though further research is needed. At the same time, patients typically have parkinsonian motor disturbances and treatment responses are limited by the fact that some antiparkinson medications can exacerbate psychotic symptoms (McKeith et al. 2005 ). People with Lewy body dementia are also prone to falls, which further increases the risks of using medications that exacerbate orthostatic hypotension, impair cognition, or otherwise predispose to falls. Finally, people with Lewy body dementia may undergo faster cognitive decline (Rongve et al. 2016 ), require higher costs of care (Murman et al. 2003 ; Boström et al. 2007 ; Vossius et al. 2014 ), result in greater caregiver burden (Svendsboe et al. 2016 ), and progress more quickly to death (Oesterhus et al. 2014 ) than people with Alzheimer's disease and other dementias. Despite these challenges and the relatively high prevalence of the disease, the evidence base for intervention strategies remains unclear. A previous systematic review and meta-analysis of pharmacological treatments for Lewy body dementia identified a lack of high-quality evidence for commonly used drugs in this population, though found evidence for efficacy of cholinesterase inhibitors (Stinton et al. 2015 ). Another systematic review evaluated the benefits of exercise in Lewy body dementia and likewise found little high-quality research (Inskip et al. 2016 ). There is, however, no synthesis of evidence for non-pharmacological options more generally for people with Lewy body dementia. Such options have been shown to be helpful in other types of dementia (Brodaty & Arasaratnam, 2012 ; Livingston et al. 2014 ; Orgeta et al. 2015 ), but are likely to be especially important in Lewy body dementia given the risks of medications in this population. In this paper, we addressed this issue and reviewed studies that assessed non-pharmacological interventions for patients with Lewy body dementia.The protocol for this systematic review was registered at PROSPERO (registration number CRD42016050492). The review focused on primary research that assessed a non-pharmacological intervention for either patients with Lewy body dementia or carers of such patients. The review considered studies evaluating non-pharmacological interventions in the broader categories of dementia or Parkinson's disease if the results of a Lewy body dementia subgroup were available. Studies that were confounded by a concurrent pharmaceutical intervention (i.e. medication initiated at the same time as a non-pharmacological intervention or given to one group in a study but not the other) were excluded. There were no other restrictions on study design and no requirements for a comparator group. There were also no restrictions on language, time period, or clinical context in which the study was conducted. The search identified studies through bibliographic databases, trial registers, and the grey literature. Bibliographic databases and trial registers included the following: Medline (1946–present); PreMedline, PubMed; EMBASE (1974–present), Scopus, Web of Science (1900–current); PsychInfo (1806–present); CINAHL (1981–present); Cochrane libraries: Cochrane database of systematic reviews (2005–October 2016), Cochrane central register of controlled trials (August 2016), Cochrane Methodology register (3rd–Quarter 2012); other EBM databases: ACP journal club (1991–September 2016), Database of Abstracts of Reviews of Effects (1st-quarter 2015), Health technology assessment (3rd-quarter 2016), and NHS economic evaluation (1st-quarter 2015); Ageline (1978–present); ALOIS; AMED (Allied and Complementary Medicine; 1985–present); PEDro (Physiotherapy Evidence Database; 1929–present); Social work Abstracts (1968–present); and the National Association of Social Workers (NASW) clinical register (14th edition). The grey literature was searched using such resources as SIGLE (System for Information on Grey Literature in Europe), NTIS (National Technical Information Service) database, and PsychEXTRA (1908–present). The search strategy used only population and intervention terms to maximise the likelihood of identifying relevant studies (comparator and outcome terms were not used). The population was people with Lewy body dementia or their carers. This was identified using the search terms:. Interventions were any non-pharmacological treatment and identified using a wide range of terms: (activit*, acupuncture, alternative, animal, aromatherapy, art therapy, assisted, balance, behav*, bicycle, calisthenics, carer intervention, caregiver intervention, CBT, Chi gong, cognit*, cognitive behavioral therapy, cognitive behavioural therapy, counsel*, creative arts, dance, dancing, diet, direct current stimulation, drama, ECT, educat*, electroconvulsive therapy, enhanc*, environmental intervention, environmental modification, exercise, flexibility, humor therapy, humour therapy, hydrotherapy, intervention*, leisure, light therapy, management, martial arts, massage, meditation, Montessori, multisensory, music, non-pharm*, nonpharm*, nutrition, occupational therapy, pet therapy, physical activity, physical therapy, physiotherapy, pilates, psychoeducation, psychol*, psychosocial, psychotherapy, Qi gong, reality orientation, recreation*, reminiscence, resistance training, run*, sensory, simulated presence, stimulation, Snoezelen, support*, support group*, swim*, tai chi, therap*, therapeutic activity, TMS, training, training carers, training caregivers, transcranial magnetic stimulation, treatment*, validation, weight training, yoga). Searches were conducted on 30 October 2016. In addition to bibliographic database searches, the reference lists of papers included in the review and previous systematic reviews on both Lewy body dementia and non-pharmacological interventions were checked for relevant papers. Advice was also sought from experts in the field. Two reviewers (MHC and LQ) independently assessed search results for inclusion by title and abstract. All articles deemed relevant by either reviewer were obtained in full. Both reviewers then independently evaluated full-text articles for inclusion. Any disagreements were resolved through discussion or, if necessary, with a third reviewer (JTO). Two reviewers independently extracted relevant data from publications using a standardised form. This included participant details (e.g. demographics, number, recruitment, clinical context, dementia severity), intervention type, study design, measures, and results. Qualitative data were also collated. The primary outcomes were measures of cognition, function, neuropsychiatric symptoms, and motor symptoms. The secondary outcomes were measures of any other clinically relevant outcomes, such as quality of life, carer burden, financial costs, other symptoms (sleep or autonomic disturbances), and objective endpoints (e.g. falls, hospitalisation, institutionalisation, mortality). Secondary outcomes also included the perceived acceptability of treatments, reported side effects, and dropout rates (a measure of treatment acceptability). Two reviewers independently assessed study quality and risk of bias using standardised tools. These included the Effective Public Health Practice Project Quality Assessment Tool for Quantitative Studies (Effective Public Health Practice Project, 2007 ; Armijo-Olivo et al. 2012 ) and the NICE Methodology Checklist: Qualitative Studies (NICE, 2016 ). Any disagreements were resolved through discussion. Although a quantitative synthesis of findings using meta-analytic techniques was originally intended, this was not possible due to the small sample sizes and poor quality of the included studies. As a result, only a descriptive synthesis was provided.The review focused on primary research that assessed a non-pharmacological intervention for either patients with Lewy body dementia or carers of such patients. The review considered studies evaluating non-pharmacological interventions in the broader categories of dementia or Parkinson's disease if the results of a Lewy body dementia subgroup were available. Studies that were confounded by a concurrent pharmaceutical intervention (i.e. medication initiated at the same time as a non-pharmacological intervention or given to one group in a study but not the other) were excluded. There were no other restrictions on study design and no requirements for a comparator group. There were also no restrictions on language, time period, or clinical context in which the study was conducted.The search identified studies through bibliographic databases, trial registers, and the grey literature. Bibliographic databases and trial registers included the following: Medline (1946–present); PreMedline, PubMed; EMBASE (1974–present), Scopus, Web of Science (1900–current); PsychInfo (1806–present); CINAHL (1981–present); Cochrane libraries: Cochrane database of systematic reviews (2005–October 2016), Cochrane central register of controlled trials (August 2016), Cochrane Methodology register (3rd–Quarter 2012); other EBM databases: ACP journal club (1991–September 2016), Database of Abstracts of Reviews of Effects (1st-quarter 2015), Health technology assessment (3rd-quarter 2016), and NHS economic evaluation (1st-quarter 2015); Ageline (1978–present); ALOIS; AMED (Allied and Complementary Medicine; 1985–present); PEDro (Physiotherapy Evidence Database; 1929–present); Social work Abstracts (1968–present); and the National Association of Social Workers (NASW) clinical register (14th edition). The grey literature was searched using such resources as SIGLE (System for Information on Grey Literature in Europe), NTIS (National Technical Information Service) database, and PsychEXTRA (1908–present). The search strategy used only population and intervention terms to maximise the likelihood of identifying relevant studies (comparator and outcome terms were not used). The population was people with Lewy body dementia or their carers. This was identified using the search terms:. Interventions were any non-pharmacological treatment and identified using a wide range of terms: (activit*, acupuncture, alternative, animal, aromatherapy, art therapy, assisted, balance, behav*, bicycle, calisthenics, carer intervention, caregiver intervention, CBT, Chi gong, cognit*, cognitive behavioral therapy, cognitive behavioural therapy, counsel*, creative arts, dance, dancing, diet, direct current stimulation, drama, ECT, educat*, electroconvulsive therapy, enhanc*, environmental intervention, environmental modification, exercise, flexibility, humor therapy, humour therapy, hydrotherapy, intervention*, leisure, light therapy, management, martial arts, massage, meditation, Montessori, multisensory, music, non-pharm*, nonpharm*, nutrition, occupational therapy, pet therapy, physical activity, physical therapy, physiotherapy, pilates, psychoeducation, psychol*, psychosocial, psychotherapy, Qi gong, reality orientation, recreation*, reminiscence, resistance training, run*, sensory, simulated presence, stimulation, Snoezelen, support*, support group*, swim*, tai chi, therap*, therapeutic activity, TMS, training, training carers, training caregivers, transcranial magnetic stimulation, treatment*, validation, weight training, yoga). Searches were conducted on 30 October 2016. In addition to bibliographic database searches, the reference lists of papers included in the review and previous systematic reviews on both Lewy body dementia and non-pharmacological interventions were checked for relevant papers. Advice was also sought from experts in the field.Two reviewers (MHC and LQ) independently assessed search results for inclusion by title and abstract. All articles deemed relevant by either reviewer were obtained in full. Both reviewers then independently evaluated full-text articles for inclusion. Any disagreements were resolved through discussion or, if necessary, with a third reviewer (JTO).Two reviewers independently extracted relevant data from publications using a standardised form. This included participant details (e.g. demographics, number, recruitment, clinical context, dementia severity), intervention type, study design, measures, and results. Qualitative data were also collated. The primary outcomes were measures of cognition, function, neuropsychiatric symptoms, and motor symptoms. The secondary outcomes were measures of any other clinically relevant outcomes, such as quality of life, carer burden, financial costs, other symptoms (sleep or autonomic disturbances), and objective endpoints (e.g. falls, hospitalisation, institutionalisation, mortality). Secondary outcomes also included the perceived acceptability of treatments, reported side effects, and dropout rates (a measure of treatment acceptability).Two reviewers independently assessed study quality and risk of bias using standardised tools. These included the Effective Public Health Practice Project Quality Assessment Tool for Quantitative Studies (Effective Public Health Practice Project, 2007 ; Armijo-Olivo et al. 2012 ) and the NICE Methodology Checklist: Qualitative Studies (NICE, 2016 ). Any disagreements were resolved through discussion.Although a quantitative synthesis of findings using meta-analytic techniques was originally intended, this was not possible due to the small sample sizes and poor quality of the included studies. As a result, only a descriptive synthesis was provided.The search identified 73 093 publications, of which 30 419 were unique and 42 674 were duplicates. Of these, 76 were considered by one or both reviewers to be potentially relevant and obtained in full. In turn, 21 studies were found eligible for inclusion (a flow diagram in PRISMA format is shown in Fig. 1 ). The included studies consisted of 12 case studies (Kung & O'Connor, 2002 ; Loher et al. 2002 ; Graff et al. 2006 ; Cheston et al. 2007 ; Huh et al. 2008 ; Freund et al. 2009 ; Ciro et al. 2013 ; Gil-Ruiz et al. 2013 ; Tabak et al. 2013 ; Dawley, 2015 ; Hsu et al. 2015 ; Ricciardi et al. 2015 ), seven case series (Rasmussen et al. 2003 ; Rochester et al. 2009 ; Takahashi et al. 2009 ; Ota et al. 2012 ; Elder et al. 2016 ; Yamaguchi et al. 2016 ) – two of which were reported in the same paper (Takahashi et al. 2009 ) – and two randomised controlled trials (Logemann et al. 2008 ; Telenius et al. 2015 ). Both randomised trials focused on the broader conditions of dementia and/or Parkinson's disease but had separate results for a Lewy body dementia subgroup available. One case report was reported in two separate papers (Freund et al. 2009 ; Barnikol et al. 2010 ); our descriptive synthesis focused on the more detailed of these papers (Freund et al. 2009 ). A further case report on electroconvulsive therapy was excluded (Fujiwara et al. 2004 ) because of a concurrent pharmacological intervention. Twelve studies focused on dementia with Lewy bodies (Kung & O'Connor, 2002 ; Rasmussen et al. 2003 ; Cheston et al. 2007 ; Huh et al. 2008 ; Takahashi et al. 2009 ; Ota et al. 2012 ; Ciro et al. 2013 ; Gil-Ruiz et al. 2013 ; Hsu et al. 2015 ; Telenius et al. 2015 ; Yamaguchi et al. 2016 ), eight focused on Parkinson's disease dementia (Loher et al. 2002 ; Graff et al. 2006 ; Logemann et al. 2008 ; Freund et al. 2009 ; Rochester et al. 2009 ; Tabak et al. 2013 ; Dawley, 2015 ; Ricciardi et al. 2015 ), and one included patients from both groups (Elder et al. 2016 ). A summary of studies is shown in Table 1 . Fig. 1. PRISMA flow chart for study selection. *Two of the studies were reported in the same article. Table 1. Studies assessing a non-pharmacological intervention for Lewy body dementia Study Intervention Design Participants Main outcomes Findings Logemann et al. ( 2008 ) Interventions to prevent aspiration of fluids in patients with dysphagia (three conditions: honey-thickened fluids v. nectar-thickened fluids v. chin-down posture; all patients received all three interventions) Randomised controlled trial 132 PDD with dysphagia (from a sample of 711 patients with dysphagia and either dementia or Parkinson disease) Aspiration (as measured by videofluorographic swallow studies) Honey-thickened fluids were superior to both nectar-thickened fluids and chin-down posture in reducing aspiration. Overall, 59% of patients aspirated when given honey-thickened fluids, 64% of patients aspirated when given nectar-thickened fluids, and 69% of patients aspirated when put in a chin-down posture. Pairwise comparisons were statistically significant ( p < 0.01) Telenius et al. ( 2015 ; data from Inskip et al. 2016 ) Exercise (high-intensity functional exercises two sessions/week for 12 weeks v. control group) Randomised controlled trial Four DLB (from a sample of 170 patients with dementia) Gait speed, balance, other physical measures, function Patients in the exercise group showed signs of improved gait speed. The small number of participants with Lewy body dementia in each condition and missing data prevented between-group statistical comparisons Tabak et al. ( 2013 ) Exercise (stationary cycling; three sessions/week for 8 weeks) Case study One PDD (from a sample of two patients with Parkinson disease) Cognition, function, quality of life, gait speed The patient showed improvements in cognition, quality of life, and gait speed Rochester et al. ( 2009 ) Interventions to improve gait (auditory cueing of gait with a metronome and verbal instructions in a single session) Case series Five PDD (from a sample of nine patients with Parkinson disease) Gait speed, stride amplitude Cues that focused attention on temporal aspects (stepping to the metronome's beat) and spatial aspects (taking large steps) appeared to improve gait speed and stride amplitude Dawley ( 2015 ) Physical therapy (Lee Silverman voice treatment-big intervention; eight sessions over 3 months) Case study One PDD Gait speed, balance, function The patient showed some improvements in gait speed, balance, and functional ability despite poor compliance with the intervention Huh et al. ( 2008 ) Multi-component intervention including carer education (32 × 1 h sessions) and tailored environmental modification Case study One DLB Agitation, function, carer burden The patient displayed less agitation. The carer reported less distress. Functional measures, although collected, were not reported Ota et al. ( 2012 ) Psychological intervention for visual hallucinations, including psychoeducation and environmental modification (duration and details not specified) Case series Two DLB Anxiety, frequency and content of hallucinations Patients reported reduced anxiety around hallucinations and that hallucinations were less frequent (abstract only; details not provided) Gil-Ruiz et al. ( 2013 ) Environmental modification for mirrored self-misidentification delusion (reducing the mirror size and personalising it with artwork) Case study One DLB with delusion Signs of the delusion, patient's distress at mirror The patient did not display the delusion in front of the modified mirror (when the modifications were inadvertently removed, the delusion returned; when the modifications were replaced, the delusion again subsided) Hsu et al. ( 2015 ) Music therapy (one interactive session tailored to the patient) Case study One DLB Agitation Patient showed reduced agitation and anxiety after the session according to the experimenter Cheston et al. ( 2007 ) Simulated presence (two sessions) Case study One DLB (from a sample of six patients with dementia) Distress Patient showed less distressed behaviour (e.g. less frequent asking to go home) and more prosocial behaviour (e.g. talking calmly with others) after the sessions Ciro et al. ( 2013 ) Occupational therapy (‘skill building through task-oriented motor practice’; STOMP; five sessions/week for 2 weeks) Case study One DLB Function (3 tasks: ability to stand from a recliner, put on eyeglasses, and brush teeth) The patient improved in her abilities to stand from a recliner and put on her eyeglasses. The patient, however, showed no improvement in her ability to brush her teeth Graff et al. ( 2006 ) Occupational therapy (system-based intervention focused on improving the patient's functional abilities and his carer's behaviours) Case study One PDD Function, quality of life, qualitative reports of both patient and carer The patient showed some improvement in function and reported greater autonomy and quality of life. His carer reported improved communication with the patient and better understanding of the condition Kung & O'Connor ( 2002 ) Electroconvulsive therapy (unilateral; seven sessions) Case study One DLB Depression, other neuropsychiatric symptoms Patient demonstrated less depression and fewer neuropsychiatric symptoms for 2 weeks after treatment. These benefits, however, were not sustained thereafter Rasmussen et al. ( 2003 ) Electroconvulsive therapy (mostly bilateral, though details varied with patient) Case series Seven DLB Depression Participants reported less depression after treatment; two participants also reported less frequent hallucinations. Group data were not reported. Longer term outcomes were unclear Yamaguchi et al. ( 2016 ) Electroconvulsive therapy (details not provided) Case series Six DLB Depression, psychotic symptoms, motor function (details not provided) Patients showed less depressive and psychotic symptoms after treatment, as well possibly reduced motor symptoms (Abstract only; group data and details not provided) Takahashi et al. ( 2009 ) Electroconvulsive therapy (bifrontotemporal; six sessions) Case series Eight DLB with depression Depression Patients reported lower depression scores on the Hamilton Depression Rating Scale after treatment (before treatment, mean = 38.0, s.d. = 5.8; after treatment, mean = 15.0, s.d. = 9.6; p < 0.01) Takahashi et al. ( 2009 ) Transcranial magnetic stimulation (dorsolateral prefrontal cortex bilaterally; 10 sessions) Case series Six DLB with depression Depression Patients reported lower depression scores on the Hamilton Depression Rating Scale after treatment (before treatment, mean = 24.0, s.d. = 8.0; after treatment, mean = 11.0, s.d. = 5.9; p < 0.01) Elder et al. ( 2016 ) Transcranial direct current stimulation (single 20 min session) Case series Five DLB, Eight PDD Neuropsychological battery focused on attention and visuoperceptual abilities Patients showed improvements in some measures of attention after treatment (patients reported more correct answers on a choice reaction time task, d z = 0.83, and showed faster reaction times on a digit vigilance task, d z = 0.80). There were no changes in other measures of attention or visuoperceptual performance Freund et al. ( 2009 ; also described in Barnikol et al. 2010 ) Deep brain stimulation (two electrodes in the nucleus basalis of Meynert; two electrodes in the subthalamic nucleus) Case study One PDD Cognition, motor symptoms Patient showed improved cognition and motor symptoms depending on the location stimulated: stimulating the nucleus basalis of Meynert was associated with better cognition and less apraxia, whereas stimulating the subthalamic nucleus was associated with less parkinsonian motor symptoms Loher et al. ( 2002 ) Deep brain stimulation (single electrode in the left internal segment of globus pallidus) Case study One PDD Motor symptoms, cognition, and function The patient's right-sided motor symptoms improved considerably. The patient's cognitive and functional abilities, however, continued to decline Ricciardi et al. ( 2015 ) Deep brain stimulation (unilateral stimulation of the pedunculopontine nucleus) Case study One PDD Cognition The patient's cognition continued to decline gradually. After 4 years, stimulation was turned off and the patient's cognition deteriorated significantly. Stimulation was then resumed and the patient's cognition returned to what it was immediately prior to switching stimulation off DLB, dementia with Lewy bodies; PDD, Parkinson's disease dementia. PRISMA flow chart for study selection. *Two of the studies were reported in the same article. Studies assessing a non-pharmacological intervention for Lewy body dementia DLB, dementia with Lewy bodies; PDD, Parkinson's disease dementia. Of the 21 studies, 19 were rated as poor quality due to their small sample size, uncertainties about recruitment, and the lack of a control group. One randomised controlled trial, which focused on exercise in nursing homes for patients with dementia (Telenius et al. 2015 ), was evaluated as poor quality with respect to Lewy body dementia specifically (it only included four participants with the condition and these participants did not complete all tasks) (Inskip et al. 2016 ). The other randomised controlled trial (Logemann et al. 2008 ), which investigated dietary fluid and postural interventions for dysphagia, was evaluated as moderate quality. This study, however, was limited by its lack of blinding and the fact that it relied on measures of immediate efficacy in a research setting, without any longer term follow-up or measures of real-world effectiveness. It was also limited by the absence of a control group that did not receive a treatment, making it difficult to establish the absolute effectiveness of the interventions. The total number of participants across the included studies was 195. This comprised 44 patients with dementia with Lewy bodies and 151 patients with Parkinson's disease dementia (of whom, 132 were from one study; Logemann et al. 2008 ). Demographic information was not consistently reported. It was not provided for the subgroup of 132 patients with Parkinson's disease dementia in the largest study (Logemann et al. 2008 ) and for two case series (Ota et al. 2012 ; Yamaguchi et al. 2016 ) – altogether 140 participants. Of the data available ( n = 55), the mean age of participants was 70.6 years ( s.d. = 8.2) and included 27 males and 28 females. Measures of patients’ cognition and dementia severity were lacking from the majority of reports. Of the 21 studies, nine recruited participants from nursing homes or hospitals, five recruited participants from the community, and seven did not report participants’ residential status. One of the studies that recruited participants from nursing homes examined the effect of an intervention on both a patient with dementia with Lewy bodies and her carers (Huh et al. 2008 ). Interventions included carer education (Huh et al. 2008 ), psychological interventions (for visual hallucinations) (Ota et al. 2012 ), physical exercise (Tabak et al. 2013 ; Telenius et al. 2015 ), gait cueing (Rochester et al. 2009 ), environmental modification (Gil-Ruiz et al. 2013 ) (for mirrored self-misidentification, a delusion that usually occurs in the context of dementia; Connors & Coltheart, 2011 ; Connors et al. 2015 ), music (Hsu et al. 2015 ), simulated presence (Cheston et al. 2007 ), occupational therapy (Graff et al. 2006 ; Ciro et al. 2013 ), physical therapy (Dawley, 2015 ), dietary fluid and postural interventions to prevent aspiration (Logemann et al. 2008 ), electroconvulsive therapy (Kung & O'Connor, 2002 ; Rasmussen et al. 2003 ; Takahashi et al. 2009 ; Yamaguchi et al. 2016 ), transcranial magnetic stimulation (Takahashi et al. 2009 ), transcranial direct current stimulation (Elder et al. 2016 ), and deep brain stimulation (Loher et al. 2002 ; Freund et al. 2009 ; Ricciardi et al. 2015 ). The most studied interventions were electroconvulsive therapy (four studies) and deep brain stimulation (three studies). Given the heterogeneity of interventions and the poor quality of the research evidence, no quantitative synthesis was possible. A descriptive summary of individual studies is provided in Table 1 . All studies reported some effectiveness of their respective intervention. The strongest evidence came from the randomised control trial that assessed interventions to prevent fluid aspiration in participants with dysphagia (Logemann et al. 2008 ). This trial compared honey-thickened fluids, nectar-thickened fluids, and a chin-down posture in 132 patients with Parkinson's disease dementia (see Table 1 ). It found that the use of honey-thickened fluids was superior to the other two methods in preventing fluid aspiration as measured by videofluorographic swallow studies. Four small uncontrolled studies (Kung & O'Connor, 2002 ; Rasmussen et al. 2003 ; Takahashi et al. 2009 ; Yamaguchi et al. 2016 ) – involving 22 participants in total – found that electroconvulsive therapy had some effectiveness in treating depression in dementia with Lewy bodies. In one of these studies, two patients exhibited confusion immediately after electroconvulsive therapy (Rasmussen et al. 2003 ); in another study, an unspecified number displayed signs of autonomic dysfunction, though without any lasting effects (Takahashi et al. 2009 ). No other adverse events were reported. Another three case studies of deep brain stimulation (Loher et al. 2002 ; Freund et al. 2009 ; Ricciardi et al. 2015 ) identified benefits in either cognition or motor symptoms depending on the location of stimulation in patients with Parkinson's disease dementia. All three studies used different brain locations for stimulation. None of these studies reported adverse effects. Other individual studies variously reported benefits of carer education for reducing agitation (Huh et al. 2008 ); psychological interventions for reducing distress around visual hallucinations (Ota et al. 2012 ); physical exercise to improve gait and function (Tabak et al. 2013 ; Telenius et al. 2015 ); gait cueing to improve gait speed (Rochester et al. 2009 ); environmental modification to reduce the distress associated with mirrored self-misidentification delusion (Gil-Ruiz et al. 2013 ); music therapy to reduce agitation (Hsu et al. 2015 ); simulated presence to reduce distress (Cheston et al. 2007 ); occupational therapy interventions to improve functional ability (Graff et al. 2006 ; Ciro et al. 2013 ); physical therapy to improve gait (Dawley, 2015 ); dietary fluid and postural interventions to prevent aspiration (Logemann et al. 2008 ); transcranial magnetic stimulation to reduce depression (Takahashi et al. 2009 ); and transcranial direct current stimulation to improve attention (Elder et al. 2016 ) (see Table 1 ). For all these studies, however, limitations in their design, including small sample sizes, lack of blinding, and lack of adequate controls, mean that it is not possible to rule out confounding, selection bias, experimenter expectancy, publication bias, and other causes for the reported effects.The search identified 73 093 publications, of which 30 419 were unique and 42 674 were duplicates. Of these, 76 were considered by one or both reviewers to be potentially relevant and obtained in full. In turn, 21 studies were found eligible for inclusion (a flow diagram in PRISMA format is shown in Fig. 1 ). The included studies consisted of 12 case studies (Kung & O'Connor, 2002 ; Loher et al. 2002 ; Graff et al. 2006 ; Cheston et al. 2007 ; Huh et al. 2008 ; Freund et al. 2009 ; Ciro et al. 2013 ; Gil-Ruiz et al. 2013 ; Tabak et al. 2013 ; Dawley, 2015 ; Hsu et al. 2015 ; Ricciardi et al. 2015 ), seven case series (Rasmussen et al. 2003 ; Rochester et al. 2009 ; Takahashi et al. 2009 ; Ota et al. 2012 ; Elder et al. 2016 ; Yamaguchi et al. 2016 ) – two of which were reported in the same paper (Takahashi et al. 2009 ) – and two randomised controlled trials (Logemann et al. 2008 ; Telenius et al. 2015 ). Both randomised trials focused on the broader conditions of dementia and/or Parkinson's disease but had separate results for a Lewy body dementia subgroup available. One case report was reported in two separate papers (Freund et al. 2009 ; Barnikol et al. 2010 ); our descriptive synthesis focused on the more detailed of these papers (Freund et al. 2009 ). A further case report on electroconvulsive therapy was excluded (Fujiwara et al. 2004 ) because of a concurrent pharmacological intervention. Twelve studies focused on dementia with Lewy bodies (Kung & O'Connor, 2002 ; Rasmussen et al. 2003 ; Cheston et al. 2007 ; Huh et al. 2008 ; Takahashi et al. 2009 ; Ota et al. 2012 ; Ciro et al. 2013 ; Gil-Ruiz et al. 2013 ; Hsu et al. 2015 ; Telenius et al. 2015 ; Yamaguchi et al. 2016 ), eight focused on Parkinson's disease dementia (Loher et al. 2002 ; Graff et al. 2006 ; Logemann et al. 2008 ; Freund et al. 2009 ; Rochester et al. 2009 ; Tabak et al. 2013 ; Dawley, 2015 ; Ricciardi et al. 2015 ), and one included patients from both groups (Elder et al. 2016 ). A summary of studies is shown in Table 1 . Fig. 1. PRISMA flow chart for study selection. *Two of the studies were reported in the same article. Table 1. Studies assessing a non-pharmacological intervention for Lewy body dementia Study Intervention Design Participants Main outcomes Findings Logemann et al. ( 2008 ) Interventions to prevent aspiration of fluids in patients with dysphagia (three conditions: honey-thickened fluids v. nectar-thickened fluids v. chin-down posture; all patients received all three interventions) Randomised controlled trial 132 PDD with dysphagia (from a sample of 711 patients with dysphagia and either dementia or Parkinson disease) Aspiration (as measured by videofluorographic swallow studies) Honey-thickened fluids were superior to both nectar-thickened fluids and chin-down posture in reducing aspiration. Overall, 59% of patients aspirated when given honey-thickened fluids, 64% of patients aspirated when given nectar-thickened fluids, and 69% of patients aspirated when put in a chin-down posture. Pairwise comparisons were statistically significant ( p < 0.01) Telenius et al. ( 2015 ; data from Inskip et al. 2016 ) Exercise (high-intensity functional exercises two sessions/week for 12 weeks v. control group) Randomised controlled trial Four DLB (from a sample of 170 patients with dementia) Gait speed, balance, other physical measures, function Patients in the exercise group showed signs of improved gait speed. The small number of participants with Lewy body dementia in each condition and missing data prevented between-group statistical comparisons Tabak et al. ( 2013 ) Exercise (stationary cycling; three sessions/week for 8 weeks) Case study One PDD (from a sample of two patients with Parkinson disease) Cognition, function, quality of life, gait speed The patient showed improvements in cognition, quality of life, and gait speed Rochester et al. ( 2009 ) Interventions to improve gait (auditory cueing of gait with a metronome and verbal instructions in a single session) Case series Five PDD (from a sample of nine patients with Parkinson disease) Gait speed, stride amplitude Cues that focused attention on temporal aspects (stepping to the metronome's beat) and spatial aspects (taking large steps) appeared to improve gait speed and stride amplitude Dawley ( 2015 ) Physical therapy (Lee Silverman voice treatment-big intervention; eight sessions over 3 months) Case study One PDD Gait speed, balance, function The patient showed some improvements in gait speed, balance, and functional ability despite poor compliance with the intervention Huh et al. ( 2008 ) Multi-component intervention including carer education (32 × 1 h sessions) and tailored environmental modification Case study One DLB Agitation, function, carer burden The patient displayed less agitation. The carer reported less distress. Functional measures, although collected, were not reported Ota et al. ( 2012 ) Psychological intervention for visual hallucinations, including psychoeducation and environmental modification (duration and details not specified) Case series Two DLB Anxiety, frequency and content of hallucinations Patients reported reduced anxiety around hallucinations and that hallucinations were less frequent (abstract only; details not provided) Gil-Ruiz et al. ( 2013 ) Environmental modification for mirrored self-misidentification delusion (reducing the mirror size and personalising it with artwork) Case study One DLB with delusion Signs of the delusion, patient's distress at mirror The patient did not display the delusion in front of the modified mirror (when the modifications were inadvertently removed, the delusion returned; when the modifications were replaced, the delusion again subsided) Hsu et al. ( 2015 ) Music therapy (one interactive session tailored to the patient) Case study One DLB Agitation Patient showed reduced agitation and anxiety after the session according to the experimenter Cheston et al. ( 2007 ) Simulated presence (two sessions) Case study One DLB (from a sample of six patients with dementia) Distress Patient showed less distressed behaviour (e.g. less frequent asking to go home) and more prosocial behaviour (e.g. talking calmly with others) after the sessions Ciro et al. ( 2013 ) Occupational therapy (‘skill building through task-oriented motor practice’; STOMP; five sessions/week for 2 weeks) Case study One DLB Function (3 tasks: ability to stand from a recliner, put on eyeglasses, and brush teeth) The patient improved in her abilities to stand from a recliner and put on her eyeglasses. The patient, however, showed no improvement in her ability to brush her teeth Graff et al. ( 2006 ) Occupational therapy (system-based intervention focused on improving the patient's functional abilities and his carer's behaviours) Case study One PDD Function, quality of life, qualitative reports of both patient and carer The patient showed some improvement in function and reported greater autonomy and quality of life. His carer reported improved communication with the patient and better understanding of the condition Kung & O'Connor ( 2002 ) Electroconvulsive therapy (unilateral; seven sessions) Case study One DLB Depression, other neuropsychiatric symptoms Patient demonstrated less depression and fewer neuropsychiatric symptoms for 2 weeks after treatment. These benefits, however, were not sustained thereafter Rasmussen et al. ( 2003 ) Electroconvulsive therapy (mostly bilateral, though details varied with patient) Case series Seven DLB Depression Participants reported less depression after treatment; two participants also reported less frequent hallucinations. Group data were not reported. Longer term outcomes were unclear Yamaguchi et al. ( 2016 ) Electroconvulsive therapy (details not provided) Case series Six DLB Depression, psychotic symptoms, motor function (details not provided) Patients showed less depressive and psychotic symptoms after treatment, as well possibly reduced motor symptoms (Abstract only; group data and details not provided) Takahashi et al. ( 2009 ) Electroconvulsive therapy (bifrontotemporal; six sessions) Case series Eight DLB with depression Depression Patients reported lower depression scores on the Hamilton Depression Rating Scale after treatment (before treatment, mean = 38.0, s.d. = 5.8; after treatment, mean = 15.0, s.d. = 9.6; p < 0.01) Takahashi et al. ( 2009 ) Transcranial magnetic stimulation (dorsolateral prefrontal cortex bilaterally; 10 sessions) Case series Six DLB with depression Depression Patients reported lower depression scores on the Hamilton Depression Rating Scale after treatment (before treatment, mean = 24.0, s.d. = 8.0; after treatment, mean = 11.0, s.d. = 5.9; p < 0.01) Elder et al. ( 2016 ) Transcranial direct current stimulation (single 20 min session) Case series Five DLB, Eight PDD Neuropsychological battery focused on attention and visuoperceptual abilities Patients showed improvements in some measures of attention after treatment (patients reported more correct answers on a choice reaction time task, d z = 0.83, and showed faster reaction times on a digit vigilance task, d z = 0.80). There were no changes in other measures of attention or visuoperceptual performance Freund et al. ( 2009 ; also described in Barnikol et al. 2010 ) Deep brain stimulation (two electrodes in the nucleus basalis of Meynert; two electrodes in the subthalamic nucleus) Case study One PDD Cognition, motor symptoms Patient showed improved cognition and motor symptoms depending on the location stimulated: stimulating the nucleus basalis of Meynert was associated with better cognition and less apraxia, whereas stimulating the subthalamic nucleus was associated with less parkinsonian motor symptoms Loher et al. ( 2002 ) Deep brain stimulation (single electrode in the left internal segment of globus pallidus) Case study One PDD Motor symptoms, cognition, and function The patient's right-sided motor symptoms improved considerably. The patient's cognitive and functional abilities, however, continued to decline Ricciardi et al. ( 2015 ) Deep brain stimulation (unilateral stimulation of the pedunculopontine nucleus) Case study One PDD Cognition The patient's cognition continued to decline gradually. After 4 years, stimulation was turned off and the patient's cognition deteriorated significantly. Stimulation was then resumed and the patient's cognition returned to what it was immediately prior to switching stimulation off DLB, dementia with Lewy bodies; PDD, Parkinson's disease dementia. PRISMA flow chart for study selection. *Two of the studies were reported in the same article. Studies assessing a non-pharmacological intervention for Lewy body dementia DLB, dementia with Lewy bodies; PDD, Parkinson's disease dementia.Of the 21 studies, 19 were rated as poor quality due to their small sample size, uncertainties about recruitment, and the lack of a control group. One randomised controlled trial, which focused on exercise in nursing homes for patients with dementia (Telenius et al. 2015 ), was evaluated as poor quality with respect to Lewy body dementia specifically (it only included four participants with the condition and these participants did not complete all tasks) (Inskip et al. 2016 ). The other randomised controlled trial (Logemann et al. 2008 ), which investigated dietary fluid and postural interventions for dysphagia, was evaluated as moderate quality. This study, however, was limited by its lack of blinding and the fact that it relied on measures of immediate efficacy in a research setting, without any longer term follow-up or measures of real-world effectiveness. It was also limited by the absence of a control group that did not receive a treatment, making it difficult to establish the absolute effectiveness of the interventions.The total number of participants across the included studies was 195. This comprised 44 patients with dementia with Lewy bodies and 151 patients with Parkinson's disease dementia (of whom, 132 were from one study; Logemann et al. 2008 ). Demographic information was not consistently reported. It was not provided for the subgroup of 132 patients with Parkinson's disease dementia in the largest study (Logemann et al. 2008 ) and for two case series (Ota et al. 2012 ; Yamaguchi et al. 2016 ) – altogether 140 participants. Of the data available ( n = 55), the mean age of participants was 70.6 years ( s.d. = 8.2) and included 27 males and 28 females. Measures of patients’ cognition and dementia severity were lacking from the majority of reports. Of the 21 studies, nine recruited participants from nursing homes or hospitals, five recruited participants from the community, and seven did not report participants’ residential status. One of the studies that recruited participants from nursing homes examined the effect of an intervention on both a patient with dementia with Lewy bodies and her carers (Huh et al. 2008 ).Interventions included carer education (Huh et al. 2008 ), psychological interventions (for visual hallucinations) (Ota et al. 2012 ), physical exercise (Tabak et al. 2013 ; Telenius et al. 2015 ), gait cueing (Rochester et al. 2009 ), environmental modification (Gil-Ruiz et al. 2013 ) (for mirrored self-misidentification, a delusion that usually occurs in the context of dementia; Connors & Coltheart, 2011 ; Connors et al. 2015 ), music (Hsu et al. 2015 ), simulated presence (Cheston et al. 2007 ), occupational therapy (Graff et al. 2006 ; Ciro et al. 2013 ), physical therapy (Dawley, 2015 ), dietary fluid and postural interventions to prevent aspiration (Logemann et al. 2008 ), electroconvulsive therapy (Kung & O'Connor, 2002 ; Rasmussen et al. 2003 ; Takahashi et al. 2009 ; Yamaguchi et al. 2016 ), transcranial magnetic stimulation (Takahashi et al. 2009 ), transcranial direct current stimulation (Elder et al. 2016 ), and deep brain stimulation (Loher et al. 2002 ; Freund et al. 2009 ; Ricciardi et al. 2015 ). The most studied interventions were electroconvulsive therapy (four studies) and deep brain stimulation (three studies).Given the heterogeneity of interventions and the poor quality of the research evidence, no quantitative synthesis was possible. A descriptive summary of individual studies is provided in Table 1 . All studies reported some effectiveness of their respective intervention. The strongest evidence came from the randomised control trial that assessed interventions to prevent fluid aspiration in participants with dysphagia (Logemann et al. 2008 ). This trial compared honey-thickened fluids, nectar-thickened fluids, and a chin-down posture in 132 patients with Parkinson's disease dementia (see Table 1 ). It found that the use of honey-thickened fluids was superior to the other two methods in preventing fluid aspiration as measured by videofluorographic swallow studies. Four small uncontrolled studies (Kung & O'Connor, 2002 ; Rasmussen et al. 2003 ; Takahashi et al. 2009 ; Yamaguchi et al. 2016 ) – involving 22 participants in total – found that electroconvulsive therapy had some effectiveness in treating depression in dementia with Lewy bodies. In one of these studies, two patients exhibited confusion immediately after electroconvulsive therapy (Rasmussen et al. 2003 ); in another study, an unspecified number displayed signs of autonomic dysfunction, though without any lasting effects (Takahashi et al. 2009 ). No other adverse events were reported. Another three case studies of deep brain stimulation (Loher et al. 2002 ; Freund et al. 2009 ; Ricciardi et al. 2015 ) identified benefits in either cognition or motor symptoms depending on the location of stimulation in patients with Parkinson's disease dementia. All three studies used different brain locations for stimulation. None of these studies reported adverse effects. Other individual studies variously reported benefits of carer education for reducing agitation (Huh et al. 2008 ); psychological interventions for reducing distress around visual hallucinations (Ota et al. 2012 ); physical exercise to improve gait and function (Tabak et al. 2013 ; Telenius et al. 2015 ); gait cueing to improve gait speed (Rochester et al. 2009 ); environmental modification to reduce the distress associated with mirrored self-misidentification delusion (Gil-Ruiz et al. 2013 ); music therapy to reduce agitation (Hsu et al. 2015 ); simulated presence to reduce distress (Cheston et al. 2007 ); occupational therapy interventions to improve functional ability (Graff et al. 2006 ; Ciro et al. 2013 ); physical therapy to improve gait (Dawley, 2015 ); dietary fluid and postural interventions to prevent aspiration (Logemann et al. 2008 ); transcranial magnetic stimulation to reduce depression (Takahashi et al. 2009 ); and transcranial direct current stimulation to improve attention (Elder et al. 2016 ) (see Table 1 ). For all these studies, however, limitations in their design, including small sample sizes, lack of blinding, and lack of adequate controls, mean that it is not possible to rule out confounding, selection bias, experimenter expectancy, publication bias, and other causes for the reported effects.The systematic review identified very little research on non-pharmacological interventions in Lewy body dementia. No randomised control trials focusing specifically on Lewy body dementia were identified and the majority of research consisted of case studies and case series. Of the studies identified, the best quality evidence came from a randomised control trial that focused on preventing fluid aspiration in Parkinson's disease patients with dysphagia (Logemann et al. 2008 ). As already noted, however, even this study was limited by the fact that it only examined the immediate effects of interventions in an experimental context and did not assess longer term effectiveness in more naturalistic settings. Overall, given the heterogeneity of interventions, small sample sizes, and poor quality of research, no treatment recommendations can be offered. The lack of research in this area is in contrast to the large amount of research on non-pharmacological interventions in other types of dementia (Brodaty & Arasaratnam, 2012 ; Livingston et al. 2014 ; Orgeta et al. 2015 ; Livingston & Cooper, 2017 ; Seeher & Brodaty, 2017 ). It is consistent, though, with what has been found in other systematic reviews on Lewy body dementia (Hindle et al. 2013 ; Stinton et al. 2015 ; Inskip et al. 2016 ). Despite the lack of research, however, non-pharmacological interventions are likely to be important in the management of Lewy body dementia. As already noted, pharmacological treatment of psychotic symptoms and movement disturbances in this condition is limited by the difficulties patients have tolerating first-line medications. At the same time, there is evidence for the effectiveness of non-pharmacological interventions for similar symptoms in other conditions. In the case of psychosis, for example, multi-factorial interventions, including physical activity, occupational therapy, and music therapy, have some evidence of effectiveness in other types of dementia (Brodaty & Arasaratnam, 2012 ; Chen et al. 2014 ). In the case of motor disturbances, interventions such as exercise and gait training have been found to be effective in Parkinson's disease (Bloem et al. 2015 ). There is also strong evidence that non-pharmacological interventions are effective at ameliorating symptoms that are common across different dementias (Brodaty & Arasaratnam, 2012 ; Livingston et al. 2014 ; Orgeta et al. 2015 ; Seeher & Brodaty, 2017 ). Caregiver education, training, and support, for example, have been shown to reduce both carers’ distress and patients’ neuropsychiatric symptoms (Brodaty & Arasaratnam, 2012 ; Seeher & Brodaty, 2017 ). Likewise, psychological interventions, such as cognitive behavioural therapy, have been shown to reduce patients’ depression (Orgeta et al. 2015 ). Finally, organised activities, music therapy, and sensory stimulation have been shown to reduce patients’ agitation (Livingston et al. 2014 ). All of these interventions could be investigated more systematically in Lewy body dementia. Altogether, the review highlights the clear and urgent need for research in this area. Possible barriers to this include challenges establishing the diagnosis and distinguishing it from other dementias (McKeith et al. 2005 ; Vann Jones & O'Brien, 2014 ); the limited research resources devoted to Lewy body dementia as opposed to other neurodegenerative conditions; and the general lack of funding for non-pharmacological interventions. Each of these, however, is not insurmountable. The use of multi-centre registries or networks of centres with expertise in Lewy body dementia, for example, could help to address the problem of recruitment. Given the prevalence of the disease, its disproportionately high social and economic burden (Murman et al. 2003 ; Boström et al. 2007 ; Vossius et al. 2014 ; Svendsboe et al. 2016 ), and the limited suitability of medications, future research into non-pharmacological interventions is important to improving management at both individual and population levels.\""
      ]
     },
     "execution_count": 29,
     "metadata": {},
     "output_type": "execute_result"
    }
   ],
   "source": [
    "article_text"
   ]
  },
  {
   "cell_type": "code",
   "execution_count": 30,
   "metadata": {},
   "outputs": [],
   "source": [
    "abstract = root.find(\".//abstract\")"
   ]
  },
  {
   "cell_type": "code",
   "execution_count": 31,
   "metadata": {},
   "outputs": [],
   "source": [
    "abstract_paragraphs = abstract.findall(\".//p\")"
   ]
  },
  {
   "cell_type": "code",
   "execution_count": 32,
   "metadata": {},
   "outputs": [
    {
     "name": "stdout",
     "output_type": "stream",
     "text": [
      "Lewy body dementia (consisting of dementia with Lewy bodies and Parkinson's disease dementia) is a common neurodegenerative disease characterised by visual hallucinations, fluctuating attention, motor disturbances, falls, and sensitivity to antipsychotics. This combination of features presents challenges for pharmacological management. Given this, we sought to review evidence for non-pharmacological interventions with patients with Lewy body dementia and their carers. Bibliographic databases were searched using a wide range of search terms and no restrictions were placed on study design, language, or clinical setting. Two reviewers independently assessed papers for inclusion, rated study quality, and extracted data. The search identified 21 studies including two randomised controlled trials with available subgroup data, seven case series, and 12 case studies. Most studies reported beneficial effects of the interventions used, though the only sizeable study was on dysphagia, showing a benefit of honey-thickened liquids. Given the heterogeneity of interventions and poor quality of the studies overall, no quantitative synthesis was possible. Overall, identified studies suggested possible benefits of non-pharmacological interventions in Lewy body dementia, but the small sample sizes and low quality of studies mean no definite recommendations can be offered. Our findings underscore the clear and urgent need for future research on this topic.\n",
      "-----\n",
      "\n"
     ]
    }
   ],
   "source": [
    "abstract_text = \"\"\n",
    "\n",
    "for paragraph in abstract_paragraphs:\n",
    "        abstract_text += \" \".join(paragraph.itertext())\n",
    "        abstract_text += \" \"\n",
    "        print(\" \".join(paragraph.itertext()))\n",
    "        print(\"-----\\n\")\n",
    "\n",
    "abstract_text = abstract_text.strip()"
   ]
  },
  {
   "cell_type": "markdown",
   "metadata": {},
   "source": [
    "Okay, so first finding the abstract and then the body nodes, and then going through each of those and joining together the paragraphs seems to work relatively well. We'll go ahead and write the abstract and body texts to files instead. We'll also define a function that can take an XML node, look for all the paragraphs, join them together and return a clean string."
   ]
  },
  {
   "cell_type": "code",
   "execution_count": 33,
   "metadata": {},
   "outputs": [],
   "source": [
    "def get_paragraphs_as_clean_string(xml_node):\n",
    "    # first, we'll clear all the children elements of the table-wrap tags,\n",
    "    # which will get rid of all the content that was in the tables.\n",
    "    for table in xml_node.findall(\".//table-wrap\"):\n",
    "        table.clear()\n",
    "    \n",
    "    node_paragraphs = xml_node.findall(\".//p\")\n",
    "\n",
    "    clean_string = \"\"\n",
    "\n",
    "    for paragraph in node_paragraphs:\n",
    "        clean_string += \" \".join(paragraph.itertext())\n",
    "        clean_string += \" \"\n",
    "        \n",
    "    clean_string = clean_string.strip()\n",
    "    \n",
    "    # We'll get rid of anything inside of square brackets, since those tend to be the citations.\n",
    "    clean_string = re.sub(r'\\[.*?]', \"\", clean_string)\n",
    "    clean_string = re.sub(r'(\\s)+', \" \", clean_string)\n",
    "    \n",
    "    return clean_string"
   ]
  },
  {
   "cell_type": "code",
   "execution_count": 34,
   "metadata": {},
   "outputs": [],
   "source": [
    "def get_article_text_exclude_after_conclusion(body_node):\n",
    "    sections = body.findall(\".//sec\")\n",
    "    \n",
    "    conclusion_index = len(sections)\n",
    "    \n",
    "    for index, section in enumerate(sections):\n",
    "        section_title = section.find(\".//title\")\n",
    "        if \"conclusion\" in section_title.text.lower():\n",
    "            conclusion_index = index\n",
    "            break\n",
    "    \n",
    "    article_text = \"\"\n",
    "    \n",
    "    for section in sections[:conclusion_index]:\n",
    "        article_text += get_paragraphs_as_clean_string(section)\n",
    "    \n",
    "    return article_text"
   ]
  },
  {
   "cell_type": "code",
   "execution_count": 43,
   "metadata": {},
   "outputs": [
    {
     "data": {
      "text/plain": [
       "['PMC6088773',\n",
       " 'PMC4892610',\n",
       " 'PMC5840831',\n",
       " 'PMC5390937',\n",
       " 'PMC4610749',\n",
       " 'PMC4275567',\n",
       " 'PMC5873980',\n",
       " 'PMC5724510',\n",
       " 'PMC5912679']"
      ]
     },
     "execution_count": 43,
     "metadata": {},
     "output_type": "execute_result"
    }
   ],
   "source": [
    "pmcid_list"
   ]
  },
  {
   "cell_type": "code",
   "execution_count": 44,
   "metadata": {},
   "outputs": [
    {
     "ename": "AttributeError",
     "evalue": "'NoneType' object has no attribute 'findall'",
     "output_type": "error",
     "traceback": [
      "\u001b[0;31m---------------------------------------------------------------------------\u001b[0m",
      "\u001b[0;31mAttributeError\u001b[0m                            Traceback (most recent call last)",
      "\u001b[0;32m<ipython-input-44-e529a522089b>\u001b[0m in \u001b[0;36m<module>\u001b[0;34m()\u001b[0m\n\u001b[1;32m     14\u001b[0m \u001b[0;34m\u001b[0m\u001b[0m\n\u001b[1;32m     15\u001b[0m     \u001b[0mabstract\u001b[0m \u001b[0;34m=\u001b[0m \u001b[0mroot\u001b[0m\u001b[0;34m.\u001b[0m\u001b[0mfind\u001b[0m\u001b[0;34m(\u001b[0m\u001b[0;34m\".//abstract\"\u001b[0m\u001b[0;34m)\u001b[0m\u001b[0;34m\u001b[0m\u001b[0m\n\u001b[0;32m---> 16\u001b[0;31m     \u001b[0mabstract_text\u001b[0m \u001b[0;34m=\u001b[0m \u001b[0mget_paragraphs_as_clean_string\u001b[0m\u001b[0;34m(\u001b[0m\u001b[0mabstract\u001b[0m\u001b[0;34m)\u001b[0m\u001b[0;34m\u001b[0m\u001b[0m\n\u001b[0m\u001b[1;32m     17\u001b[0m \u001b[0;34m\u001b[0m\u001b[0m\n\u001b[1;32m     18\u001b[0m \u001b[0;31m#     with open(f\"documents/af_paper{i+1}_abstract.txt\", \"w\") as f:\u001b[0m\u001b[0;34m\u001b[0m\u001b[0;34m\u001b[0m\u001b[0m\n",
      "\u001b[0;32m<ipython-input-33-d1eaaee9c9e7>\u001b[0m in \u001b[0;36mget_paragraphs_as_clean_string\u001b[0;34m(xml_node)\u001b[0m\n\u001b[1;32m      2\u001b[0m     \u001b[0;31m# first, we'll clear all the children elements of the table-wrap tags,\u001b[0m\u001b[0;34m\u001b[0m\u001b[0;34m\u001b[0m\u001b[0m\n\u001b[1;32m      3\u001b[0m     \u001b[0;31m# which will get rid of all the content that was in the tables.\u001b[0m\u001b[0;34m\u001b[0m\u001b[0;34m\u001b[0m\u001b[0m\n\u001b[0;32m----> 4\u001b[0;31m     \u001b[0;32mfor\u001b[0m \u001b[0mtable\u001b[0m \u001b[0;32min\u001b[0m \u001b[0mxml_node\u001b[0m\u001b[0;34m.\u001b[0m\u001b[0mfindall\u001b[0m\u001b[0;34m(\u001b[0m\u001b[0;34m\".//table-wrap\"\u001b[0m\u001b[0;34m)\u001b[0m\u001b[0;34m:\u001b[0m\u001b[0;34m\u001b[0m\u001b[0m\n\u001b[0m\u001b[1;32m      5\u001b[0m         \u001b[0mtable\u001b[0m\u001b[0;34m.\u001b[0m\u001b[0mclear\u001b[0m\u001b[0;34m(\u001b[0m\u001b[0;34m)\u001b[0m\u001b[0;34m\u001b[0m\u001b[0m\n\u001b[1;32m      6\u001b[0m \u001b[0;34m\u001b[0m\u001b[0m\n",
      "\u001b[0;31mAttributeError\u001b[0m: 'NoneType' object has no attribute 'findall'"
     ]
    }
   ],
   "source": [
    "for i in range(len(pmcid_list)):\n",
    "    r = requests.get(get_pmc_xml_query.format(pmcid_list[i]))\n",
    "\n",
    "    tree = ET.ElementTree(ET.fromstring(r.content))\n",
    "    root = tree.getroot()\n",
    "    \n",
    "    \n",
    "    \n",
    "    pmcid = pmcid_list[i]\n",
    "    \n",
    "    # We'll find the first article-title in the text, which should be the title of the paper.\n",
    "    title = root.find(\".//article-title\").text\n",
    "    \n",
    "    keyword_elements = root.findall(\".//kwd\")\n",
    "    keywords = [keyword.text.lower() for keyword in keyword_elements]\n",
    "    \n",
    "    abstract = root.find(\".//abstract\")\n",
    "    abstract_text = get_paragraphs_as_clean_string(abstract)\n",
    "        \n",
    "    # Check to see if you can even get the XML from PMC; if not, then pass. If you can, then you can go ahead\n",
    "    # and continue making the dictionary and pickling it.\n",
    "    body = root.find(\".//body\")\n",
    "    if body:\n",
    "        article_text = get_article_text_exclude_after_conclusion(body)\n",
    "    else:\n",
    "        print(f\"Unable to get text for {pmcid_list[i]}.\")\n",
    "        pass\n",
    "    \n",
    "    \n",
    "    citations = root.findall(\".//pub-id\")\n",
    "    citation_tuples = [(citation.text, list(citation.attrib.values())[0]) for citation in citations]\n",
    "    \n",
    "    paper_dict = {\n",
    "        \"pmcid\": pmcid,\n",
    "        \"title\": title,\n",
    "        \"abstract_text\": abstract_text,\n",
    "        \"article_text\": article_text,\n",
    "        \"citation_tuples\": citation_tuples\n",
    "    }\n",
    "    \n",
    "    with open(f\"documents/lbd_paper{i+1}_dict.pkl\", \"wb\") as f:\n",
    "        pickle.dump(paper_dict, f)\n",
    "        \n",
    "#     with open(f\"documents/af_paper{i+1}_body.txt\", \"w\") as f:\n",
    "#         f.write(article_text)"
   ]
  },
  {
   "cell_type": "code",
   "execution_count": 477,
   "metadata": {},
   "outputs": [],
   "source": [
    "for i in range(5):\n",
    "    r = requests.get(get_pmc_xml_query.format(pmcid_list[i]))\n",
    "\n",
    "    tree = ET.ElementTree(ET.fromstring(r.content))\n",
    "    root = tree.getroot()\n",
    "    \n",
    "    pmcid = pmcid_list[i]\n",
    "    \n",
    "    # We'll find the first article-title in the text, which should be the title of the paper.\n",
    "    title = root.find(\".//article-title\").text\n",
    "    \n",
    "    keyword_elements = root.findall(\".//kwd\")\n",
    "    keywords = [keyword.text.lower() for keyword in keyword_elements]\n",
    "    \n",
    "    abstract = root.find(\".//abstract\")\n",
    "    abstract_text = get_paragraphs_as_clean_string(abstract)\n",
    "    \n",
    "#     with open(f\"documents/af_paper{i+1}_abstract.txt\", \"w\") as f:\n",
    "#         f.write(abstract_text)\n",
    "    \n",
    "    body = root.find(\".//body\")\n",
    "    article_text = get_article_text_exclude_after_conclusion(body)\n",
    "    \n",
    "    citations = root.findall(\".//pub-id\")\n",
    "    citation_tuples = [(citation.text, list(citation.attrib.values())[0]) for citation in citations]\n",
    "    \n",
    "    paper_dict = {\n",
    "        \"pmcid\": pmcid,\n",
    "        \"title\": title,\n",
    "        \"abstract_text\": abstract_text,\n",
    "        \"article_text\": article_text,\n",
    "        \"citation_tuples\": citation_tuples\n",
    "    }\n",
    "    \n",
    "    with open(f\"documents/af_paper{i+1}_dict.pkl\", \"wb\") as f:\n",
    "        pickle.dump(paper_dict, f)\n",
    "        \n",
    "#     with open(f\"documents/af_paper{i+1}_body.txt\", \"w\") as f:\n",
    "#         f.write(article_text)"
   ]
  },
  {
   "cell_type": "code",
   "execution_count": null,
   "metadata": {},
   "outputs": [],
   "source": []
  }
 ],
 "metadata": {
  "kernelspec": {
   "display_name": "Python 3",
   "language": "python",
   "name": "python3"
  },
  "language_info": {
   "codemirror_mode": {
    "name": "ipython",
    "version": 3
   },
   "file_extension": ".py",
   "mimetype": "text/x-python",
   "name": "python",
   "nbconvert_exporter": "python",
   "pygments_lexer": "ipython3",
   "version": "3.6.5"
  }
 },
 "nbformat": 4,
 "nbformat_minor": 2
}
